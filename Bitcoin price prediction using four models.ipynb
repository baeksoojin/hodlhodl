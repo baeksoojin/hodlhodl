{
  "cells": [
    {
      "cell_type": "markdown",
      "metadata": {
        "id": "view-in-github",
        "colab_type": "text"
      },
      "source": [
        "<a href=\"https://colab.research.google.com/github/sujin-create/hodlhodl/blob/Price-Prediction/Bitcoin%20price%20prediction%20using%20four%20models.ipynb\" target=\"_parent\"><img src=\"https://colab.research.google.com/assets/colab-badge.svg\" alt=\"Open In Colab\"/></a>"
      ]
    },
    {
      "cell_type": "markdown",
      "metadata": {
        "id": "gJwr-zj7a-Ff"
      },
      "source": [
        "# Import packages"
      ]
    },
    {
      "cell_type": "code",
      "execution_count": null,
      "metadata": {
        "colab": {
          "base_uri": "https://localhost:8080/"
        },
        "id": "OkMOT2Np8dYr",
        "outputId": "ca8164fe-4ff4-4e03-80e1-475ea6292db5"
      },
      "outputs": [
        {
          "name": "stdout",
          "output_type": "stream",
          "text": [
            "Looking in indexes: https://pypi.org/simple, https://us-python.pkg.dev/colab-wheels/public/simple/\n",
            "Collecting pyupbit\n",
            "  Downloading pyupbit-0.2.30-py3-none-any.whl (24 kB)\n",
            "Collecting websockets\n",
            "  Downloading websockets-10.3-cp37-cp37m-manylinux_2_5_x86_64.manylinux1_x86_64.manylinux_2_12_x86_64.manylinux2010_x86_64.whl (112 kB)\n",
            "\u001b[K     |████████████████████████████████| 112 kB 49.8 MB/s \n",
            "\u001b[?25hRequirement already satisfied: pandas in /usr/local/lib/python3.7/dist-packages (from pyupbit) (1.3.5)\n",
            "Collecting pyjwt>=2.0.0\n",
            "  Downloading PyJWT-2.4.0-py3-none-any.whl (18 kB)\n",
            "Requirement already satisfied: requests in /usr/local/lib/python3.7/dist-packages (from pyupbit) (2.23.0)\n",
            "Requirement already satisfied: pytz>=2017.3 in /usr/local/lib/python3.7/dist-packages (from pandas->pyupbit) (2022.1)\n",
            "Requirement already satisfied: numpy>=1.17.3 in /usr/local/lib/python3.7/dist-packages (from pandas->pyupbit) (1.21.6)\n",
            "Requirement already satisfied: python-dateutil>=2.7.3 in /usr/local/lib/python3.7/dist-packages (from pandas->pyupbit) (2.8.2)\n",
            "Requirement already satisfied: six>=1.5 in /usr/local/lib/python3.7/dist-packages (from python-dateutil>=2.7.3->pandas->pyupbit) (1.15.0)\n",
            "Requirement already satisfied: urllib3!=1.25.0,!=1.25.1,<1.26,>=1.21.1 in /usr/local/lib/python3.7/dist-packages (from requests->pyupbit) (1.24.3)\n",
            "Requirement already satisfied: certifi>=2017.4.17 in /usr/local/lib/python3.7/dist-packages (from requests->pyupbit) (2022.5.18.1)\n",
            "Requirement already satisfied: idna<3,>=2.5 in /usr/local/lib/python3.7/dist-packages (from requests->pyupbit) (2.10)\n",
            "Requirement already satisfied: chardet<4,>=3.0.2 in /usr/local/lib/python3.7/dist-packages (from requests->pyupbit) (3.0.4)\n",
            "Installing collected packages: websockets, pyjwt, pyupbit\n",
            "Successfully installed pyjwt-2.4.0 pyupbit-0.2.30 websockets-10.3\n"
          ]
        }
      ],
      "source": [
        "# 파이업비트 가상화폐 데이터 모듈\n",
        "!pip install pyupbit"
      ]
    },
    {
      "cell_type": "code",
      "execution_count": null,
      "metadata": {
        "id": "U-lii_SQZUQ-"
      },
      "outputs": [],
      "source": [
        "import pyupbit\n",
        "import pandas as pd\n",
        "import time\n",
        "import datetime"
      ]
    },
    {
      "cell_type": "code",
      "execution_count": null,
      "metadata": {
        "id": "ohcAuE0Ea1Rp"
      },
      "outputs": [],
      "source": [
        "import numpy as np\n",
        "import pandas as pd\n",
        "import time\n",
        "from tqdm import tqdm\n",
        "# import pybithumb\n",
        "import matplotlib.pyplot as plt\n",
        "from sklearn.preprocessing import MinMaxScaler\n",
        "from sklearn.model_selection import train_test_split\n",
        "from tensorflow.keras import Sequential\n",
        "from tensorflow.keras.layers import Dense, GRU, Dropout, LSTM, InputLayer\n",
        "from tensorflow.keras.wrappers.scikit_learn import KerasRegressor\n",
        "from sklearn.ensemble import AdaBoostRegressor"
      ]
    },
    {
      "cell_type": "markdown",
      "metadata": {
        "id": "pic1jtbebHp_"
      },
      "source": [
        "# Data Preprocessing"
      ]
    },
    {
      "cell_type": "code",
      "execution_count": null,
      "metadata": {
        "id": "-WwVrkmKZXY2"
      },
      "outputs": [],
      "source": [
        "ticker = \"KRW-BTC\""
      ]
    },
    {
      "cell_type": "code",
      "execution_count": null,
      "metadata": {
        "colab": {
          "base_uri": "https://localhost:8080/",
          "height": 424
        },
        "id": "pfrtmY-5ZxOs",
        "outputId": "25f4c8c0-d4b4-44e8-90a1-0f73f6fef2c4"
      },
      "outputs": [
        {
          "data": {
            "text/html": [
              "\n",
              "  <div id=\"df-687e3fe7-366b-4109-9127-b371f63a3eb5\">\n",
              "    <div class=\"colab-df-container\">\n",
              "      <div>\n",
              "<style scoped>\n",
              "    .dataframe tbody tr th:only-of-type {\n",
              "        vertical-align: middle;\n",
              "    }\n",
              "\n",
              "    .dataframe tbody tr th {\n",
              "        vertical-align: top;\n",
              "    }\n",
              "\n",
              "    .dataframe thead th {\n",
              "        text-align: right;\n",
              "    }\n",
              "</style>\n",
              "<table border=\"1\" class=\"dataframe\">\n",
              "  <thead>\n",
              "    <tr style=\"text-align: right;\">\n",
              "      <th></th>\n",
              "      <th>index</th>\n",
              "      <th>open</th>\n",
              "      <th>high</th>\n",
              "      <th>low</th>\n",
              "      <th>close</th>\n",
              "      <th>volume</th>\n",
              "      <th>value</th>\n",
              "    </tr>\n",
              "  </thead>\n",
              "  <tbody>\n",
              "    <tr>\n",
              "      <th>0</th>\n",
              "      <td>2017-09-25 09:00:00+00:00</td>\n",
              "      <td>4201000.0</td>\n",
              "      <td>4333000.0</td>\n",
              "      <td>4175000.0</td>\n",
              "      <td>4322000.0</td>\n",
              "      <td>132.484755</td>\n",
              "      <td>5.602146e+08</td>\n",
              "    </tr>\n",
              "    <tr>\n",
              "      <th>1</th>\n",
              "      <td>2017-09-26 09:00:00+00:00</td>\n",
              "      <td>4317000.0</td>\n",
              "      <td>4418000.0</td>\n",
              "      <td>4311000.0</td>\n",
              "      <td>4321000.0</td>\n",
              "      <td>22.788340</td>\n",
              "      <td>9.950724e+07</td>\n",
              "    </tr>\n",
              "    <tr>\n",
              "      <th>2</th>\n",
              "      <td>2017-09-27 09:00:00+00:00</td>\n",
              "      <td>4322000.0</td>\n",
              "      <td>4677000.0</td>\n",
              "      <td>4318000.0</td>\n",
              "      <td>4657000.0</td>\n",
              "      <td>32.269662</td>\n",
              "      <td>1.448276e+08</td>\n",
              "    </tr>\n",
              "    <tr>\n",
              "      <th>3</th>\n",
              "      <td>2017-09-28 09:00:00+00:00</td>\n",
              "      <td>4657000.0</td>\n",
              "      <td>4772000.0</td>\n",
              "      <td>4519000.0</td>\n",
              "      <td>4586000.0</td>\n",
              "      <td>80.588243</td>\n",
              "      <td>3.721860e+08</td>\n",
              "    </tr>\n",
              "    <tr>\n",
              "      <th>4</th>\n",
              "      <td>2017-09-29 09:00:00+00:00</td>\n",
              "      <td>4586000.0</td>\n",
              "      <td>4709000.0</td>\n",
              "      <td>4476000.0</td>\n",
              "      <td>4657000.0</td>\n",
              "      <td>59.352373</td>\n",
              "      <td>2.724558e+08</td>\n",
              "    </tr>\n",
              "    <tr>\n",
              "      <th>...</th>\n",
              "      <td>...</td>\n",
              "      <td>...</td>\n",
              "      <td>...</td>\n",
              "      <td>...</td>\n",
              "      <td>...</td>\n",
              "      <td>...</td>\n",
              "      <td>...</td>\n",
              "    </tr>\n",
              "    <tr>\n",
              "      <th>1706</th>\n",
              "      <td>2022-05-28 09:00:00+00:00</td>\n",
              "      <td>36862000.0</td>\n",
              "      <td>37373000.0</td>\n",
              "      <td>36613000.0</td>\n",
              "      <td>37034000.0</td>\n",
              "      <td>1931.845973</td>\n",
              "      <td>7.136116e+10</td>\n",
              "    </tr>\n",
              "    <tr>\n",
              "      <th>1707</th>\n",
              "      <td>2022-05-29 09:00:00+00:00</td>\n",
              "      <td>37033000.0</td>\n",
              "      <td>37620000.0</td>\n",
              "      <td>36825000.0</td>\n",
              "      <td>37380000.0</td>\n",
              "      <td>1712.650146</td>\n",
              "      <td>6.369122e+10</td>\n",
              "    </tr>\n",
              "    <tr>\n",
              "      <th>1708</th>\n",
              "      <td>2022-05-30 09:00:00+00:00</td>\n",
              "      <td>37415000.0</td>\n",
              "      <td>39989000.0</td>\n",
              "      <td>37230000.0</td>\n",
              "      <td>39550000.0</td>\n",
              "      <td>5467.460037</td>\n",
              "      <td>2.112747e+11</td>\n",
              "    </tr>\n",
              "    <tr>\n",
              "      <th>1709</th>\n",
              "      <td>2022-05-31 09:00:00+00:00</td>\n",
              "      <td>39527000.0</td>\n",
              "      <td>40600000.0</td>\n",
              "      <td>39300000.0</td>\n",
              "      <td>39923000.0</td>\n",
              "      <td>6442.979981</td>\n",
              "      <td>2.563085e+11</td>\n",
              "    </tr>\n",
              "    <tr>\n",
              "      <th>1710</th>\n",
              "      <td>2022-06-01 09:00:00+00:00</td>\n",
              "      <td>39927000.0</td>\n",
              "      <td>40150000.0</td>\n",
              "      <td>39514000.0</td>\n",
              "      <td>39769000.0</td>\n",
              "      <td>1861.609010</td>\n",
              "      <td>7.418305e+10</td>\n",
              "    </tr>\n",
              "  </tbody>\n",
              "</table>\n",
              "<p>1711 rows × 7 columns</p>\n",
              "</div>\n",
              "      <button class=\"colab-df-convert\" onclick=\"convertToInteractive('df-687e3fe7-366b-4109-9127-b371f63a3eb5')\"\n",
              "              title=\"Convert this dataframe to an interactive table.\"\n",
              "              style=\"display:none;\">\n",
              "        \n",
              "  <svg xmlns=\"http://www.w3.org/2000/svg\" height=\"24px\"viewBox=\"0 0 24 24\"\n",
              "       width=\"24px\">\n",
              "    <path d=\"M0 0h24v24H0V0z\" fill=\"none\"/>\n",
              "    <path d=\"M18.56 5.44l.94 2.06.94-2.06 2.06-.94-2.06-.94-.94-2.06-.94 2.06-2.06.94zm-11 1L8.5 8.5l.94-2.06 2.06-.94-2.06-.94L8.5 2.5l-.94 2.06-2.06.94zm10 10l.94 2.06.94-2.06 2.06-.94-2.06-.94-.94-2.06-.94 2.06-2.06.94z\"/><path d=\"M17.41 7.96l-1.37-1.37c-.4-.4-.92-.59-1.43-.59-.52 0-1.04.2-1.43.59L10.3 9.45l-7.72 7.72c-.78.78-.78 2.05 0 2.83L4 21.41c.39.39.9.59 1.41.59.51 0 1.02-.2 1.41-.59l7.78-7.78 2.81-2.81c.8-.78.8-2.07 0-2.86zM5.41 20L4 18.59l7.72-7.72 1.47 1.35L5.41 20z\"/>\n",
              "  </svg>\n",
              "      </button>\n",
              "      \n",
              "  <style>\n",
              "    .colab-df-container {\n",
              "      display:flex;\n",
              "      flex-wrap:wrap;\n",
              "      gap: 12px;\n",
              "    }\n",
              "\n",
              "    .colab-df-convert {\n",
              "      background-color: #E8F0FE;\n",
              "      border: none;\n",
              "      border-radius: 50%;\n",
              "      cursor: pointer;\n",
              "      display: none;\n",
              "      fill: #1967D2;\n",
              "      height: 32px;\n",
              "      padding: 0 0 0 0;\n",
              "      width: 32px;\n",
              "    }\n",
              "\n",
              "    .colab-df-convert:hover {\n",
              "      background-color: #E2EBFA;\n",
              "      box-shadow: 0px 1px 2px rgba(60, 64, 67, 0.3), 0px 1px 3px 1px rgba(60, 64, 67, 0.15);\n",
              "      fill: #174EA6;\n",
              "    }\n",
              "\n",
              "    [theme=dark] .colab-df-convert {\n",
              "      background-color: #3B4455;\n",
              "      fill: #D2E3FC;\n",
              "    }\n",
              "\n",
              "    [theme=dark] .colab-df-convert:hover {\n",
              "      background-color: #434B5C;\n",
              "      box-shadow: 0px 1px 3px 1px rgba(0, 0, 0, 0.15);\n",
              "      filter: drop-shadow(0px 1px 2px rgba(0, 0, 0, 0.3));\n",
              "      fill: #FFFFFF;\n",
              "    }\n",
              "  </style>\n",
              "\n",
              "      <script>\n",
              "        const buttonEl =\n",
              "          document.querySelector('#df-687e3fe7-366b-4109-9127-b371f63a3eb5 button.colab-df-convert');\n",
              "        buttonEl.style.display =\n",
              "          google.colab.kernel.accessAllowed ? 'block' : 'none';\n",
              "\n",
              "        async function convertToInteractive(key) {\n",
              "          const element = document.querySelector('#df-687e3fe7-366b-4109-9127-b371f63a3eb5');\n",
              "          const dataTable =\n",
              "            await google.colab.kernel.invokeFunction('convertToInteractive',\n",
              "                                                     [key], {});\n",
              "          if (!dataTable) return;\n",
              "\n",
              "          const docLinkHtml = 'Like what you see? Visit the ' +\n",
              "            '<a target=\"_blank\" href=https://colab.research.google.com/notebooks/data_table.ipynb>data table notebook</a>'\n",
              "            + ' to learn more about interactive tables.';\n",
              "          element.innerHTML = '';\n",
              "          dataTable['output_type'] = 'display_data';\n",
              "          await google.colab.output.renderOutput(dataTable, element);\n",
              "          const docLink = document.createElement('div');\n",
              "          docLink.innerHTML = docLinkHtml;\n",
              "          element.appendChild(docLink);\n",
              "        }\n",
              "      </script>\n",
              "    </div>\n",
              "  </div>\n",
              "  "
            ],
            "text/plain": [
              "                         index        open        high         low  \\\n",
              "0    2017-09-25 09:00:00+00:00   4201000.0   4333000.0   4175000.0   \n",
              "1    2017-09-26 09:00:00+00:00   4317000.0   4418000.0   4311000.0   \n",
              "2    2017-09-27 09:00:00+00:00   4322000.0   4677000.0   4318000.0   \n",
              "3    2017-09-28 09:00:00+00:00   4657000.0   4772000.0   4519000.0   \n",
              "4    2017-09-29 09:00:00+00:00   4586000.0   4709000.0   4476000.0   \n",
              "...                        ...         ...         ...         ...   \n",
              "1706 2022-05-28 09:00:00+00:00  36862000.0  37373000.0  36613000.0   \n",
              "1707 2022-05-29 09:00:00+00:00  37033000.0  37620000.0  36825000.0   \n",
              "1708 2022-05-30 09:00:00+00:00  37415000.0  39989000.0  37230000.0   \n",
              "1709 2022-05-31 09:00:00+00:00  39527000.0  40600000.0  39300000.0   \n",
              "1710 2022-06-01 09:00:00+00:00  39927000.0  40150000.0  39514000.0   \n",
              "\n",
              "           close       volume         value  \n",
              "0      4322000.0   132.484755  5.602146e+08  \n",
              "1      4321000.0    22.788340  9.950724e+07  \n",
              "2      4657000.0    32.269662  1.448276e+08  \n",
              "3      4586000.0    80.588243  3.721860e+08  \n",
              "4      4657000.0    59.352373  2.724558e+08  \n",
              "...          ...          ...           ...  \n",
              "1706  37034000.0  1931.845973  7.136116e+10  \n",
              "1707  37380000.0  1712.650146  6.369122e+10  \n",
              "1708  39550000.0  5467.460037  2.112747e+11  \n",
              "1709  39923000.0  6442.979981  2.563085e+11  \n",
              "1710  39769000.0  1861.609010  7.418305e+10  \n",
              "\n",
              "[1711 rows x 7 columns]"
            ]
          },
          "execution_count": 5,
          "metadata": {},
          "output_type": "execute_result"
        }
      ],
      "source": [
        "# mydf = pyupbit.get_ohlcv(ticker, interval=\"day\", count=3650) # count=200(default)\n",
        "# mydf = pyupbit.get_ohlcv(ticker, interval=\"minute60\", count = 36500).reset_index() # count=200(default)\n",
        "mydf = pyupbit.get_ohlcv(ticker, interval=\"day\", count = 3650).reset_index() # count=200(default)\n",
        "mydf\n",
        "# 업비트에서 제공하는 모든 데이터 출력함 (5년치)"
      ]
    },
    {
      "cell_type": "code",
      "execution_count": null,
      "metadata": {
        "id": "c_4oM-lKbLVK"
      },
      "outputs": [],
      "source": [
        "plt.rcParams[\"figure.figsize\"] = (15,10)"
      ]
    },
    {
      "cell_type": "code",
      "execution_count": null,
      "metadata": {
        "colab": {
          "base_uri": "https://localhost:8080/",
          "height": 625
        },
        "id": "Fc6efZUPactd",
        "outputId": "961c0f9f-6dee-4792-b8c4-7ea2bda01262"
      },
      "outputs": [
        {
          "data": {
            "text/plain": [
              "Text(0.5, 1.0, 'ETH')"
            ]
          },
          "execution_count": 7,
          "metadata": {},
          "output_type": "execute_result"
        },
        {
          "data": {
            "image/png": "[encoded data removed]",
            "text/plain": [
              "<Figure size 1080x720 with 1 Axes>"
            ]
          },
          "metadata": {},
          "output_type": "display_data"
        }
      ],
      "source": [
        "plt.plot(mydf['open'])\n",
        "plt.title('ETH')"
      ]
    },
    {
      "cell_type": "code",
      "execution_count": null,
      "metadata": {
        "id": "RiEOqbvJZ2eq"
      },
      "outputs": [],
      "source": [
        "def preprocess(series, window_size=None, scaling=True):\n",
        "\n",
        "    if window_size!=None:\n",
        "        series = series.rolling(window_size, min_periods=0).mean()\n",
        "    array = np.array(series)\n",
        "    \n",
        "    if scaling==True:\n",
        "        scaler = MinMaxScaler()\n",
        "        training_data = scaler.fit_transform(array.reshape(-1,1))\n",
        "    else:\n",
        "        scaler = None\n",
        "\n",
        "    return training_data, scaler"
      ]
    },
    {
      "cell_type": "code",
      "execution_count": null,
      "metadata": {
        "id": "vqQZKPc7ch7c"
      },
      "outputs": [],
      "source": [
        "def make_dataset(training_data, t, h=0, test_size=0.2):\n",
        "    \n",
        "    X_train = []\n",
        "    y_train = []\n",
        "    for i in range(t, len(training_data)-h):\n",
        "        X_train.append(training_data[i-t:i])\n",
        "        y_train.append(training_data[i+h])\n",
        "    X = np.array(X_train)\n",
        "    y = np.array(y_train)\n",
        "\n",
        "    X_train,X_test,y_train,y_test = train_test_split(X, y, test_size=test_size, shuffle=False)\n",
        "\n",
        "    return X_train,X_test,y_train,y_test"
      ]
    },
    {
      "cell_type": "code",
      "execution_count": null,
      "metadata": {
        "id": "pOhNzUL0cj2k"
      },
      "outputs": [],
      "source": [
        "training_data, scaler = preprocess(mydf['open'], window_size=10)"
      ]
    },
    {
      "cell_type": "code",
      "execution_count": null,
      "metadata": {
        "id": "fVa0InE0clZZ"
      },
      "outputs": [],
      "source": [
        "X_train,X_test,y_train,y_test = make_dataset(training_data, t = 168)"
      ]
    },
    {
      "cell_type": "markdown",
      "metadata": {
        "id": "ByYYeaDkasox"
      },
      "source": [
        "# MAE, MSE, RMSE\n",
        "### 시계열 데이터 예측 모델의 성능을 평가하는 지표"
      ]
    },
    {
      "cell_type": "code",
      "execution_count": null,
      "metadata": {
        "id": "yUG169Htcmhz"
      },
      "outputs": [],
      "source": [
        "def MAE(y_true, y_pred):\n",
        "    return \"{:.2e}\".format(np.mean(np.abs(y_true-y_pred)))\n",
        "\n",
        "def MSE(y_true, y_pred):\n",
        "    return \"{:.2e}\".format(np.mean(np.square(y_true-y_pred)))\n",
        "\n",
        "def RMSE(y_true, y_pred):\n",
        "    return \"{:.2e}\".format(np.sqrt(np.mean(np.square(y_true-y_pred))))"
      ]
    },
    {
      "cell_type": "markdown",
      "metadata": {
        "id": "g5AIU7aYcttO"
      },
      "source": [
        "# **GRU-adaboost FIT**"
      ]
    },
    {
      "cell_type": "code",
      "execution_count": null,
      "metadata": {
        "id": "CrDDGqc1cseP"
      },
      "outputs": [],
      "source": [
        "model = Sequential()\n",
        "model.add(InputLayer(input_shape=(X_train.shape[1],1)))\n",
        "model.add(GRU(units=128))\n",
        "model.add(Dropout(0.5))\n",
        "model.add(Dense(units=1))"
      ]
    },
    {
      "cell_type": "code",
      "execution_count": null,
      "metadata": {
        "id": "X-YDqw3gc3Ys"
      },
      "outputs": [],
      "source": [
        "model.compile(loss='mean_squared_error', optimizer='adam')"
      ]
    },
    {
      "cell_type": "code",
      "execution_count": null,
      "metadata": {
        "colab": {
          "base_uri": "https://localhost:8080/"
        },
        "id": "bkovomOLdFf9",
        "outputId": "dca84e19-ac46-44da-a4eb-5c2c11c83cd2"
      },
      "outputs": [
        {
          "name": "stderr",
          "output_type": "stream",
          "text": [
            "/usr/local/lib/python3.7/dist-packages/ipykernel_launcher.py:2: DeprecationWarning: KerasRegressor is deprecated, use Sci-Keras (https://github.com/adriangb/scikeras) instead. See https://www.adriangb.com/scikeras/stable/migration.html for help migrating.\n",
            "  \n"
          ]
        }
      ],
      "source": [
        "# adaboost\n",
        "GRU_Predictors = KerasRegressor(build_fn=lambda:model, epochs=50, batch_size=30)\n",
        "final_model = AdaBoostRegressor(GRU_Predictors, n_estimators=5, random_state=42)"
      ]
    },
    {
      "cell_type": "code",
      "execution_count": null,
      "metadata": {
        "colab": {
          "base_uri": "https://localhost:8080/"
        },
        "id": "zdD8H2jLdGwq",
        "outputId": "849a6eff-4a69-4ec3-bc94-6f26ad36e1a1"
      },
      "outputs": [
        {
          "name": "stderr",
          "output_type": "stream",
          "text": [
            "/usr/local/lib/python3.7/dist-packages/sklearn/utils/validation.py:993: DataConversionWarning: A column-vector y was passed when a 1d array was expected. Please change the shape of y to (n_samples, ), for example using ravel().\n",
            "  y = column_or_1d(y, warn=True)\n"
          ]
        },
        {
          "name": "stdout",
          "output_type": "stream",
          "text": [
            "Epoch 1/50\n",
            "42/42 [==============================] - 11s 12ms/step - loss: 0.0087\n",
            "Epoch 2/50\n",
            "42/42 [==============================] - 0s 8ms/step - loss: 0.0015\n",
            "Epoch 3/50\n",
            "42/42 [==============================] - 0s 8ms/step - loss: 0.0014\n",
            "Epoch 4/50\n",
            "42/42 [==============================] - 0s 8ms/step - loss: 0.0013\n",
            "Epoch 5/50\n",
            "42/42 [==============================] - 0s 8ms/step - loss: 0.0010\n",
            "Epoch 6/50\n",
            "42/42 [==============================] - 0s 8ms/step - loss: 0.0010\n",
            "Epoch 7/50\n",
            "42/42 [==============================] - 0s 8ms/step - loss: 0.0014\n",
            "Epoch 8/50\n",
            "42/42 [==============================] - 0s 8ms/step - loss: 0.0010\n",
            "Epoch 9/50\n",
            "42/42 [==============================] - 0s 8ms/step - loss: 0.0011\n",
            "Epoch 10/50\n",
            "42/42 [==============================] - 0s 8ms/step - loss: 0.0011\n",
            "Epoch 11/50\n",
            "42/42 [==============================] - 0s 8ms/step - loss: 9.9994e-04\n",
            "Epoch 12/50\n",
            "42/42 [==============================] - 0s 8ms/step - loss: 8.8384e-04\n",
            "Epoch 13/50\n",
            "42/42 [==============================] - 0s 8ms/step - loss: 8.3773e-04\n",
            "Epoch 14/50\n",
            "42/42 [==============================] - 0s 8ms/step - loss: 7.8609e-04\n",
            "Epoch 15/50\n",
            "42/42 [==============================] - 0s 8ms/step - loss: 8.9012e-04\n",
            "Epoch 16/50\n",
            "42/42 [==============================] - 0s 8ms/step - loss: 9.5235e-04\n",
            "Epoch 17/50\n",
            "42/42 [==============================] - 0s 8ms/step - loss: 8.3791e-04\n",
            "Epoch 18/50\n",
            "42/42 [==============================] - 0s 8ms/step - loss: 8.0971e-04\n",
            "Epoch 19/50\n",
            "42/42 [==============================] - 0s 8ms/step - loss: 7.7945e-04\n",
            "Epoch 20/50\n",
            "42/42 [==============================] - 0s 8ms/step - loss: 8.4980e-04\n",
            "Epoch 21/50\n",
            "42/42 [==============================] - 0s 8ms/step - loss: 7.2633e-04\n",
            "Epoch 22/50\n",
            "42/42 [==============================] - 0s 8ms/step - loss: 7.5352e-04\n",
            "Epoch 23/50\n",
            "42/42 [==============================] - 0s 8ms/step - loss: 6.4260e-04\n",
            "Epoch 24/50\n",
            "42/42 [==============================] - 0s 8ms/step - loss: 6.5557e-04\n",
            "Epoch 25/50\n",
            "42/42 [==============================] - 0s 8ms/step - loss: 6.0683e-04\n",
            "Epoch 26/50\n",
            "42/42 [==============================] - 0s 8ms/step - loss: 7.8792e-04\n",
            "Epoch 27/50\n",
            "42/42 [==============================] - 0s 8ms/step - loss: 7.3620e-04\n",
            "Epoch 28/50\n",
            "42/42 [==============================] - 0s 8ms/step - loss: 8.6710e-04\n",
            "Epoch 29/50\n",
            "42/42 [==============================] - 0s 8ms/step - loss: 7.1606e-04\n",
            "Epoch 30/50\n",
            "42/42 [==============================] - 0s 8ms/step - loss: 6.5909e-04\n",
            "Epoch 31/50\n",
            "42/42 [==============================] - 0s 8ms/step - loss: 6.4541e-04\n",
            "Epoch 32/50\n",
            "42/42 [==============================] - 0s 8ms/step - loss: 6.3416e-04\n",
            "Epoch 33/50\n",
            "42/42 [==============================] - 0s 8ms/step - loss: 6.5046e-04\n",
            "Epoch 34/50\n",
            "42/42 [==============================] - 0s 8ms/step - loss: 7.4036e-04\n",
            "Epoch 35/50\n",
            "42/42 [==============================] - 0s 8ms/step - loss: 7.1084e-04\n",
            "Epoch 36/50\n",
            "42/42 [==============================] - 0s 8ms/step - loss: 6.4717e-04\n",
            "Epoch 37/50\n",
            "42/42 [==============================] - 0s 8ms/step - loss: 8.3037e-04\n",
            "Epoch 38/50\n",
            "42/42 [==============================] - 0s 8ms/step - loss: 5.7544e-04\n",
            "Epoch 39/50\n",
            "42/42 [==============================] - 0s 8ms/step - loss: 5.5798e-04\n",
            "Epoch 40/50\n",
            "42/42 [==============================] - 0s 8ms/step - loss: 6.9779e-04\n",
            "Epoch 41/50\n",
            "42/42 [==============================] - 0s 8ms/step - loss: 5.2875e-04\n",
            "Epoch 42/50\n",
            "42/42 [==============================] - 0s 8ms/step - loss: 5.9560e-04\n",
            "Epoch 43/50\n",
            "42/42 [==============================] - 0s 8ms/step - loss: 6.8628e-04\n",
            "Epoch 44/50\n",
            "42/42 [==============================] - 0s 8ms/step - loss: 8.0353e-04\n",
            "Epoch 45/50\n",
            "42/42 [==============================] - 0s 8ms/step - loss: 6.8864e-04\n",
            "Epoch 46/50\n",
            "42/42 [==============================] - 0s 8ms/step - loss: 5.5695e-04\n",
            "Epoch 47/50\n",
            "42/42 [==============================] - 0s 8ms/step - loss: 5.2656e-04\n",
            "Epoch 48/50\n",
            "42/42 [==============================] - 0s 8ms/step - loss: 6.5435e-04\n",
            "Epoch 49/50\n",
            "42/42 [==============================] - 0s 8ms/step - loss: 8.2901e-04\n",
            "Epoch 50/50\n",
            "42/42 [==============================] - 0s 8ms/step - loss: 6.6081e-04\n",
            "Epoch 1/50\n",
            "42/42 [==============================] - 0s 8ms/step - loss: 9.4391e-04\n",
            "Epoch 2/50\n",
            "42/42 [==============================] - 0s 8ms/step - loss: 9.3126e-04\n",
            "Epoch 3/50\n",
            "42/42 [==============================] - 0s 8ms/step - loss: 7.3766e-04\n",
            "Epoch 4/50\n",
            "42/42 [==============================] - 0s 8ms/step - loss: 0.0011\n",
            "Epoch 5/50\n",
            "42/42 [==============================] - 0s 8ms/step - loss: 8.8692e-04\n",
            "Epoch 6/50\n",
            "42/42 [==============================] - 0s 8ms/step - loss: 8.3128e-04\n",
            "Epoch 7/50\n",
            "42/42 [==============================] - 0s 8ms/step - loss: 9.2217e-04\n",
            "Epoch 8/50\n",
            "42/42 [==============================] - 0s 8ms/step - loss: 0.0011\n",
            "Epoch 9/50\n",
            "42/42 [==============================] - 0s 8ms/step - loss: 9.2252e-04\n",
            "Epoch 10/50\n",
            "42/42 [==============================] - 0s 8ms/step - loss: 8.4587e-04\n",
            "Epoch 11/50\n",
            "42/42 [==============================] - 0s 8ms/step - loss: 7.0296e-04\n",
            "Epoch 12/50\n",
            "42/42 [==============================] - 0s 8ms/step - loss: 7.0753e-04\n",
            "Epoch 13/50\n",
            "42/42 [==============================] - 0s 8ms/step - loss: 7.5512e-04\n",
            "Epoch 14/50\n",
            "42/42 [==============================] - 0s 8ms/step - loss: 8.9129e-04\n",
            "Epoch 15/50\n",
            "42/42 [==============================] - 0s 8ms/step - loss: 8.6161e-04\n",
            "Epoch 16/50\n",
            "42/42 [==============================] - 0s 8ms/step - loss: 8.1346e-04\n",
            "Epoch 17/50\n",
            "42/42 [==============================] - 0s 8ms/step - loss: 8.4128e-04\n",
            "Epoch 18/50\n",
            "42/42 [==============================] - 0s 8ms/step - loss: 8.3607e-04\n",
            "Epoch 19/50\n",
            "42/42 [==============================] - 0s 8ms/step - loss: 8.6480e-04\n",
            "Epoch 20/50\n",
            "42/42 [==============================] - 0s 8ms/step - loss: 8.2723e-04\n",
            "Epoch 21/50\n",
            "42/42 [==============================] - 0s 8ms/step - loss: 0.0010\n",
            "Epoch 22/50\n",
            "42/42 [==============================] - 0s 8ms/step - loss: 8.6409e-04\n",
            "Epoch 23/50\n",
            "42/42 [==============================] - 0s 8ms/step - loss: 8.7277e-04\n",
            "Epoch 24/50\n",
            "42/42 [==============================] - 0s 8ms/step - loss: 7.9706e-04\n",
            "Epoch 25/50\n",
            "42/42 [==============================] - 0s 8ms/step - loss: 6.7989e-04\n",
            "Epoch 26/50\n",
            "42/42 [==============================] - 0s 8ms/step - loss: 8.8139e-04\n",
            "Epoch 27/50\n",
            "42/42 [==============================] - 0s 8ms/step - loss: 8.9343e-04\n",
            "Epoch 28/50\n",
            "42/42 [==============================] - 0s 8ms/step - loss: 9.1257e-04\n",
            "Epoch 29/50\n",
            "42/42 [==============================] - 0s 8ms/step - loss: 8.6190e-04\n",
            "Epoch 30/50\n",
            "42/42 [==============================] - 0s 8ms/step - loss: 8.0483e-04\n",
            "Epoch 31/50\n",
            "42/42 [==============================] - 0s 8ms/step - loss: 8.2244e-04\n",
            "Epoch 32/50\n",
            "42/42 [==============================] - 0s 8ms/step - loss: 7.6621e-04\n",
            "Epoch 33/50\n",
            "42/42 [==============================] - 0s 8ms/step - loss: 7.9175e-04\n",
            "Epoch 34/50\n",
            "42/42 [==============================] - 0s 8ms/step - loss: 8.5118e-04\n",
            "Epoch 35/50\n",
            "42/42 [==============================] - 0s 8ms/step - loss: 7.7699e-04\n",
            "Epoch 36/50\n",
            "42/42 [==============================] - 0s 8ms/step - loss: 8.1584e-04\n",
            "Epoch 37/50\n",
            "42/42 [==============================] - 0s 8ms/step - loss: 7.8379e-04\n",
            "Epoch 38/50\n",
            "42/42 [==============================] - 0s 8ms/step - loss: 6.6434e-04\n",
            "Epoch 39/50\n",
            "42/42 [==============================] - 0s 8ms/step - loss: 8.1118e-04\n",
            "Epoch 40/50\n",
            "42/42 [==============================] - 0s 8ms/step - loss: 7.2892e-04\n",
            "Epoch 41/50\n",
            "42/42 [==============================] - 0s 8ms/step - loss: 8.9302e-04\n",
            "Epoch 42/50\n",
            "42/42 [==============================] - 0s 8ms/step - loss: 8.1461e-04\n",
            "Epoch 43/50\n",
            "42/42 [==============================] - 0s 8ms/step - loss: 9.2756e-04\n",
            "Epoch 44/50\n",
            "42/42 [==============================] - 0s 8ms/step - loss: 7.8554e-04\n",
            "Epoch 45/50\n",
            "42/42 [==============================] - 0s 8ms/step - loss: 8.4506e-04\n",
            "Epoch 46/50\n",
            "42/42 [==============================] - 0s 8ms/step - loss: 7.8441e-04\n",
            "Epoch 47/50\n",
            "42/42 [==============================] - 0s 8ms/step - loss: 9.0415e-04\n",
            "Epoch 48/50\n",
            "42/42 [==============================] - 0s 8ms/step - loss: 7.6600e-04\n",
            "Epoch 49/50\n",
            "42/42 [==============================] - 0s 8ms/step - loss: 8.0452e-04\n",
            "Epoch 50/50\n",
            "42/42 [==============================] - 0s 8ms/step - loss: 7.6259e-04\n",
            "Epoch 1/50\n",
            "42/42 [==============================] - 0s 11ms/step - loss: 0.0014\n",
            "Epoch 2/50\n",
            "42/42 [==============================] - 0s 8ms/step - loss: 0.0014\n",
            "Epoch 3/50\n",
            "42/42 [==============================] - 0s 8ms/step - loss: 0.0013\n",
            "Epoch 4/50\n",
            "42/42 [==============================] - 0s 8ms/step - loss: 0.0012\n",
            "Epoch 5/50\n",
            "42/42 [==============================] - 0s 8ms/step - loss: 0.0012\n",
            "Epoch 6/50\n",
            "42/42 [==============================] - 0s 8ms/step - loss: 0.0012\n",
            "Epoch 7/50\n",
            "42/42 [==============================] - 0s 8ms/step - loss: 0.0014\n",
            "Epoch 8/50\n",
            "42/42 [==============================] - 0s 8ms/step - loss: 0.0012\n",
            "Epoch 9/50\n",
            "42/42 [==============================] - 0s 9ms/step - loss: 0.0011\n",
            "Epoch 10/50\n",
            "42/42 [==============================] - 0s 8ms/step - loss: 0.0013\n",
            "Epoch 11/50\n",
            "42/42 [==============================] - 0s 8ms/step - loss: 0.0013\n",
            "Epoch 12/50\n",
            "42/42 [==============================] - 0s 8ms/step - loss: 0.0013\n",
            "Epoch 13/50\n",
            "42/42 [==============================] - 0s 8ms/step - loss: 0.0013\n",
            "Epoch 14/50\n",
            "42/42 [==============================] - 0s 8ms/step - loss: 0.0014\n",
            "Epoch 15/50\n",
            "42/42 [==============================] - 0s 8ms/step - loss: 0.0012\n",
            "Epoch 16/50\n",
            "42/42 [==============================] - 0s 8ms/step - loss: 0.0012\n",
            "Epoch 17/50\n",
            "42/42 [==============================] - 0s 8ms/step - loss: 0.0011\n",
            "Epoch 18/50\n",
            "42/42 [==============================] - 0s 8ms/step - loss: 0.0011\n",
            "Epoch 19/50\n",
            "42/42 [==============================] - 0s 8ms/step - loss: 0.0011\n",
            "Epoch 20/50\n",
            "42/42 [==============================] - 0s 8ms/step - loss: 0.0011\n",
            "Epoch 21/50\n",
            "42/42 [==============================] - 0s 8ms/step - loss: 0.0013\n",
            "Epoch 22/50\n",
            "42/42 [==============================] - 0s 8ms/step - loss: 0.0012\n",
            "Epoch 23/50\n",
            "42/42 [==============================] - 0s 8ms/step - loss: 0.0011\n",
            "Epoch 24/50\n",
            "42/42 [==============================] - 0s 9ms/step - loss: 0.0011\n",
            "Epoch 25/50\n",
            "42/42 [==============================] - 0s 8ms/step - loss: 0.0011\n",
            "Epoch 26/50\n",
            "42/42 [==============================] - 0s 8ms/step - loss: 0.0011\n",
            "Epoch 27/50\n",
            "42/42 [==============================] - 0s 8ms/step - loss: 0.0011\n",
            "Epoch 28/50\n",
            "42/42 [==============================] - 0s 8ms/step - loss: 0.0012\n",
            "Epoch 29/50\n",
            "42/42 [==============================] - 0s 8ms/step - loss: 0.0011\n",
            "Epoch 30/50\n",
            "42/42 [==============================] - 0s 8ms/step - loss: 0.0011\n",
            "Epoch 31/50\n",
            "42/42 [==============================] - 0s 8ms/step - loss: 0.0012\n",
            "Epoch 32/50\n",
            "42/42 [==============================] - 0s 8ms/step - loss: 0.0013\n",
            "Epoch 33/50\n",
            "42/42 [==============================] - 0s 8ms/step - loss: 0.0012\n",
            "Epoch 34/50\n",
            "42/42 [==============================] - 0s 8ms/step - loss: 0.0012\n",
            "Epoch 35/50\n",
            "42/42 [==============================] - 0s 8ms/step - loss: 0.0010\n",
            "Epoch 36/50\n",
            "42/42 [==============================] - 0s 8ms/step - loss: 0.0011\n",
            "Epoch 37/50\n",
            "42/42 [==============================] - 0s 8ms/step - loss: 0.0010\n",
            "Epoch 38/50\n",
            "42/42 [==============================] - 0s 8ms/step - loss: 0.0011\n",
            "Epoch 39/50\n",
            "42/42 [==============================] - 0s 8ms/step - loss: 0.0012\n",
            "Epoch 40/50\n",
            "42/42 [==============================] - 0s 8ms/step - loss: 0.0012\n",
            "Epoch 41/50\n",
            "42/42 [==============================] - 0s 8ms/step - loss: 0.0011\n",
            "Epoch 42/50\n",
            "42/42 [==============================] - 0s 8ms/step - loss: 0.0010\n",
            "Epoch 43/50\n",
            "42/42 [==============================] - 0s 8ms/step - loss: 0.0012\n",
            "Epoch 44/50\n",
            "42/42 [==============================] - 0s 8ms/step - loss: 0.0011\n",
            "Epoch 45/50\n",
            "42/42 [==============================] - 0s 8ms/step - loss: 9.8654e-04\n",
            "Epoch 46/50\n",
            "42/42 [==============================] - 0s 8ms/step - loss: 0.0011\n",
            "Epoch 47/50\n",
            "42/42 [==============================] - 0s 8ms/step - loss: 0.0011\n",
            "Epoch 48/50\n",
            "42/42 [==============================] - 0s 9ms/step - loss: 0.0012\n",
            "Epoch 49/50\n",
            "42/42 [==============================] - 0s 8ms/step - loss: 0.0010\n",
            "Epoch 50/50\n",
            "42/42 [==============================] - 0s 8ms/step - loss: 0.0011\n",
            "Epoch 1/50\n",
            "42/42 [==============================] - 0s 8ms/step - loss: 0.0011\n",
            "Epoch 2/50\n",
            "42/42 [==============================] - 0s 8ms/step - loss: 0.0011\n",
            "Epoch 3/50\n",
            "42/42 [==============================] - 0s 8ms/step - loss: 0.0012\n",
            "Epoch 4/50\n",
            "42/42 [==============================] - 0s 8ms/step - loss: 0.0012\n",
            "Epoch 5/50\n",
            "42/42 [==============================] - 0s 8ms/step - loss: 0.0012\n",
            "Epoch 6/50\n",
            "42/42 [==============================] - 0s 9ms/step - loss: 0.0011\n",
            "Epoch 7/50\n",
            "42/42 [==============================] - 0s 8ms/step - loss: 9.8433e-04\n",
            "Epoch 8/50\n",
            "42/42 [==============================] - 0s 8ms/step - loss: 0.0010\n",
            "Epoch 9/50\n",
            "42/42 [==============================] - 0s 9ms/step - loss: 0.0012\n",
            "Epoch 10/50\n",
            "42/42 [==============================] - 0s 8ms/step - loss: 0.0010\n",
            "Epoch 11/50\n",
            "42/42 [==============================] - 0s 8ms/step - loss: 0.0012\n",
            "Epoch 12/50\n",
            "42/42 [==============================] - 0s 8ms/step - loss: 0.0011\n",
            "Epoch 13/50\n",
            "42/42 [==============================] - 0s 8ms/step - loss: 0.0011\n",
            "Epoch 14/50\n",
            "42/42 [==============================] - 0s 8ms/step - loss: 0.0012\n",
            "Epoch 15/50\n",
            "42/42 [==============================] - 0s 8ms/step - loss: 0.0010\n",
            "Epoch 16/50\n",
            "42/42 [==============================] - 0s 8ms/step - loss: 0.0011\n",
            "Epoch 17/50\n",
            "42/42 [==============================] - 0s 8ms/step - loss: 0.0012\n",
            "Epoch 18/50\n",
            "42/42 [==============================] - 0s 8ms/step - loss: 0.0011\n",
            "Epoch 19/50\n",
            "42/42 [==============================] - 0s 8ms/step - loss: 0.0012\n",
            "Epoch 20/50\n",
            "42/42 [==============================] - 0s 8ms/step - loss: 0.0011\n",
            "Epoch 21/50\n",
            "42/42 [==============================] - 0s 8ms/step - loss: 0.0011\n",
            "Epoch 22/50\n",
            "42/42 [==============================] - 0s 8ms/step - loss: 0.0011\n",
            "Epoch 23/50\n",
            "42/42 [==============================] - 0s 9ms/step - loss: 0.0012\n",
            "Epoch 24/50\n",
            "42/42 [==============================] - 0s 8ms/step - loss: 0.0011\n",
            "Epoch 25/50\n",
            "42/42 [==============================] - 0s 8ms/step - loss: 0.0012\n",
            "Epoch 26/50\n",
            "42/42 [==============================] - 0s 9ms/step - loss: 0.0011\n",
            "Epoch 27/50\n",
            "42/42 [==============================] - 0s 8ms/step - loss: 0.0011\n",
            "Epoch 28/50\n",
            "42/42 [==============================] - 0s 8ms/step - loss: 0.0012\n",
            "Epoch 29/50\n",
            "42/42 [==============================] - 0s 8ms/step - loss: 0.0011\n",
            "Epoch 30/50\n",
            "42/42 [==============================] - 0s 8ms/step - loss: 0.0011\n",
            "Epoch 31/50\n",
            "42/42 [==============================] - 0s 8ms/step - loss: 0.0011\n",
            "Epoch 32/50\n",
            "42/42 [==============================] - 0s 8ms/step - loss: 0.0011\n",
            "Epoch 33/50\n",
            "42/42 [==============================] - 0s 8ms/step - loss: 0.0011\n",
            "Epoch 34/50\n",
            "42/42 [==============================] - 0s 8ms/step - loss: 0.0012\n",
            "Epoch 35/50\n",
            "42/42 [==============================] - 0s 8ms/step - loss: 0.0013\n",
            "Epoch 36/50\n",
            "42/42 [==============================] - 0s 8ms/step - loss: 0.0011\n",
            "Epoch 37/50\n",
            "42/42 [==============================] - 0s 8ms/step - loss: 0.0012\n",
            "Epoch 38/50\n",
            "42/42 [==============================] - 0s 8ms/step - loss: 0.0012\n",
            "Epoch 39/50\n",
            "42/42 [==============================] - 0s 9ms/step - loss: 0.0011\n",
            "Epoch 40/50\n",
            "42/42 [==============================] - 0s 8ms/step - loss: 0.0013\n",
            "Epoch 41/50\n",
            "42/42 [==============================] - 0s 8ms/step - loss: 0.0012\n",
            "Epoch 42/50\n",
            "42/42 [==============================] - 0s 8ms/step - loss: 0.0011\n",
            "Epoch 43/50\n",
            "42/42 [==============================] - 0s 8ms/step - loss: 0.0010\n",
            "Epoch 44/50\n",
            "42/42 [==============================] - 0s 8ms/step - loss: 0.0012\n",
            "Epoch 45/50\n",
            "42/42 [==============================] - 0s 8ms/step - loss: 0.0011\n",
            "Epoch 46/50\n",
            "42/42 [==============================] - 0s 9ms/step - loss: 0.0011\n",
            "Epoch 47/50\n",
            "42/42 [==============================] - 0s 8ms/step - loss: 0.0012\n",
            "Epoch 48/50\n",
            "42/42 [==============================] - 0s 8ms/step - loss: 0.0011\n",
            "Epoch 49/50\n",
            "42/42 [==============================] - 0s 8ms/step - loss: 0.0011\n",
            "Epoch 50/50\n",
            "42/42 [==============================] - 0s 8ms/step - loss: 0.0011\n",
            "Epoch 1/50\n",
            "42/42 [==============================] - 0s 8ms/step - loss: 0.0011\n",
            "Epoch 2/50\n",
            "42/42 [==============================] - 0s 9ms/step - loss: 0.0012\n",
            "Epoch 3/50\n",
            "42/42 [==============================] - 0s 8ms/step - loss: 0.0012\n",
            "Epoch 4/50\n",
            "42/42 [==============================] - 0s 8ms/step - loss: 0.0012\n",
            "Epoch 5/50\n",
            "42/42 [==============================] - 0s 8ms/step - loss: 0.0012\n",
            "Epoch 6/50\n",
            "42/42 [==============================] - 0s 8ms/step - loss: 0.0012\n",
            "Epoch 7/50\n",
            "42/42 [==============================] - 0s 8ms/step - loss: 0.0012\n",
            "Epoch 8/50\n",
            "42/42 [==============================] - 0s 8ms/step - loss: 0.0012\n",
            "Epoch 9/50\n",
            "42/42 [==============================] - 0s 8ms/step - loss: 0.0013\n",
            "Epoch 10/50\n",
            "42/42 [==============================] - 0s 8ms/step - loss: 0.0012\n",
            "Epoch 11/50\n",
            "42/42 [==============================] - 0s 8ms/step - loss: 0.0011\n",
            "Epoch 12/50\n",
            "42/42 [==============================] - 0s 8ms/step - loss: 0.0012\n",
            "Epoch 13/50\n",
            "42/42 [==============================] - 0s 8ms/step - loss: 0.0012\n",
            "Epoch 14/50\n",
            "42/42 [==============================] - 0s 8ms/step - loss: 0.0012\n",
            "Epoch 15/50\n",
            "42/42 [==============================] - 0s 8ms/step - loss: 0.0014\n",
            "Epoch 16/50\n",
            "42/42 [==============================] - 0s 8ms/step - loss: 0.0011\n",
            "Epoch 17/50\n",
            "42/42 [==============================] - 0s 8ms/step - loss: 0.0012\n",
            "Epoch 18/50\n",
            "42/42 [==============================] - 0s 8ms/step - loss: 0.0011\n",
            "Epoch 19/50\n",
            "42/42 [==============================] - 0s 8ms/step - loss: 0.0011\n",
            "Epoch 20/50\n",
            "42/42 [==============================] - 0s 8ms/step - loss: 0.0012\n",
            "Epoch 21/50\n",
            "42/42 [==============================] - 0s 8ms/step - loss: 0.0011\n",
            "Epoch 22/50\n",
            "42/42 [==============================] - 0s 8ms/step - loss: 0.0011\n",
            "Epoch 23/50\n",
            "42/42 [==============================] - 0s 8ms/step - loss: 0.0011\n",
            "Epoch 24/50\n",
            "42/42 [==============================] - 0s 8ms/step - loss: 0.0012\n",
            "Epoch 25/50\n",
            "42/42 [==============================] - 0s 8ms/step - loss: 0.0012\n",
            "Epoch 26/50\n",
            "42/42 [==============================] - 0s 8ms/step - loss: 0.0011\n",
            "Epoch 27/50\n",
            "42/42 [==============================] - 0s 8ms/step - loss: 0.0012\n",
            "Epoch 28/50\n",
            "42/42 [==============================] - 0s 8ms/step - loss: 0.0011\n",
            "Epoch 29/50\n",
            "42/42 [==============================] - 0s 8ms/step - loss: 0.0011\n",
            "Epoch 30/50\n",
            "42/42 [==============================] - 0s 8ms/step - loss: 0.0012\n",
            "Epoch 31/50\n",
            "42/42 [==============================] - 0s 8ms/step - loss: 0.0012\n",
            "Epoch 32/50\n",
            "42/42 [==============================] - 0s 8ms/step - loss: 0.0011\n",
            "Epoch 33/50\n",
            "42/42 [==============================] - 0s 8ms/step - loss: 0.0012\n",
            "Epoch 34/50\n",
            "42/42 [==============================] - 0s 9ms/step - loss: 0.0012\n",
            "Epoch 35/50\n",
            "42/42 [==============================] - 0s 8ms/step - loss: 0.0011\n",
            "Epoch 36/50\n",
            "42/42 [==============================] - 0s 8ms/step - loss: 0.0011\n",
            "Epoch 37/50\n",
            "42/42 [==============================] - 0s 8ms/step - loss: 0.0013\n",
            "Epoch 38/50\n",
            "42/42 [==============================] - 0s 8ms/step - loss: 0.0011\n",
            "Epoch 39/50\n",
            "42/42 [==============================] - 0s 8ms/step - loss: 0.0012\n",
            "Epoch 40/50\n",
            "42/42 [==============================] - 0s 8ms/step - loss: 0.0011\n",
            "Epoch 41/50\n",
            "42/42 [==============================] - 0s 8ms/step - loss: 0.0012\n",
            "Epoch 42/50\n",
            "42/42 [==============================] - 0s 9ms/step - loss: 0.0011\n",
            "Epoch 43/50\n",
            "42/42 [==============================] - 0s 8ms/step - loss: 0.0011\n",
            "Epoch 44/50\n",
            "42/42 [==============================] - 0s 8ms/step - loss: 0.0010\n",
            "Epoch 45/50\n",
            "42/42 [==============================] - 0s 8ms/step - loss: 0.0011\n",
            "Epoch 46/50\n",
            "42/42 [==============================] - 0s 8ms/step - loss: 0.0011\n",
            "Epoch 47/50\n",
            "42/42 [==============================] - 0s 8ms/step - loss: 0.0012\n",
            "Epoch 48/50\n",
            "42/42 [==============================] - 0s 9ms/step - loss: 0.0012\n",
            "Epoch 49/50\n",
            "42/42 [==============================] - 0s 8ms/step - loss: 0.0011\n",
            "Epoch 50/50\n",
            "42/42 [==============================] - 0s 8ms/step - loss: 0.0010\n"
          ]
        },
        {
          "data": {
            "text/plain": [
              "AdaBoostRegressor(base_estimator=<keras.wrappers.scikit_learn.KerasRegressor object at 0x7f72701742d0>,\n",
              "                  n_estimators=5, random_state=42)"
            ]
          },
          "execution_count": 16,
          "metadata": {},
          "output_type": "execute_result"
        }
      ],
      "source": [
        "final_model.fit(X_train,y_train)"
      ]
    },
    {
      "cell_type": "code",
      "execution_count": null,
      "metadata": {
        "id": "-6GVmfoodUbH"
      },
      "outputs": [],
      "source": [
        "preds = final_model.predict(X_test)\n",
        "preds = scaler.inverse_transform(preds.reshape(-1,1))\n",
        "preds_series = np.hstack([mydf['open'][:-len(preds)], preds.squeeze(1)])"
      ]
    },
    {
      "cell_type": "code",
      "execution_count": null,
      "metadata": {
        "colab": {
          "base_uri": "https://localhost:8080/",
          "height": 607
        },
        "id": "ArLu2wmtfBz8",
        "outputId": "b8d8c3ed-39e8-46b9-f7bd-2157ae9e4a3c"
      },
      "outputs": [
        {
          "data": {
            "image/png": "[encoded data removed]",
            "text/plain": [
              "<Figure size 1080x720 with 1 Axes>"
            ]
          },
          "metadata": {},
          "output_type": "display_data"
        }
      ],
      "source": [
        "plt.plot(preds_series, label='prediction')\n",
        "plt.plot(mydf['open'], label='true')\n",
        "plt.axvline(x=len(mydf['open'])-len(preds), color='r')\n",
        "plt.legend()\n",
        "plt.title('Adaboost-GRU FIT')\n",
        "plt.show()"
      ]
    },
    {
      "cell_type": "code",
      "execution_count": null,
      "metadata": {
        "id": "sQpe11iEfDol"
      },
      "outputs": [],
      "source": [
        "y_true = mydf['open'][-len(preds):]\n",
        "y_pred = preds.squeeze(1)"
      ]
    },
    {
      "cell_type": "code",
      "execution_count": null,
      "metadata": {
        "colab": {
          "base_uri": "https://localhost:8080/"
        },
        "id": "EmBt5TZJfN3Y",
        "outputId": "d6efc5ac-0982-4ad8-eb4c-b1772aa0aacc"
      },
      "outputs": [
        {
          "name": "stdout",
          "output_type": "stream",
          "text": [
            "2.46e+06\n",
            "9.61e+12\n",
            "3.10e+06\n"
          ]
        }
      ],
      "source": [
        "print(MAE(y_true, y_pred))\n",
        "print(MSE(y_true, y_pred))\n",
        "print(RMSE(y_true, y_pred))"
      ]
    },
    {
      "cell_type": "markdown",
      "metadata": {
        "id": "jhVIyD6Ig3_T"
      },
      "source": [
        "# **LSTM-adaboost FIT**"
      ]
    },
    {
      "cell_type": "code",
      "execution_count": null,
      "metadata": {
        "id": "ALtzLwQVfPx7"
      },
      "outputs": [],
      "source": [
        "model = Sequential()\n",
        "model.add(InputLayer(input_shape=(X_train.shape[1],1)))\n",
        "model.add(LSTM(units=128))\n",
        "model.add(Dropout(0.5))\n",
        "model.add(Dense(units=1))"
      ]
    },
    {
      "cell_type": "code",
      "execution_count": null,
      "metadata": {
        "id": "BZiQAiPLg_v4"
      },
      "outputs": [],
      "source": [
        "model.compile(loss='mean_squared_error', optimizer='adam')"
      ]
    },
    {
      "cell_type": "code",
      "execution_count": null,
      "metadata": {
        "colab": {
          "base_uri": "https://localhost:8080/"
        },
        "id": "U_mrq-kjhCYo",
        "outputId": "c39db661-62f8-49d2-bc20-60513a221724"
      },
      "outputs": [
        {
          "name": "stderr",
          "output_type": "stream",
          "text": [
            "/usr/local/lib/python3.7/dist-packages/ipykernel_launcher.py:1: DeprecationWarning: KerasRegressor is deprecated, use Sci-Keras (https://github.com/adriangb/scikeras) instead. See https://www.adriangb.com/scikeras/stable/migration.html for help migrating.\n",
            "  \"\"\"Entry point for launching an IPython kernel.\n"
          ]
        }
      ],
      "source": [
        "LSTM_Predictors = KerasRegressor(build_fn=lambda:model, epochs=50, batch_size=30)\n",
        "final_model = AdaBoostRegressor(LSTM_Predictors, n_estimators=5, random_state=42)"
      ]
    },
    {
      "cell_type": "code",
      "execution_count": null,
      "metadata": {
        "colab": {
          "background_save": true,
          "base_uri": "https://localhost:8080/"
        },
        "id": "YwGrsNlkhESZ",
        "outputId": "e566f9fa-f572-450a-fa02-1548835b7680"
      },
      "outputs": [
        {
          "name": "stdout",
          "output_type": "stream",
          "text": [
            "Epoch 1/50\n"
          ]
        },
        {
          "name": "stderr",
          "output_type": "stream",
          "text": [
            "/usr/local/lib/python3.7/dist-packages/sklearn/utils/validation.py:993: DataConversionWarning: A column-vector y was passed when a 1d array was expected. Please change the shape of y to (n_samples, ), for example using ravel().\n",
            "  y = column_or_1d(y, warn=True)\n"
          ]
        },
        {
          "name": "stdout",
          "output_type": "stream",
          "text": [
            "42/42 [==============================] - 8s 137ms/step - loss: 0.0109\n",
            "Epoch 2/50\n",
            "42/42 [==============================] - 6s 138ms/step - loss: 0.0026\n",
            "Epoch 3/50\n",
            "42/42 [==============================] - 6s 138ms/step - loss: 0.0022\n",
            "Epoch 4/50\n",
            "42/42 [==============================] - 6s 138ms/step - loss: 0.0017\n",
            "Epoch 5/50\n",
            "42/42 [==============================] - 6s 137ms/step - loss: 0.0013\n",
            "Epoch 6/50\n",
            "42/42 [==============================] - 6s 137ms/step - loss: 0.0017\n",
            "Epoch 7/50\n",
            "42/42 [==============================] - 6s 136ms/step - loss: 0.0015\n",
            "Epoch 8/50\n",
            "42/42 [==============================] - 6s 136ms/step - loss: 0.0012\n",
            "Epoch 9/50\n",
            "42/42 [==============================] - 6s 138ms/step - loss: 0.0013\n",
            "Epoch 10/50\n",
            "42/42 [==============================] - 6s 138ms/step - loss: 0.0010\n",
            "Epoch 11/50\n",
            "42/42 [==============================] - 6s 138ms/step - loss: 0.0010\n",
            "Epoch 12/50\n",
            "42/42 [==============================] - 6s 137ms/step - loss: 0.0012\n",
            "Epoch 13/50\n",
            "42/42 [==============================] - 6s 136ms/step - loss: 9.6073e-04\n",
            "Epoch 14/50\n",
            "42/42 [==============================] - 6s 137ms/step - loss: 8.9029e-04\n",
            "Epoch 15/50\n",
            "42/42 [==============================] - 6s 136ms/step - loss: 0.0011\n",
            "Epoch 16/50\n",
            "42/42 [==============================] - 6s 136ms/step - loss: 0.0011\n",
            "Epoch 17/50\n",
            "42/42 [==============================] - 6s 136ms/step - loss: 0.0011\n",
            "Epoch 18/50\n",
            "42/42 [==============================] - 6s 136ms/step - loss: 9.2098e-04\n",
            "Epoch 19/50\n",
            "42/42 [==============================] - 6s 136ms/step - loss: 0.0010\n",
            "Epoch 20/50\n",
            "42/42 [==============================] - 6s 136ms/step - loss: 6.8397e-04\n",
            "Epoch 21/50\n",
            "42/42 [==============================] - 6s 136ms/step - loss: 9.3765e-04\n",
            "Epoch 22/50\n",
            "42/42 [==============================] - 6s 136ms/step - loss: 0.0010\n",
            "Epoch 23/50\n",
            "42/42 [==============================] - 6s 138ms/step - loss: 9.0084e-04\n",
            "Epoch 24/50\n",
            "42/42 [==============================] - 6s 137ms/step - loss: 9.9137e-04\n",
            "Epoch 25/50\n",
            "42/42 [==============================] - 6s 137ms/step - loss: 0.0012\n",
            "Epoch 26/50\n",
            "42/42 [==============================] - 6s 139ms/step - loss: 9.1545e-04\n",
            "Epoch 27/50\n",
            "42/42 [==============================] - 6s 137ms/step - loss: 0.0011\n",
            "Epoch 28/50\n",
            "42/42 [==============================] - 6s 138ms/step - loss: 9.4566e-04\n",
            "Epoch 29/50\n",
            "42/42 [==============================] - 6s 137ms/step - loss: 9.4439e-04\n",
            "Epoch 30/50\n",
            "42/42 [==============================] - 6s 136ms/step - loss: 8.6325e-04\n",
            "Epoch 31/50\n",
            "42/42 [==============================] - 6s 137ms/step - loss: 8.8162e-04\n",
            "Epoch 32/50\n",
            "42/42 [==============================] - 6s 136ms/step - loss: 7.8816e-04\n",
            "Epoch 33/50\n",
            "42/42 [==============================] - 6s 136ms/step - loss: 7.3152e-04\n",
            "Epoch 34/50\n",
            "42/42 [==============================] - 6s 137ms/step - loss: 8.3558e-04\n",
            "Epoch 35/50\n",
            "42/42 [==============================] - 6s 137ms/step - loss: 6.8794e-04\n",
            "Epoch 36/50\n",
            "42/42 [==============================] - 6s 137ms/step - loss: 9.7853e-04\n",
            "Epoch 37/50\n",
            "42/42 [==============================] - 6s 136ms/step - loss: 7.3171e-04\n",
            "Epoch 38/50\n",
            "42/42 [==============================] - 6s 137ms/step - loss: 7.4840e-04\n",
            "Epoch 39/50\n",
            "42/42 [==============================] - 6s 136ms/step - loss: 7.2824e-04\n",
            "Epoch 40/50\n",
            "42/42 [==============================] - 6s 136ms/step - loss: 7.4595e-04\n",
            "Epoch 41/50\n",
            "42/42 [==============================] - 6s 137ms/step - loss: 7.0566e-04\n",
            "Epoch 42/50\n",
            "42/42 [==============================] - 6s 136ms/step - loss: 6.9871e-04\n",
            "Epoch 43/50\n",
            "42/42 [==============================] - 6s 138ms/step - loss: 6.4167e-04\n",
            "Epoch 44/50\n",
            "42/42 [==============================] - 6s 137ms/step - loss: 6.4985e-04\n",
            "Epoch 45/50\n",
            "42/42 [==============================] - 6s 137ms/step - loss: 7.3330e-04\n",
            "Epoch 46/50\n",
            "42/42 [==============================] - 6s 138ms/step - loss: 6.4712e-04\n",
            "Epoch 47/50\n",
            "42/42 [==============================] - 6s 137ms/step - loss: 9.1366e-04\n",
            "Epoch 48/50\n",
            "42/42 [==============================] - 6s 137ms/step - loss: 8.2806e-04\n",
            "Epoch 49/50\n",
            "42/42 [==============================] - 6s 136ms/step - loss: 8.2357e-04\n",
            "Epoch 50/50\n",
            "42/42 [==============================] - 6s 137ms/step - loss: 6.0385e-04\n",
            "Epoch 1/50\n",
            "42/42 [==============================] - 6s 137ms/step - loss: 7.8257e-04\n",
            "Epoch 2/50\n",
            "42/42 [==============================] - 6s 136ms/step - loss: 0.0011\n",
            "Epoch 3/50\n",
            "42/42 [==============================] - 6s 136ms/step - loss: 8.3817e-04\n",
            "Epoch 4/50\n",
            "42/42 [==============================] - 6s 137ms/step - loss: 8.9545e-04\n",
            "Epoch 5/50\n",
            "42/42 [==============================] - 6s 136ms/step - loss: 9.7396e-04\n",
            "Epoch 6/50\n",
            "42/42 [==============================] - 6s 138ms/step - loss: 8.5560e-04\n",
            "Epoch 7/50\n",
            "42/42 [==============================] - 6s 137ms/step - loss: 8.6315e-04\n",
            "Epoch 8/50\n",
            "42/42 [==============================] - 6s 136ms/step - loss: 9.6849e-04\n",
            "Epoch 9/50\n",
            "42/42 [==============================] - 6s 136ms/step - loss: 9.0091e-04\n",
            "Epoch 10/50\n",
            "42/42 [==============================] - 6s 136ms/step - loss: 8.7174e-04\n",
            "Epoch 11/50\n",
            "42/42 [==============================] - 6s 137ms/step - loss: 8.8304e-04\n",
            "Epoch 12/50\n",
            "42/42 [==============================] - 6s 137ms/step - loss: 7.8626e-04\n",
            "Epoch 13/50\n",
            "42/42 [==============================] - 6s 138ms/step - loss: 8.9186e-04\n",
            "Epoch 14/50\n",
            "42/42 [==============================] - 6s 137ms/step - loss: 7.4950e-04\n",
            "Epoch 15/50\n",
            "42/42 [==============================] - 6s 136ms/step - loss: 7.6490e-04\n",
            "Epoch 16/50\n",
            "42/42 [==============================] - 6s 136ms/step - loss: 8.5027e-04\n",
            "Epoch 17/50\n",
            "23/42 [===============>..............] - ETA: 2s - loss: 9.9271e-04"
          ]
        }
      ],
      "source": [
        "final_model.fit(X_train,y_train)"
      ]
    },
    {
      "cell_type": "code",
      "execution_count": null,
      "metadata": {
        "id": "ciFn__zhhJ5Y"
      },
      "outputs": [],
      "source": [
        "preds = final_model.predict(X_test)\n",
        "preds = scaler.inverse_transform(preds.reshape(-1,1))\n",
        "preds_series = np.hstack([mydf['open'][:-len(preds)], preds.squeeze(1)])"
      ]
    },
    {
      "cell_type": "code",
      "execution_count": null,
      "metadata": {
        "colab": {
          "base_uri": "https://localhost:8080/",
          "height": 607
        },
        "id": "Knx90I4phwfL",
        "outputId": "6486f819-fcf0-434b-8b01-56bffb29d57f"
      },
      "outputs": [
        {
          "data": {
            "image/png": "[encoded data removed]",
            "text/plain": [
              "<Figure size 1080x720 with 1 Axes>"
            ]
          },
          "metadata": {},
          "output_type": "display_data"
        }
      ],
      "source": [
        "plt.plot(preds_series, label='prediction')\n",
        "plt.plot(mydf['open'], label='true')\n",
        "plt.axvline(x=len(mydf['open'])-len(preds), color='r')\n",
        "plt.legend()\n",
        "plt.title('Adaboost-LSTM FIT')\n",
        "plt.show()"
      ]
    },
    {
      "cell_type": "code",
      "execution_count": null,
      "metadata": {
        "id": "z79IQswwhvRL"
      },
      "outputs": [],
      "source": [
        "y_true = mydf['open'][-len(preds):]\n",
        "y_pred = preds.squeeze(1)"
      ]
    },
    {
      "cell_type": "code",
      "execution_count": null,
      "metadata": {
        "colab": {
          "base_uri": "https://localhost:8080/"
        },
        "id": "uK33cLMahyvf",
        "outputId": "b220abfe-30e3-46af-bf2f-51fbc92ccb3f"
      },
      "outputs": [
        {
          "name": "stdout",
          "output_type": "stream",
          "text": [
            "2.49e+06\n",
            "1.06e+13\n",
            "3.26e+06\n"
          ]
        }
      ],
      "source": [
        "print(MAE(y_true, y_pred))\n",
        "print(MSE(y_true, y_pred))\n",
        "print(RMSE(y_true, y_pred))"
      ]
    },
    {
      "cell_type": "markdown",
      "metadata": {
        "id": "8MHydyfQjAwX"
      },
      "source": [
        "# **GRU FIT**"
      ]
    },
    {
      "cell_type": "code",
      "execution_count": null,
      "metadata": {
        "id": "6Q8sd2hTif3Y"
      },
      "outputs": [],
      "source": [
        "model = Sequential()\n",
        "model.add(InputLayer(input_shape=(X_train.shape[1],1)))\n",
        "model.add(GRU(units=128))\n",
        "model.add(Dropout(0.5))\n",
        "model.add(Dense(units=1))"
      ]
    },
    {
      "cell_type": "code",
      "execution_count": null,
      "metadata": {
        "id": "2xwwKln1jPWu"
      },
      "outputs": [],
      "source": [
        "model.compile(loss='mean_squared_error', optimizer='adam')"
      ]
    },
    {
      "cell_type": "code",
      "execution_count": null,
      "metadata": {
        "colab": {
          "base_uri": "https://localhost:8080/"
        },
        "id": "rGRHR9RzjQcu",
        "outputId": "0ca43936-9c66-43d7-880c-7b5f63a7a07d"
      },
      "outputs": [
        {
          "name": "stdout",
          "output_type": "stream",
          "text": [
            "Epoch 1/50\n",
            "33/33 [==============================] - 2s 25ms/step - loss: 0.0011 - val_loss: 0.0087\n",
            "Epoch 2/50\n",
            "33/33 [==============================] - 0s 9ms/step - loss: 1.3379e-04 - val_loss: 0.0016\n",
            "Epoch 3/50\n",
            "33/33 [==============================] - 0s 10ms/step - loss: 1.0113e-04 - val_loss: 0.0011\n",
            "Epoch 4/50\n",
            "33/33 [==============================] - 0s 9ms/step - loss: 1.0543e-04 - val_loss: 8.3735e-04\n",
            "Epoch 5/50\n",
            "33/33 [==============================] - 0s 9ms/step - loss: 8.9554e-05 - val_loss: 0.0013\n",
            "Epoch 6/50\n",
            "33/33 [==============================] - 0s 9ms/step - loss: 8.8060e-05 - val_loss: 6.6024e-04\n",
            "Epoch 7/50\n",
            "33/33 [==============================] - 0s 9ms/step - loss: 7.2851e-05 - val_loss: 0.0018\n",
            "Epoch 8/50\n",
            "33/33 [==============================] - 0s 9ms/step - loss: 7.1220e-05 - val_loss: 6.1148e-04\n",
            "Epoch 9/50\n",
            "33/33 [==============================] - 0s 9ms/step - loss: 6.0231e-05 - val_loss: 5.6156e-04\n",
            "Epoch 10/50\n",
            "33/33 [==============================] - 0s 9ms/step - loss: 5.9150e-05 - val_loss: 6.3271e-04\n",
            "Epoch 11/50\n",
            "33/33 [==============================] - 0s 9ms/step - loss: 5.5040e-05 - val_loss: 4.5407e-04\n",
            "Epoch 12/50\n",
            "33/33 [==============================] - 0s 9ms/step - loss: 5.4292e-05 - val_loss: 4.4936e-04\n",
            "Epoch 13/50\n",
            "33/33 [==============================] - 0s 10ms/step - loss: 4.6879e-05 - val_loss: 3.7731e-04\n",
            "Epoch 14/50\n",
            "33/33 [==============================] - 0s 11ms/step - loss: 5.0080e-05 - val_loss: 3.7068e-04\n",
            "Epoch 15/50\n",
            "33/33 [==============================] - 0s 11ms/step - loss: 4.1523e-05 - val_loss: 3.6518e-04\n",
            "Epoch 16/50\n",
            "33/33 [==============================] - 0s 9ms/step - loss: 4.2282e-05 - val_loss: 5.0315e-04\n",
            "Epoch 17/50\n",
            "33/33 [==============================] - 0s 10ms/step - loss: 4.1060e-05 - val_loss: 2.9168e-04\n",
            "Epoch 18/50\n",
            "33/33 [==============================] - 0s 9ms/step - loss: 4.2537e-05 - val_loss: 3.6221e-04\n",
            "Epoch 19/50\n",
            "33/33 [==============================] - 0s 9ms/step - loss: 3.5207e-05 - val_loss: 2.1740e-04\n",
            "Epoch 20/50\n",
            "33/33 [==============================] - 0s 9ms/step - loss: 3.4378e-05 - val_loss: 2.3719e-04\n",
            "Epoch 21/50\n",
            "33/33 [==============================] - 0s 10ms/step - loss: 3.3495e-05 - val_loss: 2.0223e-04\n",
            "Epoch 22/50\n",
            "33/33 [==============================] - 0s 9ms/step - loss: 3.4339e-05 - val_loss: 2.3867e-04\n",
            "Epoch 23/50\n",
            "33/33 [==============================] - 0s 9ms/step - loss: 3.7696e-05 - val_loss: 1.8443e-04\n",
            "Epoch 24/50\n",
            "33/33 [==============================] - 0s 9ms/step - loss: 2.9992e-05 - val_loss: 3.9567e-04\n",
            "Epoch 25/50\n",
            "33/33 [==============================] - 0s 9ms/step - loss: 2.8523e-05 - val_loss: 6.5698e-04\n",
            "Epoch 26/50\n",
            "33/33 [==============================] - 0s 10ms/step - loss: 3.1563e-05 - val_loss: 1.6634e-04\n",
            "Epoch 27/50\n",
            "33/33 [==============================] - 0s 10ms/step - loss: 2.3321e-05 - val_loss: 1.4506e-04\n",
            "Epoch 28/50\n",
            "33/33 [==============================] - 0s 11ms/step - loss: 2.7864e-05 - val_loss: 1.8219e-04\n",
            "Epoch 29/50\n",
            "33/33 [==============================] - 0s 10ms/step - loss: 2.1188e-05 - val_loss: 1.5321e-04\n",
            "Epoch 30/50\n",
            "33/33 [==============================] - 0s 10ms/step - loss: 2.2828e-05 - val_loss: 1.8454e-04\n",
            "Epoch 31/50\n",
            "33/33 [==============================] - 0s 9ms/step - loss: 2.2879e-05 - val_loss: 1.7281e-04\n",
            "Epoch 32/50\n",
            "33/33 [==============================] - 0s 10ms/step - loss: 2.2454e-05 - val_loss: 1.1840e-04\n",
            "Epoch 33/50\n",
            "33/33 [==============================] - 0s 10ms/step - loss: 2.6494e-05 - val_loss: 2.7259e-04\n",
            "Epoch 34/50\n",
            "33/33 [==============================] - 0s 10ms/step - loss: 2.2716e-05 - val_loss: 1.2743e-04\n",
            "Epoch 35/50\n",
            "33/33 [==============================] - 0s 10ms/step - loss: 2.3421e-05 - val_loss: 1.2817e-04\n",
            "Epoch 36/50\n",
            "33/33 [==============================] - 0s 10ms/step - loss: 2.0603e-05 - val_loss: 1.2368e-04\n",
            "Epoch 37/50\n",
            "33/33 [==============================] - 0s 9ms/step - loss: 2.1666e-05 - val_loss: 1.2275e-04\n",
            "Epoch 38/50\n",
            "33/33 [==============================] - 0s 10ms/step - loss: 2.2336e-05 - val_loss: 1.9793e-04\n",
            "Epoch 39/50\n",
            "33/33 [==============================] - 0s 10ms/step - loss: 2.5260e-05 - val_loss: 1.8495e-04\n",
            "Epoch 40/50\n",
            "33/33 [==============================] - 0s 10ms/step - loss: 2.0655e-05 - val_loss: 1.7428e-04\n",
            "Epoch 41/50\n",
            "33/33 [==============================] - 0s 10ms/step - loss: 2.1418e-05 - val_loss: 1.3686e-04\n",
            "Epoch 42/50\n",
            "33/33 [==============================] - 0s 9ms/step - loss: 2.4214e-05 - val_loss: 1.1200e-04\n",
            "Epoch 43/50\n",
            "33/33 [==============================] - 0s 10ms/step - loss: 2.1435e-05 - val_loss: 9.0671e-05\n",
            "Epoch 44/50\n",
            "33/33 [==============================] - 0s 9ms/step - loss: 1.9319e-05 - val_loss: 9.0354e-05\n",
            "Epoch 45/50\n",
            "33/33 [==============================] - 0s 11ms/step - loss: 1.9772e-05 - val_loss: 2.6571e-04\n",
            "Epoch 46/50\n",
            "33/33 [==============================] - 0s 9ms/step - loss: 1.9357e-05 - val_loss: 2.0598e-04\n",
            "Epoch 47/50\n",
            "33/33 [==============================] - 0s 9ms/step - loss: 1.8495e-05 - val_loss: 2.1652e-04\n",
            "Epoch 48/50\n",
            "33/33 [==============================] - 0s 10ms/step - loss: 2.1767e-05 - val_loss: 9.4618e-05\n",
            "Epoch 49/50\n",
            "33/33 [==============================] - 0s 11ms/step - loss: 2.2601e-05 - val_loss: 1.8703e-04\n",
            "Epoch 50/50\n",
            "33/33 [==============================] - 0s 10ms/step - loss: 2.4222e-05 - val_loss: 9.1941e-05\n"
          ]
        },
        {
          "data": {
            "text/plain": [
              "<keras.callbacks.History at 0x7f71f6793510>"
            ]
          },
          "execution_count": 31,
          "metadata": {},
          "output_type": "execute_result"
        }
      ],
      "source": [
        "model.fit(X_train,y_train,batch_size=30,epochs=50,validation_split=0.2)"
      ]
    },
    {
      "cell_type": "code",
      "execution_count": null,
      "metadata": {
        "id": "DwmfV9oajSmU"
      },
      "outputs": [],
      "source": [
        "preds = model.predict(X_test)\n",
        "preds = scaler.inverse_transform(preds.reshape(-1,1))\n",
        "preds_series = np.hstack([mydf['open'][:-len(preds)], preds.squeeze(1)])"
      ]
    },
    {
      "cell_type": "code",
      "execution_count": null,
      "metadata": {
        "colab": {
          "base_uri": "https://localhost:8080/",
          "height": 607
        },
        "id": "fNQLdzRTjYhJ",
        "outputId": "b3bed00e-e157-4586-fd66-fe3bff8fea88"
      },
      "outputs": [
        {
          "data": {
            "image/png": "[encoded data removed]",
            "text/plain": [
              "<Figure size 1080x720 with 1 Axes>"
            ]
          },
          "metadata": {},
          "output_type": "display_data"
        }
      ],
      "source": [
        "plt.plot(preds_series, label='prediction')\n",
        "plt.plot(mydf['open'], label='true')\n",
        "plt.axvline(x=len(mydf['open'])-len(preds), color='r')\n",
        "plt.legend()\n",
        "plt.title('GRU FIT')\n",
        "plt.show()"
      ]
    },
    {
      "cell_type": "code",
      "execution_count": null,
      "metadata": {
        "id": "cDEWlqzajg4x"
      },
      "outputs": [],
      "source": [
        "y_true = mydf['open'][-len(preds):]\n",
        "y_pred = preds.squeeze(1)"
      ]
    },
    {
      "cell_type": "code",
      "execution_count": null,
      "metadata": {
        "colab": {
          "base_uri": "https://localhost:8080/"
        },
        "id": "N6QSEE3DjjGN",
        "outputId": "fec59fab-43f0-4c12-a1c6-1882683a0723"
      },
      "outputs": [
        {
          "name": "stdout",
          "output_type": "stream",
          "text": [
            "2.60e+06\n",
            "1.11e+13\n",
            "3.33e+06\n"
          ]
        }
      ],
      "source": [
        "print(MAE(y_true, y_pred))\n",
        "print(MSE(y_true, y_pred))\n",
        "print(RMSE(y_true, y_pred))"
      ]
    },
    {
      "cell_type": "markdown",
      "metadata": {
        "id": "NRbNy4VEjmhu"
      },
      "source": [
        "# **LSTM FIT**"
      ]
    },
    {
      "cell_type": "code",
      "execution_count": null,
      "metadata": {
        "id": "OxUnEOztjlWI"
      },
      "outputs": [],
      "source": [
        "model = Sequential()\n",
        "model.add(InputLayer(input_shape=(X_train.shape[1],1)))\n",
        "model.add(LSTM(units=128))\n",
        "model.add(Dropout(0.5))\n",
        "model.add(Dense(units=1))"
      ]
    },
    {
      "cell_type": "code",
      "execution_count": null,
      "metadata": {
        "id": "fCHbuNcZjqPP"
      },
      "outputs": [],
      "source": [
        "model.compile(loss='mean_squared_error', optimizer='adam')"
      ]
    },
    {
      "cell_type": "code",
      "execution_count": null,
      "metadata": {
        "colab": {
          "base_uri": "https://localhost:8080/"
        },
        "id": "ychVfF4ljrZd",
        "outputId": "65d684b8-fdbc-4140-d492-5fb5173cce16"
      },
      "outputs": [
        {
          "name": "stdout",
          "output_type": "stream",
          "text": [
            "Epoch 1/50\n",
            "33/33 [==============================] - 2s 26ms/step - loss: 9.8300e-04 - val_loss: 0.0095\n",
            "Epoch 2/50\n",
            "33/33 [==============================] - 0s 10ms/step - loss: 1.6659e-04 - val_loss: 0.0026\n",
            "Epoch 3/50\n",
            "33/33 [==============================] - 0s 11ms/step - loss: 1.3658e-04 - val_loss: 0.0025\n",
            "Epoch 4/50\n",
            "33/33 [==============================] - 0s 10ms/step - loss: 1.2158e-04 - val_loss: 0.0022\n",
            "Epoch 5/50\n",
            "33/33 [==============================] - 0s 11ms/step - loss: 1.0655e-04 - val_loss: 0.0018\n",
            "Epoch 6/50\n",
            "33/33 [==============================] - 0s 10ms/step - loss: 8.6816e-05 - val_loss: 0.0019\n",
            "Epoch 7/50\n",
            "33/33 [==============================] - 0s 10ms/step - loss: 8.9642e-05 - val_loss: 0.0015\n",
            "Epoch 8/50\n",
            "33/33 [==============================] - 0s 10ms/step - loss: 9.3072e-05 - val_loss: 0.0023\n",
            "Epoch 9/50\n",
            "33/33 [==============================] - 0s 11ms/step - loss: 8.8148e-05 - val_loss: 0.0017\n",
            "Epoch 10/50\n",
            "33/33 [==============================] - 0s 11ms/step - loss: 6.8506e-05 - val_loss: 0.0013\n",
            "Epoch 11/50\n",
            "33/33 [==============================] - 0s 10ms/step - loss: 6.0207e-05 - val_loss: 0.0014\n",
            "Epoch 12/50\n",
            "33/33 [==============================] - 0s 10ms/step - loss: 6.5153e-05 - val_loss: 0.0011\n",
            "Epoch 13/50\n",
            "33/33 [==============================] - 0s 10ms/step - loss: 6.3964e-05 - val_loss: 0.0015\n",
            "Epoch 14/50\n",
            "33/33 [==============================] - 0s 10ms/step - loss: 5.4413e-05 - val_loss: 0.0011\n",
            "Epoch 15/50\n",
            "33/33 [==============================] - 0s 10ms/step - loss: 4.7386e-05 - val_loss: 0.0021\n",
            "Epoch 16/50\n",
            "33/33 [==============================] - 0s 10ms/step - loss: 5.6046e-05 - val_loss: 7.7654e-04\n",
            "Epoch 17/50\n",
            "33/33 [==============================] - 0s 10ms/step - loss: 4.3538e-05 - val_loss: 7.7776e-04\n",
            "Epoch 18/50\n",
            "33/33 [==============================] - 0s 10ms/step - loss: 4.6170e-05 - val_loss: 7.7497e-04\n",
            "Epoch 19/50\n",
            "33/33 [==============================] - 0s 10ms/step - loss: 4.7074e-05 - val_loss: 8.6019e-04\n",
            "Epoch 20/50\n",
            "33/33 [==============================] - 0s 11ms/step - loss: 3.7285e-05 - val_loss: 8.0010e-04\n",
            "Epoch 21/50\n",
            "33/33 [==============================] - 0s 11ms/step - loss: 4.4380e-05 - val_loss: 9.3734e-04\n",
            "Epoch 22/50\n",
            "33/33 [==============================] - 0s 11ms/step - loss: 4.4826e-05 - val_loss: 6.2996e-04\n",
            "Epoch 23/50\n",
            "33/33 [==============================] - 0s 10ms/step - loss: 3.6315e-05 - val_loss: 0.0010\n",
            "Epoch 24/50\n",
            "33/33 [==============================] - 0s 10ms/step - loss: 3.7204e-05 - val_loss: 8.8167e-04\n",
            "Epoch 25/50\n",
            "33/33 [==============================] - 0s 11ms/step - loss: 3.1488e-05 - val_loss: 9.7359e-04\n",
            "Epoch 26/50\n",
            "33/33 [==============================] - 0s 10ms/step - loss: 3.7196e-05 - val_loss: 5.3264e-04\n",
            "Epoch 27/50\n",
            "33/33 [==============================] - 0s 10ms/step - loss: 3.7720e-05 - val_loss: 4.9225e-04\n",
            "Epoch 28/50\n",
            "33/33 [==============================] - 0s 11ms/step - loss: 3.2251e-05 - val_loss: 5.6023e-04\n",
            "Epoch 29/50\n",
            "33/33 [==============================] - 0s 10ms/step - loss: 3.2392e-05 - val_loss: 4.3164e-04\n",
            "Epoch 30/50\n",
            "33/33 [==============================] - 0s 10ms/step - loss: 2.8705e-05 - val_loss: 5.0948e-04\n",
            "Epoch 31/50\n",
            "33/33 [==============================] - 0s 10ms/step - loss: 2.5855e-05 - val_loss: 0.0011\n",
            "Epoch 32/50\n",
            "33/33 [==============================] - 0s 10ms/step - loss: 3.0554e-05 - val_loss: 4.1307e-04\n",
            "Epoch 33/50\n",
            "33/33 [==============================] - 0s 10ms/step - loss: 2.9977e-05 - val_loss: 9.3294e-04\n",
            "Epoch 34/50\n",
            "33/33 [==============================] - 0s 11ms/step - loss: 2.7988e-05 - val_loss: 8.3779e-04\n",
            "Epoch 35/50\n",
            "33/33 [==============================] - 0s 10ms/step - loss: 2.7601e-05 - val_loss: 5.2332e-04\n",
            "Epoch 36/50\n",
            "33/33 [==============================] - 0s 10ms/step - loss: 2.8763e-05 - val_loss: 7.7906e-04\n",
            "Epoch 37/50\n",
            "33/33 [==============================] - 0s 10ms/step - loss: 2.5511e-05 - val_loss: 3.8684e-04\n",
            "Epoch 38/50\n",
            "33/33 [==============================] - 0s 10ms/step - loss: 2.4147e-05 - val_loss: 3.2855e-04\n",
            "Epoch 39/50\n",
            "33/33 [==============================] - 0s 10ms/step - loss: 2.5562e-05 - val_loss: 3.1704e-04\n",
            "Epoch 40/50\n",
            "33/33 [==============================] - 0s 11ms/step - loss: 2.6278e-05 - val_loss: 4.3657e-04\n",
            "Epoch 41/50\n",
            "33/33 [==============================] - 0s 11ms/step - loss: 2.5802e-05 - val_loss: 8.5151e-04\n",
            "Epoch 42/50\n",
            "33/33 [==============================] - 0s 10ms/step - loss: 2.6480e-05 - val_loss: 5.5150e-04\n",
            "Epoch 43/50\n",
            "33/33 [==============================] - 0s 10ms/step - loss: 2.3418e-05 - val_loss: 6.3287e-04\n",
            "Epoch 44/50\n",
            "33/33 [==============================] - 0s 10ms/step - loss: 2.4596e-05 - val_loss: 5.2484e-04\n",
            "Epoch 45/50\n",
            "33/33 [==============================] - 0s 10ms/step - loss: 3.0106e-05 - val_loss: 0.0013\n",
            "Epoch 46/50\n",
            "33/33 [==============================] - 0s 10ms/step - loss: 2.2214e-05 - val_loss: 3.1929e-04\n",
            "Epoch 47/50\n",
            "33/33 [==============================] - 0s 10ms/step - loss: 2.0912e-05 - val_loss: 9.1911e-04\n",
            "Epoch 48/50\n",
            "33/33 [==============================] - 0s 10ms/step - loss: 2.1729e-05 - val_loss: 2.5868e-04\n",
            "Epoch 49/50\n",
            "33/33 [==============================] - 0s 10ms/step - loss: 2.2813e-05 - val_loss: 3.3780e-04\n",
            "Epoch 50/50\n",
            "33/33 [==============================] - 0s 11ms/step - loss: 2.3081e-05 - val_loss: 2.1955e-04\n"
          ]
        },
        {
          "data": {
            "text/plain": [
              "<keras.callbacks.History at 0x7f71d025ab90>"
            ]
          },
          "execution_count": 38,
          "metadata": {},
          "output_type": "execute_result"
        }
      ],
      "source": [
        "model.fit(X_train,y_train,batch_size=30,epochs=50,validation_split=0.2)"
      ]
    },
    {
      "cell_type": "code",
      "execution_count": null,
      "metadata": {
        "id": "ArrEKiHMjwWW"
      },
      "outputs": [],
      "source": [
        "preds = model.predict(X_test)\n",
        "preds = scaler.inverse_transform(preds.reshape(-1,1))\n",
        "preds_series = np.hstack([mydf['open'][:-len(preds)], preds.squeeze(1)])"
      ]
    },
    {
      "cell_type": "code",
      "execution_count": null,
      "metadata": {
        "colab": {
          "base_uri": "https://localhost:8080/",
          "height": 607
        },
        "id": "8TIjOT_oj9io",
        "outputId": "bf07b45d-d90d-4ec0-c525-3520e7726100"
      },
      "outputs": [
        {
          "data": {
            "image/png": "[encoded data removed]",
            "text/plain": [
              "<Figure size 1080x720 with 1 Axes>"
            ]
          },
          "metadata": {},
          "output_type": "display_data"
        }
      ],
      "source": [
        "plt.plot(preds_series, label='prediction')\n",
        "plt.plot(mydf['open'], label='true')\n",
        "plt.axvline(x=len(mydf['open'])-len(preds), color='r')\n",
        "plt.legend()\n",
        "plt.title('LSTM FIT')\n",
        "plt.show()\n"
      ]
    },
    {
      "cell_type": "code",
      "execution_count": null,
      "metadata": {
        "id": "58MWLTeNj--A"
      },
      "outputs": [],
      "source": [
        "y_true = mydf['open'][-len(preds):]\n",
        "y_pred = preds.squeeze(1)"
      ]
    },
    {
      "cell_type": "code",
      "execution_count": null,
      "metadata": {
        "colab": {
          "base_uri": "https://localhost:8080/"
        },
        "id": "qE6GmV79kBi7",
        "outputId": "70819779-acb1-4e33-f4bd-9c81de918e6f"
      },
      "outputs": [
        {
          "name": "stdout",
          "output_type": "stream",
          "text": [
            "2.81e+06\n",
            "1.28e+13\n",
            "3.58e+06\n"
          ]
        }
      ],
      "source": [
        "print(MAE(y_true, y_pred))\n",
        "print(MSE(y_true, y_pred))\n",
        "print(RMSE(y_true, y_pred))"
      ]
    },
    {
      "cell_type": "code",
      "execution_count": null,
      "metadata": {
        "id": "O2NRJqCbkCAZ"
      },
      "outputs": [],
      "source": [
        ""
      ]
    }
  ],
  "metadata": {
    "accelerator": "GPU",
    "colab": {
      "collapsed_sections": [],
      "name": "Adaboost-GRU_4 models.ipynb",
      "provenance": [],
      "authorship_tag": "ABX9TyN643HfZPGSPHORmRkgrdxT",
      "include_colab_link": true
    },
    "kernelspec": {
      "display_name": "Python 3",
      "name": "python3"
    },
    "language_info": {
      "name": "python"
    }
  },
  "nbformat": 4,
  "nbformat_minor": 0
}