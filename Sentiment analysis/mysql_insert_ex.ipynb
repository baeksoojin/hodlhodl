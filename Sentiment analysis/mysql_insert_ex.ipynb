{
  "nbformat": 4,
  "nbformat_minor": 0,
  "metadata": {
    "colab": {
      "name": "mysql_insert_ex.ipynb",
      "provenance": [],
      "collapsed_sections": [],
      "authorship_tag": "ABX9TyN74KD7n5KBmpHN/MM609aN",
      "include_colab_link": true
    },
    "kernelspec": {
      "name": "python3",
      "display_name": "Python 3"
    },
    "language_info": {
      "name": "python"
    }
  },
  "cells": [
    {
      "cell_type": "markdown",
      "metadata": {
        "id": "view-in-github",
        "colab_type": "text"
      },
      "source": [
        "<a href=\"https://colab.research.google.com/github/sujin-create/hodlhodl/blob/Sentiment-analysis/Sentiment%20analysis/mysql_insert_ex.ipynb\" target=\"_parent\"><img src=\"https://colab.research.google.com/assets/colab-badge.svg\" alt=\"Open In Colab\"/></a>"
      ]
    },
    {
      "cell_type": "code",
      "source": [
        "!pip install pymysql\n",
        "!pip install matplotlib\n",
        "!pip install seaborn\n"
      ],
      "metadata": {
        "colab": {
          "base_uri": "https://localhost:8080/"
        },
        "id": "pYjXhsw6oQU7",
        "outputId": "172cc60f-a9bc-434f-9729-4787eb48bce4"
      },
      "execution_count": null,
      "outputs": [
        {
          "output_type": "stream",
          "name": "stdout",
          "text": [
            "Collecting pymysql\n",
            "  Downloading PyMySQL-1.0.2-py3-none-any.whl (43 kB)\n",
            "\u001b[?25l\r\u001b[K     |███████▌                        | 10 kB 18.6 MB/s eta 0:00:01\r\u001b[K     |███████████████                 | 20 kB 8.7 MB/s eta 0:00:01\r\u001b[K     |██████████████████████▍         | 30 kB 7.7 MB/s eta 0:00:01\r\u001b[K     |██████████████████████████████  | 40 kB 4.3 MB/s eta 0:00:01\r\u001b[K     |████████████████████████████████| 43 kB 856 kB/s \n",
            "\u001b[?25hInstalling collected packages: pymysql\n",
            "Successfully installed pymysql-1.0.2\n",
            "Requirement already satisfied: matplotlib in /usr/local/lib/python3.7/dist-packages (3.2.2)\n",
            "Requirement already satisfied: kiwisolver>=1.0.1 in /usr/local/lib/python3.7/dist-packages (from matplotlib) (1.4.2)\n",
            "Requirement already satisfied: python-dateutil>=2.1 in /usr/local/lib/python3.7/dist-packages (from matplotlib) (2.8.2)\n",
            "Requirement already satisfied: pyparsing!=2.0.4,!=2.1.2,!=2.1.6,>=2.0.1 in /usr/local/lib/python3.7/dist-packages (from matplotlib) (3.0.8)\n",
            "Requirement already satisfied: cycler>=0.10 in /usr/local/lib/python3.7/dist-packages (from matplotlib) (0.11.0)\n",
            "Requirement already satisfied: numpy>=1.11 in /usr/local/lib/python3.7/dist-packages (from matplotlib) (1.21.6)\n",
            "Requirement already satisfied: typing-extensions in /usr/local/lib/python3.7/dist-packages (from kiwisolver>=1.0.1->matplotlib) (4.2.0)\n",
            "Requirement already satisfied: six>=1.5 in /usr/local/lib/python3.7/dist-packages (from python-dateutil>=2.1->matplotlib) (1.15.0)\n",
            "Requirement already satisfied: seaborn in /usr/local/lib/python3.7/dist-packages (0.11.2)\n",
            "Requirement already satisfied: scipy>=1.0 in /usr/local/lib/python3.7/dist-packages (from seaborn) (1.4.1)\n",
            "Requirement already satisfied: pandas>=0.23 in /usr/local/lib/python3.7/dist-packages (from seaborn) (1.3.5)\n",
            "Requirement already satisfied: matplotlib>=2.2 in /usr/local/lib/python3.7/dist-packages (from seaborn) (3.2.2)\n",
            "Requirement already satisfied: numpy>=1.15 in /usr/local/lib/python3.7/dist-packages (from seaborn) (1.21.6)\n",
            "Requirement already satisfied: pyparsing!=2.0.4,!=2.1.2,!=2.1.6,>=2.0.1 in /usr/local/lib/python3.7/dist-packages (from matplotlib>=2.2->seaborn) (3.0.8)\n",
            "Requirement already satisfied: python-dateutil>=2.1 in /usr/local/lib/python3.7/dist-packages (from matplotlib>=2.2->seaborn) (2.8.2)\n",
            "Requirement already satisfied: cycler>=0.10 in /usr/local/lib/python3.7/dist-packages (from matplotlib>=2.2->seaborn) (0.11.0)\n",
            "Requirement already satisfied: kiwisolver>=1.0.1 in /usr/local/lib/python3.7/dist-packages (from matplotlib>=2.2->seaborn) (1.4.2)\n",
            "Requirement already satisfied: typing-extensions in /usr/local/lib/python3.7/dist-packages (from kiwisolver>=1.0.1->matplotlib>=2.2->seaborn) (4.2.0)\n",
            "Requirement already satisfied: pytz>=2017.3 in /usr/local/lib/python3.7/dist-packages (from pandas>=0.23->seaborn) (2022.1)\n",
            "Requirement already satisfied: six>=1.5 in /usr/local/lib/python3.7/dist-packages (from python-dateutil>=2.1->matplotlib>=2.2->seaborn) (1.15.0)\n"
          ]
        }
      ]
    },
    {
      "cell_type": "code",
      "execution_count": null,
      "metadata": {
        "id": "GIcG5D8moJjc"
      },
      "outputs": [],
      "source": [
        "import pandas as pd \n",
        "import pymysql \n",
        "import matplotlib.pyplot as plt \n",
        "%matplotlib inline \n",
        "import seaborn as sns \n",
        "sns.set()"
      ]
    },
    {
      "cell_type": "markdown",
      "source": [
        "제공받은 csv파일을 이용한 mysql db저장 예제 코드"
      ],
      "metadata": {
        "id": "9r1dXIZMPqLd"
      }
    },
    {
      "cell_type": "code",
      "source": [
        "crawling_data = pd.read_csv('2022-05-06_result.csv')"
      ],
      "metadata": {
        "id": "zKsdECQ2qop_"
      },
      "execution_count": null,
      "outputs": []
    },
    {
      "cell_type": "code",
      "source": [
        "crawling_data.head(10) #10개 뽑아보기 -> k값은 수정예정"
      ],
      "metadata": {
        "colab": {
          "base_uri": "https://localhost:8080/",
          "height": 598
        },
        "id": "naNUnf9b09E8",
        "outputId": "a8c7a4ea-42a8-4631-e4b4-d6d20b937a78"
      },
      "execution_count": null,
      "outputs": [
        {
          "output_type": "execute_result",
          "data": {
            "text/plain": [
              "   Unnamed: 0        date                                           comments  \\\n",
              "0           0  2022-05-06  If I go out and buy a $5 wrench and attack mys...   \n",
              "1           1  2022-05-06  Please remain seated, seatbelts on, we are exp...   \n",
              "2           2  2022-05-06                                 Didn’t sell a sat.   \n",
              "3           3  2022-05-06   Holding and bought some extra on top of my dca 🤑   \n",
              "4           4  2022-05-06  I've been waiting for BTC to drop, yesterday l...   \n",
              "5           5  2022-05-06            jobs report is positive, why we dumping   \n",
              "6           6  2022-05-06  Not sure about anyone else, but I couldn't car...   \n",
              "7           7  2022-05-06  If you just buy now and hold until at least th...   \n",
              "8           8  2022-05-06  Any other year, BTC would be at like $8k right...   \n",
              "9           9  2022-05-06  Unemployment report out in 15 mins.  That’ll p...   \n",
              "\n",
              "  sentiment  K_weight  \n",
              "0  negative -0.163366  \n",
              "1   neutral -0.163366  \n",
              "2  negative -0.163366  \n",
              "3  positive -0.163366  \n",
              "4   neutral -0.163366  \n",
              "5   neutral -0.163366  \n",
              "6  negative -0.163366  \n",
              "7  negative -0.163366  \n",
              "8   neutral -0.163366  \n",
              "9  negative -0.163366  "
            ],
            "text/html": [
              "\n",
              "  <div id=\"df-6afc3bd3-e1d7-49fb-8372-36f2055b6664\">\n",
              "    <div class=\"colab-df-container\">\n",
              "      <div>\n",
              "<style scoped>\n",
              "    .dataframe tbody tr th:only-of-type {\n",
              "        vertical-align: middle;\n",
              "    }\n",
              "\n",
              "    .dataframe tbody tr th {\n",
              "        vertical-align: top;\n",
              "    }\n",
              "\n",
              "    .dataframe thead th {\n",
              "        text-align: right;\n",
              "    }\n",
              "</style>\n",
              "<table border=\"1\" class=\"dataframe\">\n",
              "  <thead>\n",
              "    <tr style=\"text-align: right;\">\n",
              "      <th></th>\n",
              "      <th>Unnamed: 0</th>\n",
              "      <th>date</th>\n",
              "      <th>comments</th>\n",
              "      <th>sentiment</th>\n",
              "      <th>K_weight</th>\n",
              "    </tr>\n",
              "  </thead>\n",
              "  <tbody>\n",
              "    <tr>\n",
              "      <th>0</th>\n",
              "      <td>0</td>\n",
              "      <td>2022-05-06</td>\n",
              "      <td>If I go out and buy a $5 wrench and attack mys...</td>\n",
              "      <td>negative</td>\n",
              "      <td>-0.163366</td>\n",
              "    </tr>\n",
              "    <tr>\n",
              "      <th>1</th>\n",
              "      <td>1</td>\n",
              "      <td>2022-05-06</td>\n",
              "      <td>Please remain seated, seatbelts on, we are exp...</td>\n",
              "      <td>neutral</td>\n",
              "      <td>-0.163366</td>\n",
              "    </tr>\n",
              "    <tr>\n",
              "      <th>2</th>\n",
              "      <td>2</td>\n",
              "      <td>2022-05-06</td>\n",
              "      <td>Didn’t sell a sat.</td>\n",
              "      <td>negative</td>\n",
              "      <td>-0.163366</td>\n",
              "    </tr>\n",
              "    <tr>\n",
              "      <th>3</th>\n",
              "      <td>3</td>\n",
              "      <td>2022-05-06</td>\n",
              "      <td>Holding and bought some extra on top of my dca 🤑</td>\n",
              "      <td>positive</td>\n",
              "      <td>-0.163366</td>\n",
              "    </tr>\n",
              "    <tr>\n",
              "      <th>4</th>\n",
              "      <td>4</td>\n",
              "      <td>2022-05-06</td>\n",
              "      <td>I've been waiting for BTC to drop, yesterday l...</td>\n",
              "      <td>neutral</td>\n",
              "      <td>-0.163366</td>\n",
              "    </tr>\n",
              "    <tr>\n",
              "      <th>5</th>\n",
              "      <td>5</td>\n",
              "      <td>2022-05-06</td>\n",
              "      <td>jobs report is positive, why we dumping</td>\n",
              "      <td>neutral</td>\n",
              "      <td>-0.163366</td>\n",
              "    </tr>\n",
              "    <tr>\n",
              "      <th>6</th>\n",
              "      <td>6</td>\n",
              "      <td>2022-05-06</td>\n",
              "      <td>Not sure about anyone else, but I couldn't car...</td>\n",
              "      <td>negative</td>\n",
              "      <td>-0.163366</td>\n",
              "    </tr>\n",
              "    <tr>\n",
              "      <th>7</th>\n",
              "      <td>7</td>\n",
              "      <td>2022-05-06</td>\n",
              "      <td>If you just buy now and hold until at least th...</td>\n",
              "      <td>negative</td>\n",
              "      <td>-0.163366</td>\n",
              "    </tr>\n",
              "    <tr>\n",
              "      <th>8</th>\n",
              "      <td>8</td>\n",
              "      <td>2022-05-06</td>\n",
              "      <td>Any other year, BTC would be at like $8k right...</td>\n",
              "      <td>neutral</td>\n",
              "      <td>-0.163366</td>\n",
              "    </tr>\n",
              "    <tr>\n",
              "      <th>9</th>\n",
              "      <td>9</td>\n",
              "      <td>2022-05-06</td>\n",
              "      <td>Unemployment report out in 15 mins.  That’ll p...</td>\n",
              "      <td>negative</td>\n",
              "      <td>-0.163366</td>\n",
              "    </tr>\n",
              "  </tbody>\n",
              "</table>\n",
              "</div>\n",
              "      <button class=\"colab-df-convert\" onclick=\"convertToInteractive('df-6afc3bd3-e1d7-49fb-8372-36f2055b6664')\"\n",
              "              title=\"Convert this dataframe to an interactive table.\"\n",
              "              style=\"display:none;\">\n",
              "        \n",
              "  <svg xmlns=\"http://www.w3.org/2000/svg\" height=\"24px\"viewBox=\"0 0 24 24\"\n",
              "       width=\"24px\">\n",
              "    <path d=\"M0 0h24v24H0V0z\" fill=\"none\"/>\n",
              "    <path d=\"M18.56 5.44l.94 2.06.94-2.06 2.06-.94-2.06-.94-.94-2.06-.94 2.06-2.06.94zm-11 1L8.5 8.5l.94-2.06 2.06-.94-2.06-.94L8.5 2.5l-.94 2.06-2.06.94zm10 10l.94 2.06.94-2.06 2.06-.94-2.06-.94-.94-2.06-.94 2.06-2.06.94z\"/><path d=\"M17.41 7.96l-1.37-1.37c-.4-.4-.92-.59-1.43-.59-.52 0-1.04.2-1.43.59L10.3 9.45l-7.72 7.72c-.78.78-.78 2.05 0 2.83L4 21.41c.39.39.9.59 1.41.59.51 0 1.02-.2 1.41-.59l7.78-7.78 2.81-2.81c.8-.78.8-2.07 0-2.86zM5.41 20L4 18.59l7.72-7.72 1.47 1.35L5.41 20z\"/>\n",
              "  </svg>\n",
              "      </button>\n",
              "      \n",
              "  <style>\n",
              "    .colab-df-container {\n",
              "      display:flex;\n",
              "      flex-wrap:wrap;\n",
              "      gap: 12px;\n",
              "    }\n",
              "\n",
              "    .colab-df-convert {\n",
              "      background-color: #E8F0FE;\n",
              "      border: none;\n",
              "      border-radius: 50%;\n",
              "      cursor: pointer;\n",
              "      display: none;\n",
              "      fill: #1967D2;\n",
              "      height: 32px;\n",
              "      padding: 0 0 0 0;\n",
              "      width: 32px;\n",
              "    }\n",
              "\n",
              "    .colab-df-convert:hover {\n",
              "      background-color: #E2EBFA;\n",
              "      box-shadow: 0px 1px 2px rgba(60, 64, 67, 0.3), 0px 1px 3px 1px rgba(60, 64, 67, 0.15);\n",
              "      fill: #174EA6;\n",
              "    }\n",
              "\n",
              "    [theme=dark] .colab-df-convert {\n",
              "      background-color: #3B4455;\n",
              "      fill: #D2E3FC;\n",
              "    }\n",
              "\n",
              "    [theme=dark] .colab-df-convert:hover {\n",
              "      background-color: #434B5C;\n",
              "      box-shadow: 0px 1px 3px 1px rgba(0, 0, 0, 0.15);\n",
              "      filter: drop-shadow(0px 1px 2px rgba(0, 0, 0, 0.3));\n",
              "      fill: #FFFFFF;\n",
              "    }\n",
              "  </style>\n",
              "\n",
              "      <script>\n",
              "        const buttonEl =\n",
              "          document.querySelector('#df-6afc3bd3-e1d7-49fb-8372-36f2055b6664 button.colab-df-convert');\n",
              "        buttonEl.style.display =\n",
              "          google.colab.kernel.accessAllowed ? 'block' : 'none';\n",
              "\n",
              "        async function convertToInteractive(key) {\n",
              "          const element = document.querySelector('#df-6afc3bd3-e1d7-49fb-8372-36f2055b6664');\n",
              "          const dataTable =\n",
              "            await google.colab.kernel.invokeFunction('convertToInteractive',\n",
              "                                                     [key], {});\n",
              "          if (!dataTable) return;\n",
              "\n",
              "          const docLinkHtml = 'Like what you see? Visit the ' +\n",
              "            '<a target=\"_blank\" href=https://colab.research.google.com/notebooks/data_table.ipynb>data table notebook</a>'\n",
              "            + ' to learn more about interactive tables.';\n",
              "          element.innerHTML = '';\n",
              "          dataTable['output_type'] = 'display_data';\n",
              "          await google.colab.output.renderOutput(dataTable, element);\n",
              "          const docLink = document.createElement('div');\n",
              "          docLink.innerHTML = docLinkHtml;\n",
              "          element.appendChild(docLink);\n",
              "        }\n",
              "      </script>\n",
              "    </div>\n",
              "  </div>\n",
              "  "
            ]
          },
          "metadata": {},
          "execution_count": 4
        }
      ]
    },
    {
      "cell_type": "code",
      "source": [
        "# k값을 변경할 필요가있음 -> k값을 지금은 negative성질이 강한것으로 보이니 0.6정도로 임의로 설정\n",
        "crawling_data.K_weight = 0.6\n",
        "crawling_data"
      ],
      "metadata": {
        "colab": {
          "base_uri": "https://localhost:8080/",
          "height": 658
        },
        "id": "6LD4ryJAuflA",
        "outputId": "56f8a8e2-2192-44ea-861e-7534fae8dc95"
      },
      "execution_count": null,
      "outputs": [
        {
          "output_type": "execute_result",
          "data": {
            "text/plain": [
              "     Unnamed: 0        date  \\\n",
              "0             0  2022-05-06   \n",
              "1             1  2022-05-06   \n",
              "2             2  2022-05-06   \n",
              "3             3  2022-05-06   \n",
              "4             4  2022-05-06   \n",
              "..          ...         ...   \n",
              "197         197  2022-05-06   \n",
              "198         198  2022-05-06   \n",
              "199         199  2022-05-06   \n",
              "200         200  2022-05-06   \n",
              "201         201  2022-05-06   \n",
              "\n",
              "                                              comments sentiment  K_weight  \n",
              "0    If I go out and buy a $5 wrench and attack mys...  negative       0.6  \n",
              "1    Please remain seated, seatbelts on, we are exp...   neutral       0.6  \n",
              "2                                   Didn’t sell a sat.  negative       0.6  \n",
              "3     Holding and bought some extra on top of my dca 🤑  positive       0.6  \n",
              "4    I've been waiting for BTC to drop, yesterday l...   neutral       0.6  \n",
              "..                                                 ...       ...       ...  \n",
              "197             This daily thread can be so cringe lol   neutral       0.6  \n",
              "198                             This sub in a nutshell  positive       0.6  \n",
              "199  >No it doesn't. I'm gonna buy more whatever th...   neutral       0.6  \n",
              "200  I'm not sure to be honest. For a regular Bitco...   neutral       0.6  \n",
              "201  I’ve literally never purchased one single thin...  negative       0.6  \n",
              "\n",
              "[202 rows x 5 columns]"
            ],
            "text/html": [
              "\n",
              "  <div id=\"df-6d6060c2-5e8f-46a4-88b7-c8c1f91ca15d\">\n",
              "    <div class=\"colab-df-container\">\n",
              "      <div>\n",
              "<style scoped>\n",
              "    .dataframe tbody tr th:only-of-type {\n",
              "        vertical-align: middle;\n",
              "    }\n",
              "\n",
              "    .dataframe tbody tr th {\n",
              "        vertical-align: top;\n",
              "    }\n",
              "\n",
              "    .dataframe thead th {\n",
              "        text-align: right;\n",
              "    }\n",
              "</style>\n",
              "<table border=\"1\" class=\"dataframe\">\n",
              "  <thead>\n",
              "    <tr style=\"text-align: right;\">\n",
              "      <th></th>\n",
              "      <th>Unnamed: 0</th>\n",
              "      <th>date</th>\n",
              "      <th>comments</th>\n",
              "      <th>sentiment</th>\n",
              "      <th>K_weight</th>\n",
              "    </tr>\n",
              "  </thead>\n",
              "  <tbody>\n",
              "    <tr>\n",
              "      <th>0</th>\n",
              "      <td>0</td>\n",
              "      <td>2022-05-06</td>\n",
              "      <td>If I go out and buy a $5 wrench and attack mys...</td>\n",
              "      <td>negative</td>\n",
              "      <td>0.6</td>\n",
              "    </tr>\n",
              "    <tr>\n",
              "      <th>1</th>\n",
              "      <td>1</td>\n",
              "      <td>2022-05-06</td>\n",
              "      <td>Please remain seated, seatbelts on, we are exp...</td>\n",
              "      <td>neutral</td>\n",
              "      <td>0.6</td>\n",
              "    </tr>\n",
              "    <tr>\n",
              "      <th>2</th>\n",
              "      <td>2</td>\n",
              "      <td>2022-05-06</td>\n",
              "      <td>Didn’t sell a sat.</td>\n",
              "      <td>negative</td>\n",
              "      <td>0.6</td>\n",
              "    </tr>\n",
              "    <tr>\n",
              "      <th>3</th>\n",
              "      <td>3</td>\n",
              "      <td>2022-05-06</td>\n",
              "      <td>Holding and bought some extra on top of my dca 🤑</td>\n",
              "      <td>positive</td>\n",
              "      <td>0.6</td>\n",
              "    </tr>\n",
              "    <tr>\n",
              "      <th>4</th>\n",
              "      <td>4</td>\n",
              "      <td>2022-05-06</td>\n",
              "      <td>I've been waiting for BTC to drop, yesterday l...</td>\n",
              "      <td>neutral</td>\n",
              "      <td>0.6</td>\n",
              "    </tr>\n",
              "    <tr>\n",
              "      <th>...</th>\n",
              "      <td>...</td>\n",
              "      <td>...</td>\n",
              "      <td>...</td>\n",
              "      <td>...</td>\n",
              "      <td>...</td>\n",
              "    </tr>\n",
              "    <tr>\n",
              "      <th>197</th>\n",
              "      <td>197</td>\n",
              "      <td>2022-05-06</td>\n",
              "      <td>This daily thread can be so cringe lol</td>\n",
              "      <td>neutral</td>\n",
              "      <td>0.6</td>\n",
              "    </tr>\n",
              "    <tr>\n",
              "      <th>198</th>\n",
              "      <td>198</td>\n",
              "      <td>2022-05-06</td>\n",
              "      <td>This sub in a nutshell</td>\n",
              "      <td>positive</td>\n",
              "      <td>0.6</td>\n",
              "    </tr>\n",
              "    <tr>\n",
              "      <th>199</th>\n",
              "      <td>199</td>\n",
              "      <td>2022-05-06</td>\n",
              "      <td>&gt;No it doesn't. I'm gonna buy more whatever th...</td>\n",
              "      <td>neutral</td>\n",
              "      <td>0.6</td>\n",
              "    </tr>\n",
              "    <tr>\n",
              "      <th>200</th>\n",
              "      <td>200</td>\n",
              "      <td>2022-05-06</td>\n",
              "      <td>I'm not sure to be honest. For a regular Bitco...</td>\n",
              "      <td>neutral</td>\n",
              "      <td>0.6</td>\n",
              "    </tr>\n",
              "    <tr>\n",
              "      <th>201</th>\n",
              "      <td>201</td>\n",
              "      <td>2022-05-06</td>\n",
              "      <td>I’ve literally never purchased one single thin...</td>\n",
              "      <td>negative</td>\n",
              "      <td>0.6</td>\n",
              "    </tr>\n",
              "  </tbody>\n",
              "</table>\n",
              "<p>202 rows × 5 columns</p>\n",
              "</div>\n",
              "      <button class=\"colab-df-convert\" onclick=\"convertToInteractive('df-6d6060c2-5e8f-46a4-88b7-c8c1f91ca15d')\"\n",
              "              title=\"Convert this dataframe to an interactive table.\"\n",
              "              style=\"display:none;\">\n",
              "        \n",
              "  <svg xmlns=\"http://www.w3.org/2000/svg\" height=\"24px\"viewBox=\"0 0 24 24\"\n",
              "       width=\"24px\">\n",
              "    <path d=\"M0 0h24v24H0V0z\" fill=\"none\"/>\n",
              "    <path d=\"M18.56 5.44l.94 2.06.94-2.06 2.06-.94-2.06-.94-.94-2.06-.94 2.06-2.06.94zm-11 1L8.5 8.5l.94-2.06 2.06-.94-2.06-.94L8.5 2.5l-.94 2.06-2.06.94zm10 10l.94 2.06.94-2.06 2.06-.94-2.06-.94-.94-2.06-.94 2.06-2.06.94z\"/><path d=\"M17.41 7.96l-1.37-1.37c-.4-.4-.92-.59-1.43-.59-.52 0-1.04.2-1.43.59L10.3 9.45l-7.72 7.72c-.78.78-.78 2.05 0 2.83L4 21.41c.39.39.9.59 1.41.59.51 0 1.02-.2 1.41-.59l7.78-7.78 2.81-2.81c.8-.78.8-2.07 0-2.86zM5.41 20L4 18.59l7.72-7.72 1.47 1.35L5.41 20z\"/>\n",
              "  </svg>\n",
              "      </button>\n",
              "      \n",
              "  <style>\n",
              "    .colab-df-container {\n",
              "      display:flex;\n",
              "      flex-wrap:wrap;\n",
              "      gap: 12px;\n",
              "    }\n",
              "\n",
              "    .colab-df-convert {\n",
              "      background-color: #E8F0FE;\n",
              "      border: none;\n",
              "      border-radius: 50%;\n",
              "      cursor: pointer;\n",
              "      display: none;\n",
              "      fill: #1967D2;\n",
              "      height: 32px;\n",
              "      padding: 0 0 0 0;\n",
              "      width: 32px;\n",
              "    }\n",
              "\n",
              "    .colab-df-convert:hover {\n",
              "      background-color: #E2EBFA;\n",
              "      box-shadow: 0px 1px 2px rgba(60, 64, 67, 0.3), 0px 1px 3px 1px rgba(60, 64, 67, 0.15);\n",
              "      fill: #174EA6;\n",
              "    }\n",
              "\n",
              "    [theme=dark] .colab-df-convert {\n",
              "      background-color: #3B4455;\n",
              "      fill: #D2E3FC;\n",
              "    }\n",
              "\n",
              "    [theme=dark] .colab-df-convert:hover {\n",
              "      background-color: #434B5C;\n",
              "      box-shadow: 0px 1px 3px 1px rgba(0, 0, 0, 0.15);\n",
              "      filter: drop-shadow(0px 1px 2px rgba(0, 0, 0, 0.3));\n",
              "      fill: #FFFFFF;\n",
              "    }\n",
              "  </style>\n",
              "\n",
              "      <script>\n",
              "        const buttonEl =\n",
              "          document.querySelector('#df-6d6060c2-5e8f-46a4-88b7-c8c1f91ca15d button.colab-df-convert');\n",
              "        buttonEl.style.display =\n",
              "          google.colab.kernel.accessAllowed ? 'block' : 'none';\n",
              "\n",
              "        async function convertToInteractive(key) {\n",
              "          const element = document.querySelector('#df-6d6060c2-5e8f-46a4-88b7-c8c1f91ca15d');\n",
              "          const dataTable =\n",
              "            await google.colab.kernel.invokeFunction('convertToInteractive',\n",
              "                                                     [key], {});\n",
              "          if (!dataTable) return;\n",
              "\n",
              "          const docLinkHtml = 'Like what you see? Visit the ' +\n",
              "            '<a target=\"_blank\" href=https://colab.research.google.com/notebooks/data_table.ipynb>data table notebook</a>'\n",
              "            + ' to learn more about interactive tables.';\n",
              "          element.innerHTML = '';\n",
              "          dataTable['output_type'] = 'display_data';\n",
              "          await google.colab.output.renderOutput(dataTable, element);\n",
              "          const docLink = document.createElement('div');\n",
              "          docLink.innerHTML = docLinkHtml;\n",
              "          element.appendChild(docLink);\n",
              "        }\n",
              "      </script>\n",
              "    </div>\n",
              "  </div>\n",
              "  "
            ]
          },
          "metadata": {},
          "execution_count": 5
        }
      ]
    },
    {
      "cell_type": "markdown",
      "source": [
        "mysql에 데이터 insert 예제코드"
      ],
      "metadata": {
        "id": "pwK_ewHpwLRx"
      }
    },
    {
      "cell_type": "code",
      "source": [
        "conn = pymysql.connect(host='autotrading-db.cjolqhecq70a.ap-northeast-2.rds.amazonaws.com',\n",
        "                       user = 'admin',\n",
        "                       password='dbpassword입력',\n",
        "                       db = 'AutoTrading',\n",
        "                       charset = 'utf8')\n",
        "curs = conn.cursor() "
      ],
      "metadata": {
        "id": "5QjExlaHogsm"
      },
      "execution_count": null,
      "outputs": []
    },
    {
      "cell_type": "markdown",
      "source": [
        "**1. sentiment table에 insert. 크롤링 날짜 및 댓글 그리고 감정분석 결과를 넣는다.**\n"
      ],
      "metadata": {
        "id": "iRDyUg6z1WH4"
      }
    },
    {
      "cell_type": "code",
      "source": [
        "#저장할 date를 변수에 저장.\n",
        "print(crawling_data['date'][0])\n",
        "date = crawling_data['date'][0]\n",
        "print(type(date))\n",
        "\n",
        "#db에 알아보기 쉽도록 count값을 저장. -> count값을 계산하는 예제코드\n",
        "print(len(crawling_data))\n",
        "\n",
        "n_count_filter = (crawling_data.sentiment == 'negative')\n",
        "print(len(crawling_data[n_count_filter]))\n",
        "n_count = len(crawling_data[n_count_filter])\n",
        "\n",
        "p_count_filter = (crawling_data.sentiment == 'positive')\n",
        "print(len(crawling_data[p_count_filter]))\n",
        "p_count = len(crawling_data[p_count_filter])\n",
        "\n",
        "neu_count_filter = (crawling_data.sentiment == 'neutral')\n",
        "print(len(crawling_data[neu_count_filter]))\n",
        "neu_count = len(crawling_data[neu_count_filter])\n",
        "\n",
        "print(crawling_data.K_weight[0])\n",
        "k_val = crawling_data.K_weight[0]\n"
      ],
      "metadata": {
        "colab": {
          "base_uri": "https://localhost:8080/"
        },
        "id": "vznVl54a1gmU",
        "outputId": "c82782db-e232-4e99-8293-d08fb4561f9d"
      },
      "execution_count": null,
      "outputs": [
        {
          "output_type": "stream",
          "name": "stdout",
          "text": [
            "2022-05-06\n",
            "<class 'str'>\n",
            "202\n",
            "82\n",
            "49\n",
            "71\n",
            "0.6\n"
          ]
        }
      ]
    },
    {
      "cell_type": "code",
      "source": [
        "#하루마다 sentiment table의 row가 1개씩 증가.\n",
        "insert_sentiment = \"\"\"insert into sentiment(crawling_date,n_count,p_count,neu_count,k_val)\n",
        "         values (%s, %s, %s, %s, %s)\"\"\"\n",
        "curs.execute(insert_sentiment, (date, n_count,p_count, neu_count, k_val))\n",
        "conn.commit()\n",
        "\n",
        "conn.close()"
      ],
      "metadata": {
        "id": "w0KikTgwh6n0"
      },
      "execution_count": null,
      "outputs": []
    },
    {
      "cell_type": "markdown",
      "source": [
        "**2. comments table에 insert.댓글과 각 댓글의 감정분석 결과 그리고 그 들의 크롤링 날짜를 넣는다.**"
      ],
      "metadata": {
        "id": "-J-XrNb94S0w"
      }
    },
    {
      "cell_type": "code",
      "source": [
        "conn = pymysql.connect(host='autotrading-db.cjolqhecq70a.ap-northeast-2.rds.amazonaws.com',\n",
        "                       user = 'admin',\n",
        "                       password='dbpassword입력',\n",
        "                       db = 'AutoTrading',\n",
        "                       charset = 'utf8mb4')\n",
        "curs = conn.cursor() "
      ],
      "metadata": {
        "id": "Y9hac4_v93d7"
      },
      "execution_count": null,
      "outputs": []
    },
    {
      "cell_type": "code",
      "source": [
        "# 저장할 date를 변수에 저장 -> 위의 date와 일치.\n",
        "\n",
        "sql_rows = []\n",
        "\n",
        "for i in range(0,len(crawling_data)):\n",
        "    sql_row = (date,crawling_data['comments'][i],crawling_data['sentiment'][i])\n",
        "    sql_rows.append(sql_row)\n",
        "\n",
        "\n",
        "print(sql_rows)\n",
        "\n"
      ],
      "metadata": {
        "colab": {
          "base_uri": "https://localhost:8080/"
        },
        "id": "t9UfojYr46tU",
        "outputId": "f8af809a-da36-4a3a-ed76-5d4773d507ce"
      },
      "execution_count": null,
      "outputs": [
        {
          "output_type": "stream",
          "name": "stdout",
          "text": [
            "[('2022-05-06', \"If I go out and buy a $5 wrench and attack myself with it, how long do you think it will take until I'm immune?\", 'negative'), ('2022-05-06', 'Please remain seated, seatbelts on, we are experiencing some slight turbulence. In the meantime please peruse the inflight magazine were you’ll find some excellent offers, as fiat crashes violently into the sea.', 'neutral'), ('2022-05-06', 'Didn’t sell a sat.', 'negative'), ('2022-05-06', 'Holding and bought some extra on top of my dca 🤑', 'positive'), ('2022-05-06', \"I've been waiting for BTC to drop, yesterday loaded my first one.\", 'neutral'), ('2022-05-06', 'jobs report is positive, why we dumping', 'neutral'), ('2022-05-06', \"Not sure about anyone else, but I couldn't care less about the current market conditions.   In the long run this is all just noise.  It's silly that people are upset.\", 'negative'), ('2022-05-06', 'If you just buy now and hold until at least the year after the next halving, any inflation hike on whatever products or services will be a laughable moment for you.', 'negative'), ('2022-05-06', 'Any other year, BTC would be at like $8k right now.', 'neutral'), ('2022-05-06', 'Unemployment report out in 15 mins.  That’ll probably be the reason for todays movement.\\n\\nWell that and on the stock side people probably won’t want to hold over the weekend because of yesterday’s slaughter.\\n\\nStay tuned', 'negative'), ('2022-05-06', 'Just got an email from Vanguard (holding GBTC in an IRA) asking me to submit my comment to the SEC to convert GBTC into an ETF.  Links to [https://grayscale.com/shareholder/](https://grayscale.com/shareholder/) \\n\\nHopefully we can get it done, we need some bullish news, I think the deadline is coming up in a few weeks.', 'negative'), ('2022-05-06', 'so many lil boys here crying about btc not reaching another ath 7 months after the last\\n\\ngo back to stacking legos', 'negative'), ('2022-05-06', 'JobsReportCoin', 'positive'), ('2022-05-06', 'Someone did buy at ath', 'negative'), ('2022-05-06', 'Frantically selling stuff on ebay to raise more cash to buy more sats...!', 'negative'), ('2022-05-06', 'Hard times out there guys, just remember you will be fine next pump buy. Then the next dump sell and you will be fine', 'neutral'), ('2022-05-06', \" Hi, guys I hope that you are doing well. \\n\\nPlease can someone explain to me why the heck would you take your money out of something that stores the value and that is limited in supply (bitcoin) into something that is losing value daily(fiat) in such a dangerous inflationary environment that, in my opinion is without precedent?\\n\\nI am assuming that you didn't put all of your money into bitcoin 😅\", 'neutral'), ('2022-05-06', 'Stocks are seen as the “safer” investment but what if we enter a multi year or even decade+ stagnation? I’d much rather have Bitcoin which has so much room to grow in the next decade and beyond.', 'neutral'), ('2022-05-06', '💎✊🏻', 'neutral'), ('2022-05-06', 'You are not a coder but still looking to contribute to Bitcoin community? Few ways you can do it:\\n\\n1> Run a node\\n\\n2> Take your Bitcoin out of exchanges and learn self custody', 'negative'), ('2022-05-06', 'Go back to work. Get a job.', 'negative'), ('2022-05-06', 'So are you a trader ? Or a hodler ?', 'neutral'), ('2022-05-06', 'Remember El Salvador!', 'positive'), ('2022-05-06', 'Show me that sentiment analysis dashboard and I’ll tell you how much I’ve stacked.', 'positive'), ('2022-05-06', 'Stack em if you got em', 'neutral'), ('2022-05-06', \"What do ya'll think is the best DCA strat?\\n\\n$10 DCA daily\\n\\n4-6% auto limit buy DCA's\\n\\n50$ weekly Sunday DCA\", 'neutral'), ('2022-05-06', 'More weak hands wiped out. Bullish.', 'negative'), ('2022-05-06', \"https://finance.yahoo.com/news/argentina-imf-bailout-deal-includes-190748787.html\\n\\nIMF witholds financial support for a struggling economy unless they take a strong stance against Bitcoin / crypto. Expect to see more of this going forward. Perhaps we'll see a bifurcation between nations who choose the Bitcoin path, and those who continue with the existing system. Interesting times.\", 'negative'), ('2022-05-06', 'We saw a huge dump yesterday and that red candle was really a painful thing to watch, I hope market recovers quickly and people who are in losses can capitalise their gains, but we can do one thing in this market that Is to DCA, of you have funds', 'positive'), ('2022-05-06', 'I’m proud of you boys.', 'positive'), ('2022-05-06', '“Give me money. Money me. Money now. Me a money needing a lot now.”', 'positive'), ('2022-05-06', 'Do you think bitcoin will go to 20 25 k dollars?', 'neutral'), ('2022-05-06', 'This is Black Friday and it will Cyber Monday. Basically Bitcoin sales season. Let’s go. 😎', 'positive'), ('2022-05-06', '\"Stop, bitcoin\\'s already dead.....it\\'s already dead.\"', 'negative'), ('2022-05-06', 'So much volume Jesus Christ almost 40k!!', 'negative'), ('2022-05-06', \"BITCOIN IS NOT THE US DOLLAR. ITS NOT THE STOCK MARKET. ALL CASH IS WORTHLESS LOAD UP ON REAL ASSETS WHILE YOU CAN. THE DOLLAR IS DIEING DON'T DIE WITH IT\", 'negative'), ('2022-05-06', 'Dw guys I just did some extensive analysis and I’m pretty sure we are gonna hit $10mil by 2025. But up all the btc you can', 'positive'), ('2022-05-06', 'If you bought Bitcoin one year ago you would be down 36% now. Hedge against inflation they said', 'negative'), ('2022-05-06', 'Cheap sats', 'positive'), ('2022-05-06', 'Now will y’all finally admit we’re in a bear market?', 'positive'), ('2022-05-06', 'Wen lambo?', 'neutral'), ('2022-05-06', \"Feels like we're heading into a bear market until the halving. Glad I sold some around 55k/60k for my house.\\n\\nI'll be able to buy back from paper hands who fold down to (wild ass guess) 28k over the next couple years to replace what I sold.\\n\\nTime in the market is better than timing the market, but both is better than one or the other.\", 'positive'), ('2022-05-06', \"Death by a thousand cuts.  Can't sustain any momentum at all, and likely won't for a while.   \\n Sideways action until next halving.  We're pretty much exactly in the middle of a cycle.  Small pumps here and there, bigger dips, but sideways for a loooong time.  Good time to accumulate, though.\", 'negative'), ('2022-05-06', 'guess we going lower today 😭', 'neutral'), ('2022-05-06', \"So are people's thoughts on the bottom? Given current news and stock markets seems we will see low 30's, maybe high 20's? It definitely seems it won't shoot back up anytime soon.\", 'neutral'), ('2022-05-06', 'Don\\'t mind Feddy and the Dreamers.  They can\\'t \"allow\" Bitcoin to go up while everything else is melting down.  \\n\\nAt some point, Bitcoin will do what he wants, make no mistake.\\n\\nKeep calm and hodl.', 'positive'), ('2022-05-06', 'I don’t know, that’s pretty cryptic… lol', 'neutral'), ('2022-05-06', \"Didn't this all become a lottery? It is not decentralized, it is not anonymous. In place of probabilities and statistics have come whales that perfectly manipulate and manage other people's assets through BTC.\\n\\nSo, this has become another instrument of classical finance. Let each individual ask himself whether to participate in this in the end - morally, to put it mildly. \\n\\nI hope i am wrong, have a nice day guys.\\n\\nGreetings!\", 'negative'), ('2022-05-06', \"Limit order close to 36k placed, come on baby I'll take your mistake.\", 'neutral'), ('2022-05-06', 'What prices are your next three limit orders set at?', 'neutral'), ('2022-05-06', 'Do you store your BTC on ledger or lend for interest? I was lending recently but the rates have been slashed dramatically and currently just have mine on the ledger. Wondering what you all are doing.', 'neutral'), ('2022-05-06', \"Do we know what's the precentage of Bitcoin in institutions' hands?   \\n\\n\\nAnd I'm not talking about a guess, but rather any statistical proof.\", 'neutral'), ('2022-05-06', '[deleted]', 'negative'), ('2022-05-06', 'A Hodler can do both trading and holding. Let that sink in for a moment.', 'positive'), ('2022-05-06', 'Opinions on the idea of selling now and putting a contract to buy back after its down 10% of the sell price?\\n\\n Or has that ship sailed and its too much of a risk at this point?', 'negative'), ('2022-05-06', 'Got damn', 'positive'), ('2022-05-06', \"I actually have a masters in cryptography and this was the topic of my dissertation. We tested different approaches and the only one that was shown to work reliably was a single strong blow to the side of the head (though some people may require more than one blow).  This results in permanent memory loss and puts your private keys in permanent secure cold storage (or until you accidentally stumble on your recovery phrase if you didn't hide it well).\", 'negative'), ('2022-05-06', \"Don't forget the drugs\", 'neutral'), ('2022-05-06', 'That depends on whether your attacks hit you, where they hit you, how hard you’re hitting yourself and also how many donuts you’ve ate in the past 6 months.', 'neutral'), ('2022-05-06', 'This made me lol', 'positive'), ('2022-05-06', 'Just focus on the head and the groin', 'neutral'), ('2022-05-06', 'Hodling. Common typo', 'neutral'), ('2022-05-06', 'Ffs I am on my phone and it autocorrected to «\\xa0hold\\xa0» and I didn’t bother changing to «\\xa0hodl\\xa0». Calm your tits everybody', 'neutral'), ('2022-05-06', \"Waiting is always a risk. But happy that it worked well for you this time. I'm DCA'ing more every month regardless of the price.\", 'positive'), ('2022-05-06', 'This. Every 2-3 years same crying over and over again yet price is up long term. \\n\\nDCA, take your btc off exchanges,create your own node, learn about LN, start using btc in real life. That should be agenda for everyone right now.', 'negative'), ('2022-05-06', \"I'm happy whenever the price moves because this subreddit is boring otherwise.\", 'neutral'), ('2022-05-06', 'This. Painfull for those that bought above 50 or even 60 but btc really showing strenght imo.', 'negative'), ('2022-05-06', \"A dip yesterday so sell at a loss today? No thanks. I'll just hold\", 'negative'), ('2022-05-06', 'Duplo 😂', 'positive'), ('2022-05-06', 'LOL', 'negative'), ('2022-05-06', '$69 @ 69. No ragrats', 'neutral'), ('2022-05-06', 'Is that you Michael?', 'neutral'), ('2022-05-06', '*The main reason for stress is daily contact with idiots.*\\n\\nAlbert Einstein.', 'neutral'), ('2022-05-06', 'I think you are missing a step:\\n- Earn cash\\n- Buy Bitcoin\\n- Bitcoin go up, then down, then up, etc.\\n- One day, notice inflation is causing energy prices to accelerate up\\n- Sell Bitcoin for cash\\n- Buy Chevron Stock with cash\\n- Enjoy watching Chevron stock go up, and pay a health dividend\\n\\nFew people are staying in fiat, they continue the journey into another asset.  Maybe they are retired, so that cash is going to rent, food, fun etc.', 'neutral'), ('2022-05-06', 'Because it’s going down and people panic sell some even assume it’s going to zero', 'negative'), ('2022-05-06', \"It's called natural selection my friend ☺️✌️\", 'positive'), ('2022-05-06', \"People revert to what they know, especially when panicked. Like when you're in an abusive relationship but keep coming back to them.\", 'positive'), ('2022-05-06', 'cause people', 'negative'), ('2022-05-06', '> I hope that you are doing well. \\n\\nAww thanks, you as well.', 'positive'), ('2022-05-06', 'Exactly, this may be the last economic implosion before institutional money, right now a trickle, really starts pouring in. A spot Bitcoin ETF approval later and everyone will be crying about not buying BTC in the mid-to-low 30s.', 'negative'), ('2022-05-06', 'diversify put money in both?', 'negative'), ('2022-05-06', 'Dividends', 'positive'), ('2022-05-06', '💎💎🙌', 'neutral'), ('2022-05-06', '💎 🍒', 'neutral'), ('2022-05-06', 'Prove me wrong: running a node does not contribute to the Bitcoin community.', 'negative'), ('2022-05-06', 'Node bandwidth requirements are pretty beefy. Hundreds of gigs per month is typical. Props to those that shoulder those loads.', 'neutral'), ('2022-05-06', 'No. Just give me money', 'negative'), ('2022-05-06', 'I was a trader for a long time. I made so many profits that I started comitting a certain amount of the profits as long term hodlings that it made no sense to ever sell. So for a while I had a trading stack and a hodling stack. Then the government started screwing around with the exchanges and shutting down margin/altcoins and I lost alot of trading instruments. There were also new taxes and bitcoin got really stable. So I stopped trading and now Im just a hodler.', 'negative'), ('2022-05-06', \"They see me HODLin' they hatin'\", 'negative'), ('2022-05-06', 'A Hodler can do both trading and holding. Let that sink in for a moment.', 'positive'), ('2022-05-06', 'I payed for my trading enough at the beginning to understand the importance and benefits of holding. Definitely a hodler now.', 'neutral'), ('2022-05-06', 'Depends on the fee you pay to make the purchase. Figure out how to pay the least. \\n\\nAfter that, automate and forget about it. The less you think about it the more you can focus on the day.', 'negative'), ('2022-05-06', 'depends on your earnings power. i try to do 30% of my monthly income per month or 1% per day. this month ive gone significantly over that amount due to massive correction.', 'neutral'), ('2022-05-06', 'dca early weekdays. usually weekend prices are higher bc more activity', 'neutral'), ('2022-05-06', 'im already all in', 'neutral'), ('2022-05-06', \"We are proud of ourselves for buying continuous dips, and it's the time to buy more because yesterday we saw BTC falling from high and I think for few days we are going to crab and market will not show any movement, alts will fall more\", 'positive'), ('2022-05-06', 'Who are you asking?\\n\\nAnd why do you think they would know?', 'negative'), ('2022-05-06', 'It’s very possible.', 'positive'), ('2022-05-06', 'I think we are in a bear market with this latest drop. Not sure how low we will go but I think it will get worse before it gets better. Just keep stacking', 'negative'), ('2022-05-06', \"I'm buying at $18k-$20k\", 'neutral'), ('2022-05-06', 'Maybe yes maybe not.', 'neutral'), ('2022-05-06', 'Maybe 28k.', 'neutral'), ('2022-05-06', 'not soon but in this year probably', 'neutral'), ('2022-05-06', 'No', 'negative'), ('2022-05-06', '[https://www.fxstreet.com/cryptocurrencies/news/bitcoin-price-is-positioned-for-a-crash-below-30-000-202205060049](https://www.fxstreet.com/cryptocurrencies/news/bitcoin-price-is-positioned-for-a-crash-below-30-000-202205060049)', 'negative'), ('2022-05-06', 'Great analysis', 'positive'), ('2022-05-06', 'Analysis sponsored by Hopium Inc.', 'positive'), ('2022-05-06', 'Source - trust me bro', 'positive'), ('2022-05-06', 'This teaches you to hold for more than a year.', 'positive'), ('2022-05-06', 'Hopefully you live longer than one year', 'positive'), ('2022-05-06', '4 years is the shortest short-term for Bitcoin.\\nCome back in three years.', 'negative'), ('2022-05-06', 'Have some fucking patience.', 'positive'), ('2022-05-06', \"It's not a hedge against inflation.  It's an investment.  You won't protect yourself from inflation in the short term by buying bitcoin.  But investing in bitcoin, for the long term, will likely yield greater returns that just beating inflation\", 'negative'), ('2022-05-06', 'I bought my Bitcoin a year ago today ish...', 'neutral'), ('2022-05-06', 'Who cares? It means only up from here and cheap sats.', 'negative'), ('2022-05-06', \"They won't until it reaches the bottom of 17k.\", 'neutral'), ('2022-05-06', 'Maybe when we hit sub 20s.', 'neutral'), ('2022-05-06', 'What purpose would it serve to admit a bear market? Would you feel better then?', 'neutral'), ('2022-05-06', 'No, but thanks for asking.', 'neutral'), ('2022-05-06', 'Wen rusty old bicycle with bent front wheel?', 'negative'), ('2022-05-06', \"I'm okay waiting.\", 'negative'), ('2022-05-06', \"It is, in actuality, different this time.\\n\\nBy the next halving, you won't be measuring the value of Bitcoin in dollars anymore.  Put it that way.\", 'negative'), ('2022-05-06', \"Guess i'll buy more today 😭\", 'positive'), ('2022-05-06', 'Doesn’t matter if you don’t plan on selling.', 'negative'), ('2022-05-06', 'last chance to buy above 36k', 'negative'), ('2022-05-06', 'I like those apple bottom jeans, boots with the fur', 'positive'), ('2022-05-06', 'Predicting the Bottom is just as difficult as predicting the top', 'neutral'), ('2022-05-06', 'I’d be surprised if it goes lower than it did in January. I’m going all in at $35k though.', 'neutral'), ('2022-05-06', \"Bitcoin goes down Bitcoin goes up, that's the way she goes.\", 'negative'), ('2022-05-06', 'No telling.', 'negative'), ('2022-05-06', 'Bitty goes down, until she doesn’t', 'neutral'), ('2022-05-06', 'Found the guy who just sold 👆', 'negative'), ('2022-05-06', 'Bitcoin never claimed to be anonymous. Bitcoin is decentralized. It seems like you need to read a but more on these concepts mate', 'neutral'), ('2022-05-06', \"Bitcoin is for anybody.  We can't stop companies, states, evil people from participating.  By the same token, they can't stop us.  With a long time horizon, it gives people the best chance.\", 'negative'), ('2022-05-06', '31k', 'neutral'), ('2022-05-06', '22, 21, 18k.', 'neutral'), ('2022-05-06', 'One, $20105', 'positive'), ('2022-05-06', \"Same. Rates got 'slashed' so started transfering cold storage now.\", 'negative'), ('2022-05-06', 'Currently have everything sitting in cold storage on a ledger.', 'negative'), ('2022-05-06', \"That's not how pseudonymous blockchains work. That's not how any of this works.\", 'negative'), ('2022-05-06', \"Do we know? No. There are some large holders that are public about it, but not enough to matter much. Like Tesla, Microstrategy, Greyscale, Winklevoss twins. There are some more private where we can infer holdings, but not the amounts. Like Polychain, and a few investors that appear in the news regularly.\\n\\nI don't worry about it. The market moves around in complex ways and Bitcoin continues to be unaffected.\", 'neutral'), ('2022-05-06', 'How did you almost fall for it?', 'negative'), ('2022-05-06', 'L', 'positive'), ('2022-05-06', 'As much as a Vegan can both eat plants and animals yes.', 'neutral'), ('2022-05-06', 'Not a true hodler then', 'negative'), ('2022-05-06', \"I'm not letting that sink in unless it has a warrant... Maybe not even then.\", 'negative'), ('2022-05-06', 'Trading is great but Bitcoin is the one and only thing I’m refusing to sell til at least next decade or perhaps sell some if/when I hit 10x', 'positive'), ('2022-05-06', 'Everyone is going to tell you to hold.  Do your ta, or what’s your bear thesis.  If you believe in it, go for it.  Just don’t fomo back in on every pump, that’s where you’ll get fucked', 'negative'), ('2022-05-06', 'Got milk?', 'positive'), ('2022-05-06', 'And they say a degree is worthless!', 'negative'), ('2022-05-06', \"Solid research, well done. I don't think anyone can argue that the approach will not eventually work.\\n\\nHow did you get through the education system without deleting their student data?\", 'positive'), ('2022-05-06', 'Yes and no, you’re in theory holding your money still. The H in HODL stands for hold.', 'negative'), ('2022-05-06', 'The buys a new person makes near the local top is their price of admission. Most people need to pay their dues and the wise spend the next year learning. Those that understand the lesson, hold, DCA, and are rewarded at the next ATH.', 'positive'), ('2022-05-06', 'Painful because you didn’t get your short term price affirmations or painful because you went all in at the top and now have to DCA your emergency fund back into existence?', 'negative'), ('2022-05-06', 'Ok lol, I don’t think you are following.  You for sure should hold.', 'neutral'), ('2022-05-06', \"Better option don't just change mind and stick to the principle of holding!\", 'positive'), ('2022-05-06', 'Good luck trying to outperform the inflation with that', 'positive'), ('2022-05-06', 'Dividends are not a free lunch.\\n\\nCompanies that offer Dividends often grow at a slower rate.', 'negative'), ('2022-05-06', \"I've been going hard on dividends as well\", 'positive'), ('2022-05-06', '💎🥜', 'neutral'), ('2022-05-06', '💎🍆', 'neutral'), ('2022-05-06', \"Really? It's hard to tell exactly, but besides the initial download of \\\\~500GB, I think my node only generates about 10-20GB extra per month.\\n\\nThat being said, the network is so large that a single extra node doesn't matter. The same is true for mining.\", 'negative'), ('2022-05-06', 'Yikes', 'negative'), ('2022-05-06', 'Government is putting too many taxes as well, we have to pay 30% taxes on profit and atleast 1% TDS on all transactions, so better to hold and wait for the market to pump and then take some more profit', 'neutral'), ('2022-05-06', 'If you’re buying and ………selling, you’re a trader.', 'neutral'), ('2022-05-06', \"> I *paid* for my\\n\\nFTFY.\\n\\nAlthough *payed* exists (the reason why autocorrection didn't help you), it is only correct in:\\n\\n * Nautical context, when it means to paint a surface, or to cover with something like tar or resin in order to make it waterproof or corrosion-resistant. *The deck is yet to be payed.*\\n\\n * *Payed out* when letting strings, cables or ropes out, by slacking them. *The rope is payed out! You can pull now.*\\n\\nUnfortunately, I was unable to find nautical or rope-related words in your comment.\\n\\n*Beep, boop, I'm a bot*\", 'negative'), ('2022-05-06', 'I would add you should move it to cold storage relatively often. Again, figure out the fees that make sense for sending it.', 'neutral'), ('2022-05-06', 'misread', 'negative'), ('2022-05-06', 'Get income.', 'positive'), ('2022-05-06', 'Ahh fxstreet \"news\" articles that clog up online news results. I would disregard anything they publish.', 'negative'), ('2022-05-06', 'What up, hefty?', 'neutral'), ('2022-05-06', 'Bitcoin is not an investment. Bitcoin is money.', 'negative'), ('2022-05-06', \"17k I don't feel that it would indeed go that down though!\", 'neutral'), ('2022-05-06', 'That would indeed take a bit long enough as far as I think though.', 'neutral'), ('2022-05-06', 'I mean I’m chillin right now buying the dips as usual, just tired of people asking whether we’ll his a new ATH this year or not.', 'neutral'), ('2022-05-06', \"A bicycle and bitcoin, winning combination! It's the future.\", 'positive'), ('2022-05-06', 'What do you mean regarding not measuring the value of bitcoin in dollars?', 'negative'), ('2022-05-06', 'So in two years, what will we all be measuring the value of Bitcoin in? Roubles?', 'negative'), ('2022-05-06', 'It does if you plan on buying.', 'neutral'), ('2022-05-06', 'The whole club was looking at hurrr', 'negative'), ('2022-05-06', 'Just like all my girls', 'positive'), ('2022-05-06', '\\n\"Just dont fomo back in\"\\n\\nThen lets say it goes back up and i still want in (have bitcoin) what would you do? Set a point where u buy back in at loss but its not too bad, like if it was to go back up 20%? \\n\\nI think it will go down more tho. And i dont plan on doing trades like this often, more a once per down market thing. Def wont do day trading. Been holding for 5 years and think this could be a way to get an extra 10% once a year or so.', 'negative'), ('2022-05-06', 'This is incorrect. \"Hodl\" originated on a forum post from ~2013. Guy was half-cocked and was ranting about how he\\'s going to hold, or hodl, his BTC forever.', 'negative'), ('2022-05-06', 'The growth investment cycle is done. Now is just an authentic Buy & Hold investment cycle on value stocks like Coca-Cola and let time auto-pay itself on re-investing itself by buying more shares with the dividend payouts until the next growth cycle starts again (probably not for over a decade with the current situation).', 'negative'), ('2022-05-06', 'The growth investment cycle is done. Now is just an authentic Buy & Hold investment cycle on value stocks like Coca-Cola and let time auto-pay itself on re-investing itself by buying more shares with the dividend payouts until the next growth cycle starts again (probably not for over a decade with the current situation).', 'negative'), ('2022-05-06', \"It depends on what your node is doing. There should always be ~20 GB / month download for incoming blocks. If you're running a listening node that other nodes connect to for data, then upload can be ~200 GB / month.\\n\\nSee here: https://bitcoin.org/en/full-node#minimum-requirements\", 'neutral'), ('2022-05-06', 'What’s up bro', 'negative'), ('2022-05-06', 'Money that I can’t actually use to buy anything.', 'negative'), ('2022-05-06', \"Bitcoin isn't money.  \\n\\nBircoin is love. Bitcoin is life!\", 'positive'), ('2022-05-06', 'Why tired? People visit fortune-tellers since centuries. They just want to have some random confirmation.', 'neutral'), ('2022-05-06', \"It's a stupid, vague statement with no meaning.\", 'negative'), ('2022-05-06', 'Imagine you lived in Venezuela during this:\\n“Inflation rates became the highest in the world in 2014 under Nicolás Maduro, and continued to increase in the following years, with inflation exceeding 1,000,000% by 2018.“ - https://en.m.wikipedia.org/wiki/Hyperinflation_in_Venezuela\\n\\n… are you remembering the price of things in Bitcoin or Bolivars?', 'positive'), ('2022-05-06', \"No it doesn't. I'm gonna buy more whatever the price is.\\n\\n\\nTime in the market beats timing the market.\", 'negative'), ('2022-05-06', 'HODL stands for “Hold on for dear life.”\\n\\nPlease tell me what part of my message was wrong about that?\\n\\nSure the origin was a typo but it’s now an acronym.', 'negative'), ('2022-05-06', \"Thanks. I'm just running the default install for Umbrel. Is there a way to change the settings? I wouldn't mind uploading more.\", 'positive'), ('2022-05-06', 'Wrong.', 'negative'), ('2022-05-06', 'I bought something with bitcoin yesterday.', 'neutral'), ('2022-05-06', 'This daily thread can be so cringe lol', 'neutral'), ('2022-05-06', 'This sub in a nutshell', 'positive'), ('2022-05-06', '>No it doesn\\'t. I\\'m gonna buy more whatever the price is.\\n\\nThat\\'s great. But there\\'s a difference between the guy stacking $50 a week in stats and the guy sitting on thousands of dollars in buy orders. You may not care about the .001 difference in stats you\\'ll get off a 10% price dip, but multiply that by a few hundred times and it adds up.\\n\\n>Time in the market beats timing the market.\\n\\nAh yes, another r/bitcoin\\'er who confuses \"picking your price\" with \"timing the market\".', 'neutral'), ('2022-05-06', \"I'm not sure to be honest. For a regular Bitcoin Core node there's a configuration file that you can tweak, but maybe Umbrel has restrictions on this sort of thing.\", 'neutral'), ('2022-05-06', 'I’ve literally never purchased one single thing where btc was a payment option.', 'negative')]\n"
          ]
        }
      ]
    },
    {
      "cell_type": "code",
      "source": [
        "insert_comment = \"\"\"insert into comments(crawling_date,comment,sentiment) values (%s, %s, %s)\"\"\"\n",
        "curs.executemany(insert_comment,sql_rows)\n",
        "conn.commit()\n",
        "conn.close()\n"
      ],
      "metadata": {
        "id": "PqtEgSwiPbtg"
      },
      "execution_count": null,
      "outputs": []
    }
  ]
}