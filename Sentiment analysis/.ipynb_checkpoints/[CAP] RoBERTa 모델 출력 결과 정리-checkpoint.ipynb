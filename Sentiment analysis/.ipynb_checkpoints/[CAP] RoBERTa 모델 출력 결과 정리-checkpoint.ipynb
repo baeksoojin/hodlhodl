{
 "cells": [
  {
   "cell_type": "markdown",
   "id": "3503ef8f",
   "metadata": {},
   "source": [
    "# RoBERTA 모델 출력 결과 정리"
   ]
  },
  {
   "cell_type": "markdown",
   "id": "a51dc91d",
   "metadata": {},
   "source": [
    "### 1. 필요한 라이브러리 임포트하기\n",
    "\n",
    "* praw - reddit comments를 불러오기 위한 API library\n",
    "* emoji\n",
    "* re\n",
    "* spacy\n",
    "* transformers"
   ]
  },
  {
   "cell_type": "code",
   "execution_count": 26,
   "id": "dcdcbd58",
   "metadata": {},
   "outputs": [],
   "source": [
    "import praw\n",
    "import pandas as pd\n",
    "import emoji\n",
    "import re\n",
    "import en_core_web_sm\n",
    "import spacy\n",
    "import datetime\n",
    "from transformers import AutoModelForSequenceClassification, BertForSequenceClassification\n",
    "from transformers import (XLMRobertaConfig, XLMRobertaTokenizer, TFXLMRobertaModel)            \n",
    "from transformers import AutoTokenizer, AutoConfig, TFAutoModel \n",
    "import numpy as np\n",
    "import pymysql \n",
    "from tqdm import tqdm\n",
    "from time import sleep"
   ]
  },
  {
   "cell_type": "markdown",
   "id": "3f1c734e",
   "metadata": {},
   "source": [
    "### 2. Reddit API Connection\n",
    "Daily Discussion Post의 submission ID 저장하기\n",
    "submission ID 란, 레딧 사이트의 하나의 포스트의 정보를 불러오기 위한 ID이다."
   ]
  },
  {
   "cell_type": "code",
   "execution_count": 11,
   "id": "d61d1172",
   "metadata": {},
   "outputs": [
    {
     "name": "stdout",
     "output_type": "stream",
     "text": [
      "['vcms2n']\n"
     ]
    }
   ],
   "source": [
    "#API로 레딧 커넥션 시작\n",
    "reddit = praw.Reddit(client_id=\"z3tbt-PpHQ9lJnMK9ctkIw\",\n",
    "                     client_secret = \"cndUuA1WIqk2vazhNy1g3tVZxM-FYg\",\n",
    "                     user_agent = \"yunji\")\n",
    "\n",
    "\n",
    "#Daily Discussion Post Submission ID를 불러온다 (가장 최신 Post 순서대로 불러옴)\n",
    "num = 0\n",
    "submissionID = []\n",
    "for submission in reddit.subreddit(\"bitcoin\").search(\"Daily Discussion, \", sort=\"new\", limit=1):\n",
    "    submissionID.append(submission.id)\n",
    "print(submissionID)"
   ]
  },
  {
   "cell_type": "markdown",
   "id": "aa157e89",
   "metadata": {},
   "source": [
    "### 3. Post의 일자 및 댓글 저장\n",
    "Daily Discussion Post의 일자 및 댓글을 dataframe에 저장한다."
   ]
  },
  {
   "cell_type": "code",
   "execution_count": 21,
   "id": "98d737ed",
   "metadata": {},
   "outputs": [
    {
     "name": "stdout",
     "output_type": "stream",
     "text": [
      "/////2022-06-15 START/////\n",
      "COMMENTS CRAWLING\n"
     ]
    },
    {
     "name": "stderr",
     "output_type": "stream",
     "text": [
      "100%|██████████████████████████████████████████████████████████████████████████████████| 5/5 [00:00<00:00, 5018.31it/s]\n"
     ]
    },
    {
     "data": {
      "text/html": [
       "<div>\n",
       "<style scoped>\n",
       "    .dataframe tbody tr th:only-of-type {\n",
       "        vertical-align: middle;\n",
       "    }\n",
       "\n",
       "    .dataframe tbody tr th {\n",
       "        vertical-align: top;\n",
       "    }\n",
       "\n",
       "    .dataframe thead th {\n",
       "        text-align: right;\n",
       "    }\n",
       "</style>\n",
       "<table border=\"1\" class=\"dataframe\">\n",
       "  <thead>\n",
       "    <tr style=\"text-align: right;\">\n",
       "      <th></th>\n",
       "      <th>date</th>\n",
       "      <th>comments</th>\n",
       "    </tr>\n",
       "  </thead>\n",
       "  <tbody>\n",
       "    <tr>\n",
       "      <th>0</th>\n",
       "      <td>2022-06-15</td>\n",
       "      <td>“It’s raining men” and “Let the bodies hit the...</td>\n",
       "    </tr>\n",
       "    <tr>\n",
       "      <th>1</th>\n",
       "      <td>2022-06-15</td>\n",
       "      <td>We're watching a [great battle] (https://chart...</td>\n",
       "    </tr>\n",
       "    <tr>\n",
       "      <th>2</th>\n",
       "      <td>2022-06-15</td>\n",
       "      <td>hodl me boyz</td>\n",
       "    </tr>\n",
       "    <tr>\n",
       "      <th>3</th>\n",
       "      <td>2022-06-15</td>\n",
       "      <td>My bags feel awfully light these days</td>\n",
       "    </tr>\n",
       "    <tr>\n",
       "      <th>4</th>\n",
       "      <td>2022-06-15</td>\n",
       "      <td>If you zoom out on weekly chart you can see th...</td>\n",
       "    </tr>\n",
       "  </tbody>\n",
       "</table>\n",
       "</div>"
      ],
      "text/plain": [
       "         date                                           comments\n",
       "0  2022-06-15  “It’s raining men” and “Let the bodies hit the...\n",
       "1  2022-06-15  We're watching a [great battle] (https://chart...\n",
       "2  2022-06-15                                       hodl me boyz\n",
       "3  2022-06-15              My bags feel awfully light these days\n",
       "4  2022-06-15  If you zoom out on weekly chart you can see th..."
      ]
     },
     "execution_count": 21,
     "metadata": {},
     "output_type": "execute_result"
    }
   ],
   "source": [
    "#Best Comments 순으로 포스트에 대한 댓글을 5개 뽑고 저장한다\n",
    "\n",
    "#Post 불러오기\n",
    "Post = reddit.submission(id=submissionID[0])\n",
    "Comments_All = []\n",
    "# Votes_All = []\n",
    "\n",
    "#Post 일자 저장\n",
    "Date = datetime.datetime.fromtimestamp(Post.created)\n",
    "\n",
    "print(\"/////\"+Date.strftime(\"%Y-%m-%d\") +\" START/////\")\n",
    "print('COMMENTS CRAWLING')\n",
    "\n",
    "#Post 댓글 저장\n",
    "Post.comments.replace_more(limit=0)\n",
    "comments_list = Post.comments.list()\n",
    "\n",
    "for comment in tqdm(comments_list[:5]):\n",
    "    Comments_All.append(comment.body)\n",
    "    Votes_All.append(comment.score)\n",
    "\n",
    "data = {\n",
    "    'date':[Date.strftime(\"%Y-%m-%d\")]*len(Comments_All),\n",
    "    'comments': Comments_All,\n",
    "    #'votes' : Votes_All\n",
    "}\n",
    "\n",
    "comments_table = pd.DataFrame(data)\n",
    "comments_table"
   ]
  },
  {
   "cell_type": "markdown",
   "id": "75f0721b",
   "metadata": {},
   "source": [
    "### 데이터 전처리 및 RoBERTa pretrained 모델 사용하기\n",
    "\n",
    "RoBERTa tweeter sentiment pretrained 모델을 활용하여 각 댓글에 대한 긍정, 중립, 부정의 비율을 출력한다."
   ]
  },
  {
   "cell_type": "code",
   "execution_count": 25,
   "id": "a115f865",
   "metadata": {},
   "outputs": [],
   "source": [
    "def softmax(x):\n",
    "    e_x = np.exp(x - np.max(x))\n",
    "    return e_x / e_x.sum()\n",
    "\n",
    "# 데이터 전처리\n",
    "for i in range(len(Comments_All)):\n",
    "    comment = comments_table['comments'].loc[i]\n",
    "    comment_words = []\n",
    "\n",
    "    for word in tweet.split(' '):\n",
    "        if word.startswith('@') and len(word) > 1:\n",
    "            word = '@user'\n",
    "\n",
    "        elif word.startswith('http'):\n",
    "            word = \"http\"\n",
    "        comment_words.append(word)\n",
    "\n",
    "    comment_proc = \" \".join(tweet_words)\n",
    "\n",
    "    # load model and tokenizer\n",
    "    roberta = \"cardiffnlp/twitter-roberta-base-sentiment\"\n",
    "\n",
    "    model = AutoModelForSequenceClassification.from_pretrained(roberta)\n",
    "    tokenizer = AutoTokenizer.from_pretrained(roberta)\n",
    "\n",
    "    labels = ['Negative', 'Neutral', 'Positive']\n",
    "\n",
    "    # sentiment analysis\n",
    "    encoded_tweet = tokenizer(tweet_proc, return_tensors='pt')\n",
    "\n",
    "    # output = model(encoded_tweet['input_ids'], encoded_tweet['attention_mask'])\n",
    "    output = model(**encoded_tweet)\n",
    "    \n",
    "    scores = output[0][0].detach().numpy()\n",
    "    scores = softmax(scores)\n",
    "    \n",
    "    #결과 score을 dataframe에 추가\n",
    "    slist = scores.tolist()\n",
    "    comments_table.loc[i,'Positive'] = slist[2]\n",
    "    comments_table.loc[i,'Neutral'] = slist[1]\n",
    "    comments_table.loc[i,'Negative'] = slist[0]\n",
    "    comments_table"
   ]
  },
  {
   "cell_type": "code",
   "execution_count": 27,
   "id": "b3158058",
   "metadata": {},
   "outputs": [
    {
     "data": {
      "text/html": [
       "<div>\n",
       "<style scoped>\n",
       "    .dataframe tbody tr th:only-of-type {\n",
       "        vertical-align: middle;\n",
       "    }\n",
       "\n",
       "    .dataframe tbody tr th {\n",
       "        vertical-align: top;\n",
       "    }\n",
       "\n",
       "    .dataframe thead th {\n",
       "        text-align: right;\n",
       "    }\n",
       "</style>\n",
       "<table border=\"1\" class=\"dataframe\">\n",
       "  <thead>\n",
       "    <tr style=\"text-align: right;\">\n",
       "      <th></th>\n",
       "      <th>date</th>\n",
       "      <th>comments</th>\n",
       "      <th>Positive</th>\n",
       "      <th>Neutral</th>\n",
       "      <th>Negative</th>\n",
       "    </tr>\n",
       "  </thead>\n",
       "  <tbody>\n",
       "    <tr>\n",
       "      <th>0</th>\n",
       "      <td>2022-06-15</td>\n",
       "      <td>“It’s raining men” and “Let the bodies hit the...</td>\n",
       "      <td>0.076720</td>\n",
       "      <td>0.618634</td>\n",
       "      <td>0.304646</td>\n",
       "    </tr>\n",
       "    <tr>\n",
       "      <th>1</th>\n",
       "      <td>2022-06-15</td>\n",
       "      <td>We're watching a [great battle] (https://chart...</td>\n",
       "      <td>0.358636</td>\n",
       "      <td>0.439950</td>\n",
       "      <td>0.201414</td>\n",
       "    </tr>\n",
       "    <tr>\n",
       "      <th>2</th>\n",
       "      <td>2022-06-15</td>\n",
       "      <td>hodl me boyz</td>\n",
       "      <td>0.201871</td>\n",
       "      <td>0.759168</td>\n",
       "      <td>0.038961</td>\n",
       "    </tr>\n",
       "    <tr>\n",
       "      <th>3</th>\n",
       "      <td>2022-06-15</td>\n",
       "      <td>My bags feel awfully light these days</td>\n",
       "      <td>0.063488</td>\n",
       "      <td>0.388559</td>\n",
       "      <td>0.547953</td>\n",
       "    </tr>\n",
       "    <tr>\n",
       "      <th>4</th>\n",
       "      <td>2022-06-15</td>\n",
       "      <td>If you zoom out on weekly chart you can see th...</td>\n",
       "      <td>0.213293</td>\n",
       "      <td>0.589039</td>\n",
       "      <td>0.197668</td>\n",
       "    </tr>\n",
       "  </tbody>\n",
       "</table>\n",
       "</div>"
      ],
      "text/plain": [
       "         date                                           comments  Positive  \\\n",
       "0  2022-06-15  “It’s raining men” and “Let the bodies hit the...  0.076720   \n",
       "1  2022-06-15  We're watching a [great battle] (https://chart...  0.358636   \n",
       "2  2022-06-15                                       hodl me boyz  0.201871   \n",
       "3  2022-06-15              My bags feel awfully light these days  0.063488   \n",
       "4  2022-06-15  If you zoom out on weekly chart you can see th...  0.213293   \n",
       "\n",
       "    Neutral  Negative  \n",
       "0  0.618634  0.304646  \n",
       "1  0.439950  0.201414  \n",
       "2  0.759168  0.038961  \n",
       "3  0.388559  0.547953  \n",
       "4  0.589039  0.197668  "
      ]
     },
     "execution_count": 27,
     "metadata": {},
     "output_type": "execute_result"
    }
   ],
   "source": [
    "comments_table"
   ]
  }
 ],
 "metadata": {
  "kernelspec": {
   "display_name": "sentiment",
   "language": "python",
   "name": "sentiment"
  },
  "language_info": {
   "codemirror_mode": {
    "name": "ipython",
    "version": 3
   },
   "file_extension": ".py",
   "mimetype": "text/x-python",
   "name": "python",
   "nbconvert_exporter": "python",
   "pygments_lexer": "ipython3",
   "version": "3.9.12"
  }
 },
 "nbformat": 4,
 "nbformat_minor": 5
}
