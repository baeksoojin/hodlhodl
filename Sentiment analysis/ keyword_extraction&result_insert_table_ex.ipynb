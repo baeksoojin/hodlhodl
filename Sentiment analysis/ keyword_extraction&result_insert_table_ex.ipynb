{
  "nbformat": 4,
  "nbformat_minor": 0,
  "metadata": {
    "colab": {
      "name": "keyword_extraction&result_insert_table_ex.ipynb",
      "provenance": [],
      "collapsed_sections": [],
      "include_colab_link": true
    },
    "kernelspec": {
      "name": "python3",
      "display_name": "Python 3"
    },
    "language_info": {
      "name": "python"
    }
  },
  "cells": [
    {
      "cell_type": "markdown",
      "metadata": {
        "id": "view-in-github",
        "colab_type": "text"
      },
      "source": [
        "<a href=\"https://colab.research.google.com/github/sujin-create/hodlhodl/blob/Sentiment-analysis/Sentiment%20analysis/%20keyword_extraction%26result_insert_table_ex.ipynb\" target=\"_parent\"><img src=\"https://colab.research.google.com/assets/colab-badge.svg\" alt=\"Open In Colab\"/></a>"
      ]
    },
    {
      "cell_type": "markdown",
      "source": [
        "**크롤링한 댓글에서 가장 많이 나온 keyword(어근활용)를 30개 추출**"
      ],
      "metadata": {
        "id": "s4OFC1rqNZix"
      }
    },
    {
      "cell_type": "code",
      "source": [
        "!pip install nltk\n",
        "!pip install konlpy\n",
        "!pip install pandas\n"
      ],
      "metadata": {
        "id": "Poknm4BJAZbG",
        "outputId": "16bd465a-ffac-4f38-87d1-5adc2b9eff86",
        "colab": {
          "base_uri": "https://localhost:8080/"
        }
      },
      "execution_count": null,
      "outputs": [
        {
          "output_type": "stream",
          "name": "stdout",
          "text": [
            "Looking in indexes: https://pypi.org/simple, https://us-python.pkg.dev/colab-wheels/public/simple/\n",
            "Requirement already satisfied: nltk in /usr/local/lib/python3.7/dist-packages (3.2.5)\n",
            "Requirement already satisfied: six in /usr/local/lib/python3.7/dist-packages (from nltk) (1.15.0)\n",
            "Looking in indexes: https://pypi.org/simple, https://us-python.pkg.dev/colab-wheels/public/simple/\n",
            "Collecting konlpy\n",
            "  Downloading konlpy-0.6.0-py2.py3-none-any.whl (19.4 MB)\n",
            "\u001b[K     |████████████████████████████████| 19.4 MB 1.2 MB/s \n",
            "\u001b[?25hRequirement already satisfied: numpy>=1.6 in /usr/local/lib/python3.7/dist-packages (from konlpy) (1.21.6)\n",
            "Requirement already satisfied: lxml>=4.1.0 in /usr/local/lib/python3.7/dist-packages (from konlpy) (4.2.6)\n",
            "Collecting JPype1>=0.7.0\n",
            "  Downloading JPype1-1.4.0-cp37-cp37m-manylinux_2_5_x86_64.manylinux1_x86_64.whl (453 kB)\n",
            "\u001b[K     |████████████████████████████████| 453 kB 42.5 MB/s \n",
            "\u001b[?25hRequirement already satisfied: typing-extensions in /usr/local/lib/python3.7/dist-packages (from JPype1>=0.7.0->konlpy) (4.2.0)\n",
            "Installing collected packages: JPype1, konlpy\n",
            "Successfully installed JPype1-1.4.0 konlpy-0.6.0\n",
            "Looking in indexes: https://pypi.org/simple, https://us-python.pkg.dev/colab-wheels/public/simple/\n",
            "Requirement already satisfied: pandas in /usr/local/lib/python3.7/dist-packages (1.3.5)\n",
            "Requirement already satisfied: python-dateutil>=2.7.3 in /usr/local/lib/python3.7/dist-packages (from pandas) (2.8.2)\n",
            "Requirement already satisfied: pytz>=2017.3 in /usr/local/lib/python3.7/dist-packages (from pandas) (2022.1)\n",
            "Requirement already satisfied: numpy>=1.17.3 in /usr/local/lib/python3.7/dist-packages (from pandas) (1.21.6)\n",
            "Requirement already satisfied: six>=1.5 in /usr/local/lib/python3.7/dist-packages (from python-dateutil>=2.7.3->pandas) (1.15.0)\n"
          ]
        }
      ]
    },
    {
      "cell_type": "code",
      "source": [
        "import pandas as pd\n",
        "crawling_data = pd.read_csv('crawling.csv')\n",
        "print(crawling_data['comments'][:10])\n",
        "comments_all_saved = crawling_data['comments']\n",
        "print(crawling_data['date'][0])\n",
        "date =crawling_data['date'][0]"
      ],
      "metadata": {
        "id": "lz5E5USt_YZi",
        "outputId": "d609fb95-c8c0-4a1a-a448-a47cee1e3c15",
        "colab": {
          "base_uri": "https://localhost:8080/"
        }
      },
      "execution_count": null,
      "outputs": [
        {
          "output_type": "stream",
          "name": "stdout",
          "text": [
            "0    If I go out and buy a $5 wrench and attack mys...\n",
            "1    Please remain seated, seatbelts on, we are exp...\n",
            "2                                   Didn’t sell a sat.\n",
            "3     Holding and bought some extra on top of my dca 🤑\n",
            "4    I've been waiting for BTC to drop, yesterday l...\n",
            "5              jobs report is positive, why we dumping\n",
            "6    Not sure about anyone else, but I couldn't car...\n",
            "7    If you just buy now and hold until at least th...\n",
            "8    Any other year, BTC would be at like $8k right...\n",
            "9    Unemployment report out in 15 mins.  That’ll p...\n",
            "Name: comments, dtype: object\n",
            "2022-05-06\n"
          ]
        }
      ]
    },
    {
      "cell_type": "code",
      "source": [
        "# 2. 대소문자를 구분하기에 소문자로 통일\n",
        "import re\n",
        "compile = re.compile(\"\\W+\")\n",
        "for i in range(len(comments_all_saved)):\n",
        "\n",
        "    comment = compile.sub(\" \",comments_all_saved[i])\n",
        "    comments_all_saved[i] = comment.lower()\n",
        "print(comments_all_saved)"
      ],
      "metadata": {
        "id": "7A5l6EOKAoiC",
        "outputId": "cbf1a6ad-a77e-47e7-c985-c4ead0f38aab",
        "colab": {
          "base_uri": "https://localhost:8080/"
        }
      },
      "execution_count": null,
      "outputs": [
        {
          "output_type": "stream",
          "name": "stdout",
          "text": [
            "0      if i go out and buy a 5 wrench and attack myse...\n",
            "1      please remain seated seatbelts on we are exper...\n",
            "2                                     didn t sell a sat \n",
            "3        holding and bought some extra on top of my dca \n",
            "4      i ve been waiting for btc to drop yesterday lo...\n",
            "                             ...                        \n",
            "197               this daily thread can be so cringe lol\n",
            "198                               this sub in a nutshell\n",
            "199     no it doesn t i m gonna buy more whatever the...\n",
            "200    i m not sure to be honest for a regular bitcoi...\n",
            "201    i ve literally never purchased one single thin...\n",
            "Name: comments, Length: 202, dtype: object\n"
          ]
        },
        {
          "output_type": "stream",
          "name": "stderr",
          "text": [
            "/usr/local/lib/python3.7/dist-packages/ipykernel_launcher.py:7: SettingWithCopyWarning: \n",
            "A value is trying to be set on a copy of a slice from a DataFrame\n",
            "\n",
            "See the caveats in the documentation: https://pandas.pydata.org/pandas-docs/stable/user_guide/indexing.html#returning-a-view-versus-a-copy\n",
            "  import sys\n"
          ]
        }
      ]
    },
    {
      "cell_type": "code",
      "source": [
        "# 3. 불용어제거 => nltk를 사용해서 불용어를 모아 놓은 리스트를 다운로드하여 불용어를 제거\n",
        "import nltk\n",
        "##처음 한번만 실행 후 주석처리##\n",
        "# nltk.download('all')\n",
        "# nltk.download('wordnet')\n",
        "# nltk.download('stopwords')\n",
        "##############################\n",
        "from nltk.corpus import stopwords\n",
        "stop_words_list = stopwords.words('english')\n",
        "\n",
        "# 불용어 추가를 위한 코드작성\n",
        "stop_word_list = ['people','peopl','bitcoin', 'btc'] # 종목 이름은 필요없음.\n",
        "for stop_word in stop_word_list:\n",
        "  if stop_word in stop_words_list:\n",
        "    print('불용어리스트에 이미 존재합니다.')\n",
        "  else:\n",
        "    stop_words_list.append(stop_word)\n",
        "    print('{0}를 불용어리스트에 추가합니다'.format(stop_word))\n",
        "\n",
        "print(\"불용어 리스트 10개: \",stop_words_list[:10])\n",
        "\n",
        "stop_word_eng = set(stop_words_list)\n",
        "comments_all_saved = [i for i in comments_all_saved if i not in stop_word_eng]\n"
      ],
      "metadata": {
        "id": "I6ONk-QRDhCK",
        "outputId": "9dd38510-1901-41e4-f67f-559f582234a1",
        "colab": {
          "base_uri": "https://localhost:8080/"
        }
      },
      "execution_count": null,
      "outputs": [
        {
          "output_type": "stream",
          "name": "stdout",
          "text": [
            "[nltk_data] Downloading collection 'all'\n",
            "[nltk_data]    | \n",
            "[nltk_data]    | Downloading package abc to /root/nltk_data...\n",
            "[nltk_data]    |   Unzipping corpora/abc.zip.\n",
            "[nltk_data]    | Downloading package alpino to /root/nltk_data...\n",
            "[nltk_data]    |   Unzipping corpora/alpino.zip.\n",
            "[nltk_data]    | Downloading package averaged_perceptron_tagger to\n",
            "[nltk_data]    |     /root/nltk_data...\n",
            "[nltk_data]    |   Unzipping taggers/averaged_perceptron_tagger.zip.\n",
            "[nltk_data]    | Downloading package averaged_perceptron_tagger_ru to\n",
            "[nltk_data]    |     /root/nltk_data...\n",
            "[nltk_data]    |   Unzipping\n",
            "[nltk_data]    |       taggers/averaged_perceptron_tagger_ru.zip.\n",
            "[nltk_data]    | Downloading package basque_grammars to\n",
            "[nltk_data]    |     /root/nltk_data...\n",
            "[nltk_data]    |   Unzipping grammars/basque_grammars.zip.\n",
            "[nltk_data]    | Downloading package biocreative_ppi to\n",
            "[nltk_data]    |     /root/nltk_data...\n",
            "[nltk_data]    |   Unzipping corpora/biocreative_ppi.zip.\n",
            "[nltk_data]    | Downloading package bllip_wsj_no_aux to\n",
            "[nltk_data]    |     /root/nltk_data...\n",
            "[nltk_data]    |   Unzipping models/bllip_wsj_no_aux.zip.\n",
            "[nltk_data]    | Downloading package book_grammars to\n",
            "[nltk_data]    |     /root/nltk_data...\n",
            "[nltk_data]    |   Unzipping grammars/book_grammars.zip.\n",
            "[nltk_data]    | Downloading package brown to /root/nltk_data...\n",
            "[nltk_data]    |   Unzipping corpora/brown.zip.\n",
            "[nltk_data]    | Downloading package brown_tei to /root/nltk_data...\n",
            "[nltk_data]    |   Unzipping corpora/brown_tei.zip.\n",
            "[nltk_data]    | Downloading package cess_cat to /root/nltk_data...\n",
            "[nltk_data]    |   Unzipping corpora/cess_cat.zip.\n",
            "[nltk_data]    | Downloading package cess_esp to /root/nltk_data...\n",
            "[nltk_data]    |   Unzipping corpora/cess_esp.zip.\n",
            "[nltk_data]    | Downloading package chat80 to /root/nltk_data...\n",
            "[nltk_data]    |   Unzipping corpora/chat80.zip.\n",
            "[nltk_data]    | Downloading package city_database to\n",
            "[nltk_data]    |     /root/nltk_data...\n",
            "[nltk_data]    |   Unzipping corpora/city_database.zip.\n",
            "[nltk_data]    | Downloading package cmudict to /root/nltk_data...\n",
            "[nltk_data]    |   Unzipping corpora/cmudict.zip.\n",
            "[nltk_data]    | Downloading package comparative_sentences to\n",
            "[nltk_data]    |     /root/nltk_data...\n",
            "[nltk_data]    |   Unzipping corpora/comparative_sentences.zip.\n",
            "[nltk_data]    | Downloading package comtrans to /root/nltk_data...\n",
            "[nltk_data]    | Downloading package conll2000 to /root/nltk_data...\n",
            "[nltk_data]    |   Unzipping corpora/conll2000.zip.\n",
            "[nltk_data]    | Downloading package conll2002 to /root/nltk_data...\n",
            "[nltk_data]    |   Unzipping corpora/conll2002.zip.\n",
            "[nltk_data]    | Downloading package conll2007 to /root/nltk_data...\n",
            "[nltk_data]    | Downloading package crubadan to /root/nltk_data...\n",
            "[nltk_data]    |   Unzipping corpora/crubadan.zip.\n",
            "[nltk_data]    | Downloading package dependency_treebank to\n",
            "[nltk_data]    |     /root/nltk_data...\n",
            "[nltk_data]    |   Unzipping corpora/dependency_treebank.zip.\n",
            "[nltk_data]    | Downloading package dolch to /root/nltk_data...\n",
            "[nltk_data]    |   Unzipping corpora/dolch.zip.\n",
            "[nltk_data]    | Downloading package europarl_raw to\n",
            "[nltk_data]    |     /root/nltk_data...\n",
            "[nltk_data]    |   Unzipping corpora/europarl_raw.zip.\n",
            "[nltk_data]    | Downloading package extended_omw to\n",
            "[nltk_data]    |     /root/nltk_data...\n",
            "[nltk_data]    |   Unzipping corpora/extended_omw.zip.\n",
            "[nltk_data]    | Downloading package floresta to /root/nltk_data...\n",
            "[nltk_data]    |   Unzipping corpora/floresta.zip.\n",
            "[nltk_data]    | Downloading package framenet_v15 to\n",
            "[nltk_data]    |     /root/nltk_data...\n",
            "[nltk_data]    |   Unzipping corpora/framenet_v15.zip.\n",
            "[nltk_data]    | Downloading package framenet_v17 to\n",
            "[nltk_data]    |     /root/nltk_data...\n",
            "[nltk_data]    |   Unzipping corpora/framenet_v17.zip.\n",
            "[nltk_data]    | Downloading package gazetteers to /root/nltk_data...\n",
            "[nltk_data]    |   Unzipping corpora/gazetteers.zip.\n",
            "[nltk_data]    | Downloading package genesis to /root/nltk_data...\n",
            "[nltk_data]    |   Unzipping corpora/genesis.zip.\n",
            "[nltk_data]    | Downloading package gutenberg to /root/nltk_data...\n",
            "[nltk_data]    |   Unzipping corpora/gutenberg.zip.\n",
            "[nltk_data]    | Downloading package ieer to /root/nltk_data...\n",
            "[nltk_data]    |   Unzipping corpora/ieer.zip.\n",
            "[nltk_data]    | Downloading package inaugural to /root/nltk_data...\n",
            "[nltk_data]    |   Unzipping corpora/inaugural.zip.\n",
            "[nltk_data]    | Downloading package indian to /root/nltk_data...\n",
            "[nltk_data]    |   Unzipping corpora/indian.zip.\n",
            "[nltk_data]    | Downloading package jeita to /root/nltk_data...\n",
            "[nltk_data]    | Downloading package kimmo to /root/nltk_data...\n",
            "[nltk_data]    |   Unzipping corpora/kimmo.zip.\n",
            "[nltk_data]    | Downloading package knbc to /root/nltk_data...\n",
            "[nltk_data]    | Downloading package large_grammars to\n",
            "[nltk_data]    |     /root/nltk_data...\n",
            "[nltk_data]    |   Unzipping grammars/large_grammars.zip.\n",
            "[nltk_data]    | Downloading package lin_thesaurus to\n",
            "[nltk_data]    |     /root/nltk_data...\n",
            "[nltk_data]    |   Unzipping corpora/lin_thesaurus.zip.\n",
            "[nltk_data]    | Downloading package mac_morpho to /root/nltk_data...\n",
            "[nltk_data]    |   Unzipping corpora/mac_morpho.zip.\n",
            "[nltk_data]    | Downloading package machado to /root/nltk_data...\n",
            "[nltk_data]    | Downloading package masc_tagged to /root/nltk_data...\n",
            "[nltk_data]    | Downloading package maxent_ne_chunker to\n",
            "[nltk_data]    |     /root/nltk_data...\n",
            "[nltk_data]    |   Unzipping chunkers/maxent_ne_chunker.zip.\n",
            "[nltk_data]    | Downloading package maxent_treebank_pos_tagger to\n",
            "[nltk_data]    |     /root/nltk_data...\n",
            "[nltk_data]    |   Unzipping taggers/maxent_treebank_pos_tagger.zip.\n",
            "[nltk_data]    | Downloading package moses_sample to\n",
            "[nltk_data]    |     /root/nltk_data...\n",
            "[nltk_data]    |   Unzipping models/moses_sample.zip.\n",
            "[nltk_data]    | Downloading package movie_reviews to\n",
            "[nltk_data]    |     /root/nltk_data...\n",
            "[nltk_data]    |   Unzipping corpora/movie_reviews.zip.\n",
            "[nltk_data]    | Downloading package mte_teip5 to /root/nltk_data...\n",
            "[nltk_data]    |   Unzipping corpora/mte_teip5.zip.\n",
            "[nltk_data]    | Downloading package mwa_ppdb to /root/nltk_data...\n",
            "[nltk_data]    |   Unzipping misc/mwa_ppdb.zip.\n",
            "[nltk_data]    | Downloading package names to /root/nltk_data...\n",
            "[nltk_data]    |   Unzipping corpora/names.zip.\n",
            "[nltk_data]    | Downloading package nombank.1.0 to /root/nltk_data...\n",
            "[nltk_data]    | Downloading package nonbreaking_prefixes to\n",
            "[nltk_data]    |     /root/nltk_data...\n",
            "[nltk_data]    |   Unzipping corpora/nonbreaking_prefixes.zip.\n",
            "[nltk_data]    | Downloading package nps_chat to /root/nltk_data...\n",
            "[nltk_data]    |   Unzipping corpora/nps_chat.zip.\n",
            "[nltk_data]    | Downloading package omw to /root/nltk_data...\n",
            "[nltk_data]    |   Unzipping corpora/omw.zip.\n",
            "[nltk_data]    | Downloading package omw-1.4 to /root/nltk_data...\n",
            "[nltk_data]    |   Unzipping corpora/omw-1.4.zip.\n",
            "[nltk_data]    | Downloading package opinion_lexicon to\n",
            "[nltk_data]    |     /root/nltk_data...\n",
            "[nltk_data]    |   Unzipping corpora/opinion_lexicon.zip.\n",
            "[nltk_data]    | Downloading package panlex_swadesh to\n",
            "[nltk_data]    |     /root/nltk_data...\n",
            "[nltk_data]    | Downloading package paradigms to /root/nltk_data...\n",
            "[nltk_data]    |   Unzipping corpora/paradigms.zip.\n",
            "[nltk_data]    | Downloading package pe08 to /root/nltk_data...\n",
            "[nltk_data]    |   Unzipping corpora/pe08.zip.\n",
            "[nltk_data]    | Downloading package perluniprops to\n",
            "[nltk_data]    |     /root/nltk_data...\n",
            "[nltk_data]    |   Unzipping misc/perluniprops.zip.\n",
            "[nltk_data]    | Downloading package pil to /root/nltk_data...\n",
            "[nltk_data]    |   Unzipping corpora/pil.zip.\n",
            "[nltk_data]    | Downloading package pl196x to /root/nltk_data...\n",
            "[nltk_data]    |   Unzipping corpora/pl196x.zip.\n",
            "[nltk_data]    | Downloading package porter_test to /root/nltk_data...\n",
            "[nltk_data]    |   Unzipping stemmers/porter_test.zip.\n",
            "[nltk_data]    | Downloading package ppattach to /root/nltk_data...\n",
            "[nltk_data]    |   Unzipping corpora/ppattach.zip.\n",
            "[nltk_data]    | Downloading package problem_reports to\n",
            "[nltk_data]    |     /root/nltk_data...\n",
            "[nltk_data]    |   Unzipping corpora/problem_reports.zip.\n",
            "[nltk_data]    | Downloading package product_reviews_1 to\n",
            "[nltk_data]    |     /root/nltk_data...\n",
            "[nltk_data]    |   Unzipping corpora/product_reviews_1.zip.\n",
            "[nltk_data]    | Downloading package product_reviews_2 to\n",
            "[nltk_data]    |     /root/nltk_data...\n",
            "[nltk_data]    |   Unzipping corpora/product_reviews_2.zip.\n",
            "[nltk_data]    | Downloading package propbank to /root/nltk_data...\n",
            "[nltk_data]    | Downloading package pros_cons to /root/nltk_data...\n",
            "[nltk_data]    |   Unzipping corpora/pros_cons.zip.\n",
            "[nltk_data]    | Downloading package ptb to /root/nltk_data...\n",
            "[nltk_data]    |   Unzipping corpora/ptb.zip.\n",
            "[nltk_data]    | Downloading package punkt to /root/nltk_data...\n",
            "[nltk_data]    |   Unzipping tokenizers/punkt.zip.\n",
            "[nltk_data]    | Downloading package qc to /root/nltk_data...\n",
            "[nltk_data]    |   Unzipping corpora/qc.zip.\n",
            "[nltk_data]    | Downloading package reuters to /root/nltk_data...\n",
            "[nltk_data]    | Downloading package rslp to /root/nltk_data...\n",
            "[nltk_data]    |   Unzipping stemmers/rslp.zip.\n",
            "[nltk_data]    | Downloading package rte to /root/nltk_data...\n",
            "[nltk_data]    |   Unzipping corpora/rte.zip.\n",
            "[nltk_data]    | Downloading package sample_grammars to\n",
            "[nltk_data]    |     /root/nltk_data...\n",
            "[nltk_data]    |   Unzipping grammars/sample_grammars.zip.\n",
            "[nltk_data]    | Downloading package semcor to /root/nltk_data...\n",
            "[nltk_data]    | Downloading package senseval to /root/nltk_data...\n",
            "[nltk_data]    |   Unzipping corpora/senseval.zip.\n",
            "[nltk_data]    | Downloading package sentence_polarity to\n",
            "[nltk_data]    |     /root/nltk_data...\n",
            "[nltk_data]    |   Unzipping corpora/sentence_polarity.zip.\n",
            "[nltk_data]    | Downloading package sentiwordnet to\n",
            "[nltk_data]    |     /root/nltk_data...\n",
            "[nltk_data]    |   Unzipping corpora/sentiwordnet.zip.\n",
            "[nltk_data]    | Downloading package shakespeare to /root/nltk_data...\n",
            "[nltk_data]    |   Unzipping corpora/shakespeare.zip.\n",
            "[nltk_data]    | Downloading package sinica_treebank to\n",
            "[nltk_data]    |     /root/nltk_data...\n",
            "[nltk_data]    |   Unzipping corpora/sinica_treebank.zip.\n",
            "[nltk_data]    | Downloading package smultron to /root/nltk_data...\n",
            "[nltk_data]    |   Unzipping corpora/smultron.zip.\n",
            "[nltk_data]    | Downloading package snowball_data to\n",
            "[nltk_data]    |     /root/nltk_data...\n",
            "[nltk_data]    | Downloading package spanish_grammars to\n",
            "[nltk_data]    |     /root/nltk_data...\n",
            "[nltk_data]    |   Unzipping grammars/spanish_grammars.zip.\n",
            "[nltk_data]    | Downloading package state_union to /root/nltk_data...\n",
            "[nltk_data]    |   Unzipping corpora/state_union.zip.\n",
            "[nltk_data]    | Downloading package stopwords to /root/nltk_data...\n",
            "[nltk_data]    |   Unzipping corpora/stopwords.zip.\n",
            "[nltk_data]    | Downloading package subjectivity to\n",
            "[nltk_data]    |     /root/nltk_data...\n",
            "[nltk_data]    |   Unzipping corpora/subjectivity.zip.\n",
            "[nltk_data]    | Downloading package swadesh to /root/nltk_data...\n",
            "[nltk_data]    |   Unzipping corpora/swadesh.zip.\n",
            "[nltk_data]    | Downloading package switchboard to /root/nltk_data...\n",
            "[nltk_data]    |   Unzipping corpora/switchboard.zip.\n",
            "[nltk_data]    | Downloading package tagsets to /root/nltk_data...\n",
            "[nltk_data]    |   Unzipping help/tagsets.zip.\n",
            "[nltk_data]    | Downloading package timit to /root/nltk_data...\n",
            "[nltk_data]    |   Unzipping corpora/timit.zip.\n",
            "[nltk_data]    | Downloading package toolbox to /root/nltk_data...\n",
            "[nltk_data]    |   Unzipping corpora/toolbox.zip.\n",
            "[nltk_data]    | Downloading package treebank to /root/nltk_data...\n",
            "[nltk_data]    |   Unzipping corpora/treebank.zip.\n",
            "[nltk_data]    | Downloading package twitter_samples to\n",
            "[nltk_data]    |     /root/nltk_data...\n",
            "[nltk_data]    |   Unzipping corpora/twitter_samples.zip.\n",
            "[nltk_data]    | Downloading package udhr to /root/nltk_data...\n",
            "[nltk_data]    |   Unzipping corpora/udhr.zip.\n",
            "[nltk_data]    | Downloading package udhr2 to /root/nltk_data...\n",
            "[nltk_data]    |   Unzipping corpora/udhr2.zip.\n",
            "[nltk_data]    | Downloading package unicode_samples to\n",
            "[nltk_data]    |     /root/nltk_data...\n",
            "[nltk_data]    |   Unzipping corpora/unicode_samples.zip.\n",
            "[nltk_data]    | Downloading package universal_tagset to\n",
            "[nltk_data]    |     /root/nltk_data...\n",
            "[nltk_data]    |   Unzipping taggers/universal_tagset.zip.\n",
            "[nltk_data]    | Downloading package universal_treebanks_v20 to\n",
            "[nltk_data]    |     /root/nltk_data...\n",
            "[nltk_data]    | Downloading package vader_lexicon to\n",
            "[nltk_data]    |     /root/nltk_data...\n",
            "[nltk_data]    | Downloading package verbnet to /root/nltk_data...\n",
            "[nltk_data]    |   Unzipping corpora/verbnet.zip.\n",
            "[nltk_data]    | Downloading package verbnet3 to /root/nltk_data...\n",
            "[nltk_data]    |   Unzipping corpora/verbnet3.zip.\n",
            "[nltk_data]    | Downloading package webtext to /root/nltk_data...\n",
            "[nltk_data]    |   Unzipping corpora/webtext.zip.\n",
            "[nltk_data]    | Downloading package wmt15_eval to /root/nltk_data...\n",
            "[nltk_data]    |   Unzipping models/wmt15_eval.zip.\n",
            "[nltk_data]    | Downloading package word2vec_sample to\n",
            "[nltk_data]    |     /root/nltk_data...\n",
            "[nltk_data]    |   Unzipping models/word2vec_sample.zip.\n",
            "[nltk_data]    | Downloading package wordnet to /root/nltk_data...\n",
            "[nltk_data]    |   Unzipping corpora/wordnet.zip.\n",
            "[nltk_data]    | Downloading package wordnet2021 to /root/nltk_data...\n",
            "[nltk_data]    |   Unzipping corpora/wordnet2021.zip.\n",
            "[nltk_data]    | Downloading package wordnet31 to /root/nltk_data...\n",
            "[nltk_data]    |   Unzipping corpora/wordnet31.zip.\n",
            "[nltk_data]    | Downloading package wordnet_ic to /root/nltk_data...\n",
            "[nltk_data]    |   Unzipping corpora/wordnet_ic.zip.\n",
            "[nltk_data]    | Downloading package words to /root/nltk_data...\n",
            "[nltk_data]    |   Unzipping corpora/words.zip.\n",
            "[nltk_data]    | Downloading package ycoe to /root/nltk_data...\n",
            "[nltk_data]    |   Unzipping corpora/ycoe.zip.\n",
            "[nltk_data]    | \n",
            "[nltk_data]  Done downloading collection all\n",
            "[nltk_data] Downloading package wordnet to /root/nltk_data...\n",
            "[nltk_data]   Package wordnet is already up-to-date!\n",
            "[nltk_data] Downloading package stopwords to /root/nltk_data...\n",
            "[nltk_data]   Package stopwords is already up-to-date!\n",
            "people를 불용어리스트에 추가합니다\n",
            "peopl를 불용어리스트에 추가합니다\n",
            "bitcoin를 불용어리스트에 추가합니다\n",
            "btc를 불용어리스트에 추가합니다\n",
            "불용어 리스트 10개:  ['i', 'me', 'my', 'myself', 'we', 'our', 'ours', 'ourselves', 'you', \"you're\"]\n"
          ]
        }
      ]
    },
    {
      "cell_type": "code",
      "source": [
        "# 4. 어근동일화 : 의미가 같지만 모양이 다른 단어들을 컴퓨터가 같은 단어로 인식할 수 있도록 전처리\n",
        "\n",
        "import nltk\n",
        "from nltk.tokenize import RegexpTokenizer\n",
        "from nltk.stem.porter import PorterStemmer\n",
        "ps_stemmer = PorterStemmer()\n",
        "token = RegexpTokenizer('[\\w]+')\n",
        "result = [token.tokenize(i) for i in comments_all_saved]\n",
        "middle_result= [r for i in result for r in i]\n",
        "final_result = [ps_stemmer.stem(i) for i in middle_result if not i in stop_word_eng] # 불용어 제거\n",
        "print(final_result)\n"
      ],
      "metadata": {
        "id": "otuuFX68ESvc",
        "outputId": "d6e9b22e-bfad-4888-a204-5daaa36d0b52",
        "colab": {
          "base_uri": "https://localhost:8080/"
        }
      },
      "execution_count": null,
      "outputs": [
        {
          "output_type": "stream",
          "name": "stdout",
          "text": [
            "['go', 'buy', '5', 'wrench', 'attack', 'long', 'think', 'take', 'immun', 'pleas', 'remain', 'seat', 'seatbelt', 'experienc', 'slight', 'turbul', 'meantim', 'pleas', 'perus', 'inflight', 'magazin', 'find', 'excel', 'offer', 'fiat', 'crash', 'violent', 'sea', 'sell', 'sat', 'hold', 'bought', 'extra', 'top', 'dca', 'wait', 'drop', 'yesterday', 'load', 'first', 'one', 'job', 'report', 'posit', 'dump', 'sure', 'anyon', 'els', 'care', 'less', 'current', 'market', 'condit', 'long', 'run', 'nois', 'silli', 'upset', 'buy', 'hold', 'least', 'year', 'next', 'halv', 'inflat', 'hike', 'whatev', 'product', 'servic', 'laughabl', 'moment', 'year', 'would', 'like', '8k', 'right', 'unemploy', 'report', '15', 'min', 'probabl', 'reason', 'today', 'movement', 'well', 'stock', 'side', 'probabl', 'want', 'hold', 'weekend', 'yesterday', 'slaughter', 'stay', 'tune', 'got', 'email', 'vanguard', 'hold', 'gbtc', 'ira', 'ask', 'submit', 'comment', 'sec', 'convert', 'gbtc', 'etf', 'link', 'http', 'grayscal', 'com', 'sharehold', 'http', 'grayscal', 'com', 'sharehold', 'hope', 'get', 'done', 'need', 'bullish', 'news', 'think', 'deadlin', 'come', 'week', 'mani', 'lil', 'boy', 'cri', 'reach', 'anoth', 'ath', '7', 'month', 'last', 'go', 'back', 'stack', 'lego', 'jobsreportcoin', 'someon', 'buy', 'ath', 'frantic', 'sell', 'stuff', 'ebay', 'rais', 'cash', 'buy', 'sat', 'hard', 'time', 'guy', 'rememb', 'fine', 'next', 'pump', 'buy', 'next', 'dump', 'sell', 'fine', 'hi', 'guy', 'hope', 'well', 'pleas', 'someon', 'explain', 'heck', 'would', 'take', 'money', 'someth', 'store', 'valu', 'limit', 'suppli', 'someth', 'lose', 'valu', 'daili', 'fiat', 'danger', 'inflationari', 'environ', 'opinion', 'without', 'preced', 'assum', 'put', 'money', 'stock', 'seen', 'safer', 'invest', 'enter', 'multi', 'year', 'even', 'decad', 'stagnat', 'much', 'rather', 'much', 'room', 'grow', 'next', 'decad', 'beyond', 'coder', 'still', 'look', 'contribut', 'commun', 'way', '1', 'run', 'node', '2', 'take', 'exchang', 'learn', 'self', 'custodi', 'go', 'back', 'work', 'get', 'job', 'trader', 'hodler', 'rememb', 'el', 'salvador', 'show', 'sentiment', 'analysi', 'dashboard', 'tell', 'much', 'stack', 'stack', 'em', 'got', 'em', 'ya', 'think', 'best', 'dca', 'strat', '10', 'dca', 'daili', '4', '6', 'auto', 'limit', 'buy', 'dca', '50', 'weekli', 'sunday', 'dca', 'weak', 'hand', 'wipe', 'bullish', 'http', 'financ', 'yahoo', 'com', 'news', 'argentina', 'imf', 'bailout', 'deal', 'includ', '190748787', 'html', 'imf', 'withold', 'financi', 'support', 'struggl', 'economi', 'unless', 'take', 'strong', 'stanc', 'crypto', 'expect', 'see', 'go', 'forward', 'perhap', 'see', 'bifurc', 'nation', 'choos', 'path', 'continu', 'exist', 'system', 'interest', 'time', 'saw', 'huge', 'dump', 'yesterday', 'red', 'candl', 'realli', 'pain', 'thing', 'watch', 'hope', 'market', 'recov', 'quickli', 'loss', 'capitalis', 'gain', 'one', 'thing', 'market', 'dca', 'fund', 'proud', 'boy', 'give', 'money', 'money', 'money', 'money', 'need', 'lot', 'think', 'go', '20', '25', 'k', 'dollar', 'black', 'friday', 'cyber', 'monday', 'basic', 'sale', 'season', 'let', 'go', 'stop', 'alreadi', 'dead', 'alreadi', 'dead', 'much', 'volum', 'jesu', 'christ', 'almost', '40k', 'us', 'dollar', 'stock', 'market', 'cash', 'worthless', 'load', 'real', 'asset', 'dollar', 'die', 'die', 'dw', 'guy', 'extens', 'analysi', 'pretti', 'sure', 'gonna', 'hit', '10mil', '2025', 'bought', 'one', 'year', 'ago', 'would', '36', 'hedg', 'inflat', 'said', 'cheap', 'sat', 'final', 'admit', 'bear', 'market', 'wen', 'lambo', 'feel', 'like', 'head', 'bear', 'market', 'halv', 'glad', 'sold', 'around', '55k', '60k', 'hous', 'abl', 'buy', 'back', 'paper', 'hand', 'fold', 'wild', 'ass', 'guess', '28k', 'next', 'coupl', 'year', 'replac', 'sold', 'time', 'market', 'better', 'time', 'market', 'better', 'one', 'death', 'thousand', 'cut', 'sustain', 'momentum', 'like', 'sideway', 'action', 'next', 'halv', 'pretti', 'much', 'exactli', 'middl', 'cycl', 'small', 'pump', 'bigger', 'dip', 'sideway', 'loooong', 'time', 'good', 'time', 'accumul', 'though', 'guess', 'go', 'lower', 'today', 'thought', 'bottom', 'given', 'current', 'news', 'stock', 'market', 'seem', 'see', 'low', '30', 'mayb', 'high', '20', 'definit', 'seem', 'shoot', 'back', 'anytim', 'soon', 'mind', 'feddi', 'dreamer', 'allow', 'go', 'everyth', 'els', 'melt', 'point', 'want', 'make', 'mistak', 'keep', 'calm', 'hodl', 'know', 'pretti', 'cryptic', 'lol', 'becom', 'lotteri', 'decentr', 'anonym', 'place', 'probabl', 'statist', 'come', 'whale', 'perfectli', 'manipul', 'manag', 'asset', 'becom', 'anoth', 'instrument', 'classic', 'financ', 'let', 'individu', 'ask', 'whether', 'particip', 'end', 'moral', 'put', 'mildli', 'hope', 'wrong', 'nice', 'day', 'guy', 'greet', 'limit', 'order', 'close', '36k', 'place', 'come', 'babi', 'take', 'mistak', 'price', 'next', 'three', 'limit', 'order', 'set', 'store', 'ledger', 'lend', 'interest', 'lend', 'recent', 'rate', 'slash', 'dramat', 'current', 'mine', 'ledger', 'wonder', 'know', 'precentag', 'institut', 'hand', 'talk', 'guess', 'rather', 'statist', 'proof', 'delet', 'hodler', 'trade', 'hold', 'let', 'sink', 'moment', 'opinion', 'idea', 'sell', 'put', 'contract', 'buy', 'back', '10', 'sell', 'price', 'ship', 'sail', 'much', 'risk', 'point', 'got', 'damn', 'actual', 'master', 'cryptographi', 'topic', 'dissert', 'test', 'differ', 'approach', 'one', 'shown', 'work', 'reliabl', 'singl', 'strong', 'blow', 'side', 'head', 'though', 'may', 'requir', 'one', 'blow', 'result', 'perman', 'memori', 'loss', 'put', 'privat', 'key', 'perman', 'secur', 'cold', 'storag', 'accident', 'stumbl', 'recoveri', 'phrase', 'hide', 'well', 'forget', 'drug', 'depend', 'whether', 'attack', 'hit', 'hit', 'hard', 'hit', 'also', 'mani', 'donut', 'ate', 'past', '6', 'month', 'made', 'lol', 'focu', 'head', 'groin', 'hodl', 'common', 'typo', 'ff', 'phone', 'autocorrect', 'hold', 'bother', 'chang', 'hodl', 'calm', 'tit', 'everybodi', 'wait', 'alway', 'risk', 'happi', 'work', 'well', 'time', 'dca', 'ing', 'everi', 'month', 'regardless', 'price', 'everi', '2', '3', 'year', 'cri', 'yet', 'price', 'long', 'term', 'dca', 'take', 'exchang', 'creat', 'node', 'learn', 'ln', 'start', 'use', 'real', 'life', 'agenda', 'everyon', 'right', 'happi', 'whenev', 'price', 'move', 'subreddit', 'bore', 'otherwis', 'painful', 'bought', '50', 'even', '60', 'realli', 'show', 'strenght', 'imo', 'dip', 'yesterday', 'sell', 'loss', 'today', 'thank', 'hold', 'duplo', 'lol', '69', '69', 'ragrat', 'michael', 'main', 'reason', 'stress', 'daili', 'contact', 'idiot', 'albert', 'einstein', 'think', 'miss', 'step', 'earn', 'cash', 'buy', 'go', 'etc', 'one', 'day', 'notic', 'inflat', 'caus', 'energi', 'price', 'acceler', 'sell', 'cash', 'buy', 'chevron', 'stock', 'cash', 'enjoy', 'watch', 'chevron', 'stock', 'go', 'pay', 'health', 'dividend', 'stay', 'fiat', 'continu', 'journey', 'anoth', 'asset', 'mayb', 'retir', 'cash', 'go', 'rent', 'food', 'fun', 'etc', 'go', 'panic', 'sell', 'even', 'assum', 'go', 'zero', 'call', 'natur', 'select', 'friend', 'revert', 'know', 'especi', 'panick', 'like', 'abus', 'relationship', 'keep', 'come', 'back', 'caus', 'hope', 'well', 'aww', 'thank', 'well', 'exactli', 'may', 'last', 'econom', 'implos', 'institut', 'money', 'right', 'trickl', 'realli', 'start', 'pour', 'spot', 'etf', 'approv', 'later', 'everyon', 'cri', 'buy', 'mid', 'low', '30', 'diversifi', 'put', 'money', 'dividend', 'prove', 'wrong', 'run', 'node', 'contribut', 'commun', 'node', 'bandwidth', 'requir', 'pretti', 'beefi', 'hundr', 'gig', 'per', 'month', 'typic', 'prop', 'shoulder', 'load', 'give', 'money', 'trader', 'long', 'time', 'made', 'mani', 'profit', 'start', 'comit', 'certain', 'amount', 'profit', 'long', 'term', 'hodl', 'made', 'sens', 'ever', 'sell', 'trade', 'stack', 'hodl', 'stack', 'govern', 'start', 'screw', 'around', 'exchang', 'shut', 'margin', 'altcoin', 'lost', 'alot', 'trade', 'instrument', 'also', 'new', 'tax', 'got', 'realli', 'stabl', 'stop', 'trade', 'im', 'hodler', 'see', 'hodlin', 'hatin', 'hodler', 'trade', 'hold', 'let', 'sink', 'moment', 'pay', 'trade', 'enough', 'begin', 'understand', 'import', 'benefit', 'hold', 'definit', 'hodler', 'depend', 'fee', 'pay', 'make', 'purchas', 'figur', 'pay', 'least', 'autom', 'forget', 'less', 'think', 'focu', 'day', 'depend', 'earn', 'power', 'tri', '30', 'monthli', 'incom', 'per', 'month', '1', 'per', 'day', 'month', 'ive', 'gone', 'significantli', 'amount', 'due', 'massiv', 'correct', 'dca', 'earli', 'weekday', 'usual', 'weekend', 'price', 'higher', 'bc', 'activ', 'im', 'alreadi', 'proud', 'buy', 'continu', 'dip', 'time', 'buy', 'yesterday', 'saw', 'fall', 'high', 'think', 'day', 'go', 'crab', 'market', 'show', 'movement', 'alt', 'fall', 'ask', 'think', 'would', 'know', 'possibl', 'think', 'bear', 'market', 'latest', 'drop', 'sure', 'low', 'go', 'think', 'get', 'wors', 'get', 'better', 'keep', 'stack', 'buy', '18k', '20k', 'mayb', 'ye', 'mayb', 'mayb', '28k', 'soon', 'year', 'probabl', 'http', 'www', 'fxstreet', 'com', 'cryptocurr', 'news', 'price', 'posit', 'crash', '30', '000', '202205060049', 'http', 'www', 'fxstreet', 'com', 'cryptocurr', 'news', 'price', 'posit', 'crash', '30', '000', '202205060049', 'great', 'analysi', 'analysi', 'sponsor', 'hopium', 'inc', 'sourc', 'trust', 'bro', 'teach', 'hold', 'year', 'hope', 'live', 'longer', 'one', 'year', '4', 'year', 'shortest', 'short', 'term', 'come', 'back', 'three', 'year', 'fuck', 'patienc', 'hedg', 'inflat', 'invest', 'protect', 'inflat', 'short', 'term', 'buy', 'invest', 'long', 'term', 'like', 'yield', 'greater', 'return', 'beat', 'inflat', 'bought', 'year', 'ago', 'today', 'ish', 'care', 'mean', 'cheap', 'sat', 'reach', 'bottom', '17k', 'mayb', 'hit', 'sub', '20', 'purpos', 'would', 'serv', 'admit', 'bear', 'market', 'would', 'feel', 'better', 'thank', 'ask', 'wen', 'rusti', 'old', 'bicycl', 'bent', 'front', 'wheel', 'okay', 'wait', 'actual', 'differ', 'time', 'next', 'halv', 'measur', 'valu', 'dollar', 'anymor', 'put', 'way', 'guess', 'buy', 'today', 'matter', 'plan', 'sell', 'last', 'chanc', 'buy', '36k', 'like', 'appl', 'bottom', 'jean', 'boot', 'fur', 'predict', 'bottom', 'difficult', 'predict', 'top', 'surpris', 'goe', 'lower', 'januari', 'go', '35k', 'though', 'goe', 'goe', 'way', 'goe', 'tell', 'bitti', 'goe', 'found', 'guy', 'sold', 'never', 'claim', 'anonym', 'decentr', 'seem', 'like', 'need', 'read', 'concept', 'mate', 'anybodi', 'stop', 'compani', 'state', 'evil', 'particip', 'token', 'stop', 'us', 'long', 'time', 'horizon', 'give', 'best', 'chanc', '31k', '22', '21', '18k', 'one', '20105', 'rate', 'got', 'slash', 'start', 'transfer', 'cold', 'storag', 'current', 'everyth', 'sit', 'cold', 'storag', 'ledger', 'pseudonym', 'blockchain', 'work', 'work', 'know', 'larg', 'holder', 'public', 'enough', 'matter', 'much', 'like', 'tesla', 'microstrategi', 'greyscal', 'winklevoss', 'twin', 'privat', 'infer', 'hold', 'amount', 'like', 'polychain', 'investor', 'appear', 'news', 'regularli', 'worri', 'market', 'move', 'around', 'complex', 'way', 'continu', 'unaffect', 'almost', 'fall', 'l', 'much', 'vegan', 'eat', 'plant', 'anim', 'ye', 'true', 'hodler', 'let', 'sink', 'unless', 'warrant', 'mayb', 'even', 'trade', 'great', 'one', 'thing', 'refus', 'sell', 'til', 'least', 'next', 'decad', 'perhap', 'sell', 'hit', '10x', 'everyon', 'go', 'tell', 'hold', 'ta', 'bear', 'thesi', 'believ', 'go', 'fomo', 'back', 'everi', 'pump', 'get', 'fuck', 'got', 'milk', 'say', 'degre', 'worthless', 'solid', 'research', 'well', 'done', 'think', 'anyon', 'argu', 'approach', 'eventu', 'work', 'get', 'educ', 'system', 'without', 'delet', 'student', 'data', 'ye', 'theori', 'hold', 'money', 'still', 'h', 'hodl', 'stand', 'hold', 'buy', 'new', 'person', 'make', 'near', 'local', 'top', 'price', 'admiss', 'need', 'pay', 'due', 'wise', 'spend', 'next', 'year', 'learn', 'understand', 'lesson', 'hold', 'dca', 'reward', 'next', 'ath', 'pain', 'get', 'short', 'term', 'price', 'affirm', 'pain', 'went', 'top', 'dca', 'emerg', 'fund', 'back', 'exist', 'ok', 'lol', 'think', 'follow', 'sure', 'hold', 'better', 'option', 'chang', 'mind', 'stick', 'principl', 'hold', 'good', 'luck', 'tri', 'outperform', 'inflat', 'dividend', 'free', 'lunch', 'compani', 'offer', 'dividend', 'often', 'grow', 'slower', 'rate', 'go', 'hard', 'dividend', 'well', 'realli', 'hard', 'tell', 'exactli', 'besid', 'initi', 'download', '500gb', 'think', 'node', 'gener', '10', '20gb', 'extra', 'per', 'month', 'said', 'network', 'larg', 'singl', 'extra', 'node', 'matter', 'true', 'mine', 'yike', 'govern', 'put', 'mani', 'tax', 'well', 'pay', '30', 'tax', 'profit', 'atleast', '1', 'td', 'transact', 'better', 'hold', 'wait', 'market', 'pump', 'take', 'profit', 'buy', 'sell', 'trader', 'paid', 'ftfi', 'although', 'pay', 'exist', 'reason', 'autocorrect', 'help', 'correct', 'nautic', 'context', 'mean', 'paint', 'surfac', 'cover', 'someth', 'like', 'tar', 'resin', 'order', 'make', 'waterproof', 'corros', 'resist', 'deck', 'yet', 'pay', 'pay', 'let', 'string', 'cabl', 'rope', 'slack', 'rope', 'pay', 'pull', 'unfortun', 'unabl', 'find', 'nautic', 'rope', 'relat', 'word', 'comment', 'beep', 'boop', 'bot', 'would', 'add', 'move', 'cold', 'storag', 'rel', 'often', 'figur', 'fee', 'make', 'sens', 'send', 'misread', 'get', 'incom', 'ahh', 'fxstreet', 'news', 'articl', 'clog', 'onlin', 'news', 'result', 'would', 'disregard', 'anyth', 'publish', 'hefti', 'invest', 'money', '17k', 'feel', 'would', 'inde', 'go', 'though', 'would', 'inde', 'take', 'bit', 'long', 'enough', 'far', 'think', 'though', 'mean', 'chillin', 'right', 'buy', 'dip', 'usual', 'tire', 'ask', 'whether', 'new', 'ath', 'year', 'bicycl', 'win', 'combin', 'futur', 'mean', 'regard', 'measur', 'valu', 'dollar', 'two', 'year', 'measur', 'valu', 'roubl', 'plan', 'buy', 'whole', 'club', 'look', 'hurrr', 'like', 'girl', 'dont', 'fomo', 'back', 'let', 'say', 'goe', 'back', 'still', 'want', 'would', 'set', 'point', 'u', 'buy', 'back', 'loss', 'bad', 'like', 'go', 'back', '20', 'think', 'go', 'tho', 'dont', 'plan', 'trade', 'like', 'often', 'per', 'market', 'thing', 'def', 'wont', 'day', 'trade', 'hold', '5', 'year', 'think', 'could', 'way', 'get', 'extra', '10', 'year', 'incorrect', 'hodl', 'origin', 'forum', 'post', '2013', 'guy', 'half', 'cock', 'rant', 'go', 'hold', 'hodl', 'forev', 'growth', 'invest', 'cycl', 'done', 'authent', 'buy', 'hold', 'invest', 'cycl', 'valu', 'stock', 'like', 'coca', 'cola', 'let', 'time', 'auto', 'pay', 'invest', 'buy', 'share', 'dividend', 'payout', 'next', 'growth', 'cycl', 'start', 'probabl', 'decad', 'current', 'situat', 'growth', 'invest', 'cycl', 'done', 'authent', 'buy', 'hold', 'invest', 'cycl', 'valu', 'stock', 'like', 'coca', 'cola', 'let', 'time', 'auto', 'pay', 'invest', 'buy', 'share', 'dividend', 'payout', 'next', 'growth', 'cycl', 'start', 'probabl', 'decad', 'current', 'situat', 'depend', 'node', 'alway', '20', 'gb', 'month', 'download', 'incom', 'block', 'run', 'listen', 'node', 'node', 'connect', 'data', 'upload', '200', 'gb', 'month', 'see', 'http', 'org', 'en', 'full', 'node', 'minimum', 'requir', 'bro', 'money', 'actual', 'use', 'buy', 'anyth', 'money', 'bircoin', 'love', 'life', 'tire', 'visit', 'fortun', 'teller', 'sinc', 'centuri', 'want', 'random', 'confirm', 'stupid', 'vagu', 'statement', 'mean', 'imagin', 'live', 'venezuela', 'inflat', 'rate', 'becam', 'highest', 'world', '2014', 'nicolá', 'maduro', 'continu', 'increas', 'follow', 'year', 'inflat', 'exceed', '1', '000', '000', '2018', 'http', 'en', 'wikipedia', 'org', 'wiki', 'hyperinflation_in_venezuela', 'rememb', 'price', 'thing', 'bolivar', 'gonna', 'buy', 'whatev', 'price', 'time', 'market', 'beat', 'time', 'market', 'hodl', 'stand', 'hold', 'dear', 'life', 'pleas', 'tell', 'part', 'messag', 'wrong', 'sure', 'origin', 'typo', 'acronym', 'thank', 'run', 'default', 'instal', 'umbrel', 'way', 'chang', 'set', 'mind', 'upload', 'wrong', 'bought', 'someth', 'yesterday', 'daili', 'thread', 'cring', 'lol', 'sub', 'nutshel', 'gonna', 'buy', 'whatev', 'price', 'great', 'differ', 'guy', 'stack', '50', 'week', 'stat', 'guy', 'sit', 'thousand', 'dollar', 'buy', 'order', 'may', 'care', '001', 'differ', 'stat', 'get', '10', 'price', 'dip', 'multipli', 'hundr', 'time', 'add', 'time', 'market', 'beat', 'time', 'market', 'ah', 'ye', 'anoth', 'r', 'er', 'confus', 'pick', 'price', 'time', 'market', 'sure', 'honest', 'regular', 'core', 'node', 'configur', 'file', 'tweak', 'mayb', 'umbrel', 'restrict', 'sort', 'thing', 'liter', 'never', 'purchas', 'one', 'singl', 'thing', 'payment', 'option']\n"
          ]
        }
      ]
    },
    {
      "cell_type": "code",
      "source": [
        "# 5. pandas를 활용해 단어수 counting\n",
        "###텍스트에서 많이 나온 단어###\n",
        "import pandas as pd\n",
        "\n",
        "##영어##\n",
        "top30 = pd.Series(final_result).value_counts().head(30)\n",
        "print(\"English top 30\")\n",
        "print(top30)\n",
        "sum = 0\n",
        "for i in top30:\n",
        "  sum = sum+i\n",
        "total_count = sum\n",
        "print(total_count)\n",
        "\n",
        "final_result_word = pd.Series(final_result)\n",
        "\n",
        "\n"
      ],
      "metadata": {
        "id": "byROEfJHEocO",
        "outputId": "ce9dc111-c4c3-4156-d64c-991f13b1c39b",
        "colab": {
          "base_uri": "https://localhost:8080/"
        }
      },
      "execution_count": null,
      "outputs": [
        {
          "output_type": "stream",
          "name": "stdout",
          "text": [
            "English top 30\n",
            "buy       30\n",
            "go        23\n",
            "hold      23\n",
            "market    20\n",
            "time      19\n",
            "year      18\n",
            "think     16\n",
            "price     16\n",
            "like      15\n",
            "next      13\n",
            "sell      13\n",
            "back      13\n",
            "money     13\n",
            "pay       12\n",
            "would     11\n",
            "node      11\n",
            "one       11\n",
            "dca       11\n",
            "get       10\n",
            "invest    10\n",
            "inflat     9\n",
            "month      9\n",
            "let        9\n",
            "well       9\n",
            "hodl       9\n",
            "trade      9\n",
            "mayb       8\n",
            "take       8\n",
            "guy        8\n",
            "news       8\n",
            "dtype: int64\n",
            "394\n"
          ]
        }
      ]
    },
    {
      "cell_type": "markdown",
      "source": [
        "**wordcloud에 사용할 top30 token을 database에 저장**"
      ],
      "metadata": {
        "id": "4UkEdr1dNMFI"
      }
    },
    {
      "cell_type": "code",
      "source": [
        "!pip install pymysql"
      ],
      "metadata": {
        "colab": {
          "base_uri": "https://localhost:8080/"
        },
        "id": "nfuDuWRTM_hU",
        "outputId": "77c8dcbe-514d-4273-ba18-b34ba90a636b"
      },
      "execution_count": null,
      "outputs": [
        {
          "output_type": "stream",
          "name": "stdout",
          "text": [
            "Looking in indexes: https://pypi.org/simple, https://us-python.pkg.dev/colab-wheels/public/simple/\n",
            "Requirement already satisfied: pymysql in /usr/local/lib/python3.7/dist-packages (1.0.2)\n"
          ]
        }
      ]
    },
    {
      "cell_type": "code",
      "source": [
        "import pandas as pd \n",
        "import pymysql "
      ],
      "metadata": {
        "id": "WQAFeHasM8oU"
      },
      "execution_count": null,
      "outputs": []
    },
    {
      "cell_type": "code",
      "source": [
        "# lstm을 활용한 prediction값 모두 저장.\n",
        "\n",
        "conn = pymysql.connect(host='autotrading-db.cjolqhecq70a.ap-northeast-2.rds.amazonaws.com',\n",
        "                       user = 'admin',\n",
        "                       password='autotrading1234',\n",
        "                       db = 'AutoTrading',\n",
        "                       charset = 'utf8')\n",
        "curs = conn.cursor() "
      ],
      "metadata": {
        "id": "FQupSAg6LTys"
      },
      "execution_count": null,
      "outputs": []
    },
    {
      "cell_type": "code",
      "source": [
        "sql_rows=[]\n",
        "for i in range(0, len(top30)):\n",
        "    sql_row = (date,final_result_word[i],top30[i])\n",
        "    sql_rows.append(sql_row)\n",
        "print(sql_rows)\n"
      ],
      "metadata": {
        "colab": {
          "base_uri": "https://localhost:8080/"
        },
        "id": "q1QmTovbOE5O",
        "outputId": "6710ae00-bdf2-4da2-dc3d-8ac67dff745b"
      },
      "execution_count": null,
      "outputs": [
        {
          "output_type": "stream",
          "name": "stdout",
          "text": [
            "[('2022-05-06', 'go', 30), ('2022-05-06', 'buy', 23), ('2022-05-06', '5', 23), ('2022-05-06', 'wrench', 20), ('2022-05-06', 'attack', 19), ('2022-05-06', 'long', 18), ('2022-05-06', 'think', 16), ('2022-05-06', 'take', 16), ('2022-05-06', 'immun', 15), ('2022-05-06', 'pleas', 13), ('2022-05-06', 'remain', 13), ('2022-05-06', 'seat', 13), ('2022-05-06', 'seatbelt', 13), ('2022-05-06', 'experienc', 12), ('2022-05-06', 'slight', 11), ('2022-05-06', 'turbul', 11), ('2022-05-06', 'meantim', 11), ('2022-05-06', 'pleas', 11), ('2022-05-06', 'perus', 10), ('2022-05-06', 'inflight', 10), ('2022-05-06', 'magazin', 9), ('2022-05-06', 'find', 9), ('2022-05-06', 'excel', 9), ('2022-05-06', 'offer', 9), ('2022-05-06', 'fiat', 9), ('2022-05-06', 'crash', 9), ('2022-05-06', 'violent', 8), ('2022-05-06', 'sea', 8), ('2022-05-06', 'sell', 8), ('2022-05-06', 'sat', 8)]\n"
          ]
        }
      ]
    },
    {
      "cell_type": "code",
      "source": [
        "# mysql의 wordcloud_table에 data를 날짜로 구분하여 저장.\n",
        "# insert_result = \"\"\"insert into wordcloud_table(crawling_date,word,count) values (%s, %s, %s)\"\"\"\n",
        "# curs.executemany(insert_result,sql_rows)\n",
        "# conn.commit()\n",
        "# conn.close()"
      ],
      "metadata": {
        "id": "vj5eAgfeOjOR"
      },
      "execution_count": null,
      "outputs": []
    }
  ]
}