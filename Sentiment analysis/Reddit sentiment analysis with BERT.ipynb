{
  "nbformat": 4,
  "nbformat_minor": 0,
  "metadata": {
    "colab": {
      "name": "Reddit sentiment analysis with BERT.ipynb",
      "provenance": [],
      "collapsed_sections": [],
      "mount_file_id": "1Jzbytbi5CWy0oiGg52hOz4qNSVFCVOOy",
      "authorship_tag": "ABX9TyM5QhTeRGvTiF48y6Er+Zsv",
      "include_colab_link": true
    },
    "kernelspec": {
      "name": "python3",
      "display_name": "Python 3"
    },
    "language_info": {
      "name": "python"
    },
    "accelerator": "GPU"
  },
  "cells": [
    {
      "cell_type": "markdown",
      "metadata": {
        "id": "view-in-github",
        "colab_type": "text"
      },
      "source": [
        "<a href=\"https://colab.research.google.com/github/sujin-create/hodlhodl/blob/Sentiment-analysis/Reddit%20sentiment%20analysis%20with%20BERT.ipynb\" target=\"_parent\"><img src=\"https://colab.research.google.com/assets/colab-badge.svg\" alt=\"Open In Colab\"/></a>"
      ]
    },
    {
      "cell_type": "markdown",
      "source": [
        "# Sentiment analysis with BERT\n",
        "Reddit Bitcoin 카테고리의 daily discussion 댓글을 날짜 별로 크롤링하여 감정 분류를 진행한다.\n",
        "* Comments crawling: Using praw API\n",
        "* Sentiment analysis: BERT model을 전이학습한 후 크롤링한 댓글을 Test하여 감정 분류 결과를 도출함. Negative는 -1, Netural은 0, Positive는 1의 가중치를 부여하여 K 가중치 값을 계산함. K 가중치 값은 비트 코인 주가 예측에 활용할 예정.\n",
        "\n",
        "> 아래 코드를 직접 실행시키는 경우 시간 관계상 훈련된 모델을 다운받아 테스트를 진행해도 됨\n",
        "\n",
        "\n"
      ],
      "metadata": {
        "id": "jkRrv6AYEhZg"
      }
    },
    {
      "cell_type": "markdown",
      "source": [
        "## Crawling comments of Reddit 'Bitcoin' Category Daily Discussion "
      ],
      "metadata": {
        "id": "EnfC6eqzF6Vm"
      }
    },
    {
      "cell_type": "code",
      "execution_count": null,
      "metadata": {
        "colab": {
          "base_uri": "https://localhost:8080/"
        },
        "id": "EzMNBSxkEOMg",
        "outputId": "4654984e-d054-4d5b-83cb-2e87b71faca8"
      },
      "outputs": [
        {
          "output_type": "stream",
          "name": "stdout",
          "text": [
            "Requirement already satisfied: praw in /usr/local/lib/python3.7/dist-packages (7.5.0)\n",
            "Requirement already satisfied: update-checker>=0.18 in /usr/local/lib/python3.7/dist-packages (from praw) (0.18.0)\n",
            "Requirement already satisfied: prawcore<3,>=2.1 in /usr/local/lib/python3.7/dist-packages (from praw) (2.3.0)\n",
            "Requirement already satisfied: websocket-client>=0.54.0 in /usr/local/lib/python3.7/dist-packages (from praw) (1.3.2)\n",
            "Requirement already satisfied: requests<3.0,>=2.6.0 in /usr/local/lib/python3.7/dist-packages (from prawcore<3,>=2.1->praw) (2.23.0)\n",
            "Requirement already satisfied: chardet<4,>=3.0.2 in /usr/local/lib/python3.7/dist-packages (from requests<3.0,>=2.6.0->prawcore<3,>=2.1->praw) (3.0.4)\n",
            "Requirement already satisfied: certifi>=2017.4.17 in /usr/local/lib/python3.7/dist-packages (from requests<3.0,>=2.6.0->prawcore<3,>=2.1->praw) (2021.10.8)\n",
            "Requirement already satisfied: idna<3,>=2.5 in /usr/local/lib/python3.7/dist-packages (from requests<3.0,>=2.6.0->prawcore<3,>=2.1->praw) (2.10)\n",
            "Requirement already satisfied: urllib3!=1.25.0,!=1.25.1,<1.26,>=1.21.1 in /usr/local/lib/python3.7/dist-packages (from requests<3.0,>=2.6.0->prawcore<3,>=2.1->praw) (1.24.3)\n"
          ]
        }
      ],
      "source": [
        "!pip install praw"
      ]
    },
    {
      "cell_type": "code",
      "source": [
        "import praw\n",
        "reddit = praw.Reddit(\n",
        "    client_id=\"Your_client_id\",\n",
        "    client_secret=\"Your client_secret\",\n",
        "    user_agent=\"Your user_agent\",\n",
        "    username=\"Your username\",\n",
        "    password=\"Your password\"\n",
        ")"
      ],
      "metadata": {
        "id": "J5JLMr20GJWl"
      },
      "execution_count": null,
      "outputs": []
    },
    {
      "cell_type": "code",
      "source": [
        "subreddit = reddit.subreddit('bitcoin')   # subreddit: 토픽, submission: 게시글, comment: 댓글\n",
        "submissionID = []   # Daily Discussion의 게시글 ID를 저장\n",
        "\n",
        "for submission in subreddit.hot(limit=1):   # Daily discussion 2개가 (어제, 오늘) 동시에 있는 경우 확인하기\n",
        "  submissionID.append(submission.id)\n",
        "  print('submission title: ', submission.title, '\\nSubmission ID =', submission.id)"
      ],
      "metadata": {
        "colab": {
          "base_uri": "https://localhost:8080/"
        },
        "id": "XBy0SXx-GMNI",
        "outputId": "cede9eb1-4691-4c72-fa4e-75536db760ef"
      },
      "execution_count": null,
      "outputs": [
        {
          "output_type": "stream",
          "name": "stderr",
          "text": [
            "It appears that you are using PRAW in an asynchronous environment.\n",
            "It is strongly recommended to use Async PRAW: https://asyncpraw.readthedocs.io.\n",
            "See https://praw.readthedocs.io/en/latest/getting_started/multiple_instances.html#discord-bots-and-asynchronous-environments for more info.\n",
            "\n"
          ]
        },
        {
          "output_type": "stream",
          "name": "stdout",
          "text": [
            "submission title:  Daily Discussion, May 06, 2022 \n",
            "Submission ID = ujg2qw\n"
          ]
        }
      ]
    },
    {
      "cell_type": "code",
      "source": [
        "# Daily discussion ID를 활용해 게시글에 대한 정보 출력\n",
        "comments_all = []   # 전체 댓글을 저장\n",
        "dailydiscussion = reddit.submission(id = submissionID[0])\n",
        "dailydiscussion.comments.replace_more(limit = None)\n",
        "\n",
        "for comments in dailydiscussion.comments.list():\n",
        "    comments_all.append(comments.body)\n",
        "print('총 댓글 개수: ', len(comments_all))"
      ],
      "metadata": {
        "colab": {
          "base_uri": "https://localhost:8080/"
        },
        "id": "QBV4zeKnHBV5",
        "outputId": "236b536c-5939-482a-86ac-66aa8ca01796"
      },
      "execution_count": null,
      "outputs": [
        {
          "output_type": "stream",
          "name": "stderr",
          "text": [
            "It appears that you are using PRAW in an asynchronous environment.\n",
            "It is strongly recommended to use Async PRAW: https://asyncpraw.readthedocs.io.\n",
            "See https://praw.readthedocs.io/en/latest/getting_started/multiple_instances.html#discord-bots-and-asynchronous-environments for more info.\n",
            "\n"
          ]
        },
        {
          "output_type": "stream",
          "name": "stdout",
          "text": [
            "총 댓글 개수:  202\n"
          ]
        }
      ]
    },
    {
      "cell_type": "code",
      "source": [
        "comments_all"
      ],
      "metadata": {
        "colab": {
          "base_uri": "https://localhost:8080/"
        },
        "id": "3n4pyGynHxIB",
        "outputId": "d13c60df-a09e-47bd-9a60-7c4fbaf42cf3"
      },
      "execution_count": null,
      "outputs": [
        {
          "output_type": "execute_result",
          "data": {
            "text/plain": [
              "[\"If I go out and buy a $5 wrench and attack myself with it, how long do you think it will take until I'm immune?\",\n",
              " 'Please remain seated, seatbelts on, we are experiencing some slight turbulence. In the meantime please peruse the inflight magazine were you’ll find some excellent offers, as fiat crashes violently into the sea.',\n",
              " 'Didn’t sell a sat.',\n",
              " 'Holding and bought some extra on top of my dca 🤑',\n",
              " \"I've been waiting for BTC to drop, yesterday loaded my first one.\",\n",
              " 'jobs report is positive, why we dumping',\n",
              " \"Not sure about anyone else, but I couldn't care less about the current market conditions.   In the long run this is all just noise.  It's silly that people are upset.\",\n",
              " 'If you just buy now and hold until at least the year after the next halving, any inflation hike on whatever products or services will be a laughable moment for you.',\n",
              " 'Any other year, BTC would be at like $8k right now.',\n",
              " 'Unemployment report out in 15 mins.  That’ll probably be the reason for todays movement.\\n\\nWell that and on the stock side people probably won’t want to hold over the weekend because of yesterday’s slaughter.\\n\\nStay tuned',\n",
              " 'Just got an email from Vanguard (holding GBTC in an IRA) asking me to submit my comment to the SEC to convert GBTC into an ETF.  Links to [https://grayscale.com/shareholder/](https://grayscale.com/shareholder/) \\n\\nHopefully we can get it done, we need some bullish news, I think the deadline is coming up in a few weeks.',\n",
              " 'so many lil boys here crying about btc not reaching another ath 7 months after the last\\n\\ngo back to stacking legos',\n",
              " 'JobsReportCoin',\n",
              " 'Someone did buy at ath',\n",
              " 'Frantically selling stuff on ebay to raise more cash to buy more sats...!',\n",
              " 'Hard times out there guys, just remember you will be fine next pump buy. Then the next dump sell and you will be fine',\n",
              " \" Hi, guys I hope that you are doing well. \\n\\nPlease can someone explain to me why the heck would you take your money out of something that stores the value and that is limited in supply (bitcoin) into something that is losing value daily(fiat) in such a dangerous inflationary environment that, in my opinion is without precedent?\\n\\nI am assuming that you didn't put all of your money into bitcoin 😅\",\n",
              " 'Stocks are seen as the “safer” investment but what if we enter a multi year or even decade+ stagnation? I’d much rather have Bitcoin which has so much room to grow in the next decade and beyond.',\n",
              " '💎✊🏻',\n",
              " 'You are not a coder but still looking to contribute to Bitcoin community? Few ways you can do it:\\n\\n1> Run a node\\n\\n2> Take your Bitcoin out of exchanges and learn self custody',\n",
              " 'Go back to work. Get a job.',\n",
              " 'So are you a trader ? Or a hodler ?',\n",
              " 'Remember El Salvador!',\n",
              " 'Show me that sentiment analysis dashboard and I’ll tell you how much I’ve stacked.',\n",
              " 'Stack em if you got em',\n",
              " \"What do ya'll think is the best DCA strat?\\n\\n$10 DCA daily\\n\\n4-6% auto limit buy DCA's\\n\\n50$ weekly Sunday DCA\",\n",
              " 'More weak hands wiped out. Bullish.',\n",
              " \"https://finance.yahoo.com/news/argentina-imf-bailout-deal-includes-190748787.html\\n\\nIMF witholds financial support for a struggling economy unless they take a strong stance against Bitcoin / crypto. Expect to see more of this going forward. Perhaps we'll see a bifurcation between nations who choose the Bitcoin path, and those who continue with the existing system. Interesting times.\",\n",
              " 'We saw a huge dump yesterday and that red candle was really a painful thing to watch, I hope market recovers quickly and people who are in losses can capitalise their gains, but we can do one thing in this market that Is to DCA, of you have funds',\n",
              " 'I’m proud of you boys.',\n",
              " '“Give me money. Money me. Money now. Me a money needing a lot now.”',\n",
              " 'Do you think bitcoin will go to 20 25 k dollars?',\n",
              " 'This is Black Friday and it will Cyber Monday. Basically Bitcoin sales season. Let’s go. 😎',\n",
              " '\"Stop, bitcoin\\'s already dead.....it\\'s already dead.\"',\n",
              " 'So much volume Jesus Christ almost 40k!!',\n",
              " \"BITCOIN IS NOT THE US DOLLAR. ITS NOT THE STOCK MARKET. ALL CASH IS WORTHLESS LOAD UP ON REAL ASSETS WHILE YOU CAN. THE DOLLAR IS DIEING DON'T DIE WITH IT\",\n",
              " 'Dw guys I just did some extensive analysis and I’m pretty sure we are gonna hit $10mil by 2025. But up all the btc you can',\n",
              " 'If you bought Bitcoin one year ago you would be down 36% now. Hedge against inflation they said',\n",
              " 'Cheap sats',\n",
              " 'Now will y’all finally admit we’re in a bear market?',\n",
              " 'Wen lambo?',\n",
              " \"Feels like we're heading into a bear market until the halving. Glad I sold some around 55k/60k for my house.\\n\\nI'll be able to buy back from paper hands who fold down to (wild ass guess) 28k over the next couple years to replace what I sold.\\n\\nTime in the market is better than timing the market, but both is better than one or the other.\",\n",
              " \"Death by a thousand cuts.  Can't sustain any momentum at all, and likely won't for a while.   \\n Sideways action until next halving.  We're pretty much exactly in the middle of a cycle.  Small pumps here and there, bigger dips, but sideways for a loooong time.  Good time to accumulate, though.\",\n",
              " 'guess we going lower today 😭',\n",
              " \"So are people's thoughts on the bottom? Given current news and stock markets seems we will see low 30's, maybe high 20's? It definitely seems it won't shoot back up anytime soon.\",\n",
              " 'Don\\'t mind Feddy and the Dreamers.  They can\\'t \"allow\" Bitcoin to go up while everything else is melting down.  \\n\\nAt some point, Bitcoin will do what he wants, make no mistake.\\n\\nKeep calm and hodl.',\n",
              " 'I don’t know, that’s pretty cryptic… lol',\n",
              " \"Didn't this all become a lottery? It is not decentralized, it is not anonymous. In place of probabilities and statistics have come whales that perfectly manipulate and manage other people's assets through BTC.\\n\\nSo, this has become another instrument of classical finance. Let each individual ask himself whether to participate in this in the end - morally, to put it mildly. \\n\\nI hope i am wrong, have a nice day guys.\\n\\nGreetings!\",\n",
              " \"Limit order close to 36k placed, come on baby I'll take your mistake.\",\n",
              " 'What prices are your next three limit orders set at?',\n",
              " 'Do you store your BTC on ledger or lend for interest? I was lending recently but the rates have been slashed dramatically and currently just have mine on the ledger. Wondering what you all are doing.',\n",
              " \"Do we know what's the precentage of Bitcoin in institutions' hands?   \\n\\n\\nAnd I'm not talking about a guess, but rather any statistical proof.\",\n",
              " '[deleted]',\n",
              " 'A Hodler can do both trading and holding. Let that sink in for a moment.',\n",
              " 'Opinions on the idea of selling now and putting a contract to buy back after its down 10% of the sell price?\\n\\n Or has that ship sailed and its too much of a risk at this point?',\n",
              " 'Got damn',\n",
              " \"I actually have a masters in cryptography and this was the topic of my dissertation. We tested different approaches and the only one that was shown to work reliably was a single strong blow to the side of the head (though some people may require more than one blow).  This results in permanent memory loss and puts your private keys in permanent secure cold storage (or until you accidentally stumble on your recovery phrase if you didn't hide it well).\",\n",
              " \"Don't forget the drugs\",\n",
              " 'That depends on whether your attacks hit you, where they hit you, how hard you’re hitting yourself and also how many donuts you’ve ate in the past 6 months.',\n",
              " 'This made me lol',\n",
              " 'Just focus on the head and the groin',\n",
              " 'Hodling. Common typo',\n",
              " 'Ffs I am on my phone and it autocorrected to «\\xa0hold\\xa0» and I didn’t bother changing to «\\xa0hodl\\xa0». Calm your tits everybody',\n",
              " \"Waiting is always a risk. But happy that it worked well for you this time. I'm DCA'ing more every month regardless of the price.\",\n",
              " 'This. Every 2-3 years same crying over and over again yet price is up long term. \\n\\nDCA, take your btc off exchanges,create your own node, learn about LN, start using btc in real life. That should be agenda for everyone right now.',\n",
              " \"I'm happy whenever the price moves because this subreddit is boring otherwise.\",\n",
              " 'This. Painfull for those that bought above 50 or even 60 but btc really showing strenght imo.',\n",
              " \"A dip yesterday so sell at a loss today? No thanks. I'll just hold\",\n",
              " 'Duplo 😂',\n",
              " 'LOL',\n",
              " '$69 @ 69. No ragrats',\n",
              " 'Is that you Michael?',\n",
              " '*The main reason for stress is daily contact with idiots.*\\n\\nAlbert Einstein.',\n",
              " 'I think you are missing a step:\\n- Earn cash\\n- Buy Bitcoin\\n- Bitcoin go up, then down, then up, etc.\\n- One day, notice inflation is causing energy prices to accelerate up\\n- Sell Bitcoin for cash\\n- Buy Chevron Stock with cash\\n- Enjoy watching Chevron stock go up, and pay a health dividend\\n\\nFew people are staying in fiat, they continue the journey into another asset.  Maybe they are retired, so that cash is going to rent, food, fun etc.',\n",
              " 'Because it’s going down and people panic sell some even assume it’s going to zero',\n",
              " \"It's called natural selection my friend ☺️✌️\",\n",
              " \"People revert to what they know, especially when panicked. Like when you're in an abusive relationship but keep coming back to them.\",\n",
              " 'cause people',\n",
              " '> I hope that you are doing well. \\n\\nAww thanks, you as well.',\n",
              " 'Exactly, this may be the last economic implosion before institutional money, right now a trickle, really starts pouring in. A spot Bitcoin ETF approval later and everyone will be crying about not buying BTC in the mid-to-low 30s.',\n",
              " 'diversify put money in both?',\n",
              " 'Dividends',\n",
              " '💎💎🙌',\n",
              " '💎 🍒',\n",
              " 'Prove me wrong: running a node does not contribute to the Bitcoin community.',\n",
              " 'Node bandwidth requirements are pretty beefy. Hundreds of gigs per month is typical. Props to those that shoulder those loads.',\n",
              " 'No. Just give me money',\n",
              " 'I was a trader for a long time. I made so many profits that I started comitting a certain amount of the profits as long term hodlings that it made no sense to ever sell. So for a while I had a trading stack and a hodling stack. Then the government started screwing around with the exchanges and shutting down margin/altcoins and I lost alot of trading instruments. There were also new taxes and bitcoin got really stable. So I stopped trading and now Im just a hodler.',\n",
              " \"They see me HODLin' they hatin'\",\n",
              " 'A Hodler can do both trading and holding. Let that sink in for a moment.',\n",
              " 'I payed for my trading enough at the beginning to understand the importance and benefits of holding. Definitely a hodler now.',\n",
              " 'Depends on the fee you pay to make the purchase. Figure out how to pay the least. \\n\\nAfter that, automate and forget about it. The less you think about it the more you can focus on the day.',\n",
              " 'depends on your earnings power. i try to do 30% of my monthly income per month or 1% per day. this month ive gone significantly over that amount due to massive correction.',\n",
              " 'dca early weekdays. usually weekend prices are higher bc more activity',\n",
              " 'im already all in',\n",
              " \"We are proud of ourselves for buying continuous dips, and it's the time to buy more because yesterday we saw BTC falling from high and I think for few days we are going to crab and market will not show any movement, alts will fall more\",\n",
              " 'Who are you asking?\\n\\nAnd why do you think they would know?',\n",
              " 'It’s very possible.',\n",
              " 'I think we are in a bear market with this latest drop. Not sure how low we will go but I think it will get worse before it gets better. Just keep stacking',\n",
              " \"I'm buying at $18k-$20k\",\n",
              " 'Maybe yes maybe not.',\n",
              " 'Maybe 28k.',\n",
              " 'not soon but in this year probably',\n",
              " 'No',\n",
              " '[https://www.fxstreet.com/cryptocurrencies/news/bitcoin-price-is-positioned-for-a-crash-below-30-000-202205060049](https://www.fxstreet.com/cryptocurrencies/news/bitcoin-price-is-positioned-for-a-crash-below-30-000-202205060049)',\n",
              " 'Great analysis',\n",
              " 'Analysis sponsored by Hopium Inc.',\n",
              " 'Source - trust me bro',\n",
              " 'This teaches you to hold for more than a year.',\n",
              " 'Hopefully you live longer than one year',\n",
              " '4 years is the shortest short-term for Bitcoin.\\nCome back in three years.',\n",
              " 'Have some fucking patience.',\n",
              " \"It's not a hedge against inflation.  It's an investment.  You won't protect yourself from inflation in the short term by buying bitcoin.  But investing in bitcoin, for the long term, will likely yield greater returns that just beating inflation\",\n",
              " 'I bought my Bitcoin a year ago today ish...',\n",
              " 'Who cares? It means only up from here and cheap sats.',\n",
              " \"They won't until it reaches the bottom of 17k.\",\n",
              " 'Maybe when we hit sub 20s.',\n",
              " 'What purpose would it serve to admit a bear market? Would you feel better then?',\n",
              " 'No, but thanks for asking.',\n",
              " 'Wen rusty old bicycle with bent front wheel?',\n",
              " \"I'm okay waiting.\",\n",
              " \"It is, in actuality, different this time.\\n\\nBy the next halving, you won't be measuring the value of Bitcoin in dollars anymore.  Put it that way.\",\n",
              " \"Guess i'll buy more today 😭\",\n",
              " 'Doesn’t matter if you don’t plan on selling.',\n",
              " 'last chance to buy above 36k',\n",
              " 'I like those apple bottom jeans, boots with the fur',\n",
              " 'Predicting the Bottom is just as difficult as predicting the top',\n",
              " 'I’d be surprised if it goes lower than it did in January. I’m going all in at $35k though.',\n",
              " \"Bitcoin goes down Bitcoin goes up, that's the way she goes.\",\n",
              " 'No telling.',\n",
              " 'Bitty goes down, until she doesn’t',\n",
              " 'Found the guy who just sold 👆',\n",
              " 'Bitcoin never claimed to be anonymous. Bitcoin is decentralized. It seems like you need to read a but more on these concepts mate',\n",
              " \"Bitcoin is for anybody.  We can't stop companies, states, evil people from participating.  By the same token, they can't stop us.  With a long time horizon, it gives people the best chance.\",\n",
              " '31k',\n",
              " '22, 21, 18k.',\n",
              " 'One, $20105',\n",
              " \"Same. Rates got 'slashed' so started transfering cold storage now.\",\n",
              " 'Currently have everything sitting in cold storage on a ledger.',\n",
              " \"That's not how pseudonymous blockchains work. That's not how any of this works.\",\n",
              " \"Do we know? No. There are some large holders that are public about it, but not enough to matter much. Like Tesla, Microstrategy, Greyscale, Winklevoss twins. There are some more private where we can infer holdings, but not the amounts. Like Polychain, and a few investors that appear in the news regularly.\\n\\nI don't worry about it. The market moves around in complex ways and Bitcoin continues to be unaffected.\",\n",
              " 'How did you almost fall for it?',\n",
              " 'L',\n",
              " 'As much as a Vegan can both eat plants and animals yes.',\n",
              " 'Not a true hodler then',\n",
              " \"I'm not letting that sink in unless it has a warrant... Maybe not even then.\",\n",
              " 'Trading is great but Bitcoin is the one and only thing I’m refusing to sell til at least next decade or perhaps sell some if/when I hit 10x',\n",
              " 'Everyone is going to tell you to hold.  Do your ta, or what’s your bear thesis.  If you believe in it, go for it.  Just don’t fomo back in on every pump, that’s where you’ll get fucked',\n",
              " 'Got milk?',\n",
              " 'And they say a degree is worthless!',\n",
              " \"Solid research, well done. I don't think anyone can argue that the approach will not eventually work.\\n\\nHow did you get through the education system without deleting their student data?\",\n",
              " 'Yes and no, you’re in theory holding your money still. The H in HODL stands for hold.',\n",
              " 'The buys a new person makes near the local top is their price of admission. Most people need to pay their dues and the wise spend the next year learning. Those that understand the lesson, hold, DCA, and are rewarded at the next ATH.',\n",
              " 'Painful because you didn’t get your short term price affirmations or painful because you went all in at the top and now have to DCA your emergency fund back into existence?',\n",
              " 'Ok lol, I don’t think you are following.  You for sure should hold.',\n",
              " \"Better option don't just change mind and stick to the principle of holding!\",\n",
              " 'Good luck trying to outperform the inflation with that',\n",
              " 'Dividends are not a free lunch.\\n\\nCompanies that offer Dividends often grow at a slower rate.',\n",
              " \"I've been going hard on dividends as well\",\n",
              " '💎🥜',\n",
              " '💎🍆',\n",
              " \"Really? It's hard to tell exactly, but besides the initial download of \\\\~500GB, I think my node only generates about 10-20GB extra per month.\\n\\nThat being said, the network is so large that a single extra node doesn't matter. The same is true for mining.\",\n",
              " 'Yikes',\n",
              " 'Government is putting too many taxes as well, we have to pay 30% taxes on profit and atleast 1% TDS on all transactions, so better to hold and wait for the market to pump and then take some more profit',\n",
              " 'If you’re buying and ………selling, you’re a trader.',\n",
              " \"> I *paid* for my\\n\\nFTFY.\\n\\nAlthough *payed* exists (the reason why autocorrection didn't help you), it is only correct in:\\n\\n * Nautical context, when it means to paint a surface, or to cover with something like tar or resin in order to make it waterproof or corrosion-resistant. *The deck is yet to be payed.*\\n\\n * *Payed out* when letting strings, cables or ropes out, by slacking them. *The rope is payed out! You can pull now.*\\n\\nUnfortunately, I was unable to find nautical or rope-related words in your comment.\\n\\n*Beep, boop, I'm a bot*\",\n",
              " 'I would add you should move it to cold storage relatively often. Again, figure out the fees that make sense for sending it.',\n",
              " 'misread',\n",
              " 'Get income.',\n",
              " 'Ahh fxstreet \"news\" articles that clog up online news results. I would disregard anything they publish.',\n",
              " 'What up, hefty?',\n",
              " 'Bitcoin is not an investment. Bitcoin is money.',\n",
              " \"17k I don't feel that it would indeed go that down though!\",\n",
              " 'That would indeed take a bit long enough as far as I think though.',\n",
              " 'I mean I’m chillin right now buying the dips as usual, just tired of people asking whether we’ll his a new ATH this year or not.',\n",
              " \"A bicycle and bitcoin, winning combination! It's the future.\",\n",
              " 'What do you mean regarding not measuring the value of bitcoin in dollars?',\n",
              " 'So in two years, what will we all be measuring the value of Bitcoin in? Roubles?',\n",
              " 'It does if you plan on buying.',\n",
              " 'The whole club was looking at hurrr',\n",
              " 'Just like all my girls',\n",
              " '\\n\"Just dont fomo back in\"\\n\\nThen lets say it goes back up and i still want in (have bitcoin) what would you do? Set a point where u buy back in at loss but its not too bad, like if it was to go back up 20%? \\n\\nI think it will go down more tho. And i dont plan on doing trades like this often, more a once per down market thing. Def wont do day trading. Been holding for 5 years and think this could be a way to get an extra 10% once a year or so.',\n",
              " 'This is incorrect. \"Hodl\" originated on a forum post from ~2013. Guy was half-cocked and was ranting about how he\\'s going to hold, or hodl, his BTC forever.',\n",
              " 'The growth investment cycle is done. Now is just an authentic Buy & Hold investment cycle on value stocks like Coca-Cola and let time auto-pay itself on re-investing itself by buying more shares with the dividend payouts until the next growth cycle starts again (probably not for over a decade with the current situation).',\n",
              " 'The growth investment cycle is done. Now is just an authentic Buy & Hold investment cycle on value stocks like Coca-Cola and let time auto-pay itself on re-investing itself by buying more shares with the dividend payouts until the next growth cycle starts again (probably not for over a decade with the current situation).',\n",
              " \"It depends on what your node is doing. There should always be ~20 GB / month download for incoming blocks. If you're running a listening node that other nodes connect to for data, then upload can be ~200 GB / month.\\n\\nSee here: https://bitcoin.org/en/full-node#minimum-requirements\",\n",
              " 'What’s up bro',\n",
              " 'Money that I can’t actually use to buy anything.',\n",
              " \"Bitcoin isn't money.  \\n\\nBircoin is love. Bitcoin is life!\",\n",
              " 'Why tired? People visit fortune-tellers since centuries. They just want to have some random confirmation.',\n",
              " \"It's a stupid, vague statement with no meaning.\",\n",
              " 'Imagine you lived in Venezuela during this:\\n“Inflation rates became the highest in the world in 2014 under Nicolás Maduro, and continued to increase in the following years, with inflation exceeding 1,000,000% by 2018.“ - https://en.m.wikipedia.org/wiki/Hyperinflation_in_Venezuela\\n\\n… are you remembering the price of things in Bitcoin or Bolivars?',\n",
              " \"No it doesn't. I'm gonna buy more whatever the price is.\\n\\n\\nTime in the market beats timing the market.\",\n",
              " 'HODL stands for “Hold on for dear life.”\\n\\nPlease tell me what part of my message was wrong about that?\\n\\nSure the origin was a typo but it’s now an acronym.',\n",
              " \"Thanks. I'm just running the default install for Umbrel. Is there a way to change the settings? I wouldn't mind uploading more.\",\n",
              " 'Wrong.',\n",
              " 'I bought something with bitcoin yesterday.',\n",
              " 'This daily thread can be so cringe lol',\n",
              " 'This sub in a nutshell',\n",
              " '>No it doesn\\'t. I\\'m gonna buy more whatever the price is.\\n\\nThat\\'s great. But there\\'s a difference between the guy stacking $50 a week in stats and the guy sitting on thousands of dollars in buy orders. You may not care about the .001 difference in stats you\\'ll get off a 10% price dip, but multiply that by a few hundred times and it adds up.\\n\\n>Time in the market beats timing the market.\\n\\nAh yes, another r/bitcoin\\'er who confuses \"picking your price\" with \"timing the market\".',\n",
              " \"I'm not sure to be honest. For a regular Bitcoin Core node there's a configuration file that you can tweak, but maybe Umbrel has restrictions on this sort of thing.\",\n",
              " 'I’ve literally never purchased one single thing where btc was a payment option.']"
            ]
          },
          "metadata": {},
          "execution_count": 5
        }
      ]
    },
    {
      "cell_type": "code",
      "source": [
        "# dataframe으로 변환 후 날짜, 댓글, 분석 결과(분석하면)를 csv 파일로 저장함\n",
        "import pandas as pd\n",
        "from datetime import datetime, timedelta\n",
        "\n",
        "date = datetime.today().strftime('%Y-%m-%d')  # 날짜 출력\n",
        "results = []  # 감정 분석 후 결과 저장\n",
        "\n",
        "data = {\n",
        "    'date':date,\n",
        "    'comments': comments_all,\n",
        "}\n",
        "\n",
        "df_comments = pd.DataFrame(data)"
      ],
      "metadata": {
        "id": "-2kLnnwfI158"
      },
      "execution_count": null,
      "outputs": []
    },
    {
      "cell_type": "code",
      "source": [
        "df_comments"
      ],
      "metadata": {
        "colab": {
          "base_uri": "https://localhost:8080/",
          "height": 424
        },
        "id": "fATRUn3pJvUy",
        "outputId": "70d521b1-32ad-43f2-8f07-0c72623a1cf7"
      },
      "execution_count": null,
      "outputs": [
        {
          "output_type": "execute_result",
          "data": {
            "text/plain": [
              "           date                                           comments\n",
              "0    2022-05-06  If I go out and buy a $5 wrench and attack mys...\n",
              "1    2022-05-06  Please remain seated, seatbelts on, we are exp...\n",
              "2    2022-05-06                                 Didn’t sell a sat.\n",
              "3    2022-05-06   Holding and bought some extra on top of my dca 🤑\n",
              "4    2022-05-06  I've been waiting for BTC to drop, yesterday l...\n",
              "..          ...                                                ...\n",
              "197  2022-05-06             This daily thread can be so cringe lol\n",
              "198  2022-05-06                             This sub in a nutshell\n",
              "199  2022-05-06  >No it doesn't. I'm gonna buy more whatever th...\n",
              "200  2022-05-06  I'm not sure to be honest. For a regular Bitco...\n",
              "201  2022-05-06  I’ve literally never purchased one single thin...\n",
              "\n",
              "[202 rows x 2 columns]"
            ],
            "text/html": [
              "\n",
              "  <div id=\"df-26e09631-c49a-434f-8b29-75756be8b8b3\">\n",
              "    <div class=\"colab-df-container\">\n",
              "      <div>\n",
              "<style scoped>\n",
              "    .dataframe tbody tr th:only-of-type {\n",
              "        vertical-align: middle;\n",
              "    }\n",
              "\n",
              "    .dataframe tbody tr th {\n",
              "        vertical-align: top;\n",
              "    }\n",
              "\n",
              "    .dataframe thead th {\n",
              "        text-align: right;\n",
              "    }\n",
              "</style>\n",
              "<table border=\"1\" class=\"dataframe\">\n",
              "  <thead>\n",
              "    <tr style=\"text-align: right;\">\n",
              "      <th></th>\n",
              "      <th>date</th>\n",
              "      <th>comments</th>\n",
              "    </tr>\n",
              "  </thead>\n",
              "  <tbody>\n",
              "    <tr>\n",
              "      <th>0</th>\n",
              "      <td>2022-05-06</td>\n",
              "      <td>If I go out and buy a $5 wrench and attack mys...</td>\n",
              "    </tr>\n",
              "    <tr>\n",
              "      <th>1</th>\n",
              "      <td>2022-05-06</td>\n",
              "      <td>Please remain seated, seatbelts on, we are exp...</td>\n",
              "    </tr>\n",
              "    <tr>\n",
              "      <th>2</th>\n",
              "      <td>2022-05-06</td>\n",
              "      <td>Didn’t sell a sat.</td>\n",
              "    </tr>\n",
              "    <tr>\n",
              "      <th>3</th>\n",
              "      <td>2022-05-06</td>\n",
              "      <td>Holding and bought some extra on top of my dca 🤑</td>\n",
              "    </tr>\n",
              "    <tr>\n",
              "      <th>4</th>\n",
              "      <td>2022-05-06</td>\n",
              "      <td>I've been waiting for BTC to drop, yesterday l...</td>\n",
              "    </tr>\n",
              "    <tr>\n",
              "      <th>...</th>\n",
              "      <td>...</td>\n",
              "      <td>...</td>\n",
              "    </tr>\n",
              "    <tr>\n",
              "      <th>197</th>\n",
              "      <td>2022-05-06</td>\n",
              "      <td>This daily thread can be so cringe lol</td>\n",
              "    </tr>\n",
              "    <tr>\n",
              "      <th>198</th>\n",
              "      <td>2022-05-06</td>\n",
              "      <td>This sub in a nutshell</td>\n",
              "    </tr>\n",
              "    <tr>\n",
              "      <th>199</th>\n",
              "      <td>2022-05-06</td>\n",
              "      <td>&gt;No it doesn't. I'm gonna buy more whatever th...</td>\n",
              "    </tr>\n",
              "    <tr>\n",
              "      <th>200</th>\n",
              "      <td>2022-05-06</td>\n",
              "      <td>I'm not sure to be honest. For a regular Bitco...</td>\n",
              "    </tr>\n",
              "    <tr>\n",
              "      <th>201</th>\n",
              "      <td>2022-05-06</td>\n",
              "      <td>I’ve literally never purchased one single thin...</td>\n",
              "    </tr>\n",
              "  </tbody>\n",
              "</table>\n",
              "<p>202 rows × 2 columns</p>\n",
              "</div>\n",
              "      <button class=\"colab-df-convert\" onclick=\"convertToInteractive('df-26e09631-c49a-434f-8b29-75756be8b8b3')\"\n",
              "              title=\"Convert this dataframe to an interactive table.\"\n",
              "              style=\"display:none;\">\n",
              "        \n",
              "  <svg xmlns=\"http://www.w3.org/2000/svg\" height=\"24px\"viewBox=\"0 0 24 24\"\n",
              "       width=\"24px\">\n",
              "    <path d=\"M0 0h24v24H0V0z\" fill=\"none\"/>\n",
              "    <path d=\"M18.56 5.44l.94 2.06.94-2.06 2.06-.94-2.06-.94-.94-2.06-.94 2.06-2.06.94zm-11 1L8.5 8.5l.94-2.06 2.06-.94-2.06-.94L8.5 2.5l-.94 2.06-2.06.94zm10 10l.94 2.06.94-2.06 2.06-.94-2.06-.94-.94-2.06-.94 2.06-2.06.94z\"/><path d=\"M17.41 7.96l-1.37-1.37c-.4-.4-.92-.59-1.43-.59-.52 0-1.04.2-1.43.59L10.3 9.45l-7.72 7.72c-.78.78-.78 2.05 0 2.83L4 21.41c.39.39.9.59 1.41.59.51 0 1.02-.2 1.41-.59l7.78-7.78 2.81-2.81c.8-.78.8-2.07 0-2.86zM5.41 20L4 18.59l7.72-7.72 1.47 1.35L5.41 20z\"/>\n",
              "  </svg>\n",
              "      </button>\n",
              "      \n",
              "  <style>\n",
              "    .colab-df-container {\n",
              "      display:flex;\n",
              "      flex-wrap:wrap;\n",
              "      gap: 12px;\n",
              "    }\n",
              "\n",
              "    .colab-df-convert {\n",
              "      background-color: #E8F0FE;\n",
              "      border: none;\n",
              "      border-radius: 50%;\n",
              "      cursor: pointer;\n",
              "      display: none;\n",
              "      fill: #1967D2;\n",
              "      height: 32px;\n",
              "      padding: 0 0 0 0;\n",
              "      width: 32px;\n",
              "    }\n",
              "\n",
              "    .colab-df-convert:hover {\n",
              "      background-color: #E2EBFA;\n",
              "      box-shadow: 0px 1px 2px rgba(60, 64, 67, 0.3), 0px 1px 3px 1px rgba(60, 64, 67, 0.15);\n",
              "      fill: #174EA6;\n",
              "    }\n",
              "\n",
              "    [theme=dark] .colab-df-convert {\n",
              "      background-color: #3B4455;\n",
              "      fill: #D2E3FC;\n",
              "    }\n",
              "\n",
              "    [theme=dark] .colab-df-convert:hover {\n",
              "      background-color: #434B5C;\n",
              "      box-shadow: 0px 1px 3px 1px rgba(0, 0, 0, 0.15);\n",
              "      filter: drop-shadow(0px 1px 2px rgba(0, 0, 0, 0.3));\n",
              "      fill: #FFFFFF;\n",
              "    }\n",
              "  </style>\n",
              "\n",
              "      <script>\n",
              "        const buttonEl =\n",
              "          document.querySelector('#df-26e09631-c49a-434f-8b29-75756be8b8b3 button.colab-df-convert');\n",
              "        buttonEl.style.display =\n",
              "          google.colab.kernel.accessAllowed ? 'block' : 'none';\n",
              "\n",
              "        async function convertToInteractive(key) {\n",
              "          const element = document.querySelector('#df-26e09631-c49a-434f-8b29-75756be8b8b3');\n",
              "          const dataTable =\n",
              "            await google.colab.kernel.invokeFunction('convertToInteractive',\n",
              "                                                     [key], {});\n",
              "          if (!dataTable) return;\n",
              "\n",
              "          const docLinkHtml = 'Like what you see? Visit the ' +\n",
              "            '<a target=\"_blank\" href=https://colab.research.google.com/notebooks/data_table.ipynb>data table notebook</a>'\n",
              "            + ' to learn more about interactive tables.';\n",
              "          element.innerHTML = '';\n",
              "          dataTable['output_type'] = 'display_data';\n",
              "          await google.colab.output.renderOutput(dataTable, element);\n",
              "          const docLink = document.createElement('div');\n",
              "          docLink.innerHTML = docLinkHtml;\n",
              "          element.appendChild(docLink);\n",
              "        }\n",
              "      </script>\n",
              "    </div>\n",
              "  </div>\n",
              "  "
            ]
          },
          "metadata": {},
          "execution_count": 7
        }
      ]
    },
    {
      "cell_type": "markdown",
      "source": [
        "## BERT 모델 학습 및 테스트를 통한 감정 분석"
      ],
      "metadata": {
        "id": "q2qptxR4K2nV"
      }
    },
    {
      "cell_type": "code",
      "source": [
        "!nvidia-smi   # GPU 상태 모니터링"
      ],
      "metadata": {
        "colab": {
          "base_uri": "https://localhost:8080/"
        },
        "id": "ULElGwVlK9Jk",
        "outputId": "db1fa9e2-ad20-4a5a-b628-233542d74ef3"
      },
      "execution_count": null,
      "outputs": [
        {
          "output_type": "stream",
          "name": "stdout",
          "text": [
            "Fri May  6 17:18:25 2022       \n",
            "+-----------------------------------------------------------------------------+\n",
            "| NVIDIA-SMI 460.32.03    Driver Version: 460.32.03    CUDA Version: 11.2     |\n",
            "|-------------------------------+----------------------+----------------------+\n",
            "| GPU  Name        Persistence-M| Bus-Id        Disp.A | Volatile Uncorr. ECC |\n",
            "| Fan  Temp  Perf  Pwr:Usage/Cap|         Memory-Usage | GPU-Util  Compute M. |\n",
            "|                               |                      |               MIG M. |\n",
            "|===============================+======================+======================|\n",
            "|   0  Tesla K80           Off  | 00000000:00:04.0 Off |                    0 |\n",
            "| N/A   69C    P8    34W / 149W |      0MiB / 11441MiB |      0%      Default |\n",
            "|                               |                      |                  N/A |\n",
            "+-------------------------------+----------------------+----------------------+\n",
            "                                                                               \n",
            "+-----------------------------------------------------------------------------+\n",
            "| Processes:                                                                  |\n",
            "|  GPU   GI   CI        PID   Type   Process name                  GPU Memory |\n",
            "|        ID   ID                                                   Usage      |\n",
            "|=============================================================================|\n",
            "|  No running processes found                                                 |\n",
            "+-----------------------------------------------------------------------------+\n"
          ]
        }
      ]
    },
    {
      "cell_type": "markdown",
      "source": [
        "### 필요한 라이브러리 설치"
      ],
      "metadata": {
        "id": "Z2nV1zwnLbdY"
      }
    },
    {
      "cell_type": "code",
      "source": [
        "!pip install -q -U watermark\n",
        "!pip install transformers"
      ],
      "metadata": {
        "colab": {
          "base_uri": "https://localhost:8080/"
        },
        "id": "TnaeLnWZLZGO",
        "outputId": "489d8a18-b052-4a0b-9b3b-26da7537337a"
      },
      "execution_count": null,
      "outputs": [
        {
          "output_type": "stream",
          "name": "stdout",
          "text": [
            "Requirement already satisfied: transformers in /usr/local/lib/python3.7/dist-packages (4.18.0)\n",
            "Requirement already satisfied: pyyaml>=5.1 in /usr/local/lib/python3.7/dist-packages (from transformers) (6.0)\n",
            "Requirement already satisfied: requests in /usr/local/lib/python3.7/dist-packages (from transformers) (2.23.0)\n",
            "Requirement already satisfied: tqdm>=4.27 in /usr/local/lib/python3.7/dist-packages (from transformers) (4.64.0)\n",
            "Requirement already satisfied: huggingface-hub<1.0,>=0.1.0 in /usr/local/lib/python3.7/dist-packages (from transformers) (0.5.1)\n",
            "Requirement already satisfied: numpy>=1.17 in /usr/local/lib/python3.7/dist-packages (from transformers) (1.21.6)\n",
            "Requirement already satisfied: importlib-metadata in /usr/local/lib/python3.7/dist-packages (from transformers) (2.1.3)\n",
            "Requirement already satisfied: tokenizers!=0.11.3,<0.13,>=0.11.1 in /usr/local/lib/python3.7/dist-packages (from transformers) (0.12.1)\n",
            "Requirement already satisfied: filelock in /usr/local/lib/python3.7/dist-packages (from transformers) (3.6.0)\n",
            "Requirement already satisfied: regex!=2019.12.17 in /usr/local/lib/python3.7/dist-packages (from transformers) (2019.12.20)\n",
            "Requirement already satisfied: packaging>=20.0 in /usr/local/lib/python3.7/dist-packages (from transformers) (21.3)\n",
            "Requirement already satisfied: sacremoses in /usr/local/lib/python3.7/dist-packages (from transformers) (0.0.53)\n",
            "Requirement already satisfied: typing-extensions>=3.7.4.3 in /usr/local/lib/python3.7/dist-packages (from huggingface-hub<1.0,>=0.1.0->transformers) (4.2.0)\n",
            "Requirement already satisfied: pyparsing!=3.0.5,>=2.0.2 in /usr/local/lib/python3.7/dist-packages (from packaging>=20.0->transformers) (3.0.8)\n",
            "Requirement already satisfied: zipp>=0.5 in /usr/local/lib/python3.7/dist-packages (from importlib-metadata->transformers) (3.8.0)\n",
            "Requirement already satisfied: urllib3!=1.25.0,!=1.25.1,<1.26,>=1.21.1 in /usr/local/lib/python3.7/dist-packages (from requests->transformers) (1.24.3)\n",
            "Requirement already satisfied: certifi>=2017.4.17 in /usr/local/lib/python3.7/dist-packages (from requests->transformers) (2021.10.8)\n",
            "Requirement already satisfied: idna<3,>=2.5 in /usr/local/lib/python3.7/dist-packages (from requests->transformers) (2.10)\n",
            "Requirement already satisfied: chardet<4,>=3.0.2 in /usr/local/lib/python3.7/dist-packages (from requests->transformers) (3.0.4)\n",
            "Requirement already satisfied: six in /usr/local/lib/python3.7/dist-packages (from sacremoses->transformers) (1.15.0)\n",
            "Requirement already satisfied: joblib in /usr/local/lib/python3.7/dist-packages (from sacremoses->transformers) (1.1.0)\n",
            "Requirement already satisfied: click in /usr/local/lib/python3.7/dist-packages (from sacremoses->transformers) (7.1.2)\n"
          ]
        }
      ]
    },
    {
      "cell_type": "code",
      "source": [
        "%reload_ext watermark\n",
        "%watermark -v -p numpy,pandas,torch,transformers"
      ],
      "metadata": {
        "colab": {
          "base_uri": "https://localhost:8080/"
        },
        "id": "WF667bE8LjqA",
        "outputId": "c86d9d94-0687-42a2-eaa1-5381a4ef4327"
      },
      "execution_count": null,
      "outputs": [
        {
          "output_type": "stream",
          "name": "stdout",
          "text": [
            "Python implementation: CPython\n",
            "Python version       : 3.7.13\n",
            "IPython version      : 5.5.0\n",
            "\n",
            "numpy       : 1.21.6\n",
            "pandas      : 1.3.5\n",
            "torch       : 1.11.0+cu113\n",
            "transformers: 4.18.0\n",
            "\n"
          ]
        }
      ]
    },
    {
      "cell_type": "code",
      "source": [
        "import transformers\n",
        "from transformers import BertModel, BertTokenizer, AdamW, get_linear_schedule_with_warmup\n",
        "import torch\n",
        "\n",
        "import numpy as np\n",
        "import pandas as pd\n",
        "import seaborn as sns\n",
        "from pylab import rcParams\n",
        "import matplotlib.pyplot as plt\n",
        "from matplotlib import rc\n",
        "from sklearn.model_selection import train_test_split\n",
        "from sklearn.metrics import confusion_matrix, classification_report\n",
        "from collections import defaultdict\n",
        "from textwrap import wrap\n",
        "\n",
        "from torch import nn, optim\n",
        "from torch.utils.data import Dataset, DataLoader\n",
        "import torch.nn.functional as F\n",
        "\n",
        "%matplotlib inline\n",
        "%config InlineBackend.figure_format='retina'\n",
        "\n",
        "sns.set(style='whitegrid', palette='muted', font_scale=1.2)\n",
        "\n",
        "HAPPY_COLORS_PALETTE = [\"#01BEFE\", \"#FFDD00\", \"#FF7D00\", \"#FF006D\", \"#ADFF02\", \"#8F00FF\"]\n",
        "\n",
        "sns.set_palette(sns.color_palette(HAPPY_COLORS_PALETTE))\n",
        "\n",
        "rcParams['figure.figsize'] = 12, 8\n",
        "\n",
        "RANDOM_SEED = 42\n",
        "np.random.seed(RANDOM_SEED)\n",
        "torch.manual_seed(RANDOM_SEED)\n",
        "\n",
        "device = torch.device(\"cuda:0\" if torch.cuda.is_available() else \"cpu\")\n",
        "device"
      ],
      "metadata": {
        "colab": {
          "base_uri": "https://localhost:8080/"
        },
        "id": "r0K-iv7rLoXz",
        "outputId": "6972c11e-7f68-45e4-cbce-1a217b3aa27f"
      },
      "execution_count": null,
      "outputs": [
        {
          "output_type": "execute_result",
          "data": {
            "text/plain": [
              "device(type='cuda', index=0)"
            ]
          },
          "metadata": {},
          "execution_count": 11
        }
      ]
    },
    {
      "cell_type": "markdown",
      "source": [
        "### 학습용 데이터셋 다운로드\n",
        "* 데이터 셋: review comments of Google application\n",
        "\n",
        "\n",
        "> 감정 분류 모델의 일반적인 Open dataset은 뉴스 기사 등 문어체로 작성된 문장들이 대부분임. Google App store의 고객 리뷰 데이터는 구어체로 이루어져 있으며, 이는 본 프로젝트에서 사용하는 Reddit comments 데이터와 유사한 성격을 가짐. 따라서 해당 데이터셋을 이용해 BERT 모델을 학습시켜 테스트 데이터셋에 대한 성능을 향상시키고자 함. \n",
        "* 추후 더욱 적절한 데이터셋을 발견하면, 이를 반영하여 모델을 재학습시키고자 함.\n",
        "\n"
      ],
      "metadata": {
        "id": "E1mj_sv9L1Xt"
      }
    },
    {
      "cell_type": "code",
      "source": [
        "# 데이터셋 다운로드\n",
        "!gdown --id 1S6qMioqPJjyBLpLVz4gmRTnJHnjitnuV"
      ],
      "metadata": {
        "colab": {
          "base_uri": "https://localhost:8080/"
        },
        "id": "zHdar6u9Lygh",
        "outputId": "bb9193a0-5868-4f56-84b5-b743415a98c9"
      },
      "execution_count": null,
      "outputs": [
        {
          "output_type": "stream",
          "name": "stdout",
          "text": [
            "/usr/local/lib/python3.7/dist-packages/gdown/cli.py:131: FutureWarning: Option `--id` was deprecated in version 4.3.1 and will be removed in 5.0. You don't need to pass it anymore to use a file ID.\n",
            "  category=FutureWarning,\n",
            "Downloading...\n",
            "From: https://drive.google.com/uc?id=1S6qMioqPJjyBLpLVz4gmRTnJHnjitnuV\n",
            "To: /content/apps.csv\n",
            "100% 134k/134k [00:00<00:00, 77.1MB/s]\n"
          ]
        }
      ]
    },
    {
      "cell_type": "code",
      "source": [
        "# 데이터셋 다운로드\n",
        "!gdown --id 1zdmewp7ayS4js4VtrJEHzAheSW-5NBZv"
      ],
      "metadata": {
        "colab": {
          "base_uri": "https://localhost:8080/"
        },
        "id": "_2aYpYS1L1IG",
        "outputId": "c15faf3b-85aa-4af0-c344-b8212e015ca0"
      },
      "execution_count": null,
      "outputs": [
        {
          "output_type": "stream",
          "name": "stdout",
          "text": [
            "/usr/local/lib/python3.7/dist-packages/gdown/cli.py:131: FutureWarning: Option `--id` was deprecated in version 4.3.1 and will be removed in 5.0. You don't need to pass it anymore to use a file ID.\n",
            "  category=FutureWarning,\n",
            "Downloading...\n",
            "From: https://drive.google.com/uc?id=1zdmewp7ayS4js4VtrJEHzAheSW-5NBZv\n",
            "To: /content/reviews.csv\n",
            "100% 7.17M/7.17M [00:00<00:00, 137MB/s]\n"
          ]
        }
      ]
    },
    {
      "cell_type": "code",
      "source": [
        "df = pd.read_csv(\"reviews.csv\")\n",
        "df.head()"
      ],
      "metadata": {
        "colab": {
          "base_uri": "https://localhost:8080/",
          "height": 687
        },
        "id": "s_9XnhnRNpIF",
        "outputId": "d7f15991-73fc-4247-a4a9-04cfadcef48c"
      },
      "execution_count": null,
      "outputs": [
        {
          "output_type": "execute_result",
          "data": {
            "text/plain": [
              "           userName                                          userImage  \\\n",
              "0     Andrew Thomas  https://lh3.googleusercontent.com/a-/AOh14GiHd...   \n",
              "1      Craig Haines  https://lh3.googleusercontent.com/-hoe0kwSJgPQ...   \n",
              "2     steven adkins  https://lh3.googleusercontent.com/a-/AOh14GiXw...   \n",
              "3  Lars Panzerbjørn  https://lh3.googleusercontent.com/a-/AOh14Gg-h...   \n",
              "4     Scott Prewitt  https://lh3.googleusercontent.com/-K-X1-YsVd6U...   \n",
              "\n",
              "                                             content  score  thumbsUpCount  \\\n",
              "0  Update: After getting a response from the deve...      1             21   \n",
              "1  Used it for a fair amount of time without any ...      1             11   \n",
              "2  Your app sucks now!!!!! Used to be good but no...      1             17   \n",
              "3  It seems OK, but very basic. Recurring tasks n...      1            192   \n",
              "4  Absolutely worthless. This app runs a prohibit...      1             42   \n",
              "\n",
              "  reviewCreatedVersion                   at  \\\n",
              "0             4.17.0.3  2020-04-05 22:25:57   \n",
              "1             4.17.0.3  2020-04-04 13:40:01   \n",
              "2             4.17.0.3  2020-04-01 16:18:13   \n",
              "3             4.17.0.2  2020-03-12 08:17:34   \n",
              "4             4.17.0.2  2020-03-14 17:41:01   \n",
              "\n",
              "                                        replyContent            repliedAt  \\\n",
              "0  According to our TOS, and the term you have ag...  2020-04-05 15:10:24   \n",
              "1  It sounds like you logged in with a different ...  2020-04-05 15:11:35   \n",
              "2  This sounds odd! We are not aware of any issue...  2020-04-02 16:05:56   \n",
              "3  We do offer this option as part of the Advance...  2020-03-15 06:20:13   \n",
              "4  We're sorry you feel this way! 90% of the app ...  2020-03-15 23:45:51   \n",
              "\n",
              "       sortOrder      appId  \n",
              "0  most_relevant  com.anydo  \n",
              "1  most_relevant  com.anydo  \n",
              "2  most_relevant  com.anydo  \n",
              "3  most_relevant  com.anydo  \n",
              "4  most_relevant  com.anydo  "
            ],
            "text/html": [
              "\n",
              "  <div id=\"df-5bbd3e1f-3ab6-4989-b597-073a46b34fcc\">\n",
              "    <div class=\"colab-df-container\">\n",
              "      <div>\n",
              "<style scoped>\n",
              "    .dataframe tbody tr th:only-of-type {\n",
              "        vertical-align: middle;\n",
              "    }\n",
              "\n",
              "    .dataframe tbody tr th {\n",
              "        vertical-align: top;\n",
              "    }\n",
              "\n",
              "    .dataframe thead th {\n",
              "        text-align: right;\n",
              "    }\n",
              "</style>\n",
              "<table border=\"1\" class=\"dataframe\">\n",
              "  <thead>\n",
              "    <tr style=\"text-align: right;\">\n",
              "      <th></th>\n",
              "      <th>userName</th>\n",
              "      <th>userImage</th>\n",
              "      <th>content</th>\n",
              "      <th>score</th>\n",
              "      <th>thumbsUpCount</th>\n",
              "      <th>reviewCreatedVersion</th>\n",
              "      <th>at</th>\n",
              "      <th>replyContent</th>\n",
              "      <th>repliedAt</th>\n",
              "      <th>sortOrder</th>\n",
              "      <th>appId</th>\n",
              "    </tr>\n",
              "  </thead>\n",
              "  <tbody>\n",
              "    <tr>\n",
              "      <th>0</th>\n",
              "      <td>Andrew Thomas</td>\n",
              "      <td>https://lh3.googleusercontent.com/a-/AOh14GiHd...</td>\n",
              "      <td>Update: After getting a response from the deve...</td>\n",
              "      <td>1</td>\n",
              "      <td>21</td>\n",
              "      <td>4.17.0.3</td>\n",
              "      <td>2020-04-05 22:25:57</td>\n",
              "      <td>According to our TOS, and the term you have ag...</td>\n",
              "      <td>2020-04-05 15:10:24</td>\n",
              "      <td>most_relevant</td>\n",
              "      <td>com.anydo</td>\n",
              "    </tr>\n",
              "    <tr>\n",
              "      <th>1</th>\n",
              "      <td>Craig Haines</td>\n",
              "      <td>https://lh3.googleusercontent.com/-hoe0kwSJgPQ...</td>\n",
              "      <td>Used it for a fair amount of time without any ...</td>\n",
              "      <td>1</td>\n",
              "      <td>11</td>\n",
              "      <td>4.17.0.3</td>\n",
              "      <td>2020-04-04 13:40:01</td>\n",
              "      <td>It sounds like you logged in with a different ...</td>\n",
              "      <td>2020-04-05 15:11:35</td>\n",
              "      <td>most_relevant</td>\n",
              "      <td>com.anydo</td>\n",
              "    </tr>\n",
              "    <tr>\n",
              "      <th>2</th>\n",
              "      <td>steven adkins</td>\n",
              "      <td>https://lh3.googleusercontent.com/a-/AOh14GiXw...</td>\n",
              "      <td>Your app sucks now!!!!! Used to be good but no...</td>\n",
              "      <td>1</td>\n",
              "      <td>17</td>\n",
              "      <td>4.17.0.3</td>\n",
              "      <td>2020-04-01 16:18:13</td>\n",
              "      <td>This sounds odd! We are not aware of any issue...</td>\n",
              "      <td>2020-04-02 16:05:56</td>\n",
              "      <td>most_relevant</td>\n",
              "      <td>com.anydo</td>\n",
              "    </tr>\n",
              "    <tr>\n",
              "      <th>3</th>\n",
              "      <td>Lars Panzerbjørn</td>\n",
              "      <td>https://lh3.googleusercontent.com/a-/AOh14Gg-h...</td>\n",
              "      <td>It seems OK, but very basic. Recurring tasks n...</td>\n",
              "      <td>1</td>\n",
              "      <td>192</td>\n",
              "      <td>4.17.0.2</td>\n",
              "      <td>2020-03-12 08:17:34</td>\n",
              "      <td>We do offer this option as part of the Advance...</td>\n",
              "      <td>2020-03-15 06:20:13</td>\n",
              "      <td>most_relevant</td>\n",
              "      <td>com.anydo</td>\n",
              "    </tr>\n",
              "    <tr>\n",
              "      <th>4</th>\n",
              "      <td>Scott Prewitt</td>\n",
              "      <td>https://lh3.googleusercontent.com/-K-X1-YsVd6U...</td>\n",
              "      <td>Absolutely worthless. This app runs a prohibit...</td>\n",
              "      <td>1</td>\n",
              "      <td>42</td>\n",
              "      <td>4.17.0.2</td>\n",
              "      <td>2020-03-14 17:41:01</td>\n",
              "      <td>We're sorry you feel this way! 90% of the app ...</td>\n",
              "      <td>2020-03-15 23:45:51</td>\n",
              "      <td>most_relevant</td>\n",
              "      <td>com.anydo</td>\n",
              "    </tr>\n",
              "  </tbody>\n",
              "</table>\n",
              "</div>\n",
              "      <button class=\"colab-df-convert\" onclick=\"convertToInteractive('df-5bbd3e1f-3ab6-4989-b597-073a46b34fcc')\"\n",
              "              title=\"Convert this dataframe to an interactive table.\"\n",
              "              style=\"display:none;\">\n",
              "        \n",
              "  <svg xmlns=\"http://www.w3.org/2000/svg\" height=\"24px\"viewBox=\"0 0 24 24\"\n",
              "       width=\"24px\">\n",
              "    <path d=\"M0 0h24v24H0V0z\" fill=\"none\"/>\n",
              "    <path d=\"M18.56 5.44l.94 2.06.94-2.06 2.06-.94-2.06-.94-.94-2.06-.94 2.06-2.06.94zm-11 1L8.5 8.5l.94-2.06 2.06-.94-2.06-.94L8.5 2.5l-.94 2.06-2.06.94zm10 10l.94 2.06.94-2.06 2.06-.94-2.06-.94-.94-2.06-.94 2.06-2.06.94z\"/><path d=\"M17.41 7.96l-1.37-1.37c-.4-.4-.92-.59-1.43-.59-.52 0-1.04.2-1.43.59L10.3 9.45l-7.72 7.72c-.78.78-.78 2.05 0 2.83L4 21.41c.39.39.9.59 1.41.59.51 0 1.02-.2 1.41-.59l7.78-7.78 2.81-2.81c.8-.78.8-2.07 0-2.86zM5.41 20L4 18.59l7.72-7.72 1.47 1.35L5.41 20z\"/>\n",
              "  </svg>\n",
              "      </button>\n",
              "      \n",
              "  <style>\n",
              "    .colab-df-container {\n",
              "      display:flex;\n",
              "      flex-wrap:wrap;\n",
              "      gap: 12px;\n",
              "    }\n",
              "\n",
              "    .colab-df-convert {\n",
              "      background-color: #E8F0FE;\n",
              "      border: none;\n",
              "      border-radius: 50%;\n",
              "      cursor: pointer;\n",
              "      display: none;\n",
              "      fill: #1967D2;\n",
              "      height: 32px;\n",
              "      padding: 0 0 0 0;\n",
              "      width: 32px;\n",
              "    }\n",
              "\n",
              "    .colab-df-convert:hover {\n",
              "      background-color: #E2EBFA;\n",
              "      box-shadow: 0px 1px 2px rgba(60, 64, 67, 0.3), 0px 1px 3px 1px rgba(60, 64, 67, 0.15);\n",
              "      fill: #174EA6;\n",
              "    }\n",
              "\n",
              "    [theme=dark] .colab-df-convert {\n",
              "      background-color: #3B4455;\n",
              "      fill: #D2E3FC;\n",
              "    }\n",
              "\n",
              "    [theme=dark] .colab-df-convert:hover {\n",
              "      background-color: #434B5C;\n",
              "      box-shadow: 0px 1px 3px 1px rgba(0, 0, 0, 0.15);\n",
              "      filter: drop-shadow(0px 1px 2px rgba(0, 0, 0, 0.3));\n",
              "      fill: #FFFFFF;\n",
              "    }\n",
              "  </style>\n",
              "\n",
              "      <script>\n",
              "        const buttonEl =\n",
              "          document.querySelector('#df-5bbd3e1f-3ab6-4989-b597-073a46b34fcc button.colab-df-convert');\n",
              "        buttonEl.style.display =\n",
              "          google.colab.kernel.accessAllowed ? 'block' : 'none';\n",
              "\n",
              "        async function convertToInteractive(key) {\n",
              "          const element = document.querySelector('#df-5bbd3e1f-3ab6-4989-b597-073a46b34fcc');\n",
              "          const dataTable =\n",
              "            await google.colab.kernel.invokeFunction('convertToInteractive',\n",
              "                                                     [key], {});\n",
              "          if (!dataTable) return;\n",
              "\n",
              "          const docLinkHtml = 'Like what you see? Visit the ' +\n",
              "            '<a target=\"_blank\" href=https://colab.research.google.com/notebooks/data_table.ipynb>data table notebook</a>'\n",
              "            + ' to learn more about interactive tables.';\n",
              "          element.innerHTML = '';\n",
              "          dataTable['output_type'] = 'display_data';\n",
              "          await google.colab.output.renderOutput(dataTable, element);\n",
              "          const docLink = document.createElement('div');\n",
              "          docLink.innerHTML = docLinkHtml;\n",
              "          element.appendChild(docLink);\n",
              "        }\n",
              "      </script>\n",
              "    </div>\n",
              "  </div>\n",
              "  "
            ]
          },
          "metadata": {},
          "execution_count": 14
        }
      ]
    },
    {
      "cell_type": "code",
      "source": [
        "df.shape  # 데이터셋 size 확인"
      ],
      "metadata": {
        "colab": {
          "base_uri": "https://localhost:8080/"
        },
        "id": "gmRpXv7ZNqwq",
        "outputId": "04b927c9-007c-46ce-b729-802548171fbd"
      },
      "execution_count": null,
      "outputs": [
        {
          "output_type": "execute_result",
          "data": {
            "text/plain": [
              "(15746, 11)"
            ]
          },
          "metadata": {},
          "execution_count": 15
        }
      ]
    },
    {
      "cell_type": "code",
      "source": [
        "df.info()   # 데이터셋 정보 (type)"
      ],
      "metadata": {
        "colab": {
          "base_uri": "https://localhost:8080/"
        },
        "id": "jD4wlZoINtyP",
        "outputId": "3335dfc5-ec1c-4983-e7ea-67730f986d6d"
      },
      "execution_count": null,
      "outputs": [
        {
          "output_type": "stream",
          "name": "stdout",
          "text": [
            "<class 'pandas.core.frame.DataFrame'>\n",
            "RangeIndex: 15746 entries, 0 to 15745\n",
            "Data columns (total 11 columns):\n",
            " #   Column                Non-Null Count  Dtype \n",
            "---  ------                --------------  ----- \n",
            " 0   userName              15746 non-null  object\n",
            " 1   userImage             15746 non-null  object\n",
            " 2   content               15746 non-null  object\n",
            " 3   score                 15746 non-null  int64 \n",
            " 4   thumbsUpCount         15746 non-null  int64 \n",
            " 5   reviewCreatedVersion  13533 non-null  object\n",
            " 6   at                    15746 non-null  object\n",
            " 7   replyContent          7367 non-null   object\n",
            " 8   repliedAt             7367 non-null   object\n",
            " 9   sortOrder             15746 non-null  object\n",
            " 10  appId                 15746 non-null  object\n",
            "dtypes: int64(2), object(9)\n",
            "memory usage: 1.3+ MB\n"
          ]
        }
      ]
    },
    {
      "cell_type": "code",
      "source": [
        "sns.countplot(df.score)\n",
        "plt.xlabel('review score')    # 별점 당 개수 출력"
      ],
      "metadata": {
        "colab": {
          "base_uri": "https://localhost:8080/",
          "height": 580
        },
        "id": "Cp88TdqKN1dk",
        "outputId": "30fdc05d-54a5-4e26-c4bf-f3e4bf88ffa2"
      },
      "execution_count": null,
      "outputs": [
        {
          "output_type": "stream",
          "name": "stderr",
          "text": [
            "/usr/local/lib/python3.7/dist-packages/seaborn/_decorators.py:43: FutureWarning: Pass the following variable as a keyword arg: x. From version 0.12, the only valid positional argument will be `data`, and passing other arguments without an explicit keyword will result in an error or misinterpretation.\n",
            "  FutureWarning\n"
          ]
        },
        {
          "output_type": "execute_result",
          "data": {
            "text/plain": [
              "Text(0.5, 0, 'review score')"
            ]
          },
          "metadata": {},
          "execution_count": 17
        },
        {
          "output_type": "display_data",
          "data": {
            "text/plain": [
              "<Figure size 864x576 with 1 Axes>"
            ],
            "image/png": "[encoded data removed]"
          },
          "metadata": {
            "image/png": {
              "width": 745,
              "height": 489
            }
          }
        }
      ]
    },
    {
      "cell_type": "code",
      "source": [
        "# 1~5 까지의 별점을 positive, netural, negative로 총 3가지 카테고리로 나눔\n",
        "# positive, netural, negative 세 가지 카테고리로 나누어 학습하는 것이 Sentiment analysis 모델의 특징\n",
        "# 감정을 더욱 세분화해 학습시키는 것은 emotion analysis 분야이며, 본 프로젝트에서 필요한 K 가중치 값을 구하기 위해서는 sentimental analysis 모델을 사용해야 함.\n",
        "\n",
        "def to_sentiment(rating):\n",
        "  rating = int(rating)\n",
        "  if rating <= 2:\n",
        "    return 0\n",
        "  elif rating == 3:\n",
        "    return 1\n",
        "  else: \n",
        "    return 2\n",
        "\n",
        "df['sentiment'] = df.score.apply(to_sentiment)"
      ],
      "metadata": {
        "id": "BY_euIX0N3rl"
      },
      "execution_count": null,
      "outputs": []
    },
    {
      "cell_type": "code",
      "source": [
        "class_names = ['negative', 'neutral', 'positive']"
      ],
      "metadata": {
        "id": "2KqA48hcOcFl"
      },
      "execution_count": null,
      "outputs": []
    },
    {
      "cell_type": "code",
      "source": [
        "ax = sns.countplot(df.sentiment)\n",
        "plt.xlabel('review sentiment')\n",
        "ax.set_xticklabels(class_names);\n",
        "\n",
        "# 감정을 세 가지 분류로 나눔"
      ],
      "metadata": {
        "colab": {
          "base_uri": "https://localhost:8080/",
          "height": 562
        },
        "id": "5XhfzL5WOdks",
        "outputId": "08336a16-14af-4661-a306-3053a6c32308"
      },
      "execution_count": null,
      "outputs": [
        {
          "output_type": "stream",
          "name": "stderr",
          "text": [
            "/usr/local/lib/python3.7/dist-packages/seaborn/_decorators.py:43: FutureWarning: Pass the following variable as a keyword arg: x. From version 0.12, the only valid positional argument will be `data`, and passing other arguments without an explicit keyword will result in an error or misinterpretation.\n",
            "  FutureWarning\n"
          ]
        },
        {
          "output_type": "display_data",
          "data": {
            "text/plain": [
              "<Figure size 864x576 with 1 Axes>"
            ],
            "image/png": "[encoded data removed]"
          },
          "metadata": {
            "image/png": {
              "width": 745,
              "height": 489
            }
          }
        }
      ]
    },
    {
      "cell_type": "markdown",
      "source": [
        "### 데이터 전처리 (Data Preprocessing)\n",
        "\n"
      ],
      "metadata": {
        "id": "D6zOyY9IOldk"
      }
    },
    {
      "cell_type": "code",
      "source": [
        "# 데이터 전처리에 필요한 tokenizer 모델 다운로드\n",
        "PRE_TRAINED_MODEL_NAME = 'bert-base-cased'\n",
        "tokenizer = BertTokenizer.from_pretrained(PRE_TRAINED_MODEL_NAME)"
      ],
      "metadata": {
        "id": "sB1kPWLYOfzy"
      },
      "execution_count": null,
      "outputs": []
    },
    {
      "cell_type": "code",
      "source": [
        "# 예시 문장으로 전처리 진행 후 결과 확인\n",
        "sample_txt = 'When was I last outside? I am stuck at home for 2 weeks.'\n",
        "\n",
        "tokens = tokenizer.tokenize(sample_txt)\n",
        "token_ids = tokenizer.convert_tokens_to_ids(tokens)\n",
        "\n",
        "print(f' Sentence: {sample_txt}')\n",
        "print(f'   Tokens: {tokens}')\n",
        "print(f'Token IDs: {token_ids}')"
      ],
      "metadata": {
        "colab": {
          "base_uri": "https://localhost:8080/"
        },
        "id": "85CYN06XO2E4",
        "outputId": "3d05ff33-83fe-4c2e-8572-c8b2ed2c375a"
      },
      "execution_count": null,
      "outputs": [
        {
          "output_type": "stream",
          "name": "stdout",
          "text": [
            " Sentence: When was I last outside? I am stuck at home for 2 weeks.\n",
            "   Tokens: ['When', 'was', 'I', 'last', 'outside', '?', 'I', 'am', 'stuck', 'at', 'home', 'for', '2', 'weeks', '.']\n",
            "Token IDs: [1332, 1108, 146, 1314, 1796, 136, 146, 1821, 5342, 1120, 1313, 1111, 123, 2277, 119]\n"
          ]
        }
      ]
    },
    {
      "cell_type": "code",
      "source": [
        "# special token들은 따로 토큰화 진행. [SEP], [CLS], [PAD], [UNK]\n",
        "tokenizer.sep_token, tokenizer.sep_token_id"
      ],
      "metadata": {
        "colab": {
          "base_uri": "https://localhost:8080/"
        },
        "id": "x-2r3ZDKO6xE",
        "outputId": "226ca439-3cb2-4ee5-8c47-9a190025f23d"
      },
      "execution_count": null,
      "outputs": [
        {
          "output_type": "execute_result",
          "data": {
            "text/plain": [
              "('[SEP]', 102)"
            ]
          },
          "metadata": {},
          "execution_count": 23
        }
      ]
    },
    {
      "cell_type": "code",
      "source": [
        "tokenizer.cls_token, tokenizer.cls_token_id"
      ],
      "metadata": {
        "colab": {
          "base_uri": "https://localhost:8080/"
        },
        "id": "dP0INvW5PIhQ",
        "outputId": "abe9a6b4-987f-4849-fa9c-4eb27aaacbf9"
      },
      "execution_count": null,
      "outputs": [
        {
          "output_type": "execute_result",
          "data": {
            "text/plain": [
              "('[CLS]', 101)"
            ]
          },
          "metadata": {},
          "execution_count": 24
        }
      ]
    },
    {
      "cell_type": "code",
      "source": [
        "tokenizer.pad_token, tokenizer.pad_token_id"
      ],
      "metadata": {
        "colab": {
          "base_uri": "https://localhost:8080/"
        },
        "id": "ftSrcOcHPPjC",
        "outputId": "3dae6304-8434-4052-a3b4-0779324e89b9"
      },
      "execution_count": null,
      "outputs": [
        {
          "output_type": "execute_result",
          "data": {
            "text/plain": [
              "('[PAD]', 0)"
            ]
          },
          "metadata": {},
          "execution_count": 25
        }
      ]
    },
    {
      "cell_type": "code",
      "source": [
        "tokenizer.unk_token, tokenizer.unk_token_id"
      ],
      "metadata": {
        "colab": {
          "base_uri": "https://localhost:8080/"
        },
        "id": "rDvPw_A3PQmp",
        "outputId": "48757f3f-20a3-4026-f25d-10a87b6562d0"
      },
      "execution_count": null,
      "outputs": [
        {
          "output_type": "execute_result",
          "data": {
            "text/plain": [
              "('[UNK]', 100)"
            ]
          },
          "metadata": {},
          "execution_count": 26
        }
      ]
    },
    {
      "cell_type": "code",
      "source": [
        "# encoding 진행\n",
        "\n",
        "encoding = tokenizer.encode_plus(\n",
        "  sample_txt,\n",
        "  max_length=32,\n",
        "  add_special_tokens=True, # Add '[CLS]' and '[SEP]'\n",
        "  return_token_type_ids=False,\n",
        "  # pad_to_max_length=True,\n",
        "  padding=True,\n",
        "  return_attention_mask=True,\n",
        "  return_tensors='pt',  # Return PyTorch tensors\n",
        ")\n",
        "\n",
        "encoding.keys()"
      ],
      "metadata": {
        "colab": {
          "base_uri": "https://localhost:8080/"
        },
        "id": "1cfOBdydPQ4w",
        "outputId": "3487bee1-7c98-4315-cbc3-d5e58897e850"
      },
      "execution_count": null,
      "outputs": [
        {
          "output_type": "stream",
          "name": "stderr",
          "text": [
            "/usr/local/lib/python3.7/dist-packages/transformers/tokenization_utils_base.py:2280: UserWarning: `max_length` is ignored when `padding`=`True` and there is no truncation strategy. To pad to max length, use `padding='max_length'`.\n",
            "  \"`max_length` is ignored when `padding`=`True` and there is no truncation strategy. \"\n"
          ]
        },
        {
          "output_type": "execute_result",
          "data": {
            "text/plain": [
              "dict_keys(['input_ids', 'attention_mask'])"
            ]
          },
          "metadata": {},
          "execution_count": 27
        }
      ]
    },
    {
      "cell_type": "code",
      "source": [
        "print(len(encoding['input_ids'][0]))\n",
        "encoding['input_ids'][0]"
      ],
      "metadata": {
        "colab": {
          "base_uri": "https://localhost:8080/"
        },
        "id": "1T-dqT38PVOq",
        "outputId": "c75a4d3a-8db5-4328-b822-a9cd8c2982e8"
      },
      "execution_count": null,
      "outputs": [
        {
          "output_type": "stream",
          "name": "stdout",
          "text": [
            "17\n"
          ]
        },
        {
          "output_type": "execute_result",
          "data": {
            "text/plain": [
              "tensor([ 101, 1332, 1108,  146, 1314, 1796,  136,  146, 1821, 5342, 1120, 1313,\n",
              "        1111,  123, 2277,  119,  102])"
            ]
          },
          "metadata": {},
          "execution_count": 28
        }
      ]
    },
    {
      "cell_type": "code",
      "source": [
        "print(len(encoding['attention_mask'][0]))\n",
        "encoding['attention_mask']"
      ],
      "metadata": {
        "colab": {
          "base_uri": "https://localhost:8080/"
        },
        "id": "jF7A685gPX8W",
        "outputId": "e341bae2-e603-4dfd-f338-2122ebc5bd08"
      },
      "execution_count": null,
      "outputs": [
        {
          "output_type": "stream",
          "name": "stdout",
          "text": [
            "17\n"
          ]
        },
        {
          "output_type": "execute_result",
          "data": {
            "text/plain": [
              "tensor([[1, 1, 1, 1, 1, 1, 1, 1, 1, 1, 1, 1, 1, 1, 1, 1, 1]])"
            ]
          },
          "metadata": {},
          "execution_count": 29
        }
      ]
    },
    {
      "cell_type": "code",
      "source": [
        "# sample_text 에 대한 토큰화 결과 확인\n",
        "tokenizer.convert_ids_to_tokens(encoding['input_ids'][0])"
      ],
      "metadata": {
        "colab": {
          "base_uri": "https://localhost:8080/"
        },
        "id": "A4ssbzMJPZnG",
        "outputId": "867a91de-5d5f-430f-e217-7fe4fb31f6e4"
      },
      "execution_count": null,
      "outputs": [
        {
          "output_type": "execute_result",
          "data": {
            "text/plain": [
              "['[CLS]',\n",
              " 'When',\n",
              " 'was',\n",
              " 'I',\n",
              " 'last',\n",
              " 'outside',\n",
              " '?',\n",
              " 'I',\n",
              " 'am',\n",
              " 'stuck',\n",
              " 'at',\n",
              " 'home',\n",
              " 'for',\n",
              " '2',\n",
              " 'weeks',\n",
              " '.',\n",
              " '[SEP]']"
            ]
          },
          "metadata": {},
          "execution_count": 30
        }
      ]
    },
    {
      "cell_type": "markdown",
      "source": [
        "### Sequence Length 선택\n",
        "BERT 모델은 fixed-length sequences를 가지며, 이를 효과적으로 선택해야 함."
      ],
      "metadata": {
        "id": "W0N-CP1WPkHM"
      }
    },
    {
      "cell_type": "code",
      "source": [
        "token_lens = []\n",
        "\n",
        "for txt in df.content:\n",
        "  tokens = tokenizer.encode(txt, max_length=512)\n",
        "  token_lens.append(len(tokens))"
      ],
      "metadata": {
        "colab": {
          "base_uri": "https://localhost:8080/"
        },
        "id": "dYfO2ZlSPwkj",
        "outputId": "537b27a6-43b2-4dde-903a-b8bc747219bf"
      },
      "execution_count": null,
      "outputs": [
        {
          "output_type": "stream",
          "name": "stderr",
          "text": [
            "Truncation was not explicitly activated but `max_length` is provided a specific value, please use `truncation=True` to explicitly truncate examples to max length. Defaulting to 'longest_first' truncation strategy. If you encode pairs of sequences (GLUE-style) with the tokenizer you can select this strategy more precisely by providing a specific strategy to `truncation`.\n"
          ]
        }
      ]
    },
    {
      "cell_type": "code",
      "source": [
        "# 학습 데이터의 모든 댓글들의 길이를 시각화하여 max_length를 선택\n",
        "sns.distplot(token_lens)\n",
        "plt.xlim([0, 256]);\n",
        "plt.xlabel('Token count');"
      ],
      "metadata": {
        "colab": {
          "base_uri": "https://localhost:8080/",
          "height": 562
        },
        "id": "otsVXiHEPxMP",
        "outputId": "5fae5f60-87f6-4605-c791-c7b7935ce745"
      },
      "execution_count": null,
      "outputs": [
        {
          "output_type": "stream",
          "name": "stderr",
          "text": [
            "/usr/local/lib/python3.7/dist-packages/seaborn/distributions.py:2619: FutureWarning: `distplot` is a deprecated function and will be removed in a future version. Please adapt your code to use either `displot` (a figure-level function with similar flexibility) or `histplot` (an axes-level function for histograms).\n",
            "  warnings.warn(msg, FutureWarning)\n"
          ]
        },
        {
          "output_type": "display_data",
          "data": {
            "text/plain": [
              "<Figure size 864x576 with 1 Axes>"
            ],
            "image/png": "[encoded data removed]"
          },
          "metadata": {
            "image/png": {
              "width": 757,
              "height": 489
            }
          }
        }
      ]
    },
    {
      "cell_type": "code",
      "source": [
        "# 최대 길이의 댓글은 128 token으로 이루어져 있으며, 여유를 두어 max length를 160으로 설정함\n",
        "MAX_LEN = 160"
      ],
      "metadata": {
        "id": "oowOOcZ8P6gm"
      },
      "execution_count": null,
      "outputs": []
    },
    {
      "cell_type": "markdown",
      "source": [
        "### PyTorch 프레임워크를 사용해 데이터 셋을 가공하는 함수 작성"
      ],
      "metadata": {
        "id": "7n3lbig2QNDC"
      }
    },
    {
      "cell_type": "code",
      "source": [
        "class GPReviewDataset(Dataset):\n",
        "\n",
        "  def __init__(self, reviews, targets, tokenizer, max_len):\n",
        "    self.reviews = reviews\n",
        "    self.targets = targets\n",
        "    self.tokenizer = tokenizer\n",
        "    self.max_len = max_len\n",
        "  \n",
        "  def __len__(self):\n",
        "    return len(self.reviews)\n",
        "  \n",
        "  def __getitem__(self, item):\n",
        "    review = str(self.reviews[item])\n",
        "    target = self.targets[item]\n",
        "\n",
        "    encoding = self.tokenizer.encode_plus(\n",
        "      review,\n",
        "      add_special_tokens=True,\n",
        "      max_length=self.max_len,\n",
        "      return_token_type_ids=False,\n",
        "      pad_to_max_length=True,\n",
        "      return_attention_mask=True,\n",
        "      return_tensors='pt',\n",
        "    )\n",
        "\n",
        "    return {\n",
        "      'review_text': review,\n",
        "      'input_ids': encoding['input_ids'].flatten(),\n",
        "      'attention_mask': encoding['attention_mask'].flatten(),\n",
        "      'targets': torch.tensor(target, dtype=torch.long)\n",
        "    }"
      ],
      "metadata": {
        "id": "fjwJa-pzQFdm"
      },
      "execution_count": null,
      "outputs": []
    },
    {
      "cell_type": "markdown",
      "source": [
        "### 모델 학습을 위한 dataset split\n",
        "\n",
        "\n",
        "*   Train set\n",
        "*   Test set\n",
        "*   Validation set\n",
        "\n",
        "\n",
        "\n"
      ],
      "metadata": {
        "id": "8OoczbikQXpX"
      }
    },
    {
      "cell_type": "code",
      "source": [
        "df_train, df_test = train_test_split(df, test_size=0.1, random_state=RANDOM_SEED)\n",
        "df_val, df_test = train_test_split(df_test, test_size=0.5, random_state=RANDOM_SEED)"
      ],
      "metadata": {
        "id": "TDpxLezyQYkg"
      },
      "execution_count": null,
      "outputs": []
    },
    {
      "cell_type": "code",
      "source": [
        "df_train.shape, df_val.shape, df_test.shape"
      ],
      "metadata": {
        "colab": {
          "base_uri": "https://localhost:8080/"
        },
        "id": "KneEuetuQU6z",
        "outputId": "b871950c-8f35-4c73-9ace-0ab125c796de"
      },
      "execution_count": null,
      "outputs": [
        {
          "output_type": "execute_result",
          "data": {
            "text/plain": [
              "((14171, 12), (787, 12), (788, 12))"
            ]
          },
          "metadata": {},
          "execution_count": 36
        }
      ]
    },
    {
      "cell_type": "code",
      "source": [
        "def create_data_loader(df, tokenizer, max_len, batch_size):\n",
        "  ds = GPReviewDataset(\n",
        "    reviews=df.content.to_numpy(),\n",
        "    targets=df.sentiment.to_numpy(),\n",
        "    tokenizer=tokenizer,\n",
        "    max_len=max_len\n",
        "  )\n",
        "\n",
        "  return DataLoader(\n",
        "    ds,\n",
        "    batch_size=batch_size,\n",
        "    num_workers=4\n",
        "  )"
      ],
      "metadata": {
        "id": "LiSYaAOoQuBL"
      },
      "execution_count": null,
      "outputs": []
    },
    {
      "cell_type": "code",
      "source": [
        "BATCH_SIZE = 16\n",
        "\n",
        "train_data_loader = create_data_loader(df_train, tokenizer, MAX_LEN, BATCH_SIZE)\n",
        "val_data_loader = create_data_loader(df_val, tokenizer, MAX_LEN, BATCH_SIZE)\n",
        "test_data_loader = create_data_loader(df_test, tokenizer, MAX_LEN, BATCH_SIZE)"
      ],
      "metadata": {
        "colab": {
          "base_uri": "https://localhost:8080/"
        },
        "id": "mq4KYQteQyaG",
        "outputId": "6337dc07-b52e-40fd-c3e6-0c2f0fc5ffb3"
      },
      "execution_count": null,
      "outputs": [
        {
          "output_type": "stream",
          "name": "stderr",
          "text": [
            "/usr/local/lib/python3.7/dist-packages/torch/utils/data/dataloader.py:490: UserWarning: This DataLoader will create 4 worker processes in total. Our suggested max number of worker in current system is 2, which is smaller than what this DataLoader is going to create. Please be aware that excessive worker creation might get DataLoader running slow or even freeze, lower the worker number to avoid potential slowness/freeze if necessary.\n",
            "  cpuset_checked))\n"
          ]
        }
      ]
    },
    {
      "cell_type": "markdown",
      "source": [
        "training data loader의 example batch를 확인"
      ],
      "metadata": {
        "id": "1ravZ2fIQ4ay"
      }
    },
    {
      "cell_type": "code",
      "source": [
        "data = next(iter(train_data_loader))\n",
        "data.keys()\n",
        "\n",
        "print(data['input_ids'].shape)\n",
        "print(data['attention_mask'].shape)\n",
        "print(data['targets'].shape)"
      ],
      "metadata": {
        "colab": {
          "base_uri": "https://localhost:8080/"
        },
        "id": "fe8ZNaB8Qyrj",
        "outputId": "0fc30556-b2e4-421d-804a-ba398d7e78a9"
      },
      "execution_count": null,
      "outputs": [
        {
          "output_type": "stream",
          "name": "stderr",
          "text": [
            "/usr/local/lib/python3.7/dist-packages/torch/utils/data/dataloader.py:490: UserWarning: This DataLoader will create 4 worker processes in total. Our suggested max number of worker in current system is 2, which is smaller than what this DataLoader is going to create. Please be aware that excessive worker creation might get DataLoader running slow or even freeze, lower the worker number to avoid potential slowness/freeze if necessary.\n",
            "  cpuset_checked))\n",
            "/usr/local/lib/python3.7/dist-packages/transformers/tokenization_utils_base.py:2269: FutureWarning: The `pad_to_max_length` argument is deprecated and will be removed in a future version, use `padding=True` or `padding='longest'` to pad to the longest sequence in the batch, or use `padding='max_length'` to pad to a max length. In this case, you can give a specific length with `max_length` (e.g. `max_length=45`) or leave max_length to None to pad to the maximal input size of the model (e.g. 512 for Bert).\n",
            "  FutureWarning,\n",
            "/usr/local/lib/python3.7/dist-packages/transformers/tokenization_utils_base.py:2269: FutureWarning: The `pad_to_max_length` argument is deprecated and will be removed in a future version, use `padding=True` or `padding='longest'` to pad to the longest sequence in the batch, or use `padding='max_length'` to pad to a max length. In this case, you can give a specific length with `max_length` (e.g. `max_length=45`) or leave max_length to None to pad to the maximal input size of the model (e.g. 512 for Bert).\n",
            "  FutureWarning,\n",
            "/usr/local/lib/python3.7/dist-packages/transformers/tokenization_utils_base.py:2269: FutureWarning: The `pad_to_max_length` argument is deprecated and will be removed in a future version, use `padding=True` or `padding='longest'` to pad to the longest sequence in the batch, or use `padding='max_length'` to pad to a max length. In this case, you can give a specific length with `max_length` (e.g. `max_length=45`) or leave max_length to None to pad to the maximal input size of the model (e.g. 512 for Bert).\n",
            "  FutureWarning,\n",
            "/usr/local/lib/python3.7/dist-packages/transformers/tokenization_utils_base.py:2269: FutureWarning: The `pad_to_max_length` argument is deprecated and will be removed in a future version, use `padding=True` or `padding='longest'` to pad to the longest sequence in the batch, or use `padding='max_length'` to pad to a max length. In this case, you can give a specific length with `max_length` (e.g. `max_length=45`) or leave max_length to None to pad to the maximal input size of the model (e.g. 512 for Bert).\n",
            "  FutureWarning,\n"
          ]
        },
        {
          "output_type": "stream",
          "name": "stdout",
          "text": [
            "torch.Size([16, 160])\n",
            "torch.Size([16, 160])\n",
            "torch.Size([16])\n"
          ]
        }
      ]
    },
    {
      "cell_type": "markdown",
      "source": [
        "## Sentiment Classification with BERT and Hugging Face"
      ],
      "metadata": {
        "id": "r6_gU7BXRH5p"
      }
    },
    {
      "cell_type": "code",
      "source": [
        "# Transfer Learning을 위해 Pretrained BERT 다운로드\n",
        "bert_model = BertModel.from_pretrained(PRE_TRAINED_MODEL_NAME, return_dict=False)\n",
        "\n",
        "# return_dict = False를 추가해야\n",
        "# last_hidden_state.shape와 pooled_output.shape 가 실행됨"
      ],
      "metadata": {
        "colab": {
          "base_uri": "https://localhost:8080/"
        },
        "id": "YkktiNjwRFqi",
        "outputId": "ae2283c6-0e5c-4247-b7f3-5cd1fc9c9370"
      },
      "execution_count": null,
      "outputs": [
        {
          "output_type": "stream",
          "name": "stderr",
          "text": [
            "Some weights of the model checkpoint at bert-base-cased were not used when initializing BertModel: ['cls.predictions.transform.dense.bias', 'cls.seq_relationship.weight', 'cls.predictions.transform.LayerNorm.weight', 'cls.seq_relationship.bias', 'cls.predictions.decoder.weight', 'cls.predictions.transform.LayerNorm.bias', 'cls.predictions.bias', 'cls.predictions.transform.dense.weight']\n",
            "- This IS expected if you are initializing BertModel from the checkpoint of a model trained on another task or with another architecture (e.g. initializing a BertForSequenceClassification model from a BertForPreTraining model).\n",
            "- This IS NOT expected if you are initializing BertModel from the checkpoint of a model that you expect to be exactly identical (initializing a BertForSequenceClassification model from a BertForSequenceClassification model).\n"
          ]
        }
      ]
    },
    {
      "cell_type": "code",
      "source": [
        "last_hidden_state, pooled_output = bert_model(\n",
        "  input_ids=encoding['input_ids'], \n",
        "  attention_mask=encoding['attention_mask']\n",
        ")"
      ],
      "metadata": {
        "id": "5pcnARIURVRU"
      },
      "execution_count": null,
      "outputs": []
    },
    {
      "cell_type": "code",
      "source": [
        "last_hidden_state.shape\n",
        "bert_model.config.hidden_size"
      ],
      "metadata": {
        "colab": {
          "base_uri": "https://localhost:8080/"
        },
        "id": "05caP2prRZ38",
        "outputId": "dd263ded-f24a-442c-e48f-b40a855e1736"
      },
      "execution_count": null,
      "outputs": [
        {
          "output_type": "execute_result",
          "data": {
            "text/plain": [
              "768"
            ]
          },
          "metadata": {},
          "execution_count": 42
        }
      ]
    },
    {
      "cell_type": "code",
      "source": [
        "class SentimentClassifier(nn.Module):\n",
        "\n",
        "  def __init__(self, n_classes):\n",
        "    super(SentimentClassifier, self).__init__()\n",
        "    self.bert = BertModel.from_pretrained(PRE_TRAINED_MODEL_NAME, return_dict=False)\n",
        "    self.drop = nn.Dropout(p=0.3)\n",
        "    self.out = nn.Linear(self.bert.config.hidden_size, n_classes)\n",
        "  \n",
        "  def forward(self, input_ids, attention_mask):\n",
        "    _, pooled_output = self.bert(\n",
        "      input_ids=input_ids,\n",
        "      attention_mask=attention_mask\n",
        "    )\n",
        "    output = self.drop(pooled_output)\n",
        "    return self.out(output)"
      ],
      "metadata": {
        "id": "58uBn3bHRcUc"
      },
      "execution_count": null,
      "outputs": []
    },
    {
      "cell_type": "code",
      "source": [
        "model = SentimentClassifier(len(class_names))\n",
        "model = model.to(device)"
      ],
      "metadata": {
        "colab": {
          "base_uri": "https://localhost:8080/"
        },
        "id": "LnQYHH56RhKA",
        "outputId": "9cd488e7-dc00-433c-e181-f18a03dc1cf7"
      },
      "execution_count": null,
      "outputs": [
        {
          "output_type": "stream",
          "name": "stderr",
          "text": [
            "Some weights of the model checkpoint at bert-base-cased were not used when initializing BertModel: ['cls.predictions.transform.dense.bias', 'cls.seq_relationship.weight', 'cls.predictions.transform.LayerNorm.weight', 'cls.seq_relationship.bias', 'cls.predictions.decoder.weight', 'cls.predictions.transform.LayerNorm.bias', 'cls.predictions.bias', 'cls.predictions.transform.dense.weight']\n",
            "- This IS expected if you are initializing BertModel from the checkpoint of a model trained on another task or with another architecture (e.g. initializing a BertForSequenceClassification model from a BertForPreTraining model).\n",
            "- This IS NOT expected if you are initializing BertModel from the checkpoint of a model that you expect to be exactly identical (initializing a BertForSequenceClassification model from a BertForSequenceClassification model).\n"
          ]
        }
      ]
    },
    {
      "cell_type": "code",
      "source": [
        "input_ids = data['input_ids'].to(device)\n",
        "attention_mask = data['attention_mask'].to(device)\n",
        "\n",
        "print(input_ids.shape) # batch size x seq length\n",
        "print(attention_mask.shape) # batch size x seq length"
      ],
      "metadata": {
        "colab": {
          "base_uri": "https://localhost:8080/"
        },
        "id": "Mz6YJ6yORmxc",
        "outputId": "6cac466d-47a0-49cd-c381-a3e6ef41c598"
      },
      "execution_count": null,
      "outputs": [
        {
          "output_type": "stream",
          "name": "stdout",
          "text": [
            "torch.Size([16, 160])\n",
            "torch.Size([16, 160])\n"
          ]
        }
      ]
    },
    {
      "cell_type": "code",
      "source": [
        "F.softmax(model(input_ids, attention_mask), dim=1)"
      ],
      "metadata": {
        "colab": {
          "base_uri": "https://localhost:8080/"
        },
        "id": "b4jJECrxRnjQ",
        "outputId": "7b5d4a0d-41b1-4a7b-9f06-9a0f2f83a38b"
      },
      "execution_count": null,
      "outputs": [
        {
          "output_type": "execute_result",
          "data": {
            "text/plain": [
              "tensor([[0.2332, 0.4717, 0.2951],\n",
              "        [0.2219, 0.3612, 0.4168],\n",
              "        [0.3589, 0.2427, 0.3984],\n",
              "        [0.2221, 0.3218, 0.4561],\n",
              "        [0.5762, 0.2056, 0.2181],\n",
              "        [0.2249, 0.4422, 0.3329],\n",
              "        [0.2750, 0.3181, 0.4069],\n",
              "        [0.3732, 0.2454, 0.3813],\n",
              "        [0.3927, 0.1892, 0.4181],\n",
              "        [0.3349, 0.1948, 0.4703],\n",
              "        [0.3043, 0.2263, 0.4695],\n",
              "        [0.3710, 0.1894, 0.4396],\n",
              "        [0.2090, 0.4449, 0.3462],\n",
              "        [0.3396, 0.2594, 0.4010],\n",
              "        [0.3456, 0.2260, 0.4284],\n",
              "        [0.1500, 0.3302, 0.5198]], device='cuda:0', grad_fn=<SoftmaxBackward0>)"
            ]
          },
          "metadata": {},
          "execution_count": 46
        }
      ]
    },
    {
      "cell_type": "markdown",
      "source": [
        "## Model Training"
      ],
      "metadata": {
        "id": "AEECvV5ERqea"
      }
    },
    {
      "cell_type": "code",
      "source": [
        "# # EPOCHS = 50\n",
        "# EPOCHS = 1    # 우선 EPOCH 1을 실행해서 제대로 학습이 되는지 확인 후, 끊기지 않는 서버를 이용해 EPOCH 수를 늘려 학습할 것.\n",
        "\n",
        "# optimizer = AdamW(model.parameters(), lr=2e-5, correct_bias=False)\n",
        "# total_steps = len(train_data_loader) * EPOCHS\n",
        "\n",
        "# scheduler = get_linear_schedule_with_warmup(\n",
        "#   optimizer,\n",
        "#   num_warmup_steps=0,\n",
        "#   num_training_steps=total_steps\n",
        "# )"
      ],
      "metadata": {
        "id": "lKbAlNhzRpO2"
      },
      "execution_count": null,
      "outputs": []
    },
    {
      "cell_type": "code",
      "source": [
        "loss_fn = nn.CrossEntropyLoss().to(device)"
      ],
      "metadata": {
        "id": "rvxUoLm5V5sL"
      },
      "execution_count": null,
      "outputs": []
    },
    {
      "cell_type": "markdown",
      "source": [
        "Fine-tuning을 위해 추천하는 hyperparameters:\n",
        "\n",
        "- Batch size: 16, 32\n",
        "- Learning rate (Adam): 5e-5, 3e-5, 2e-5\n",
        "- Number of epochs: 2, 3, 4\n",
        "\n",
        "> batch size를 높일 수록 훈련 시간은 줄어들지만, 정확도는 낮아질 것이다. (적절한 batch size를 골라 학습시킬 것)\n",
        "\n"
      ],
      "metadata": {
        "id": "3d9c8G8oSBZ3"
      }
    },
    {
      "cell_type": "code",
      "source": [
        "def train_epoch(\n",
        "  model, \n",
        "  data_loader, \n",
        "  loss_fn, \n",
        "  optimizer, \n",
        "  device, \n",
        "  scheduler, \n",
        "  n_examples\n",
        "):\n",
        "  model = model.train()\n",
        "\n",
        "  losses = []\n",
        "  correct_predictions = 0\n",
        "  \n",
        "  for d in data_loader:\n",
        "    input_ids = d[\"input_ids\"].to(device)\n",
        "    attention_mask = d[\"attention_mask\"].to(device)\n",
        "    targets = d[\"targets\"].to(device)\n",
        "\n",
        "    outputs = model(\n",
        "      input_ids=input_ids,\n",
        "      attention_mask=attention_mask\n",
        "    )\n",
        "\n",
        "    _, preds = torch.max(outputs, dim=1)\n",
        "    loss = loss_fn(outputs, targets)\n",
        "\n",
        "    correct_predictions += torch.sum(preds == targets)\n",
        "    losses.append(loss.item())\n",
        "\n",
        "    loss.backward()\n",
        "    nn.utils.clip_grad_norm_(model.parameters(), max_norm=1.0)\n",
        "    optimizer.step()\n",
        "    scheduler.step()\n",
        "    optimizer.zero_grad()\n",
        "\n",
        "  return correct_predictions.double() / n_examples, np.mean(losses)"
      ],
      "metadata": {
        "id": "3B8h61xoShj-"
      },
      "execution_count": null,
      "outputs": []
    },
    {
      "cell_type": "code",
      "source": [
        "def eval_model(model, data_loader, loss_fn, device, n_examples):\n",
        "  model = model.eval()\n",
        "\n",
        "  losses = []\n",
        "  correct_predictions = 0\n",
        "\n",
        "  with torch.no_grad():\n",
        "    for d in data_loader:\n",
        "      input_ids = d[\"input_ids\"].to(device)\n",
        "      attention_mask = d[\"attention_mask\"].to(device)\n",
        "      targets = d[\"targets\"].to(device)\n",
        "\n",
        "      outputs = model(\n",
        "        input_ids=input_ids,\n",
        "        attention_mask=attention_mask\n",
        "      )\n",
        "      _, preds = torch.max(outputs, dim=1)\n",
        "\n",
        "      loss = loss_fn(outputs, targets)\n",
        "\n",
        "      correct_predictions += torch.sum(preds == targets)\n",
        "      losses.append(loss.item())\n",
        "\n",
        "  return correct_predictions.double() / n_examples, np.mean(losses)"
      ],
      "metadata": {
        "id": "TA9SlmQRSrjS"
      },
      "execution_count": null,
      "outputs": []
    },
    {
      "cell_type": "code",
      "source": [
        "# %%time\n",
        "\n",
        "# history = defaultdict(list)\n",
        "# best_accuracy = 0\n",
        "\n",
        "# for epoch in range(EPOCHS):\n",
        "\n",
        "#   print(f'Epoch {epoch + 1}/{EPOCHS}')\n",
        "#   print('-' * 10)\n",
        "\n",
        "#   train_acc, train_loss = train_epoch(\n",
        "#     model,\n",
        "#     train_data_loader,    \n",
        "#     loss_fn, \n",
        "#     optimizer, \n",
        "#     device, \n",
        "#     scheduler, \n",
        "#     len(df_train)\n",
        "#   )\n",
        "\n",
        "#   print(f'Train loss {train_loss} accuracy {train_acc}')\n",
        "\n",
        "#   val_acc, val_loss = eval_model(\n",
        "#     model,\n",
        "#     val_data_loader,\n",
        "#     loss_fn, \n",
        "#     device, \n",
        "#     len(df_val)\n",
        "#   )\n",
        "\n",
        "#   print(f'Val   loss {val_loss} accuracy {val_acc}')\n",
        "#   print()\n",
        "\n",
        "#   history['train_acc'].append(train_acc)\n",
        "#   history['train_loss'].append(train_loss)\n",
        "#   history['val_acc'].append(val_acc)\n",
        "#   history['val_loss'].append(val_loss)\n",
        "\n",
        "#   # best_model_state 저장\n",
        "#   if val_acc > best_accuracy:\n",
        "#     torch.save(model.state_dict(), 'best_model_state.bin')\n",
        "#     best_accuracy = val_acc"
      ],
      "metadata": {
        "id": "6uNED6JgStV4"
      },
      "execution_count": null,
      "outputs": []
    },
    {
      "cell_type": "code",
      "source": [
        "# plt.plot(history['train_acc'], label='train accuracy')\n",
        "# plt.plot(history['val_acc'], label='validation accuracy')\n",
        "\n",
        "# plt.title('Training history')\n",
        "# plt.ylabel('Accuracy')\n",
        "# plt.xlabel('Epoch')\n",
        "# plt.legend()\n",
        "# plt.ylim([0, 1]);"
      ],
      "metadata": {
        "id": "14jS1bqCSx-v"
      },
      "execution_count": null,
      "outputs": []
    },
    {
      "cell_type": "markdown",
      "source": [
        "### Pretrained 모델을 사용하는 방법"
      ],
      "metadata": {
        "id": "iiPD4bFES1ah"
      }
    },
    {
      "cell_type": "code",
      "source": [
        "# 학습 시간이 너무 오래 걸려서 pt 모델 가져와서 감정분류 진행함\n",
        "# 학습을 원하는 경우, 위 코드대로 학습시키면 됨\n",
        "\n",
        "!gdown --id 1V8itWtowCYnb2Bc9KlK9SxGff9WwmogA"
      ],
      "metadata": {
        "colab": {
          "base_uri": "https://localhost:8080/"
        },
        "id": "yYrejuVPTFGL",
        "outputId": "14212a15-09a1-45a1-b79c-33e9bc9158d8"
      },
      "execution_count": null,
      "outputs": [
        {
          "output_type": "stream",
          "name": "stdout",
          "text": [
            "/usr/local/lib/python3.7/dist-packages/gdown/cli.py:131: FutureWarning: Option `--id` was deprecated in version 4.3.1 and will be removed in 5.0. You don't need to pass it anymore to use a file ID.\n",
            "  category=FutureWarning,\n",
            "Downloading...\n",
            "From: https://drive.google.com/uc?id=1V8itWtowCYnb2Bc9KlK9SxGff9WwmogA\n",
            "To: /content/best_model_state.bin\n",
            "100% 433M/433M [00:01<00:00, 233MB/s]\n"
          ]
        }
      ]
    },
    {
      "cell_type": "code",
      "source": [
        "model = SentimentClassifier(len(class_names))\n",
        "model.load_state_dict(torch.load('best_model_state.bin'), strict=False) # strict=False 빼면 오류 발생\n",
        "model = model.to(device)"
      ],
      "metadata": {
        "colab": {
          "base_uri": "https://localhost:8080/"
        },
        "id": "27hIZg9STJdd",
        "outputId": "79a22b68-61ae-47bb-d24c-52cefa9a66ce"
      },
      "execution_count": null,
      "outputs": [
        {
          "output_type": "stream",
          "name": "stderr",
          "text": [
            "Some weights of the model checkpoint at bert-base-cased were not used when initializing BertModel: ['cls.predictions.transform.dense.bias', 'cls.seq_relationship.weight', 'cls.predictions.transform.LayerNorm.weight', 'cls.seq_relationship.bias', 'cls.predictions.decoder.weight', 'cls.predictions.transform.LayerNorm.bias', 'cls.predictions.bias', 'cls.predictions.transform.dense.weight']\n",
            "- This IS expected if you are initializing BertModel from the checkpoint of a model trained on another task or with another architecture (e.g. initializing a BertForSequenceClassification model from a BertForPreTraining model).\n",
            "- This IS NOT expected if you are initializing BertModel from the checkpoint of a model that you expect to be exactly identical (initializing a BertForSequenceClassification model from a BertForSequenceClassification model).\n"
          ]
        }
      ]
    },
    {
      "cell_type": "markdown",
      "source": [
        "### Model Evaluation"
      ],
      "metadata": {
        "id": "MUATHCOJUH3H"
      }
    },
    {
      "cell_type": "code",
      "source": [
        "test_acc, _ = eval_model(\n",
        "  model,\n",
        "  test_data_loader,\n",
        "  loss_fn,\n",
        "  device,\n",
        "  len(df_test)\n",
        ")\n",
        "\n",
        "test_acc.item()"
      ],
      "metadata": {
        "colab": {
          "base_uri": "https://localhost:8080/"
        },
        "id": "3NUsUwxwTLcn",
        "outputId": "a8b856ca-8831-4903-cfd9-01b93974b3f5"
      },
      "execution_count": null,
      "outputs": [
        {
          "output_type": "stream",
          "name": "stderr",
          "text": [
            "/usr/local/lib/python3.7/dist-packages/torch/utils/data/dataloader.py:490: UserWarning: This DataLoader will create 4 worker processes in total. Our suggested max number of worker in current system is 2, which is smaller than what this DataLoader is going to create. Please be aware that excessive worker creation might get DataLoader running slow or even freeze, lower the worker number to avoid potential slowness/freeze if necessary.\n",
            "  cpuset_checked))\n",
            "/usr/local/lib/python3.7/dist-packages/transformers/tokenization_utils_base.py:2269: FutureWarning: The `pad_to_max_length` argument is deprecated and will be removed in a future version, use `padding=True` or `padding='longest'` to pad to the longest sequence in the batch, or use `padding='max_length'` to pad to a max length. In this case, you can give a specific length with `max_length` (e.g. `max_length=45`) or leave max_length to None to pad to the maximal input size of the model (e.g. 512 for Bert).\n",
            "  FutureWarning,\n",
            "/usr/local/lib/python3.7/dist-packages/transformers/tokenization_utils_base.py:2269: FutureWarning: The `pad_to_max_length` argument is deprecated and will be removed in a future version, use `padding=True` or `padding='longest'` to pad to the longest sequence in the batch, or use `padding='max_length'` to pad to a max length. In this case, you can give a specific length with `max_length` (e.g. `max_length=45`) or leave max_length to None to pad to the maximal input size of the model (e.g. 512 for Bert).\n",
            "  FutureWarning,\n",
            "/usr/local/lib/python3.7/dist-packages/transformers/tokenization_utils_base.py:2269: FutureWarning: The `pad_to_max_length` argument is deprecated and will be removed in a future version, use `padding=True` or `padding='longest'` to pad to the longest sequence in the batch, or use `padding='max_length'` to pad to a max length. In this case, you can give a specific length with `max_length` (e.g. `max_length=45`) or leave max_length to None to pad to the maximal input size of the model (e.g. 512 for Bert).\n",
            "  FutureWarning,\n",
            "/usr/local/lib/python3.7/dist-packages/transformers/tokenization_utils_base.py:2269: FutureWarning: The `pad_to_max_length` argument is deprecated and will be removed in a future version, use `padding=True` or `padding='longest'` to pad to the longest sequence in the batch, or use `padding='max_length'` to pad to a max length. In this case, you can give a specific length with `max_length` (e.g. `max_length=45`) or leave max_length to None to pad to the maximal input size of the model (e.g. 512 for Bert).\n",
            "  FutureWarning,\n"
          ]
        },
        {
          "output_type": "execute_result",
          "data": {
            "text/plain": [
              "0.883248730964467"
            ]
          },
          "metadata": {},
          "execution_count": 55
        }
      ]
    },
    {
      "cell_type": "code",
      "source": [
        "def get_predictions(model, data_loader):\n",
        "  model = model.eval()\n",
        "  \n",
        "  review_texts = []\n",
        "  predictions = []\n",
        "  prediction_probs = []\n",
        "  real_values = []\n",
        "\n",
        "  with torch.no_grad():\n",
        "    for d in data_loader:\n",
        "\n",
        "      texts = d[\"review_text\"]\n",
        "      input_ids = d[\"input_ids\"].to(device)\n",
        "      attention_mask = d[\"attention_mask\"].to(device)\n",
        "      targets = d[\"targets\"].to(device)\n",
        "\n",
        "      outputs = model(\n",
        "        input_ids=input_ids,\n",
        "        attention_mask=attention_mask\n",
        "      )\n",
        "      _, preds = torch.max(outputs, dim=1)\n",
        "\n",
        "      probs = F.softmax(outputs, dim=1)\n",
        "\n",
        "      review_texts.extend(texts)\n",
        "      predictions.extend(preds)\n",
        "      prediction_probs.extend(probs)\n",
        "      real_values.extend(targets)\n",
        "\n",
        "  predictions = torch.stack(predictions).cpu()\n",
        "  prediction_probs = torch.stack(prediction_probs).cpu()\n",
        "  real_values = torch.stack(real_values).cpu()\n",
        "  return review_texts, predictions, prediction_probs, real_values"
      ],
      "metadata": {
        "id": "u-oHRthRULh-"
      },
      "execution_count": null,
      "outputs": []
    },
    {
      "cell_type": "code",
      "source": [
        "y_review_texts, y_pred, y_pred_probs, y_test = get_predictions(\n",
        "  model,\n",
        "  test_data_loader\n",
        ")"
      ],
      "metadata": {
        "colab": {
          "base_uri": "https://localhost:8080/"
        },
        "id": "VJokeffhUNb4",
        "outputId": "8f800831-f67e-47f0-d6ec-5331c50aea87"
      },
      "execution_count": null,
      "outputs": [
        {
          "output_type": "stream",
          "name": "stderr",
          "text": [
            "/usr/local/lib/python3.7/dist-packages/torch/utils/data/dataloader.py:490: UserWarning: This DataLoader will create 4 worker processes in total. Our suggested max number of worker in current system is 2, which is smaller than what this DataLoader is going to create. Please be aware that excessive worker creation might get DataLoader running slow or even freeze, lower the worker number to avoid potential slowness/freeze if necessary.\n",
            "  cpuset_checked))\n",
            "/usr/local/lib/python3.7/dist-packages/transformers/tokenization_utils_base.py:2269: FutureWarning: The `pad_to_max_length` argument is deprecated and will be removed in a future version, use `padding=True` or `padding='longest'` to pad to the longest sequence in the batch, or use `padding='max_length'` to pad to a max length. In this case, you can give a specific length with `max_length` (e.g. `max_length=45`) or leave max_length to None to pad to the maximal input size of the model (e.g. 512 for Bert).\n",
            "  FutureWarning,\n",
            "/usr/local/lib/python3.7/dist-packages/transformers/tokenization_utils_base.py:2269: FutureWarning: The `pad_to_max_length` argument is deprecated and will be removed in a future version, use `padding=True` or `padding='longest'` to pad to the longest sequence in the batch, or use `padding='max_length'` to pad to a max length. In this case, you can give a specific length with `max_length` (e.g. `max_length=45`) or leave max_length to None to pad to the maximal input size of the model (e.g. 512 for Bert).\n",
            "  FutureWarning,\n",
            "/usr/local/lib/python3.7/dist-packages/transformers/tokenization_utils_base.py:2269: FutureWarning: The `pad_to_max_length` argument is deprecated and will be removed in a future version, use `padding=True` or `padding='longest'` to pad to the longest sequence in the batch, or use `padding='max_length'` to pad to a max length. In this case, you can give a specific length with `max_length` (e.g. `max_length=45`) or leave max_length to None to pad to the maximal input size of the model (e.g. 512 for Bert).\n",
            "  FutureWarning,\n",
            "/usr/local/lib/python3.7/dist-packages/transformers/tokenization_utils_base.py:2269: FutureWarning: The `pad_to_max_length` argument is deprecated and will be removed in a future version, use `padding=True` or `padding='longest'` to pad to the longest sequence in the batch, or use `padding='max_length'` to pad to a max length. In this case, you can give a specific length with `max_length` (e.g. `max_length=45`) or leave max_length to None to pad to the maximal input size of the model (e.g. 512 for Bert).\n",
            "  FutureWarning,\n"
          ]
        }
      ]
    },
    {
      "cell_type": "code",
      "source": [
        "# 감정 분류 정확도 출력 (모델 성능 출력)\n",
        "print(classification_report(y_test, y_pred, target_names=class_names))"
      ],
      "metadata": {
        "colab": {
          "base_uri": "https://localhost:8080/"
        },
        "id": "EO67_nQCUPpA",
        "outputId": "4f2e9a2e-1b1c-4a4c-9b31-353286b56fad"
      },
      "execution_count": null,
      "outputs": [
        {
          "output_type": "stream",
          "name": "stdout",
          "text": [
            "              precision    recall  f1-score   support\n",
            "\n",
            "    negative       0.89      0.87      0.88       245\n",
            "     neutral       0.83      0.85      0.84       254\n",
            "    positive       0.92      0.93      0.92       289\n",
            "\n",
            "    accuracy                           0.88       788\n",
            "   macro avg       0.88      0.88      0.88       788\n",
            "weighted avg       0.88      0.88      0.88       788\n",
            "\n"
          ]
        }
      ]
    },
    {
      "cell_type": "code",
      "source": [
        "# 분류 정확도를 시각화\n",
        "def show_confusion_matrix(confusion_matrix):\n",
        "  hmap = sns.heatmap(confusion_matrix, annot=True, fmt=\"d\", cmap=\"Blues\")\n",
        "  hmap.yaxis.set_ticklabels(hmap.yaxis.get_ticklabels(), rotation=0, ha='right')\n",
        "  hmap.xaxis.set_ticklabels(hmap.xaxis.get_ticklabels(), rotation=30, ha='right')\n",
        "  plt.ylabel('True sentiment')\n",
        "  plt.xlabel('Predicted sentiment');\n",
        "\n",
        "cm = confusion_matrix(y_test, y_pred)\n",
        "df_cm = pd.DataFrame(cm, index=class_names, columns=class_names)\n",
        "show_confusion_matrix(df_cm)"
      ],
      "metadata": {
        "colab": {
          "base_uri": "https://localhost:8080/",
          "height": 533
        },
        "id": "l6nsHpf6UUpG",
        "outputId": "7722485e-37d8-409f-a578-a1ae5adf864e"
      },
      "execution_count": null,
      "outputs": [
        {
          "output_type": "display_data",
          "data": {
            "text/plain": [
              "<Figure size 864x576 with 2 Axes>"
            ],
            "image/png": "[encoded data removed]"
          },
          "metadata": {
            "image/png": {
              "width": 725,
              "height": 516
            }
          }
        }
      ]
    },
    {
      "cell_type": "code",
      "source": [
        "# 훈련 및 테스트 결과 예시 출력\n",
        "idx = 2\n",
        "\n",
        "review_text = y_review_texts[idx]\n",
        "true_sentiment = y_test[idx]\n",
        "pred_df = pd.DataFrame({\n",
        "  'class_names': class_names,\n",
        "  'values': y_pred_probs[idx]\n",
        "})"
      ],
      "metadata": {
        "id": "j5-45X0gUaNm"
      },
      "execution_count": null,
      "outputs": []
    },
    {
      "cell_type": "code",
      "source": [
        "print(\"\\n\".join(wrap(review_text)))\n",
        "print()\n",
        "print(f'True sentiment: {class_names[true_sentiment]}')"
      ],
      "metadata": {
        "colab": {
          "base_uri": "https://localhost:8080/"
        },
        "id": "_NRMnAXhUdOT",
        "outputId": "4df165a1-a3e0-4dc3-b7fa-1ee4651f7dce"
      },
      "execution_count": null,
      "outputs": [
        {
          "output_type": "stream",
          "name": "stdout",
          "text": [
            "I used to use Habitica, and I must say this is a great step up. I'd\n",
            "like to see more social features, such as sharing tasks - only one\n",
            "person has to perform said task for it to be checked off, but only\n",
            "giving that person the experience and gold. Otherwise, the price for\n",
            "subscription is too steep, thus resulting in a sub-perfect score. I\n",
            "could easily justify $0.99/month or eternal subscription for $15. If\n",
            "that price could be met, as well as fine tuning, this would be easily\n",
            "worth 5 stars.\n",
            "\n",
            "True sentiment: neutral\n"
          ]
        }
      ]
    },
    {
      "cell_type": "markdown",
      "source": [
        "## 크롤링한 Reddit bitcoin Daily Discussion comments에 대한 감정 분류 진행"
      ],
      "metadata": {
        "id": "G4YMRzgcULJg"
      }
    },
    {
      "cell_type": "code",
      "source": [
        "sentiment_result = []\n",
        "\n",
        "for j in df_comments['comments']:\n",
        "  review_text = j\n",
        "  # tokenizer을 사용해 댓글 문장을 encode함\n",
        "  encoded_review = tokenizer.encode_plus(\n",
        "  review_text,\n",
        "  max_length=MAX_LEN,\n",
        "  add_special_tokens=True,\n",
        "  return_token_type_ids=False,\n",
        "  pad_to_max_length=True,\n",
        "  return_attention_mask=True,\n",
        "  return_tensors='pt',\n",
        "  )\n",
        "  input_ids = encoded_review['input_ids'].to(device)\n",
        "  attention_mask = encoded_review['attention_mask'].to(device)\n",
        "\n",
        "  output = model(input_ids, attention_mask)\n",
        "  _, prediction = torch.max(output, dim=1)\n",
        "\n",
        "  # print(f'Review text: {review_text}')\n",
        "  sentiment_result.append(class_names[prediction])\n",
        "  print(f'Sentiment  : {class_names[prediction]}')"
      ],
      "metadata": {
        "colab": {
          "base_uri": "https://localhost:8080/"
        },
        "id": "wp45CNyrUppF",
        "outputId": "ca79a209-fe71-4ec4-ddd4-0910de48541e"
      },
      "execution_count": null,
      "outputs": [
        {
          "output_type": "stream",
          "name": "stdout",
          "text": [
            "Sentiment  : negative\n",
            "Sentiment  : neutral\n",
            "Sentiment  : negative\n",
            "Sentiment  : positive\n"
          ]
        },
        {
          "output_type": "stream",
          "name": "stderr",
          "text": [
            "/usr/local/lib/python3.7/dist-packages/transformers/tokenization_utils_base.py:2269: FutureWarning: The `pad_to_max_length` argument is deprecated and will be removed in a future version, use `padding=True` or `padding='longest'` to pad to the longest sequence in the batch, or use `padding='max_length'` to pad to a max length. In this case, you can give a specific length with `max_length` (e.g. `max_length=45`) or leave max_length to None to pad to the maximal input size of the model (e.g. 512 for Bert).\n",
            "  FutureWarning,\n"
          ]
        },
        {
          "output_type": "stream",
          "name": "stdout",
          "text": [
            "Sentiment  : neutral\n",
            "Sentiment  : neutral\n",
            "Sentiment  : negative\n",
            "Sentiment  : negative\n",
            "Sentiment  : neutral\n",
            "Sentiment  : negative\n",
            "Sentiment  : negative\n",
            "Sentiment  : negative\n",
            "Sentiment  : positive\n",
            "Sentiment  : negative\n",
            "Sentiment  : negative\n",
            "Sentiment  : neutral\n",
            "Sentiment  : neutral\n",
            "Sentiment  : neutral\n",
            "Sentiment  : neutral\n",
            "Sentiment  : negative\n",
            "Sentiment  : negative\n",
            "Sentiment  : neutral\n",
            "Sentiment  : positive\n",
            "Sentiment  : positive\n",
            "Sentiment  : neutral\n",
            "Sentiment  : neutral\n",
            "Sentiment  : negative\n",
            "Sentiment  : negative\n",
            "Sentiment  : positive\n",
            "Sentiment  : positive\n",
            "Sentiment  : positive\n",
            "Sentiment  : neutral\n",
            "Sentiment  : positive\n",
            "Sentiment  : negative\n",
            "Sentiment  : negative\n",
            "Sentiment  : negative\n",
            "Sentiment  : positive\n",
            "Sentiment  : negative\n",
            "Sentiment  : positive\n",
            "Sentiment  : positive\n",
            "Sentiment  : neutral\n",
            "Sentiment  : positive\n",
            "Sentiment  : negative\n",
            "Sentiment  : neutral\n",
            "Sentiment  : neutral\n",
            "Sentiment  : positive\n",
            "Sentiment  : neutral\n",
            "Sentiment  : negative\n",
            "Sentiment  : neutral\n",
            "Sentiment  : neutral\n",
            "Sentiment  : neutral\n",
            "Sentiment  : neutral\n",
            "Sentiment  : negative\n",
            "Sentiment  : positive\n",
            "Sentiment  : negative\n",
            "Sentiment  : positive\n",
            "Sentiment  : negative\n",
            "Sentiment  : neutral\n",
            "Sentiment  : neutral\n",
            "Sentiment  : positive\n",
            "Sentiment  : neutral\n",
            "Sentiment  : neutral\n",
            "Sentiment  : neutral\n",
            "Sentiment  : positive\n",
            "Sentiment  : negative\n",
            "Sentiment  : neutral\n",
            "Sentiment  : negative\n",
            "Sentiment  : negative\n",
            "Sentiment  : positive\n",
            "Sentiment  : negative\n",
            "Sentiment  : neutral\n",
            "Sentiment  : neutral\n",
            "Sentiment  : neutral\n",
            "Sentiment  : neutral\n",
            "Sentiment  : negative\n",
            "Sentiment  : positive\n",
            "Sentiment  : positive\n",
            "Sentiment  : negative\n",
            "Sentiment  : positive\n",
            "Sentiment  : negative\n",
            "Sentiment  : negative\n",
            "Sentiment  : positive\n",
            "Sentiment  : neutral\n",
            "Sentiment  : neutral\n",
            "Sentiment  : negative\n",
            "Sentiment  : neutral\n",
            "Sentiment  : negative\n",
            "Sentiment  : negative\n",
            "Sentiment  : negative\n",
            "Sentiment  : positive\n",
            "Sentiment  : neutral\n",
            "Sentiment  : negative\n",
            "Sentiment  : neutral\n",
            "Sentiment  : neutral\n",
            "Sentiment  : neutral\n",
            "Sentiment  : positive\n",
            "Sentiment  : negative\n",
            "Sentiment  : positive\n",
            "Sentiment  : negative\n",
            "Sentiment  : neutral\n",
            "Sentiment  : neutral\n",
            "Sentiment  : neutral\n",
            "Sentiment  : neutral\n",
            "Sentiment  : negative\n",
            "Sentiment  : negative\n",
            "Sentiment  : positive\n",
            "Sentiment  : positive\n",
            "Sentiment  : positive\n",
            "Sentiment  : positive\n",
            "Sentiment  : positive\n",
            "Sentiment  : negative\n",
            "Sentiment  : positive\n",
            "Sentiment  : negative\n",
            "Sentiment  : neutral\n",
            "Sentiment  : negative\n",
            "Sentiment  : neutral\n",
            "Sentiment  : neutral\n",
            "Sentiment  : neutral\n",
            "Sentiment  : neutral\n",
            "Sentiment  : negative\n",
            "Sentiment  : negative\n",
            "Sentiment  : negative\n",
            "Sentiment  : positive\n",
            "Sentiment  : negative\n",
            "Sentiment  : negative\n",
            "Sentiment  : positive\n",
            "Sentiment  : neutral\n",
            "Sentiment  : neutral\n",
            "Sentiment  : negative\n",
            "Sentiment  : negative\n",
            "Sentiment  : neutral\n",
            "Sentiment  : negative\n",
            "Sentiment  : neutral\n",
            "Sentiment  : negative\n",
            "Sentiment  : neutral\n",
            "Sentiment  : neutral\n",
            "Sentiment  : positive\n",
            "Sentiment  : negative\n",
            "Sentiment  : negative\n",
            "Sentiment  : negative\n",
            "Sentiment  : neutral\n",
            "Sentiment  : negative\n",
            "Sentiment  : positive\n",
            "Sentiment  : neutral\n",
            "Sentiment  : negative\n",
            "Sentiment  : negative\n",
            "Sentiment  : positive\n",
            "Sentiment  : negative\n",
            "Sentiment  : positive\n",
            "Sentiment  : negative\n",
            "Sentiment  : positive\n",
            "Sentiment  : negative\n",
            "Sentiment  : positive\n",
            "Sentiment  : negative\n",
            "Sentiment  : neutral\n",
            "Sentiment  : positive\n",
            "Sentiment  : positive\n",
            "Sentiment  : negative\n",
            "Sentiment  : positive\n",
            "Sentiment  : neutral\n",
            "Sentiment  : neutral\n",
            "Sentiment  : negative\n",
            "Sentiment  : negative\n",
            "Sentiment  : neutral\n",
            "Sentiment  : neutral\n",
            "Sentiment  : negative\n",
            "Sentiment  : neutral\n",
            "Sentiment  : negative\n",
            "Sentiment  : positive\n",
            "Sentiment  : negative\n",
            "Sentiment  : neutral\n",
            "Sentiment  : negative\n",
            "Sentiment  : neutral\n",
            "Sentiment  : neutral\n",
            "Sentiment  : neutral\n",
            "Sentiment  : positive\n",
            "Sentiment  : negative\n",
            "Sentiment  : negative\n",
            "Sentiment  : neutral\n",
            "Sentiment  : negative\n",
            "Sentiment  : positive\n",
            "Sentiment  : negative\n",
            "Sentiment  : negative\n",
            "Sentiment  : negative\n",
            "Sentiment  : negative\n",
            "Sentiment  : neutral\n",
            "Sentiment  : negative\n",
            "Sentiment  : negative\n",
            "Sentiment  : positive\n",
            "Sentiment  : neutral\n",
            "Sentiment  : negative\n",
            "Sentiment  : positive\n",
            "Sentiment  : negative\n",
            "Sentiment  : negative\n",
            "Sentiment  : positive\n",
            "Sentiment  : negative\n",
            "Sentiment  : neutral\n",
            "Sentiment  : neutral\n",
            "Sentiment  : positive\n",
            "Sentiment  : neutral\n",
            "Sentiment  : neutral\n",
            "Sentiment  : negative\n"
          ]
        }
      ]
    },
    {
      "cell_type": "code",
      "source": [
        "sentiment_result"
      ],
      "metadata": {
        "colab": {
          "base_uri": "https://localhost:8080/"
        },
        "id": "YKo2tJwWWMKu",
        "outputId": "766aa0d7-e516-48ba-d633-4cf50c517aa7"
      },
      "execution_count": null,
      "outputs": [
        {
          "output_type": "execute_result",
          "data": {
            "text/plain": [
              "['negative',\n",
              " 'neutral',\n",
              " 'negative',\n",
              " 'positive',\n",
              " 'neutral',\n",
              " 'neutral',\n",
              " 'negative',\n",
              " 'negative',\n",
              " 'neutral',\n",
              " 'negative',\n",
              " 'negative',\n",
              " 'negative',\n",
              " 'positive',\n",
              " 'negative',\n",
              " 'negative',\n",
              " 'neutral',\n",
              " 'neutral',\n",
              " 'neutral',\n",
              " 'neutral',\n",
              " 'negative',\n",
              " 'negative',\n",
              " 'neutral',\n",
              " 'positive',\n",
              " 'positive',\n",
              " 'neutral',\n",
              " 'neutral',\n",
              " 'negative',\n",
              " 'negative',\n",
              " 'positive',\n",
              " 'positive',\n",
              " 'positive',\n",
              " 'neutral',\n",
              " 'positive',\n",
              " 'negative',\n",
              " 'negative',\n",
              " 'negative',\n",
              " 'positive',\n",
              " 'negative',\n",
              " 'positive',\n",
              " 'positive',\n",
              " 'neutral',\n",
              " 'positive',\n",
              " 'negative',\n",
              " 'neutral',\n",
              " 'neutral',\n",
              " 'positive',\n",
              " 'neutral',\n",
              " 'negative',\n",
              " 'neutral',\n",
              " 'neutral',\n",
              " 'neutral',\n",
              " 'neutral',\n",
              " 'negative',\n",
              " 'positive',\n",
              " 'negative',\n",
              " 'positive',\n",
              " 'negative',\n",
              " 'neutral',\n",
              " 'neutral',\n",
              " 'positive',\n",
              " 'neutral',\n",
              " 'neutral',\n",
              " 'neutral',\n",
              " 'positive',\n",
              " 'negative',\n",
              " 'neutral',\n",
              " 'negative',\n",
              " 'negative',\n",
              " 'positive',\n",
              " 'negative',\n",
              " 'neutral',\n",
              " 'neutral',\n",
              " 'neutral',\n",
              " 'neutral',\n",
              " 'negative',\n",
              " 'positive',\n",
              " 'positive',\n",
              " 'negative',\n",
              " 'positive',\n",
              " 'negative',\n",
              " 'negative',\n",
              " 'positive',\n",
              " 'neutral',\n",
              " 'neutral',\n",
              " 'negative',\n",
              " 'neutral',\n",
              " 'negative',\n",
              " 'negative',\n",
              " 'negative',\n",
              " 'positive',\n",
              " 'neutral',\n",
              " 'negative',\n",
              " 'neutral',\n",
              " 'neutral',\n",
              " 'neutral',\n",
              " 'positive',\n",
              " 'negative',\n",
              " 'positive',\n",
              " 'negative',\n",
              " 'neutral',\n",
              " 'neutral',\n",
              " 'neutral',\n",
              " 'neutral',\n",
              " 'negative',\n",
              " 'negative',\n",
              " 'positive',\n",
              " 'positive',\n",
              " 'positive',\n",
              " 'positive',\n",
              " 'positive',\n",
              " 'negative',\n",
              " 'positive',\n",
              " 'negative',\n",
              " 'neutral',\n",
              " 'negative',\n",
              " 'neutral',\n",
              " 'neutral',\n",
              " 'neutral',\n",
              " 'neutral',\n",
              " 'negative',\n",
              " 'negative',\n",
              " 'negative',\n",
              " 'positive',\n",
              " 'negative',\n",
              " 'negative',\n",
              " 'positive',\n",
              " 'neutral',\n",
              " 'neutral',\n",
              " 'negative',\n",
              " 'negative',\n",
              " 'neutral',\n",
              " 'negative',\n",
              " 'neutral',\n",
              " 'negative',\n",
              " 'neutral',\n",
              " 'neutral',\n",
              " 'positive',\n",
              " 'negative',\n",
              " 'negative',\n",
              " 'negative',\n",
              " 'neutral',\n",
              " 'negative',\n",
              " 'positive',\n",
              " 'neutral',\n",
              " 'negative',\n",
              " 'negative',\n",
              " 'positive',\n",
              " 'negative',\n",
              " 'positive',\n",
              " 'negative',\n",
              " 'positive',\n",
              " 'negative',\n",
              " 'positive',\n",
              " 'negative',\n",
              " 'neutral',\n",
              " 'positive',\n",
              " 'positive',\n",
              " 'negative',\n",
              " 'positive',\n",
              " 'neutral',\n",
              " 'neutral',\n",
              " 'negative',\n",
              " 'negative',\n",
              " 'neutral',\n",
              " 'neutral',\n",
              " 'negative',\n",
              " 'neutral',\n",
              " 'negative',\n",
              " 'positive',\n",
              " 'negative',\n",
              " 'neutral',\n",
              " 'negative',\n",
              " 'neutral',\n",
              " 'neutral',\n",
              " 'neutral',\n",
              " 'positive',\n",
              " 'negative',\n",
              " 'negative',\n",
              " 'neutral',\n",
              " 'negative',\n",
              " 'positive',\n",
              " 'negative',\n",
              " 'negative',\n",
              " 'negative',\n",
              " 'negative',\n",
              " 'neutral',\n",
              " 'negative',\n",
              " 'negative',\n",
              " 'positive',\n",
              " 'neutral',\n",
              " 'negative',\n",
              " 'positive',\n",
              " 'negative',\n",
              " 'negative',\n",
              " 'positive',\n",
              " 'negative',\n",
              " 'neutral',\n",
              " 'neutral',\n",
              " 'positive',\n",
              " 'neutral',\n",
              " 'neutral',\n",
              " 'negative']"
            ]
          },
          "metadata": {},
          "execution_count": 63
        }
      ]
    },
    {
      "cell_type": "code",
      "source": [
        "df_comments.insert(2, 'sentiment', sentiment_result)  # 데이터프레임에 sentiment 결과 추가\n",
        "df_comments"
      ],
      "metadata": {
        "colab": {
          "base_uri": "https://localhost:8080/",
          "height": 424
        },
        "id": "zoSph9J8Wxk2",
        "outputId": "98da3bc9-37b0-4838-8f78-7894229049bd"
      },
      "execution_count": null,
      "outputs": [
        {
          "output_type": "execute_result",
          "data": {
            "text/plain": [
              "           date                                           comments sentiment\n",
              "0    2022-05-06  If I go out and buy a $5 wrench and attack mys...  negative\n",
              "1    2022-05-06  Please remain seated, seatbelts on, we are exp...   neutral\n",
              "2    2022-05-06                                 Didn’t sell a sat.  negative\n",
              "3    2022-05-06   Holding and bought some extra on top of my dca 🤑  positive\n",
              "4    2022-05-06  I've been waiting for BTC to drop, yesterday l...   neutral\n",
              "..          ...                                                ...       ...\n",
              "197  2022-05-06             This daily thread can be so cringe lol   neutral\n",
              "198  2022-05-06                             This sub in a nutshell  positive\n",
              "199  2022-05-06  >No it doesn't. I'm gonna buy more whatever th...   neutral\n",
              "200  2022-05-06  I'm not sure to be honest. For a regular Bitco...   neutral\n",
              "201  2022-05-06  I’ve literally never purchased one single thin...  negative\n",
              "\n",
              "[202 rows x 3 columns]"
            ],
            "text/html": [
              "\n",
              "  <div id=\"df-328f583f-a280-455a-b214-ae579421e888\">\n",
              "    <div class=\"colab-df-container\">\n",
              "      <div>\n",
              "<style scoped>\n",
              "    .dataframe tbody tr th:only-of-type {\n",
              "        vertical-align: middle;\n",
              "    }\n",
              "\n",
              "    .dataframe tbody tr th {\n",
              "        vertical-align: top;\n",
              "    }\n",
              "\n",
              "    .dataframe thead th {\n",
              "        text-align: right;\n",
              "    }\n",
              "</style>\n",
              "<table border=\"1\" class=\"dataframe\">\n",
              "  <thead>\n",
              "    <tr style=\"text-align: right;\">\n",
              "      <th></th>\n",
              "      <th>date</th>\n",
              "      <th>comments</th>\n",
              "      <th>sentiment</th>\n",
              "    </tr>\n",
              "  </thead>\n",
              "  <tbody>\n",
              "    <tr>\n",
              "      <th>0</th>\n",
              "      <td>2022-05-06</td>\n",
              "      <td>If I go out and buy a $5 wrench and attack mys...</td>\n",
              "      <td>negative</td>\n",
              "    </tr>\n",
              "    <tr>\n",
              "      <th>1</th>\n",
              "      <td>2022-05-06</td>\n",
              "      <td>Please remain seated, seatbelts on, we are exp...</td>\n",
              "      <td>neutral</td>\n",
              "    </tr>\n",
              "    <tr>\n",
              "      <th>2</th>\n",
              "      <td>2022-05-06</td>\n",
              "      <td>Didn’t sell a sat.</td>\n",
              "      <td>negative</td>\n",
              "    </tr>\n",
              "    <tr>\n",
              "      <th>3</th>\n",
              "      <td>2022-05-06</td>\n",
              "      <td>Holding and bought some extra on top of my dca 🤑</td>\n",
              "      <td>positive</td>\n",
              "    </tr>\n",
              "    <tr>\n",
              "      <th>4</th>\n",
              "      <td>2022-05-06</td>\n",
              "      <td>I've been waiting for BTC to drop, yesterday l...</td>\n",
              "      <td>neutral</td>\n",
              "    </tr>\n",
              "    <tr>\n",
              "      <th>...</th>\n",
              "      <td>...</td>\n",
              "      <td>...</td>\n",
              "      <td>...</td>\n",
              "    </tr>\n",
              "    <tr>\n",
              "      <th>197</th>\n",
              "      <td>2022-05-06</td>\n",
              "      <td>This daily thread can be so cringe lol</td>\n",
              "      <td>neutral</td>\n",
              "    </tr>\n",
              "    <tr>\n",
              "      <th>198</th>\n",
              "      <td>2022-05-06</td>\n",
              "      <td>This sub in a nutshell</td>\n",
              "      <td>positive</td>\n",
              "    </tr>\n",
              "    <tr>\n",
              "      <th>199</th>\n",
              "      <td>2022-05-06</td>\n",
              "      <td>&gt;No it doesn't. I'm gonna buy more whatever th...</td>\n",
              "      <td>neutral</td>\n",
              "    </tr>\n",
              "    <tr>\n",
              "      <th>200</th>\n",
              "      <td>2022-05-06</td>\n",
              "      <td>I'm not sure to be honest. For a regular Bitco...</td>\n",
              "      <td>neutral</td>\n",
              "    </tr>\n",
              "    <tr>\n",
              "      <th>201</th>\n",
              "      <td>2022-05-06</td>\n",
              "      <td>I’ve literally never purchased one single thin...</td>\n",
              "      <td>negative</td>\n",
              "    </tr>\n",
              "  </tbody>\n",
              "</table>\n",
              "<p>202 rows × 3 columns</p>\n",
              "</div>\n",
              "      <button class=\"colab-df-convert\" onclick=\"convertToInteractive('df-328f583f-a280-455a-b214-ae579421e888')\"\n",
              "              title=\"Convert this dataframe to an interactive table.\"\n",
              "              style=\"display:none;\">\n",
              "        \n",
              "  <svg xmlns=\"http://www.w3.org/2000/svg\" height=\"24px\"viewBox=\"0 0 24 24\"\n",
              "       width=\"24px\">\n",
              "    <path d=\"M0 0h24v24H0V0z\" fill=\"none\"/>\n",
              "    <path d=\"M18.56 5.44l.94 2.06.94-2.06 2.06-.94-2.06-.94-.94-2.06-.94 2.06-2.06.94zm-11 1L8.5 8.5l.94-2.06 2.06-.94-2.06-.94L8.5 2.5l-.94 2.06-2.06.94zm10 10l.94 2.06.94-2.06 2.06-.94-2.06-.94-.94-2.06-.94 2.06-2.06.94z\"/><path d=\"M17.41 7.96l-1.37-1.37c-.4-.4-.92-.59-1.43-.59-.52 0-1.04.2-1.43.59L10.3 9.45l-7.72 7.72c-.78.78-.78 2.05 0 2.83L4 21.41c.39.39.9.59 1.41.59.51 0 1.02-.2 1.41-.59l7.78-7.78 2.81-2.81c.8-.78.8-2.07 0-2.86zM5.41 20L4 18.59l7.72-7.72 1.47 1.35L5.41 20z\"/>\n",
              "  </svg>\n",
              "      </button>\n",
              "      \n",
              "  <style>\n",
              "    .colab-df-container {\n",
              "      display:flex;\n",
              "      flex-wrap:wrap;\n",
              "      gap: 12px;\n",
              "    }\n",
              "\n",
              "    .colab-df-convert {\n",
              "      background-color: #E8F0FE;\n",
              "      border: none;\n",
              "      border-radius: 50%;\n",
              "      cursor: pointer;\n",
              "      display: none;\n",
              "      fill: #1967D2;\n",
              "      height: 32px;\n",
              "      padding: 0 0 0 0;\n",
              "      width: 32px;\n",
              "    }\n",
              "\n",
              "    .colab-df-convert:hover {\n",
              "      background-color: #E2EBFA;\n",
              "      box-shadow: 0px 1px 2px rgba(60, 64, 67, 0.3), 0px 1px 3px 1px rgba(60, 64, 67, 0.15);\n",
              "      fill: #174EA6;\n",
              "    }\n",
              "\n",
              "    [theme=dark] .colab-df-convert {\n",
              "      background-color: #3B4455;\n",
              "      fill: #D2E3FC;\n",
              "    }\n",
              "\n",
              "    [theme=dark] .colab-df-convert:hover {\n",
              "      background-color: #434B5C;\n",
              "      box-shadow: 0px 1px 3px 1px rgba(0, 0, 0, 0.15);\n",
              "      filter: drop-shadow(0px 1px 2px rgba(0, 0, 0, 0.3));\n",
              "      fill: #FFFFFF;\n",
              "    }\n",
              "  </style>\n",
              "\n",
              "      <script>\n",
              "        const buttonEl =\n",
              "          document.querySelector('#df-328f583f-a280-455a-b214-ae579421e888 button.colab-df-convert');\n",
              "        buttonEl.style.display =\n",
              "          google.colab.kernel.accessAllowed ? 'block' : 'none';\n",
              "\n",
              "        async function convertToInteractive(key) {\n",
              "          const element = document.querySelector('#df-328f583f-a280-455a-b214-ae579421e888');\n",
              "          const dataTable =\n",
              "            await google.colab.kernel.invokeFunction('convertToInteractive',\n",
              "                                                     [key], {});\n",
              "          if (!dataTable) return;\n",
              "\n",
              "          const docLinkHtml = 'Like what you see? Visit the ' +\n",
              "            '<a target=\"_blank\" href=https://colab.research.google.com/notebooks/data_table.ipynb>data table notebook</a>'\n",
              "            + ' to learn more about interactive tables.';\n",
              "          element.innerHTML = '';\n",
              "          dataTable['output_type'] = 'display_data';\n",
              "          await google.colab.output.renderOutput(dataTable, element);\n",
              "          const docLink = document.createElement('div');\n",
              "          docLink.innerHTML = docLinkHtml;\n",
              "          element.appendChild(docLink);\n",
              "        }\n",
              "      </script>\n",
              "    </div>\n",
              "  </div>\n",
              "  "
            ]
          },
          "metadata": {},
          "execution_count": 66
        }
      ]
    },
    {
      "cell_type": "code",
      "source": [
        "# 가중치 계산\n",
        "K_sum = 0   # 가중치 합 저장\n",
        "neutral_count = 0 # 감정 별 개수 저장\n",
        "positive_count = 0\n",
        "negative_count = 0\n",
        "\n",
        "for s in df_comments['sentiment']:\n",
        "  if s == 'neutral':    # netural = 0\n",
        "    K_sum += 0\n",
        "    neutral_count+=1\n",
        "  elif s == 'positive':\n",
        "    K_sum += 1          # positive = 1\n",
        "    positive_count+=1\n",
        "  else:               \n",
        "    K_sum -= 1          # negative = -1\n",
        "    negative_count+=1\n",
        "\n",
        "K_weight = K_sum / len(sentiment_result)\n",
        "K_weight"
      ],
      "metadata": {
        "colab": {
          "base_uri": "https://localhost:8080/"
        },
        "id": "1gWAkGW9W5CG",
        "outputId": "f4fa97bb-be9d-4954-c2cb-b4f2f40af63d"
      },
      "execution_count": null,
      "outputs": [
        {
          "output_type": "execute_result",
          "data": {
            "text/plain": [
              "-0.16336633663366337"
            ]
          },
          "metadata": {},
          "execution_count": 67
        }
      ]
    },
    {
      "cell_type": "code",
      "source": [
        "df_comments.insert(3, 'K_weight', K_weight)\n",
        "df_comments"
      ],
      "metadata": {
        "colab": {
          "base_uri": "https://localhost:8080/",
          "height": 424
        },
        "id": "PfYqu126XVJr",
        "outputId": "636323ef-6fc5-4647-8a9d-8cd1ec1474d8"
      },
      "execution_count": null,
      "outputs": [
        {
          "output_type": "execute_result",
          "data": {
            "text/plain": [
              "           date                                           comments sentiment  \\\n",
              "0    2022-05-06  If I go out and buy a $5 wrench and attack mys...  negative   \n",
              "1    2022-05-06  Please remain seated, seatbelts on, we are exp...   neutral   \n",
              "2    2022-05-06                                 Didn’t sell a sat.  negative   \n",
              "3    2022-05-06   Holding and bought some extra on top of my dca 🤑  positive   \n",
              "4    2022-05-06  I've been waiting for BTC to drop, yesterday l...   neutral   \n",
              "..          ...                                                ...       ...   \n",
              "197  2022-05-06             This daily thread can be so cringe lol   neutral   \n",
              "198  2022-05-06                             This sub in a nutshell  positive   \n",
              "199  2022-05-06  >No it doesn't. I'm gonna buy more whatever th...   neutral   \n",
              "200  2022-05-06  I'm not sure to be honest. For a regular Bitco...   neutral   \n",
              "201  2022-05-06  I’ve literally never purchased one single thin...  negative   \n",
              "\n",
              "     K_weight  \n",
              "0   -0.163366  \n",
              "1   -0.163366  \n",
              "2   -0.163366  \n",
              "3   -0.163366  \n",
              "4   -0.163366  \n",
              "..        ...  \n",
              "197 -0.163366  \n",
              "198 -0.163366  \n",
              "199 -0.163366  \n",
              "200 -0.163366  \n",
              "201 -0.163366  \n",
              "\n",
              "[202 rows x 4 columns]"
            ],
            "text/html": [
              "\n",
              "  <div id=\"df-ce7a8aee-1598-4a35-88b8-9d93a6706c5c\">\n",
              "    <div class=\"colab-df-container\">\n",
              "      <div>\n",
              "<style scoped>\n",
              "    .dataframe tbody tr th:only-of-type {\n",
              "        vertical-align: middle;\n",
              "    }\n",
              "\n",
              "    .dataframe tbody tr th {\n",
              "        vertical-align: top;\n",
              "    }\n",
              "\n",
              "    .dataframe thead th {\n",
              "        text-align: right;\n",
              "    }\n",
              "</style>\n",
              "<table border=\"1\" class=\"dataframe\">\n",
              "  <thead>\n",
              "    <tr style=\"text-align: right;\">\n",
              "      <th></th>\n",
              "      <th>date</th>\n",
              "      <th>comments</th>\n",
              "      <th>sentiment</th>\n",
              "      <th>K_weight</th>\n",
              "    </tr>\n",
              "  </thead>\n",
              "  <tbody>\n",
              "    <tr>\n",
              "      <th>0</th>\n",
              "      <td>2022-05-06</td>\n",
              "      <td>If I go out and buy a $5 wrench and attack mys...</td>\n",
              "      <td>negative</td>\n",
              "      <td>-0.163366</td>\n",
              "    </tr>\n",
              "    <tr>\n",
              "      <th>1</th>\n",
              "      <td>2022-05-06</td>\n",
              "      <td>Please remain seated, seatbelts on, we are exp...</td>\n",
              "      <td>neutral</td>\n",
              "      <td>-0.163366</td>\n",
              "    </tr>\n",
              "    <tr>\n",
              "      <th>2</th>\n",
              "      <td>2022-05-06</td>\n",
              "      <td>Didn’t sell a sat.</td>\n",
              "      <td>negative</td>\n",
              "      <td>-0.163366</td>\n",
              "    </tr>\n",
              "    <tr>\n",
              "      <th>3</th>\n",
              "      <td>2022-05-06</td>\n",
              "      <td>Holding and bought some extra on top of my dca 🤑</td>\n",
              "      <td>positive</td>\n",
              "      <td>-0.163366</td>\n",
              "    </tr>\n",
              "    <tr>\n",
              "      <th>4</th>\n",
              "      <td>2022-05-06</td>\n",
              "      <td>I've been waiting for BTC to drop, yesterday l...</td>\n",
              "      <td>neutral</td>\n",
              "      <td>-0.163366</td>\n",
              "    </tr>\n",
              "    <tr>\n",
              "      <th>...</th>\n",
              "      <td>...</td>\n",
              "      <td>...</td>\n",
              "      <td>...</td>\n",
              "      <td>...</td>\n",
              "    </tr>\n",
              "    <tr>\n",
              "      <th>197</th>\n",
              "      <td>2022-05-06</td>\n",
              "      <td>This daily thread can be so cringe lol</td>\n",
              "      <td>neutral</td>\n",
              "      <td>-0.163366</td>\n",
              "    </tr>\n",
              "    <tr>\n",
              "      <th>198</th>\n",
              "      <td>2022-05-06</td>\n",
              "      <td>This sub in a nutshell</td>\n",
              "      <td>positive</td>\n",
              "      <td>-0.163366</td>\n",
              "    </tr>\n",
              "    <tr>\n",
              "      <th>199</th>\n",
              "      <td>2022-05-06</td>\n",
              "      <td>&gt;No it doesn't. I'm gonna buy more whatever th...</td>\n",
              "      <td>neutral</td>\n",
              "      <td>-0.163366</td>\n",
              "    </tr>\n",
              "    <tr>\n",
              "      <th>200</th>\n",
              "      <td>2022-05-06</td>\n",
              "      <td>I'm not sure to be honest. For a regular Bitco...</td>\n",
              "      <td>neutral</td>\n",
              "      <td>-0.163366</td>\n",
              "    </tr>\n",
              "    <tr>\n",
              "      <th>201</th>\n",
              "      <td>2022-05-06</td>\n",
              "      <td>I’ve literally never purchased one single thin...</td>\n",
              "      <td>negative</td>\n",
              "      <td>-0.163366</td>\n",
              "    </tr>\n",
              "  </tbody>\n",
              "</table>\n",
              "<p>202 rows × 4 columns</p>\n",
              "</div>\n",
              "      <button class=\"colab-df-convert\" onclick=\"convertToInteractive('df-ce7a8aee-1598-4a35-88b8-9d93a6706c5c')\"\n",
              "              title=\"Convert this dataframe to an interactive table.\"\n",
              "              style=\"display:none;\">\n",
              "        \n",
              "  <svg xmlns=\"http://www.w3.org/2000/svg\" height=\"24px\"viewBox=\"0 0 24 24\"\n",
              "       width=\"24px\">\n",
              "    <path d=\"M0 0h24v24H0V0z\" fill=\"none\"/>\n",
              "    <path d=\"M18.56 5.44l.94 2.06.94-2.06 2.06-.94-2.06-.94-.94-2.06-.94 2.06-2.06.94zm-11 1L8.5 8.5l.94-2.06 2.06-.94-2.06-.94L8.5 2.5l-.94 2.06-2.06.94zm10 10l.94 2.06.94-2.06 2.06-.94-2.06-.94-.94-2.06-.94 2.06-2.06.94z\"/><path d=\"M17.41 7.96l-1.37-1.37c-.4-.4-.92-.59-1.43-.59-.52 0-1.04.2-1.43.59L10.3 9.45l-7.72 7.72c-.78.78-.78 2.05 0 2.83L4 21.41c.39.39.9.59 1.41.59.51 0 1.02-.2 1.41-.59l7.78-7.78 2.81-2.81c.8-.78.8-2.07 0-2.86zM5.41 20L4 18.59l7.72-7.72 1.47 1.35L5.41 20z\"/>\n",
              "  </svg>\n",
              "      </button>\n",
              "      \n",
              "  <style>\n",
              "    .colab-df-container {\n",
              "      display:flex;\n",
              "      flex-wrap:wrap;\n",
              "      gap: 12px;\n",
              "    }\n",
              "\n",
              "    .colab-df-convert {\n",
              "      background-color: #E8F0FE;\n",
              "      border: none;\n",
              "      border-radius: 50%;\n",
              "      cursor: pointer;\n",
              "      display: none;\n",
              "      fill: #1967D2;\n",
              "      height: 32px;\n",
              "      padding: 0 0 0 0;\n",
              "      width: 32px;\n",
              "    }\n",
              "\n",
              "    .colab-df-convert:hover {\n",
              "      background-color: #E2EBFA;\n",
              "      box-shadow: 0px 1px 2px rgba(60, 64, 67, 0.3), 0px 1px 3px 1px rgba(60, 64, 67, 0.15);\n",
              "      fill: #174EA6;\n",
              "    }\n",
              "\n",
              "    [theme=dark] .colab-df-convert {\n",
              "      background-color: #3B4455;\n",
              "      fill: #D2E3FC;\n",
              "    }\n",
              "\n",
              "    [theme=dark] .colab-df-convert:hover {\n",
              "      background-color: #434B5C;\n",
              "      box-shadow: 0px 1px 3px 1px rgba(0, 0, 0, 0.15);\n",
              "      filter: drop-shadow(0px 1px 2px rgba(0, 0, 0, 0.3));\n",
              "      fill: #FFFFFF;\n",
              "    }\n",
              "  </style>\n",
              "\n",
              "      <script>\n",
              "        const buttonEl =\n",
              "          document.querySelector('#df-ce7a8aee-1598-4a35-88b8-9d93a6706c5c button.colab-df-convert');\n",
              "        buttonEl.style.display =\n",
              "          google.colab.kernel.accessAllowed ? 'block' : 'none';\n",
              "\n",
              "        async function convertToInteractive(key) {\n",
              "          const element = document.querySelector('#df-ce7a8aee-1598-4a35-88b8-9d93a6706c5c');\n",
              "          const dataTable =\n",
              "            await google.colab.kernel.invokeFunction('convertToInteractive',\n",
              "                                                     [key], {});\n",
              "          if (!dataTable) return;\n",
              "\n",
              "          const docLinkHtml = 'Like what you see? Visit the ' +\n",
              "            '<a target=\"_blank\" href=https://colab.research.google.com/notebooks/data_table.ipynb>data table notebook</a>'\n",
              "            + ' to learn more about interactive tables.';\n",
              "          element.innerHTML = '';\n",
              "          dataTable['output_type'] = 'display_data';\n",
              "          await google.colab.output.renderOutput(dataTable, element);\n",
              "          const docLink = document.createElement('div');\n",
              "          docLink.innerHTML = docLinkHtml;\n",
              "          element.appendChild(docLink);\n",
              "        }\n",
              "      </script>\n",
              "    </div>\n",
              "  </div>\n",
              "  "
            ]
          },
          "metadata": {},
          "execution_count": 68
        }
      ]
    },
    {
      "cell_type": "markdown",
      "source": [
        "## CSV 결과 저장 및 댓글 감정 분류에 대한 결과 시각화"
      ],
      "metadata": {
        "id": "jZe8gtM2Xn_a"
      }
    },
    {
      "cell_type": "code",
      "source": [
        "# csv 파일 저장할 경로를 환경에 알맞게 변경하기\n",
        "import csv\n",
        "PATH = '/content/drive/MyDrive/Capstone design/긍정부정 분류/Daily sentiment analysis results/'+date+'_result.csv'\n",
        "df_comments.to_csv(PATH)"
      ],
      "metadata": {
        "id": "zSEi0VIkXgqa"
      },
      "execution_count": null,
      "outputs": []
    },
    {
      "cell_type": "code",
      "source": [
        "print('neutral 개수: ', neutral_count)\n",
        "print('\b\\npositive 개수: ', positive_count)\n",
        "print('negative 개수: ', negative_count)"
      ],
      "metadata": {
        "colab": {
          "base_uri": "https://localhost:8080/"
        },
        "id": "jK45UOkiXmXv",
        "outputId": "63758516-7b07-433a-82eb-9bb4d31b6e83"
      },
      "execution_count": null,
      "outputs": [
        {
          "output_type": "stream",
          "name": "stdout",
          "text": [
            "neutral 개수:  71\n",
            "\b\n",
            "positive 개수:  49\n",
            "negative 개수:  82\n"
          ]
        }
      ]
    },
    {
      "cell_type": "code",
      "source": [
        "import matplotlib.pyplot as plt\n",
        "import numpy as np\n",
        "\n",
        "x = np.arange(3)\n",
        "sentiments = ['negative', 'neutral', 'positive']\n",
        "values = [negative_count, neutral_count, positive_count]\n",
        "\n",
        "plt.bar(x, values, color=['r', 'g', 'b'])\n",
        "plt.xticks(x, sentiments)\n",
        "plt.title('Number of sentiments', fontsize=20)\n",
        "plt.xlabel('Sentiments')\n",
        "plt.ylabel('Number')\n",
        "\n",
        "plt.show()"
      ],
      "metadata": {
        "colab": {
          "base_uri": "https://localhost:8080/",
          "height": 528
        },
        "id": "qGKpfYeRXlFt",
        "outputId": "7385eb1c-d912-4a1a-e6ad-b14a299b2778"
      },
      "execution_count": null,
      "outputs": [
        {
          "output_type": "display_data",
          "data": {
            "text/plain": [
              "<Figure size 864x576 with 1 Axes>"
            ],
            "image/png": "[encoded data removed]"
          },
          "metadata": {
            "image/png": {
              "width": 728,
              "height": 511
            }
          }
        }
      ]
    }
  ]
}
