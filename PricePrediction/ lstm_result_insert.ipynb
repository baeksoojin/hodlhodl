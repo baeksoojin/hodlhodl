{
  "cells": [
    {
      "cell_type": "markdown",
      "metadata": {
        "colab_type": "text",
        "id": "view-in-github"
      },
      "source": [
        "<a href=\"https://colab.research.google.com/github/sujin-create/hodlhodl/blob/Price-Prediction/PricePrediction%20/%20lstm_result_insert.ipynb\" target=\"_parent\"><img src=\"https://colab.research.google.com/assets/colab-badge.svg\" alt=\"Open In Colab\"/></a>"
      ]
    },
    {
      "cell_type": "code",
      "execution_count": 4,
      "metadata": {
        "colab": {
          "base_uri": "https://localhost:8080/"
        },
        "id": "ZLG5jZG_jKIP",
        "outputId": "87ec66ee-d73e-4503-8580-c31af20815cb"
      },
      "outputs": [
        {
          "name": "stdout",
          "output_type": "stream",
          "text": [
            "Collecting pymysql\n",
            "  Downloading PyMySQL-1.0.2-py3-none-any.whl (43 kB)\n",
            "\u001b[?25l\r\u001b[K     |███████▌                        | 10 kB 17.9 MB/s eta 0:00:01\r\u001b[K     |███████████████                 | 20 kB 11.8 MB/s eta 0:00:01\r\u001b[K     |██████████████████████▍         | 30 kB 9.5 MB/s eta 0:00:01\r\u001b[K     |██████████████████████████████  | 40 kB 4.2 MB/s eta 0:00:01\r\u001b[K     |████████████████████████████████| 43 kB 1.3 MB/s \n",
            "\u001b[?25hInstalling collected packages: pymysql\n",
            "Successfully installed pymysql-1.0.2\n",
            "Requirement already satisfied: matplotlib in /usr/local/lib/python3.7/dist-packages (3.2.2)\n",
            "Requirement already satisfied: cycler>=0.10 in /usr/local/lib/python3.7/dist-packages (from matplotlib) (0.11.0)\n",
            "Requirement already satisfied: python-dateutil>=2.1 in /usr/local/lib/python3.7/dist-packages (from matplotlib) (2.8.2)\n",
            "Requirement already satisfied: numpy>=1.11 in /usr/local/lib/python3.7/dist-packages (from matplotlib) (1.21.6)\n",
            "Requirement already satisfied: kiwisolver>=1.0.1 in /usr/local/lib/python3.7/dist-packages (from matplotlib) (1.4.2)\n",
            "Requirement already satisfied: pyparsing!=2.0.4,!=2.1.2,!=2.1.6,>=2.0.1 in /usr/local/lib/python3.7/dist-packages (from matplotlib) (3.0.8)\n",
            "Requirement already satisfied: typing-extensions in /usr/local/lib/python3.7/dist-packages (from kiwisolver>=1.0.1->matplotlib) (4.2.0)\n",
            "Requirement already satisfied: six>=1.5 in /usr/local/lib/python3.7/dist-packages (from python-dateutil>=2.1->matplotlib) (1.15.0)\n",
            "Requirement already satisfied: seaborn in /usr/local/lib/python3.7/dist-packages (0.11.2)\n",
            "Requirement already satisfied: matplotlib>=2.2 in /usr/local/lib/python3.7/dist-packages (from seaborn) (3.2.2)\n",
            "Requirement already satisfied: pandas>=0.23 in /usr/local/lib/python3.7/dist-packages (from seaborn) (1.3.5)\n",
            "Requirement already satisfied: numpy>=1.15 in /usr/local/lib/python3.7/dist-packages (from seaborn) (1.21.6)\n",
            "Requirement already satisfied: scipy>=1.0 in /usr/local/lib/python3.7/dist-packages (from seaborn) (1.4.1)\n",
            "Requirement already satisfied: python-dateutil>=2.1 in /usr/local/lib/python3.7/dist-packages (from matplotlib>=2.2->seaborn) (2.8.2)\n",
            "Requirement already satisfied: pyparsing!=2.0.4,!=2.1.2,!=2.1.6,>=2.0.1 in /usr/local/lib/python3.7/dist-packages (from matplotlib>=2.2->seaborn) (3.0.8)\n",
            "Requirement already satisfied: cycler>=0.10 in /usr/local/lib/python3.7/dist-packages (from matplotlib>=2.2->seaborn) (0.11.0)\n",
            "Requirement already satisfied: kiwisolver>=1.0.1 in /usr/local/lib/python3.7/dist-packages (from matplotlib>=2.2->seaborn) (1.4.2)\n",
            "Requirement already satisfied: typing-extensions in /usr/local/lib/python3.7/dist-packages (from kiwisolver>=1.0.1->matplotlib>=2.2->seaborn) (4.2.0)\n",
            "Requirement already satisfied: pytz>=2017.3 in /usr/local/lib/python3.7/dist-packages (from pandas>=0.23->seaborn) (2022.1)\n",
            "Requirement already satisfied: six>=1.5 in /usr/local/lib/python3.7/dist-packages (from python-dateutil>=2.1->matplotlib>=2.2->seaborn) (1.15.0)\n"
          ]
        }
      ],
      "source": [
        "!pip install pymysql\n",
        "!pip install matplotlib\n",
        "!pip install seaborn"
      ]
    },
    {
      "cell_type": "code",
      "execution_count": 5,
      "metadata": {
        "id": "0bqCXv2XjWln"
      },
      "outputs": [],
      "source": [
        "import pandas as pd \n",
        "import pymysql \n",
        "import matplotlib.pyplot as plt \n",
        "%matplotlib inline \n",
        "import seaborn as sns \n",
        "sns.set()"
      ]
    },
    {
      "cell_type": "markdown",
      "metadata": {
        "id": "9rRXLG76mNyD"
      },
      "source": [
        "제공받은 csv파일을 이용한 mysql db에 데이터 저장"
      ]
    },
    {
      "cell_type": "code",
      "execution_count": 19,
      "metadata": {
        "id": "O39AZ-dpj18S"
      },
      "outputs": [],
      "source": [
        "prediction_data = pd.read_csv('prediction.csv')"
      ]
    },
    {
      "cell_type": "code",
      "execution_count": 20,
      "metadata": {
        "colab": {
          "base_uri": "https://localhost:8080/",
          "height": 363
        },
        "id": "koHf2ALjkKTm",
        "outputId": "bfad3350-ce03-44db-a00c-5933f14e2ccc"
      },
      "outputs": [
        {
          "data": {
            "text/html": [
              "\n",
              "  <div id=\"df-bd18c128-284f-4fc3-8e75-2824ea833f87\">\n",
              "    <div class=\"colab-df-container\">\n",
              "      <div>\n",
              "<style scoped>\n",
              "    .dataframe tbody tr th:only-of-type {\n",
              "        vertical-align: middle;\n",
              "    }\n",
              "\n",
              "    .dataframe tbody tr th {\n",
              "        vertical-align: top;\n",
              "    }\n",
              "\n",
              "    .dataframe thead th {\n",
              "        text-align: right;\n",
              "    }\n",
              "</style>\n",
              "<table border=\"1\" class=\"dataframe\">\n",
              "  <thead>\n",
              "    <tr style=\"text-align: right;\">\n",
              "      <th></th>\n",
              "      <th>Unnamed: 0</th>\n",
              "      <th>close</th>\n",
              "      <th>pred</th>\n",
              "    </tr>\n",
              "  </thead>\n",
              "  <tbody>\n",
              "    <tr>\n",
              "      <th>0</th>\n",
              "      <td>2021-07-22 09:00:00</td>\n",
              "      <td>37925000.0</td>\n",
              "      <td>37338652.0</td>\n",
              "    </tr>\n",
              "    <tr>\n",
              "      <th>1</th>\n",
              "      <td>2021-07-23 09:00:00</td>\n",
              "      <td>39108000.0</td>\n",
              "      <td>37699670.0</td>\n",
              "    </tr>\n",
              "    <tr>\n",
              "      <th>2</th>\n",
              "      <td>2021-07-24 09:00:00</td>\n",
              "      <td>40112000.0</td>\n",
              "      <td>38292980.0</td>\n",
              "    </tr>\n",
              "    <tr>\n",
              "      <th>3</th>\n",
              "      <td>2021-07-25 09:00:00</td>\n",
              "      <td>41070000.0</td>\n",
              "      <td>39767216.0</td>\n",
              "    </tr>\n",
              "    <tr>\n",
              "      <th>4</th>\n",
              "      <td>2021-07-26 09:00:00</td>\n",
              "      <td>43001000.0</td>\n",
              "      <td>40655396.0</td>\n",
              "    </tr>\n",
              "    <tr>\n",
              "      <th>5</th>\n",
              "      <td>2021-07-27 09:00:00</td>\n",
              "      <td>45409000.0</td>\n",
              "      <td>42236570.0</td>\n",
              "    </tr>\n",
              "    <tr>\n",
              "      <th>6</th>\n",
              "      <td>2021-07-28 09:00:00</td>\n",
              "      <td>46350000.0</td>\n",
              "      <td>44218224.0</td>\n",
              "    </tr>\n",
              "    <tr>\n",
              "      <th>7</th>\n",
              "      <td>2021-07-29 09:00:00</td>\n",
              "      <td>45907000.0</td>\n",
              "      <td>45891188.0</td>\n",
              "    </tr>\n",
              "    <tr>\n",
              "      <th>8</th>\n",
              "      <td>2021-07-30 09:00:00</td>\n",
              "      <td>48555000.0</td>\n",
              "      <td>46929308.0</td>\n",
              "    </tr>\n",
              "    <tr>\n",
              "      <th>9</th>\n",
              "      <td>2021-07-31 09:00:00</td>\n",
              "      <td>47979000.0</td>\n",
              "      <td>48540980.0</td>\n",
              "    </tr>\n",
              "  </tbody>\n",
              "</table>\n",
              "</div>\n",
              "      <button class=\"colab-df-convert\" onclick=\"convertToInteractive('df-bd18c128-284f-4fc3-8e75-2824ea833f87')\"\n",
              "              title=\"Convert this dataframe to an interactive table.\"\n",
              "              style=\"display:none;\">\n",
              "        \n",
              "  <svg xmlns=\"http://www.w3.org/2000/svg\" height=\"24px\"viewBox=\"0 0 24 24\"\n",
              "       width=\"24px\">\n",
              "    <path d=\"M0 0h24v24H0V0z\" fill=\"none\"/>\n",
              "    <path d=\"M18.56 5.44l.94 2.06.94-2.06 2.06-.94-2.06-.94-.94-2.06-.94 2.06-2.06.94zm-11 1L8.5 8.5l.94-2.06 2.06-.94-2.06-.94L8.5 2.5l-.94 2.06-2.06.94zm10 10l.94 2.06.94-2.06 2.06-.94-2.06-.94-.94-2.06-.94 2.06-2.06.94z\"/><path d=\"M17.41 7.96l-1.37-1.37c-.4-.4-.92-.59-1.43-.59-.52 0-1.04.2-1.43.59L10.3 9.45l-7.72 7.72c-.78.78-.78 2.05 0 2.83L4 21.41c.39.39.9.59 1.41.59.51 0 1.02-.2 1.41-.59l7.78-7.78 2.81-2.81c.8-.78.8-2.07 0-2.86zM5.41 20L4 18.59l7.72-7.72 1.47 1.35L5.41 20z\"/>\n",
              "  </svg>\n",
              "      </button>\n",
              "      \n",
              "  <style>\n",
              "    .colab-df-container {\n",
              "      display:flex;\n",
              "      flex-wrap:wrap;\n",
              "      gap: 12px;\n",
              "    }\n",
              "\n",
              "    .colab-df-convert {\n",
              "      background-color: #E8F0FE;\n",
              "      border: none;\n",
              "      border-radius: 50%;\n",
              "      cursor: pointer;\n",
              "      display: none;\n",
              "      fill: #1967D2;\n",
              "      height: 32px;\n",
              "      padding: 0 0 0 0;\n",
              "      width: 32px;\n",
              "    }\n",
              "\n",
              "    .colab-df-convert:hover {\n",
              "      background-color: #E2EBFA;\n",
              "      box-shadow: 0px 1px 2px rgba(60, 64, 67, 0.3), 0px 1px 3px 1px rgba(60, 64, 67, 0.15);\n",
              "      fill: #174EA6;\n",
              "    }\n",
              "\n",
              "    [theme=dark] .colab-df-convert {\n",
              "      background-color: #3B4455;\n",
              "      fill: #D2E3FC;\n",
              "    }\n",
              "\n",
              "    [theme=dark] .colab-df-convert:hover {\n",
              "      background-color: #434B5C;\n",
              "      box-shadow: 0px 1px 3px 1px rgba(0, 0, 0, 0.15);\n",
              "      filter: drop-shadow(0px 1px 2px rgba(0, 0, 0, 0.3));\n",
              "      fill: #FFFFFF;\n",
              "    }\n",
              "  </style>\n",
              "\n",
              "      <script>\n",
              "        const buttonEl =\n",
              "          document.querySelector('#df-bd18c128-284f-4fc3-8e75-2824ea833f87 button.colab-df-convert');\n",
              "        buttonEl.style.display =\n",
              "          google.colab.kernel.accessAllowed ? 'block' : 'none';\n",
              "\n",
              "        async function convertToInteractive(key) {\n",
              "          const element = document.querySelector('#df-bd18c128-284f-4fc3-8e75-2824ea833f87');\n",
              "          const dataTable =\n",
              "            await google.colab.kernel.invokeFunction('convertToInteractive',\n",
              "                                                     [key], {});\n",
              "          if (!dataTable) return;\n",
              "\n",
              "          const docLinkHtml = 'Like what you see? Visit the ' +\n",
              "            '<a target=\"_blank\" href=https://colab.research.google.com/notebooks/data_table.ipynb>data table notebook</a>'\n",
              "            + ' to learn more about interactive tables.';\n",
              "          element.innerHTML = '';\n",
              "          dataTable['output_type'] = 'display_data';\n",
              "          await google.colab.output.renderOutput(dataTable, element);\n",
              "          const docLink = document.createElement('div');\n",
              "          docLink.innerHTML = docLinkHtml;\n",
              "          element.appendChild(docLink);\n",
              "        }\n",
              "      </script>\n",
              "    </div>\n",
              "  </div>\n",
              "  "
            ],
            "text/plain": [
              "            Unnamed: 0       close        pred\n",
              "0  2021-07-22 09:00:00  37925000.0  37338652.0\n",
              "1  2021-07-23 09:00:00  39108000.0  37699670.0\n",
              "2  2021-07-24 09:00:00  40112000.0  38292980.0\n",
              "3  2021-07-25 09:00:00  41070000.0  39767216.0\n",
              "4  2021-07-26 09:00:00  43001000.0  40655396.0\n",
              "5  2021-07-27 09:00:00  45409000.0  42236570.0\n",
              "6  2021-07-28 09:00:00  46350000.0  44218224.0\n",
              "7  2021-07-29 09:00:00  45907000.0  45891188.0\n",
              "8  2021-07-30 09:00:00  48555000.0  46929308.0\n",
              "9  2021-07-31 09:00:00  47979000.0  48540980.0"
            ]
          },
          "execution_count": 20,
          "metadata": {},
          "output_type": "execute_result"
        }
      ],
      "source": [
        "prediction_data.head(10)"
      ]
    },
    {
      "cell_type": "code",
      "execution_count": 21,
      "metadata": {
        "colab": {
          "base_uri": "https://localhost:8080/"
        },
        "id": "MoAUvF6lkQex",
        "outputId": "536b8097-97dd-45c9-8729-3d6e077b1256"
      },
      "outputs": [
        {
          "name": "stdout",
          "output_type": "stream",
          "text": [
            "                    date       close        pred\n",
            "0    2021-07-22 09:00:00  37925000.0  37338652.0\n",
            "1    2021-07-23 09:00:00  39108000.0  37699670.0\n",
            "2    2021-07-24 09:00:00  40112000.0  38292980.0\n",
            "3    2021-07-25 09:00:00  41070000.0  39767216.0\n",
            "4    2021-07-26 09:00:00  43001000.0  40655396.0\n",
            "..                   ...         ...         ...\n",
            "289  2022-05-07 09:00:00  46507000.0  48391816.0\n",
            "290  2022-05-08 09:00:00  44770000.0  47972090.0\n",
            "291  2022-05-09 09:00:00  41002000.0  46207104.0\n",
            "292  2022-05-10 09:00:00  41046000.0  43994224.0\n",
            "293  2022-05-11 09:00:00  41808000.0  42425956.0\n",
            "\n",
            "[294 rows x 3 columns]\n"
          ]
        }
      ],
      "source": [
        "# date값이 Unnamed: 0 으로 되어있으니까 수정후 작업 진행.\n",
        "prediction_data.rename(columns = {'Unnamed: 0' : 'date'}, inplace = True)\n",
        "print(prediction_data)"
      ]
    },
    {
      "cell_type": "code",
      "execution_count": 22,
      "metadata": {
        "colab": {
          "base_uri": "https://localhost:8080/",
          "height": 363
        },
        "id": "5BAaCUeVlsLR",
        "outputId": "996b762f-2428-4a79-9a79-7addb951bba2"
      },
      "outputs": [
        {
          "data": {
            "text/html": [
              "\n",
              "  <div id=\"df-641bb583-9548-41df-9349-c4d40240ee88\">\n",
              "    <div class=\"colab-df-container\">\n",
              "      <div>\n",
              "<style scoped>\n",
              "    .dataframe tbody tr th:only-of-type {\n",
              "        vertical-align: middle;\n",
              "    }\n",
              "\n",
              "    .dataframe tbody tr th {\n",
              "        vertical-align: top;\n",
              "    }\n",
              "\n",
              "    .dataframe thead th {\n",
              "        text-align: right;\n",
              "    }\n",
              "</style>\n",
              "<table border=\"1\" class=\"dataframe\">\n",
              "  <thead>\n",
              "    <tr style=\"text-align: right;\">\n",
              "      <th></th>\n",
              "      <th>date</th>\n",
              "      <th>close</th>\n",
              "      <th>pred</th>\n",
              "    </tr>\n",
              "  </thead>\n",
              "  <tbody>\n",
              "    <tr>\n",
              "      <th>0</th>\n",
              "      <td>2021-07-22 09:00:00</td>\n",
              "      <td>37925000.0</td>\n",
              "      <td>37338652.0</td>\n",
              "    </tr>\n",
              "    <tr>\n",
              "      <th>1</th>\n",
              "      <td>2021-07-23 09:00:00</td>\n",
              "      <td>39108000.0</td>\n",
              "      <td>37699670.0</td>\n",
              "    </tr>\n",
              "    <tr>\n",
              "      <th>2</th>\n",
              "      <td>2021-07-24 09:00:00</td>\n",
              "      <td>40112000.0</td>\n",
              "      <td>38292980.0</td>\n",
              "    </tr>\n",
              "    <tr>\n",
              "      <th>3</th>\n",
              "      <td>2021-07-25 09:00:00</td>\n",
              "      <td>41070000.0</td>\n",
              "      <td>39767216.0</td>\n",
              "    </tr>\n",
              "    <tr>\n",
              "      <th>4</th>\n",
              "      <td>2021-07-26 09:00:00</td>\n",
              "      <td>43001000.0</td>\n",
              "      <td>40655396.0</td>\n",
              "    </tr>\n",
              "    <tr>\n",
              "      <th>5</th>\n",
              "      <td>2021-07-27 09:00:00</td>\n",
              "      <td>45409000.0</td>\n",
              "      <td>42236570.0</td>\n",
              "    </tr>\n",
              "    <tr>\n",
              "      <th>6</th>\n",
              "      <td>2021-07-28 09:00:00</td>\n",
              "      <td>46350000.0</td>\n",
              "      <td>44218224.0</td>\n",
              "    </tr>\n",
              "    <tr>\n",
              "      <th>7</th>\n",
              "      <td>2021-07-29 09:00:00</td>\n",
              "      <td>45907000.0</td>\n",
              "      <td>45891188.0</td>\n",
              "    </tr>\n",
              "    <tr>\n",
              "      <th>8</th>\n",
              "      <td>2021-07-30 09:00:00</td>\n",
              "      <td>48555000.0</td>\n",
              "      <td>46929308.0</td>\n",
              "    </tr>\n",
              "    <tr>\n",
              "      <th>9</th>\n",
              "      <td>2021-07-31 09:00:00</td>\n",
              "      <td>47979000.0</td>\n",
              "      <td>48540980.0</td>\n",
              "    </tr>\n",
              "  </tbody>\n",
              "</table>\n",
              "</div>\n",
              "      <button class=\"colab-df-convert\" onclick=\"convertToInteractive('df-641bb583-9548-41df-9349-c4d40240ee88')\"\n",
              "              title=\"Convert this dataframe to an interactive table.\"\n",
              "              style=\"display:none;\">\n",
              "        \n",
              "  <svg xmlns=\"http://www.w3.org/2000/svg\" height=\"24px\"viewBox=\"0 0 24 24\"\n",
              "       width=\"24px\">\n",
              "    <path d=\"M0 0h24v24H0V0z\" fill=\"none\"/>\n",
              "    <path d=\"M18.56 5.44l.94 2.06.94-2.06 2.06-.94-2.06-.94-.94-2.06-.94 2.06-2.06.94zm-11 1L8.5 8.5l.94-2.06 2.06-.94-2.06-.94L8.5 2.5l-.94 2.06-2.06.94zm10 10l.94 2.06.94-2.06 2.06-.94-2.06-.94-.94-2.06-.94 2.06-2.06.94z\"/><path d=\"M17.41 7.96l-1.37-1.37c-.4-.4-.92-.59-1.43-.59-.52 0-1.04.2-1.43.59L10.3 9.45l-7.72 7.72c-.78.78-.78 2.05 0 2.83L4 21.41c.39.39.9.59 1.41.59.51 0 1.02-.2 1.41-.59l7.78-7.78 2.81-2.81c.8-.78.8-2.07 0-2.86zM5.41 20L4 18.59l7.72-7.72 1.47 1.35L5.41 20z\"/>\n",
              "  </svg>\n",
              "      </button>\n",
              "      \n",
              "  <style>\n",
              "    .colab-df-container {\n",
              "      display:flex;\n",
              "      flex-wrap:wrap;\n",
              "      gap: 12px;\n",
              "    }\n",
              "\n",
              "    .colab-df-convert {\n",
              "      background-color: #E8F0FE;\n",
              "      border: none;\n",
              "      border-radius: 50%;\n",
              "      cursor: pointer;\n",
              "      display: none;\n",
              "      fill: #1967D2;\n",
              "      height: 32px;\n",
              "      padding: 0 0 0 0;\n",
              "      width: 32px;\n",
              "    }\n",
              "\n",
              "    .colab-df-convert:hover {\n",
              "      background-color: #E2EBFA;\n",
              "      box-shadow: 0px 1px 2px rgba(60, 64, 67, 0.3), 0px 1px 3px 1px rgba(60, 64, 67, 0.15);\n",
              "      fill: #174EA6;\n",
              "    }\n",
              "\n",
              "    [theme=dark] .colab-df-convert {\n",
              "      background-color: #3B4455;\n",
              "      fill: #D2E3FC;\n",
              "    }\n",
              "\n",
              "    [theme=dark] .colab-df-convert:hover {\n",
              "      background-color: #434B5C;\n",
              "      box-shadow: 0px 1px 3px 1px rgba(0, 0, 0, 0.15);\n",
              "      filter: drop-shadow(0px 1px 2px rgba(0, 0, 0, 0.3));\n",
              "      fill: #FFFFFF;\n",
              "    }\n",
              "  </style>\n",
              "\n",
              "      <script>\n",
              "        const buttonEl =\n",
              "          document.querySelector('#df-641bb583-9548-41df-9349-c4d40240ee88 button.colab-df-convert');\n",
              "        buttonEl.style.display =\n",
              "          google.colab.kernel.accessAllowed ? 'block' : 'none';\n",
              "\n",
              "        async function convertToInteractive(key) {\n",
              "          const element = document.querySelector('#df-641bb583-9548-41df-9349-c4d40240ee88');\n",
              "          const dataTable =\n",
              "            await google.colab.kernel.invokeFunction('convertToInteractive',\n",
              "                                                     [key], {});\n",
              "          if (!dataTable) return;\n",
              "\n",
              "          const docLinkHtml = 'Like what you see? Visit the ' +\n",
              "            '<a target=\"_blank\" href=https://colab.research.google.com/notebooks/data_table.ipynb>data table notebook</a>'\n",
              "            + ' to learn more about interactive tables.';\n",
              "          element.innerHTML = '';\n",
              "          dataTable['output_type'] = 'display_data';\n",
              "          await google.colab.output.renderOutput(dataTable, element);\n",
              "          const docLink = document.createElement('div');\n",
              "          docLink.innerHTML = docLinkHtml;\n",
              "          element.appendChild(docLink);\n",
              "        }\n",
              "      </script>\n",
              "    </div>\n",
              "  </div>\n",
              "  "
            ],
            "text/plain": [
              "                  date       close        pred\n",
              "0  2021-07-22 09:00:00  37925000.0  37338652.0\n",
              "1  2021-07-23 09:00:00  39108000.0  37699670.0\n",
              "2  2021-07-24 09:00:00  40112000.0  38292980.0\n",
              "3  2021-07-25 09:00:00  41070000.0  39767216.0\n",
              "4  2021-07-26 09:00:00  43001000.0  40655396.0\n",
              "5  2021-07-27 09:00:00  45409000.0  42236570.0\n",
              "6  2021-07-28 09:00:00  46350000.0  44218224.0\n",
              "7  2021-07-29 09:00:00  45907000.0  45891188.0\n",
              "8  2021-07-30 09:00:00  48555000.0  46929308.0\n",
              "9  2021-07-31 09:00:00  47979000.0  48540980.0"
            ]
          },
          "execution_count": 22,
          "metadata": {},
          "output_type": "execute_result"
        }
      ],
      "source": [
        "prediction_data.head(10)"
      ]
    },
    {
      "cell_type": "markdown",
      "metadata": {
        "id": "6bejTWh4mEL4"
      },
      "source": [
        "mysql에 prediction result insult 예제코드"
      ]
    },
    {
      "cell_type": "code",
      "execution_count": 23,
      "metadata": {
        "id": "9Fv7kR2vl0gh"
      },
      "outputs": [],
      "source": [
        "# lstm을 활용한 prediction값 모두 저장.\n",
        "\n",
        "conn = pymysql.connect(host='autotrading-db.cjolqhecq70a.ap-northeast-2.rds.amazonaws.com',\n",
        "                       user = 'admin',\n",
        "                       password='pw입력',\n",
        "                       db = 'AutoTrading',\n",
        "                       charset = 'utf8')\n",
        "curs = conn.cursor() "
      ]
    },
    {
      "cell_type": "markdown",
      "metadata": {
        "id": "WzajnswvmXEG"
      },
      "source": [
        "**prediction table에 data insert**"
      ]
    },
    {
      "cell_type": "code",
      "execution_count": 24,
      "metadata": {
        "colab": {
          "base_uri": "https://localhost:8080/"
        },
        "id": "Q0uyFasaGwCg",
        "outputId": "a0c92cf8-0d98-40c8-8bac-ac03644ce43e"
      },
      "outputs": [
        {
          "name": "stdout",
          "output_type": "stream",
          "text": [
            "           date       close        pred\n",
            "0    2021-07-22  37925000.0  37338652.0\n",
            "1    2021-07-23  39108000.0  37699670.0\n",
            "2    2021-07-24  40112000.0  38292980.0\n",
            "3    2021-07-25  41070000.0  39767216.0\n",
            "4    2021-07-26  43001000.0  40655396.0\n",
            "..          ...         ...         ...\n",
            "289  2022-05-07  46507000.0  48391816.0\n",
            "290  2022-05-08  44770000.0  47972090.0\n",
            "291  2022-05-09  41002000.0  46207104.0\n",
            "292  2022-05-10  41046000.0  43994224.0\n",
            "293  2022-05-11  41808000.0  42425956.0\n",
            "\n",
            "[294 rows x 3 columns]\n"
          ]
        }
      ],
      "source": [
        "import pandas as pd\n",
        "#시간은 9시 고정이니까 없애고 날짜 date값만 남기기 위해서 pandas 사용\n",
        "prediction_data['date'] = pd.to_datetime(prediction_data['date']).dt.date\n",
        "print(prediction_data)"
      ]
    },
    {
      "cell_type": "code",
      "execution_count": 26,
      "metadata": {
        "colab": {
          "base_uri": "https://localhost:8080/"
        },
        "id": "S8nK9YZ_Gi2B",
        "outputId": "375da5f1-5b97-41a8-c030-caa48b94ed64"
      },
      "outputs": [
        {
          "name": "stdout",
          "output_type": "stream",
          "text": [
            "[(datetime.date(2021, 7, 22), 37925000.0, 37338652.0), (datetime.date(2021, 7, 23), 39108000.0, 37699670.0), (datetime.date(2021, 7, 24), 40112000.0, 38292980.0), (datetime.date(2021, 7, 25), 41070000.0, 39767216.0), (datetime.date(2021, 7, 26), 43001000.0, 40655396.0), (datetime.date(2021, 7, 27), 45409000.0, 42236570.0), (datetime.date(2021, 7, 28), 46350000.0, 44218224.0), (datetime.date(2021, 7, 29), 45907000.0, 45891188.0), (datetime.date(2021, 7, 30), 48555000.0, 46929308.0), (datetime.date(2021, 7, 31), 47979000.0, 48540980.0), (datetime.date(2021, 8, 1), 46274000.0, 49199296.0), (datetime.date(2021, 8, 2), 45451000.0, 48570044.0), (datetime.date(2021, 8, 3), 44969000.0, 48146036.0), (datetime.date(2021, 8, 4), 45718000.0, 47036212.0), (datetime.date(2021, 8, 5), 47139000.0, 46459550.0), (datetime.date(2021, 8, 6), 49349000.0, 46857644.0), (datetime.date(2021, 8, 7), 50956000.0, 48103624.0), (datetime.date(2021, 8, 8), 50799000.0, 49796964.0), (datetime.date(2021, 8, 9), 52846000.0, 50923404.0), (datetime.date(2021, 8, 10), 52339000.0, 52497850.0), (datetime.date(2021, 8, 11), 52590000.0, 53245564.0), (datetime.date(2021, 8, 12), 52079000.0, 53405944.0), (datetime.date(2021, 8, 13), 55146000.0, 53643896.0), (datetime.date(2021, 8, 14), 54812000.0, 54478810.0), (datetime.date(2021, 8, 15), 54636000.0, 55195708.0), (datetime.date(2021, 8, 16), 53863000.0, 55298920.0), (datetime.date(2021, 8, 17), 52660000.0, 55569504.0), (datetime.date(2021, 8, 18), 52812000.0, 54511492.0), (datetime.date(2021, 8, 19), 55017000.0, 53909680.0), (datetime.date(2021, 8, 20), 57683000.0, 54356460.0), (datetime.date(2021, 8, 21), 57553000.0, 55805516.0), (datetime.date(2021, 8, 22), 57681000.0, 56973740.0), (datetime.date(2021, 8, 23), 57627000.0, 57970520.0), (datetime.date(2021, 8, 24), 56134000.0, 58559030.0), (datetime.date(2021, 8, 25), 57100000.0, 57773676.0), (datetime.date(2021, 8, 26), 55225000.0, 57650404.0), (datetime.date(2021, 8, 27), 57401000.0, 56836484.0), (datetime.date(2021, 8, 28), 57428000.0, 56838468.0), (datetime.date(2021, 8, 29), 57272000.0, 57461064.0), (datetime.date(2021, 8, 30), 55800000.0, 57218668.0), (datetime.date(2021, 8, 31), 55230000.0, 57169550.0), (datetime.date(2021, 9, 1), 56455000.0, 56354372.0), (datetime.date(2021, 9, 2), 57155000.0, 56366332.0), (datetime.date(2021, 9, 3), 57783000.0, 56556332.0), (datetime.date(2021, 9, 4), 57827000.0, 57143188.0), (datetime.date(2021, 9, 5), 59212000.0, 57826570.0), (datetime.date(2021, 9, 6), 60839000.0, 58671684.0), (datetime.date(2021, 9, 7), 56672000.0, 59928324.0), (datetime.date(2021, 9, 8), 55580000.0, 58931184.0), (datetime.date(2021, 9, 9), 55900000.0, 57756880.0), (datetime.date(2021, 9, 10), 55031000.0, 57164784.0), (datetime.date(2021, 9, 11), 54800000.0, 55543230.0), (datetime.date(2021, 9, 12), 55078000.0, 55062020.0), (datetime.date(2021, 9, 13), 54274000.0, 55083930.0), (datetime.date(2021, 9, 14), 56564000.0, 54600750.0), (datetime.date(2021, 9, 15), 57207000.0, 55351230.0), (datetime.date(2021, 9, 16), 57277000.0, 56341436.0), (datetime.date(2021, 9, 17), 57642000.0, 56800484.0), (datetime.date(2021, 9, 18), 58597000.0, 57749404.0), (datetime.date(2021, 9, 19), 57976000.0, 58390548.0), (datetime.date(2021, 9, 20), 53801000.0, 58498884.0), (datetime.date(2021, 9, 21), 50699000.0, 56818696.0), (datetime.date(2021, 9, 22), 53856000.0, 54319772.0), (datetime.date(2021, 9, 23), 54410000.0, 53708596.0), (datetime.date(2021, 9, 24), 52176000.0, 53334316.0), (datetime.date(2021, 9, 25), 52326000.0, 52476940.0), (datetime.date(2021, 9, 26), 52798000.0, 52887220.0), (datetime.date(2021, 9, 27), 51834000.0, 52856450.0), (datetime.date(2021, 9, 28), 50309000.0, 52117960.0), (datetime.date(2021, 9, 29), 50800000.0, 51455990.0), (datetime.date(2021, 9, 30), 53523000.0, 51197280.0), (datetime.date(2021, 10, 1), 58348000.0, 52010910.0), (datetime.date(2021, 10, 2), 58228000.0, 54638144.0), (datetime.date(2021, 10, 3), 58567000.0, 56519508.0), (datetime.date(2021, 10, 4), 60020000.0, 58151948.0), (datetime.date(2021, 10, 5), 61666000.0, 59859172.0), (datetime.date(2021, 10, 6), 67000000.0, 61039410.0), (datetime.date(2021, 10, 7), 65500000.0, 63942590.0), (datetime.date(2021, 10, 8), 65951000.0, 65208560.0), (datetime.date(2021, 10, 9), 67057000.0, 66285560.0), (datetime.date(2021, 10, 10), 67801000.0, 67524264.0), (datetime.date(2021, 10, 11), 70921000.0, 67649720.0), (datetime.date(2021, 10, 12), 69164000.0, 69376340.0), (datetime.date(2021, 10, 13), 69857000.0, 69698320.0), (datetime.date(2021, 10, 14), 69783000.0, 69951784.0), (datetime.date(2021, 10, 15), 75688000.0, 70361816.0), (datetime.date(2021, 10, 16), 74806000.0, 72116360.0), (datetime.date(2021, 10, 17), 75933000.0, 73263570.0), (datetime.date(2021, 10, 18), 76546000.0, 74399416.0), (datetime.date(2021, 10, 19), 78776000.0, 75718120.0), (datetime.date(2021, 10, 20), 79917000.0, 76613500.0), (datetime.date(2021, 10, 21), 76396000.0, 77890920.0), (datetime.date(2021, 10, 22), 74364000.0, 77173290.0), (datetime.date(2021, 10, 23), 74830000.0, 75803464.0), (datetime.date(2021, 10, 24), 74501000.0, 74848570.0), (datetime.date(2021, 10, 25), 76200000.0, 73414270.0), (datetime.date(2021, 10, 26), 73293000.0, 73674500.0), (datetime.date(2021, 10, 27), 71845000.0, 73165170.0), (datetime.date(2021, 10, 28), 73122000.0, 71837890.0), (datetime.date(2021, 10, 29), 74568000.0, 71974250.0), (datetime.date(2021, 10, 30), 73413000.0, 71958040.0), (datetime.date(2021, 10, 31), 72391000.0, 71964930.0), (datetime.date(2021, 11, 1), 72401000.0, 71903656.0), (datetime.date(2021, 11, 2), 74150000.0, 71799016.0), (datetime.date(2021, 11, 3), 74600000.0, 72055496.0), (datetime.date(2021, 11, 4), 73807000.0, 72632376.0), (datetime.date(2021, 11, 5), 74121000.0, 72817610.0), (datetime.date(2021, 11, 6), 74575000.0, 73262740.0), (datetime.date(2021, 11, 7), 76536000.0, 73460190.0), (datetime.date(2021, 11, 8), 81403000.0, 74216780.0), (datetime.date(2021, 11, 9), 80857000.0, 76810450.0), (datetime.date(2021, 11, 10), 79660000.0, 78129670.0), (datetime.date(2021, 11, 11), 78917000.0, 78732060.0), (datetime.date(2021, 11, 12), 78165000.0, 78965160.0), (datetime.date(2021, 11, 13), 77867000.0, 77820150.0), (datetime.date(2021, 11, 14), 79310000.0, 76950840.0), (datetime.date(2021, 11, 15), 77602000.0, 77148200.0), (datetime.date(2021, 11, 16), 73897000.0, 76632030.0), (datetime.date(2021, 11, 17), 73935000.0, 74683130.0), (datetime.date(2021, 11, 18), 70611000.0, 73677120.0), (datetime.date(2021, 11, 19), 71813000.0, 71214350.0), (datetime.date(2021, 11, 20), 73669000.0, 69859600.0), (datetime.date(2021, 11, 21), 73047000.0, 70875016.0), (datetime.date(2021, 11, 22), 70589000.0, 70701020.0), (datetime.date(2021, 11, 23), 71802000.0, 70415740.0), (datetime.date(2021, 11, 24), 71680000.0, 70664550.0), (datetime.date(2021, 11, 25), 73171000.0, 70487640.0), (datetime.date(2021, 11, 26), 68549000.0, 70754250.0), (datetime.date(2021, 11, 27), 70039000.0, 69787760.0), (datetime.date(2021, 11, 28), 72303000.0, 69198700.0), (datetime.date(2021, 11, 29), 72240000.0, 70362750.0), (datetime.date(2021, 11, 30), 70702000.0, 70058130.0), (datetime.date(2021, 12, 1), 70936000.0, 70428300.0), (datetime.date(2021, 12, 2), 70539000.0, 70623620.0), (datetime.date(2021, 12, 3), 68053000.0, 70175390.0), (datetime.date(2021, 12, 4), 62206000.0, 68640050.0), (datetime.date(2021, 12, 5), 61877000.0, 65472230.0), (datetime.date(2021, 12, 6), 62626000.0, 63035076.0), (datetime.date(2021, 12, 7), 63204000.0, 61775268.0), (datetime.date(2021, 12, 8), 62217000.0, 60915708.0), (datetime.date(2021, 12, 9), 59425000.0, 61181024.0), (datetime.date(2021, 12, 10), 59683000.0, 60230076.0), (datetime.date(2021, 12, 11), 61427000.0, 59629676.0), (datetime.date(2021, 12, 12), 62049000.0, 59901344.0), (datetime.date(2021, 12, 13), 58626000.0, 60250020.0), (datetime.date(2021, 12, 14), 59930000.0, 59651292.0), (datetime.date(2021, 12, 15), 61198000.0, 59818140.0), (datetime.date(2021, 12, 16), 59817000.0, 60407660.0), (datetime.date(2021, 12, 17), 58086000.0, 59632040.0), (datetime.date(2021, 12, 18), 58402000.0, 59236932.0), (datetime.date(2021, 12, 19), 58329000.0, 58943868.0), (datetime.date(2021, 12, 20), 58011000.0, 58368720.0), (datetime.date(2021, 12, 21), 60023000.0, 57906904.0), (datetime.date(2021, 12, 22), 59753000.0, 58819730.0), (datetime.date(2021, 12, 23), 61490000.0, 59318108.0), (datetime.date(2021, 12, 24), 61939000.0, 60260730.0), (datetime.date(2021, 12, 25), 61177000.0, 61436040.0), (datetime.date(2021, 12, 26), 61467000.0, 61459916.0), (datetime.date(2021, 12, 27), 61508000.0, 61873580.0), (datetime.date(2021, 12, 28), 58274000.0, 61887164.0), (datetime.date(2021, 12, 29), 57089000.0, 60349828.0), (datetime.date(2021, 12, 30), 57200000.0, 58895380.0), (datetime.date(2021, 12, 31), 56784000.0, 57990130.0), (datetime.date(2022, 1, 1), 57915000.0, 56807544.0), (datetime.date(2022, 1, 2), 57531000.0, 56993870.0), (datetime.date(2022, 1, 3), 56641000.0, 57243164.0), (datetime.date(2022, 1, 4), 56023000.0, 56898580.0), (datetime.date(2022, 1, 5), 53854000.0, 56677776.0), (datetime.date(2022, 1, 6), 53239000.0, 55367844.0), (datetime.date(2022, 1, 7), 51449000.0, 54176012.0), (datetime.date(2022, 1, 8), 52142000.0, 52821196.0), (datetime.date(2022, 1, 9), 51678000.0, 51976388.0), (datetime.date(2022, 1, 10), 51246000.0, 51706716.0), (datetime.date(2022, 1, 11), 52307000.0, 51164510.0), (datetime.date(2022, 1, 12), 53349000.0, 51730080.0), (datetime.date(2022, 1, 13), 51885000.0, 52396190.0), (datetime.date(2022, 1, 14), 52230000.0, 52321616.0), (datetime.date(2022, 1, 15), 52357000.0, 52554630.0), (datetime.date(2022, 1, 16), 52165000.0, 52777810.0), (datetime.date(2022, 1, 17), 51436000.0, 52447464.0), (datetime.date(2022, 1, 18), 51179000.0, 52286060.0), (datetime.date(2022, 1, 19), 50333000.0, 51970684.0), (datetime.date(2022, 1, 20), 49648000.0, 51385836.0), (datetime.date(2022, 1, 21), 45316000.0, 50629390.0), (datetime.date(2022, 1, 22), 43375000.0, 48479936.0), (datetime.date(2022, 1, 23), 44253000.0, 46016896.0), (datetime.date(2022, 1, 24), 44731000.0, 44883064.0), (datetime.date(2022, 1, 25), 44909000.0, 43975676.0), (datetime.date(2022, 1, 26), 45100000.0, 44038468.0), (datetime.date(2022, 1, 27), 45809000.0, 44620684.0), (datetime.date(2022, 1, 28), 46588000.0, 45223584.0), (datetime.date(2022, 1, 29), 47146000.0, 45971108.0), (datetime.date(2022, 1, 30), 47208000.0, 46741864.0), (datetime.date(2022, 1, 31), 47266000.0, 47366972.0), (datetime.date(2022, 2, 1), 47760000.0, 47776348.0), (datetime.date(2022, 2, 2), 45517000.0, 48182196.0), (datetime.date(2022, 2, 3), 45835000.0, 47481892.0), (datetime.date(2022, 2, 4), 50633000.0, 46997644.0), (datetime.date(2022, 2, 5), 50788000.0, 48727204.0), (datetime.date(2022, 2, 6), 51732000.0, 49759380.0), (datetime.date(2022, 2, 7), 53511000.0, 51134532.0), (datetime.date(2022, 2, 8), 53651000.0, 53032708.0), (datetime.date(2022, 2, 9), 53660000.0, 53848452.0), (datetime.date(2022, 2, 10), 53123000.0, 54449456.0), (datetime.date(2022, 2, 11), 51882000.0, 54646724.0), (datetime.date(2022, 2, 12), 51597000.0, 53878030.0), (datetime.date(2022, 2, 13), 51550000.0, 53169076.0), (datetime.date(2022, 2, 14), 51586000.0, 52599220.0), (datetime.date(2022, 2, 15), 53832000.0, 52149132.0), (datetime.date(2022, 2, 16), 53298000.0, 52950864.0), (datetime.date(2022, 2, 17), 49376000.0, 53398464.0), (datetime.date(2022, 2, 18), 49015000.0, 52003260.0), (datetime.date(2022, 2, 19), 49035000.0, 51073436.0), (datetime.date(2022, 2, 20), 47131000.0, 50069068.0), (datetime.date(2022, 2, 21), 45450000.0, 48253490.0), (datetime.date(2022, 2, 22), 46474000.0, 47011060.0), (datetime.date(2022, 2, 23), 45543000.0, 46609320.0), (datetime.date(2022, 2, 24), 46927000.0, 45838784.0), (datetime.date(2022, 2, 25), 47831000.0, 45983096.0), (datetime.date(2022, 2, 26), 47809000.0, 47021644.0), (datetime.date(2022, 2, 27), 46358000.0, 47384740.0), (datetime.date(2022, 2, 28), 52332000.0, 47435610.0), (datetime.date(2022, 3, 1), 53790000.0, 49654836.0), (datetime.date(2022, 3, 2), 53359000.0, 51728630.0), (datetime.date(2022, 3, 3), 51842000.0, 52831800.0), (datetime.date(2022, 3, 4), 48450000.0, 53698250.0), (datetime.date(2022, 3, 5), 48605000.0, 52122164.0), (datetime.date(2022, 3, 6), 47745000.0, 50694104.0), (datetime.date(2022, 3, 7), 47415000.0, 49382624.0), (datetime.date(2022, 3, 8), 48213000.0, 48116470.0), (datetime.date(2022, 3, 9), 51570000.0, 48259530.0), (datetime.date(2022, 3, 10), 48917000.0, 49552470.0), (datetime.date(2022, 3, 11), 48315000.0, 49633090.0), (datetime.date(2022, 3, 12), 48500000.0, 49374932.0), (datetime.date(2022, 3, 13), 47510000.0, 49668664.0), (datetime.date(2022, 3, 14), 49171000.0, 48488230.0), (datetime.date(2022, 3, 15), 48640000.0, 48807670.0), (datetime.date(2022, 3, 16), 50389000.0, 49018736.0), (datetime.date(2022, 3, 17), 50069000.0, 49606620.0), (datetime.date(2022, 3, 18), 50770000.0, 50423490.0), (datetime.date(2022, 3, 19), 51245000.0, 50751616.0), (datetime.date(2022, 3, 20), 50462000.0, 51580810.0), (datetime.date(2022, 3, 21), 50128000.0, 51400136.0), (datetime.date(2022, 3, 22), 51704000.0, 51263788.0), (datetime.date(2022, 3, 23), 52138000.0, 51727876.0), (datetime.date(2022, 3, 24), 52966000.0, 52089080.0), (datetime.date(2022, 3, 25), 53791000.0, 52730916.0), (datetime.date(2022, 3, 26), 53902000.0, 53787784.0), (datetime.date(2022, 3, 27), 55949000.0, 54268310.0), (datetime.date(2022, 3, 28), 56914000.0, 55426656.0), (datetime.date(2022, 3, 29), 56985000.0, 56621430.0), (datetime.date(2022, 3, 30), 56620000.0, 57239708.0), (datetime.date(2022, 3, 31), 55352000.0, 57719740.0), (datetime.date(2022, 4, 1), 56369000.0, 57184480.0), (datetime.date(2022, 4, 2), 56050000.0, 57012628.0), (datetime.date(2022, 4, 3), 56639000.0, 56783732.0), (datetime.date(2022, 4, 4), 57055000.0, 56681950.0), (datetime.date(2022, 4, 5), 56155000.0, 57211344.0), (datetime.date(2022, 4, 6), 53072000.0, 56894280.0), (datetime.date(2022, 4, 7), 53814000.0, 55522750.0), (datetime.date(2022, 4, 8), 52934000.0, 54748116.0), (datetime.date(2022, 4, 9), 53258000.0, 53829420.0), (datetime.date(2022, 4, 10), 52819000.0, 53039870.0), (datetime.date(2022, 4, 11), 50050000.0, 53125496.0), (datetime.date(2022, 4, 12), 50577000.0, 51702790.0), (datetime.date(2022, 4, 13), 51700000.0, 51137090.0), (datetime.date(2022, 4, 14), 50245000.0, 51238496.0), (datetime.date(2022, 4, 15), 50850000.0, 50472160.0), (datetime.date(2022, 4, 16), 50567000.0, 50751740.0), (datetime.date(2022, 4, 17), 49962000.0, 50934440.0), (datetime.date(2022, 4, 18), 50839000.0, 50379804.0), (datetime.date(2022, 4, 19), 51458000.0, 50769400.0), (datetime.date(2022, 4, 20), 51388000.0, 51171570.0), (datetime.date(2022, 4, 21), 50805000.0, 51404310.0), (datetime.date(2022, 4, 22), 49937000.0, 51543300.0), (datetime.date(2022, 4, 23), 49742000.0, 51157820.0), (datetime.date(2022, 4, 24), 49620000.0, 50685190.0), (datetime.date(2022, 4, 25), 50614000.0, 50286988.0), (datetime.date(2022, 4, 26), 48777000.0, 50415010.0), (datetime.date(2022, 4, 27), 49954000.0, 49949572.0), (datetime.date(2022, 4, 28), 50580000.0, 49996452.0), (datetime.date(2022, 4, 29), 49731000.0, 50576076.0), (datetime.date(2022, 4, 30), 49283000.0, 50161096.0), (datetime.date(2022, 5, 1), 49383000.0, 50190828.0), (datetime.date(2022, 5, 2), 49520000.0, 50087320.0), (datetime.date(2022, 5, 3), 48777000.0, 49877904.0), (datetime.date(2022, 5, 4), 50616000.0, 49556990.0), (datetime.date(2022, 5, 5), 47647000.0, 50135772.0), (datetime.date(2022, 5, 6), 47031000.0, 49440548.0), (datetime.date(2022, 5, 7), 46507000.0, 48391816.0), (datetime.date(2022, 5, 8), 44770000.0, 47972090.0), (datetime.date(2022, 5, 9), 41002000.0, 46207104.0), (datetime.date(2022, 5, 10), 41046000.0, 43994224.0), (datetime.date(2022, 5, 11), 41808000.0, 42425956.0)]\n"
          ]
        }
      ],
      "source": [
        "sql_rows=[]\n",
        "for i in range(0, len(prediction_data)):\n",
        "    sql_row = (prediction_data['date'][i],prediction_data['close'][i],prediction_data['pred'][i])\n",
        "    sql_rows.append(sql_row)\n",
        "print(sql_rows)\n"
      ]
    },
    {
      "cell_type": "code",
      "execution_count": 28,
      "metadata": {
        "id": "Vte9o0K9mTRE"
      },
      "outputs": [],
      "source": [
        "insert_result = \"\"\"insert into prediction(prediction_date,close_price,pred_price) values (%s, %s, %s)\"\"\"\n",
        "curs.executemany(insert_result,sql_rows)\n",
        "conn.commit()\n",
        "conn.close()\n"
      ]
    }
  ],
  "metadata": {
    "colab": {
      "authorship_tag": "ABX9TyOc5IqoD4WPIGfr+WVtmvl/",
      "collapsed_sections": [],
      "include_colab_link": true,
      "name": "\blstm_result_insert.ipynb",
      "provenance": []
    },
    "kernelspec": {
      "display_name": "Python 3",
      "name": "python3"
    },
    "language_info": {
      "name": "python"
    }
  },
  "nbformat": 4,
  "nbformat_minor": 0
}
